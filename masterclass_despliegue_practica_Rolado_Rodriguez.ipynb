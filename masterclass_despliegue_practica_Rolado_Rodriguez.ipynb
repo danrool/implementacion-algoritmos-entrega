{
  "cells": [
    {
      "cell_type": "markdown",
      "source": [
        "## Notas sobre la práctica\n",
        "\n",
        "###Se realizaron todos los puntos solicitados, el resultado de cada celda este en el notebook. Incluso algunos mensajes de error o falta de recursos recibos durante el proceso, que en otro momento funcionaron bien.\n",
        "\n",
        "\n",
        "\n",
        "*   El primer ejercicio se realizo hasta obtener las metricas en MLflow. Se incluyen en el notebook las imagenes solicitadas\n",
        "\n",
        "*   Para el segundo ejercicio, se creo el pipeline preprecess-local.gpc.py tomando como base el preprocess.py visto en case. Este nuevo pipeline lee el archivos json en lugar del archivo csv y ejecuta el preprocesado tanto en local como en gcp dependiendo del agumento runner. Los archivos se guardan en un [repositorio](https://github.com/danrool/twitter-sentiment-batch/) distinto del repositorio de este notebook, en una de las celdas se recuperan para la ejecucion en Colab.\n",
        "\n",
        "###Algunas de las ejecuciones se interrumpieron luego de iniciadas para evitar generar problemas con la plataforma."
      ],
      "metadata": {
        "id": "MAaK-iko7suA"
      }
    },
    {
      "cell_type": "markdown",
      "source": [],
      "metadata": {
        "id": "gtxkihPN7qCJ"
      }
    },
    {
      "cell_type": "markdown",
      "metadata": {
        "id": "abCx3sblR2t-"
      },
      "source": [
        "# Práctica Final: Clasificación de Documentos con Scikit-learn y MLflow\n",
        "\n",
        "En esta práctica, utilizarás un conjunto de datos de Scikit-learn (podeís usar el mismo que en el notebook de Intro MLFlow) para entrenar un modelo de clasificación de documentos. El objetivo es construir un modelo capaz de clasificar automáticamente documentos en categorías predefinidas.\n",
        "\n",
        "Pasos a seguir:\n",
        "\n",
        "    Exploración de Datos: Analiza el conjunto de datos proporcionado para comprender su estructura y contenido.\n",
        "\n",
        "    Preprocesamiento de Texto: Realiza tareas de preprocesamiento de texto, como tokenización y vectorización, para preparar los datos para el modelado.\n",
        "\n",
        "    Entrenamiento del Modelo: Utiliza algoritmos de clasificación de Scikit-learn para entrenar un modelo con los datos preprocesados.\n",
        "\n",
        "    Evaluación del Modelo: Evalúa el rendimiento del modelo utilizando métricas de evaluación estándar como precisión y recall.\n",
        "\n",
        "    Registro de Métricas con MLflow: Utiliza MLflow para registrar métricas y hiperparámetros durante el entrenamiento, facilitando la gestión y comparación de experimentos.\n",
        "\n",
        "\n",
        "Nota: Dado que no voy a poder tener acceso a vuestros logs de MLFlow añadirme las imagenes de la interfaz de MLFlow en el notebook"
      ]
    },
    {
      "cell_type": "code",
      "execution_count": null,
      "metadata": {
        "id": "8zF4uEaiR2uG",
        "colab": {
          "base_uri": "https://localhost:8080/"
        },
        "outputId": "6ded297e-ea37-42d5-edb1-41768d885422"
      },
      "outputs": [
        {
          "output_type": "stream",
          "name": "stdout",
          "text": [
            "Requirement already satisfied: scikit-learn in /usr/local/lib/python3.10/dist-packages (1.2.2)\n",
            "Collecting mlflow\n",
            "  Downloading mlflow-2.11.3-py3-none-any.whl (19.7 MB)\n",
            "\u001b[2K     \u001b[90m━━━━━━━━━━━━━━━━━━━━━━━━━━━━━━━━━━━━━━━━\u001b[0m \u001b[32m19.7/19.7 MB\u001b[0m \u001b[31m36.8 MB/s\u001b[0m eta \u001b[36m0:00:00\u001b[0m\n",
            "\u001b[?25hRequirement already satisfied: nltk in /usr/local/lib/python3.10/dist-packages (3.8.1)\n",
            "Requirement already satisfied: numpy>=1.17.3 in /usr/local/lib/python3.10/dist-packages (from scikit-learn) (1.25.2)\n",
            "Requirement already satisfied: scipy>=1.3.2 in /usr/local/lib/python3.10/dist-packages (from scikit-learn) (1.11.4)\n",
            "Requirement already satisfied: joblib>=1.1.1 in /usr/local/lib/python3.10/dist-packages (from scikit-learn) (1.3.2)\n",
            "Requirement already satisfied: threadpoolctl>=2.0.0 in /usr/local/lib/python3.10/dist-packages (from scikit-learn) (3.4.0)\n",
            "Requirement already satisfied: click<9,>=7.0 in /usr/local/lib/python3.10/dist-packages (from mlflow) (8.1.7)\n",
            "Requirement already satisfied: cloudpickle<4 in /usr/local/lib/python3.10/dist-packages (from mlflow) (2.2.1)\n",
            "Requirement already satisfied: entrypoints<1 in /usr/local/lib/python3.10/dist-packages (from mlflow) (0.4)\n",
            "Collecting gitpython<4,>=3.1.9 (from mlflow)\n",
            "  Downloading GitPython-3.1.43-py3-none-any.whl (207 kB)\n",
            "\u001b[2K     \u001b[90m━━━━━━━━━━━━━━━━━━━━━━━━━━━━━━━━━━━━━━━━\u001b[0m \u001b[32m207.3/207.3 kB\u001b[0m \u001b[31m18.5 MB/s\u001b[0m eta \u001b[36m0:00:00\u001b[0m\n",
            "\u001b[?25hRequirement already satisfied: pyyaml<7,>=5.1 in /usr/local/lib/python3.10/dist-packages (from mlflow) (6.0.1)\n",
            "Requirement already satisfied: protobuf<5,>=3.12.0 in /usr/local/lib/python3.10/dist-packages (from mlflow) (3.20.3)\n",
            "Requirement already satisfied: pytz<2025 in /usr/local/lib/python3.10/dist-packages (from mlflow) (2023.4)\n",
            "Requirement already satisfied: requests<3,>=2.17.3 in /usr/local/lib/python3.10/dist-packages (from mlflow) (2.31.0)\n",
            "Collecting packaging<24 (from mlflow)\n",
            "  Downloading packaging-23.2-py3-none-any.whl (53 kB)\n",
            "\u001b[2K     \u001b[90m━━━━━━━━━━━━━━━━━━━━━━━━━━━━━━━━━━━━━━━━\u001b[0m \u001b[32m53.0/53.0 kB\u001b[0m \u001b[31m6.5 MB/s\u001b[0m eta \u001b[36m0:00:00\u001b[0m\n",
            "\u001b[?25hRequirement already satisfied: importlib-metadata!=4.7.0,<8,>=3.7.0 in /usr/local/lib/python3.10/dist-packages (from mlflow) (7.1.0)\n",
            "Requirement already satisfied: sqlparse<1,>=0.4.0 in /usr/local/lib/python3.10/dist-packages (from mlflow) (0.4.4)\n",
            "Collecting alembic!=1.10.0,<2 (from mlflow)\n",
            "  Downloading alembic-1.13.1-py3-none-any.whl (233 kB)\n",
            "\u001b[2K     \u001b[90m━━━━━━━━━━━━━━━━━━━━━━━━━━━━━━━━━━━━━━━━\u001b[0m \u001b[32m233.4/233.4 kB\u001b[0m \u001b[31m22.4 MB/s\u001b[0m eta \u001b[36m0:00:00\u001b[0m\n",
            "\u001b[?25hCollecting docker<8,>=4.0.0 (from mlflow)\n",
            "  Downloading docker-7.0.0-py3-none-any.whl (147 kB)\n",
            "\u001b[2K     \u001b[90m━━━━━━━━━━━━━━━━━━━━━━━━━━━━━━━━━━━━━━━━\u001b[0m \u001b[32m147.6/147.6 kB\u001b[0m \u001b[31m15.7 MB/s\u001b[0m eta \u001b[36m0:00:00\u001b[0m\n",
            "\u001b[?25hRequirement already satisfied: Flask<4 in /usr/local/lib/python3.10/dist-packages (from mlflow) (2.2.5)\n",
            "Requirement already satisfied: pandas<3 in /usr/local/lib/python3.10/dist-packages (from mlflow) (1.5.3)\n",
            "Collecting querystring-parser<2 (from mlflow)\n",
            "  Downloading querystring_parser-1.2.4-py2.py3-none-any.whl (7.9 kB)\n",
            "Requirement already satisfied: sqlalchemy<3,>=1.4.0 in /usr/local/lib/python3.10/dist-packages (from mlflow) (2.0.29)\n",
            "Requirement already satisfied: pyarrow<16,>=4.0.0 in /usr/local/lib/python3.10/dist-packages (from mlflow) (14.0.2)\n",
            "Requirement already satisfied: markdown<4,>=3.3 in /usr/local/lib/python3.10/dist-packages (from mlflow) (3.6)\n",
            "Requirement already satisfied: matplotlib<4 in /usr/local/lib/python3.10/dist-packages (from mlflow) (3.7.1)\n",
            "Collecting graphene<4 (from mlflow)\n",
            "  Downloading graphene-3.3-py2.py3-none-any.whl (128 kB)\n",
            "\u001b[2K     \u001b[90m━━━━━━━━━━━━━━━━━━━━━━━━━━━━━━━━━━━━━━━━\u001b[0m \u001b[32m128.2/128.2 kB\u001b[0m \u001b[31m11.2 MB/s\u001b[0m eta \u001b[36m0:00:00\u001b[0m\n",
            "\u001b[?25hCollecting gunicorn<22 (from mlflow)\n",
            "  Downloading gunicorn-21.2.0-py3-none-any.whl (80 kB)\n",
            "\u001b[2K     \u001b[90m━━━━━━━━━━━━━━━━━━━━━━━━━━━━━━━━━━━━━━━━\u001b[0m \u001b[32m80.2/80.2 kB\u001b[0m \u001b[31m9.4 MB/s\u001b[0m eta \u001b[36m0:00:00\u001b[0m\n",
            "\u001b[?25hRequirement already satisfied: Jinja2<4,>=2.11 in /usr/local/lib/python3.10/dist-packages (from mlflow) (3.1.3)\n",
            "Requirement already satisfied: regex>=2021.8.3 in /usr/local/lib/python3.10/dist-packages (from nltk) (2023.12.25)\n",
            "Requirement already satisfied: tqdm in /usr/local/lib/python3.10/dist-packages (from nltk) (4.66.2)\n",
            "Collecting Mako (from alembic!=1.10.0,<2->mlflow)\n",
            "  Downloading Mako-1.3.2-py3-none-any.whl (78 kB)\n",
            "\u001b[2K     \u001b[90m━━━━━━━━━━━━━━━━━━━━━━━━━━━━━━━━━━━━━━━━\u001b[0m \u001b[32m78.7/78.7 kB\u001b[0m \u001b[31m9.2 MB/s\u001b[0m eta \u001b[36m0:00:00\u001b[0m\n",
            "\u001b[?25hRequirement already satisfied: typing-extensions>=4 in /usr/local/lib/python3.10/dist-packages (from alembic!=1.10.0,<2->mlflow) (4.10.0)\n",
            "Requirement already satisfied: urllib3>=1.26.0 in /usr/local/lib/python3.10/dist-packages (from docker<8,>=4.0.0->mlflow) (2.0.7)\n",
            "Requirement already satisfied: Werkzeug>=2.2.2 in /usr/local/lib/python3.10/dist-packages (from Flask<4->mlflow) (3.0.1)\n",
            "Requirement already satisfied: itsdangerous>=2.0 in /usr/local/lib/python3.10/dist-packages (from Flask<4->mlflow) (2.1.2)\n",
            "Collecting gitdb<5,>=4.0.1 (from gitpython<4,>=3.1.9->mlflow)\n",
            "  Downloading gitdb-4.0.11-py3-none-any.whl (62 kB)\n",
            "\u001b[2K     \u001b[90m━━━━━━━━━━━━━━━━━━━━━━━━━━━━━━━━━━━━━━━━\u001b[0m \u001b[32m62.7/62.7 kB\u001b[0m \u001b[31m7.7 MB/s\u001b[0m eta \u001b[36m0:00:00\u001b[0m\n",
            "\u001b[?25hCollecting graphql-core<3.3,>=3.1 (from graphene<4->mlflow)\n",
            "  Downloading graphql_core-3.2.3-py3-none-any.whl (202 kB)\n",
            "\u001b[2K     \u001b[90m━━━━━━━━━━━━━━━━━━━━━━━━━━━━━━━━━━━━━━━━\u001b[0m \u001b[32m202.9/202.9 kB\u001b[0m \u001b[31m25.7 MB/s\u001b[0m eta \u001b[36m0:00:00\u001b[0m\n",
            "\u001b[?25hCollecting graphql-relay<3.3,>=3.1 (from graphene<4->mlflow)\n",
            "  Downloading graphql_relay-3.2.0-py3-none-any.whl (16 kB)\n",
            "Collecting aniso8601<10,>=8 (from graphene<4->mlflow)\n",
            "  Downloading aniso8601-9.0.1-py2.py3-none-any.whl (52 kB)\n",
            "\u001b[2K     \u001b[90m━━━━━━━━━━━━━━━━━━━━━━━━━━━━━━━━━━━━━━━━\u001b[0m \u001b[32m52.8/52.8 kB\u001b[0m \u001b[31m6.4 MB/s\u001b[0m eta \u001b[36m0:00:00\u001b[0m\n",
            "\u001b[?25hRequirement already satisfied: zipp>=0.5 in /usr/local/lib/python3.10/dist-packages (from importlib-metadata!=4.7.0,<8,>=3.7.0->mlflow) (3.18.1)\n",
            "Requirement already satisfied: MarkupSafe>=2.0 in /usr/local/lib/python3.10/dist-packages (from Jinja2<4,>=2.11->mlflow) (2.1.5)\n",
            "Requirement already satisfied: contourpy>=1.0.1 in /usr/local/lib/python3.10/dist-packages (from matplotlib<4->mlflow) (1.2.0)\n",
            "Requirement already satisfied: cycler>=0.10 in /usr/local/lib/python3.10/dist-packages (from matplotlib<4->mlflow) (0.12.1)\n",
            "Requirement already satisfied: fonttools>=4.22.0 in /usr/local/lib/python3.10/dist-packages (from matplotlib<4->mlflow) (4.50.0)\n",
            "Requirement already satisfied: kiwisolver>=1.0.1 in /usr/local/lib/python3.10/dist-packages (from matplotlib<4->mlflow) (1.4.5)\n",
            "Requirement already satisfied: pillow>=6.2.0 in /usr/local/lib/python3.10/dist-packages (from matplotlib<4->mlflow) (9.4.0)\n",
            "Requirement already satisfied: pyparsing>=2.3.1 in /usr/local/lib/python3.10/dist-packages (from matplotlib<4->mlflow) (3.1.2)\n",
            "Requirement already satisfied: python-dateutil>=2.7 in /usr/local/lib/python3.10/dist-packages (from matplotlib<4->mlflow) (2.8.2)\n",
            "Requirement already satisfied: six in /usr/local/lib/python3.10/dist-packages (from querystring-parser<2->mlflow) (1.16.0)\n",
            "Requirement already satisfied: charset-normalizer<4,>=2 in /usr/local/lib/python3.10/dist-packages (from requests<3,>=2.17.3->mlflow) (3.3.2)\n",
            "Requirement already satisfied: idna<4,>=2.5 in /usr/local/lib/python3.10/dist-packages (from requests<3,>=2.17.3->mlflow) (3.6)\n",
            "Requirement already satisfied: certifi>=2017.4.17 in /usr/local/lib/python3.10/dist-packages (from requests<3,>=2.17.3->mlflow) (2024.2.2)\n",
            "Requirement already satisfied: greenlet!=0.4.17 in /usr/local/lib/python3.10/dist-packages (from sqlalchemy<3,>=1.4.0->mlflow) (3.0.3)\n",
            "Collecting smmap<6,>=3.0.1 (from gitdb<5,>=4.0.1->gitpython<4,>=3.1.9->mlflow)\n",
            "  Downloading smmap-5.0.1-py3-none-any.whl (24 kB)\n",
            "Installing collected packages: aniso8601, smmap, querystring-parser, packaging, Mako, graphql-core, gunicorn, graphql-relay, gitdb, docker, alembic, graphene, gitpython, mlflow\n",
            "  Attempting uninstall: packaging\n",
            "    Found existing installation: packaging 24.0\n",
            "    Uninstalling packaging-24.0:\n",
            "      Successfully uninstalled packaging-24.0\n",
            "Successfully installed Mako-1.3.2 alembic-1.13.1 aniso8601-9.0.1 docker-7.0.0 gitdb-4.0.11 gitpython-3.1.43 graphene-3.3 graphql-core-3.2.3 graphql-relay-3.2.0 gunicorn-21.2.0 mlflow-2.11.3 packaging-23.2 querystring-parser-1.2.4 smmap-5.0.1\n"
          ]
        }
      ],
      "source": [
        "! pip install scikit-learn mlflow nltk\n"
      ]
    },
    {
      "cell_type": "code",
      "execution_count": null,
      "metadata": {
        "id": "K1nfCGGQR2uI",
        "colab": {
          "base_uri": "https://localhost:8080/"
        },
        "outputId": "c529d5c8-aa56-46f1-a226-183c10e5721f"
      },
      "outputs": [
        {
          "output_type": "stream",
          "name": "stdout",
          "text": [
            "Número de documentos de entrenamiento: 2257\n",
            "Número de documentos de prueba: 1502\n",
            "Categorías: ['alt.atheism', 'comp.graphics', 'sci.med', 'soc.religion.christian']\n"
          ]
        }
      ],
      "source": [
        "from sklearn.datasets import fetch_20newsgroups\n",
        "\n",
        "# Cargo el conjunto de datos\n",
        "categories = ['alt.atheism', 'soc.religion.christian', 'comp.graphics', 'sci.med']\n",
        "newsgroups_train = fetch_20newsgroups(subset='train', categories=categories)\n",
        "newsgroups_test = fetch_20newsgroups(subset='test', categories=categories)\n",
        "\n",
        "# Visualizar estadísticas basicas\n",
        "print(f\"Número de documentos de entrenamiento: {len(newsgroups_train.data)}\")\n",
        "print(f\"Número de documentos de prueba: {len(newsgroups_test.data)}\")\n",
        "print(f\"Categorías: {newsgroups_train.target_names}\")\n"
      ]
    },
    {
      "cell_type": "code",
      "execution_count": null,
      "metadata": {
        "id": "48t1TASeR2uJ"
      },
      "outputs": [],
      "source": [
        "#Procesamiento de texto\n",
        "\n",
        "from sklearn.feature_extraction.text import TfidfVectorizer\n",
        "\n",
        "vectorizer = TfidfVectorizer()\n",
        "X_train = vectorizer.fit_transform(newsgroups_train.data)\n",
        "X_test = vectorizer.transform(newsgroups_test.data)\n",
        "\n",
        "y_train = newsgroups_train.target\n",
        "y_test = newsgroups_test.target\n"
      ]
    },
    {
      "cell_type": "code",
      "execution_count": null,
      "metadata": {
        "id": "qJ64opuSR2uJ",
        "colab": {
          "base_uri": "https://localhost:8080/"
        },
        "outputId": "dc4b81af-1635-4dde-f145-8ba1dba9042b"
      },
      "outputs": [
        {
          "output_type": "stream",
          "name": "stdout",
          "text": [
            "                        precision    recall  f1-score   support\n",
            "\n",
            "           alt.atheism       0.97      0.60      0.74       319\n",
            "         comp.graphics       0.96      0.89      0.92       389\n",
            "               sci.med       0.97      0.81      0.88       396\n",
            "soc.religion.christian       0.65      0.99      0.78       398\n",
            "\n",
            "              accuracy                           0.83      1502\n",
            "             macro avg       0.89      0.82      0.83      1502\n",
            "          weighted avg       0.88      0.83      0.84      1502\n",
            "\n"
          ]
        }
      ],
      "source": [
        "# Entrenamiento del modelo\n",
        "\n",
        "from sklearn.naive_bayes import MultinomialNB\n",
        "from sklearn.metrics import classification_report\n",
        "from sklearn.metrics import classification_report, precision_recall_fscore_support\n",
        "\n",
        "model = MultinomialNB()\n",
        "model.fit(X_train, y_train)\n",
        "\n",
        "# Predicciones\n",
        "y_pred = model.predict(X_test)\n",
        "\n",
        "# Evaluamos el modelo\n",
        "print(classification_report(y_test, y_pred, target_names=newsgroups_train.target_names))\n"
      ]
    },
    {
      "cell_type": "code",
      "execution_count": null,
      "metadata": {
        "id": "Y-C8tQzgR2uK"
      },
      "outputs": [],
      "source": [
        " # Registro de metricas con MLFlow\n",
        "\n",
        "import mlflow\n",
        "import mlflow.sklearn\n",
        "\n",
        "mlflow.set_experiment('clasificacion_documentos')\n",
        "\n",
        "with mlflow.start_run():\n",
        "    mlflow.sklearn.log_model(model, \"model\")\n",
        "    mlflow.log_params({\"model_type\": \"MultinomialNB\"})\n",
        "    precision, recall, f1_score, _ = precision_recall_fscore_support(y_test, y_pred, average='macro')\n",
        "    mlflow.log_metrics({\"precision\": precision, \"recall\": recall, \"f1_score\": f1_score})\n",
        "\n",
        "    # IMAGENESSS !!\n"
      ]
    },
    {
      "cell_type": "code",
      "source": [
        "!pip install mlflow"
      ],
      "metadata": {
        "colab": {
          "base_uri": "https://localhost:8080/"
        },
        "id": "BIFWNPnlXDlv",
        "outputId": "1d284521-bf9f-41e5-b98a-5ffd900491b1"
      },
      "execution_count": null,
      "outputs": [
        {
          "output_type": "stream",
          "name": "stdout",
          "text": [
            "Requirement already satisfied: mlflow in /usr/local/lib/python3.10/dist-packages (2.11.3)\n",
            "Requirement already satisfied: click<9,>=7.0 in /usr/local/lib/python3.10/dist-packages (from mlflow) (8.1.7)\n",
            "Requirement already satisfied: cloudpickle<4 in /usr/local/lib/python3.10/dist-packages (from mlflow) (2.2.1)\n",
            "Requirement already satisfied: entrypoints<1 in /usr/local/lib/python3.10/dist-packages (from mlflow) (0.4)\n",
            "Requirement already satisfied: gitpython<4,>=3.1.9 in /usr/local/lib/python3.10/dist-packages (from mlflow) (3.1.43)\n",
            "Requirement already satisfied: pyyaml<7,>=5.1 in /usr/local/lib/python3.10/dist-packages (from mlflow) (6.0.1)\n",
            "Requirement already satisfied: protobuf<5,>=3.12.0 in /usr/local/lib/python3.10/dist-packages (from mlflow) (3.20.3)\n",
            "Requirement already satisfied: pytz<2025 in /usr/local/lib/python3.10/dist-packages (from mlflow) (2023.4)\n",
            "Requirement already satisfied: requests<3,>=2.17.3 in /usr/local/lib/python3.10/dist-packages (from mlflow) (2.31.0)\n",
            "Requirement already satisfied: packaging<24 in /usr/local/lib/python3.10/dist-packages (from mlflow) (23.2)\n",
            "Requirement already satisfied: importlib-metadata!=4.7.0,<8,>=3.7.0 in /usr/local/lib/python3.10/dist-packages (from mlflow) (7.1.0)\n",
            "Requirement already satisfied: sqlparse<1,>=0.4.0 in /usr/local/lib/python3.10/dist-packages (from mlflow) (0.4.4)\n",
            "Requirement already satisfied: alembic!=1.10.0,<2 in /usr/local/lib/python3.10/dist-packages (from mlflow) (1.13.1)\n",
            "Requirement already satisfied: docker<8,>=4.0.0 in /usr/local/lib/python3.10/dist-packages (from mlflow) (7.0.0)\n",
            "Requirement already satisfied: Flask<4 in /usr/local/lib/python3.10/dist-packages (from mlflow) (2.2.5)\n",
            "Requirement already satisfied: numpy<2 in /usr/local/lib/python3.10/dist-packages (from mlflow) (1.25.2)\n",
            "Requirement already satisfied: scipy<2 in /usr/local/lib/python3.10/dist-packages (from mlflow) (1.11.4)\n",
            "Requirement already satisfied: pandas<3 in /usr/local/lib/python3.10/dist-packages (from mlflow) (1.5.3)\n",
            "Requirement already satisfied: querystring-parser<2 in /usr/local/lib/python3.10/dist-packages (from mlflow) (1.2.4)\n",
            "Requirement already satisfied: sqlalchemy<3,>=1.4.0 in /usr/local/lib/python3.10/dist-packages (from mlflow) (2.0.29)\n",
            "Requirement already satisfied: scikit-learn<2 in /usr/local/lib/python3.10/dist-packages (from mlflow) (1.2.2)\n",
            "Requirement already satisfied: pyarrow<16,>=4.0.0 in /usr/local/lib/python3.10/dist-packages (from mlflow) (14.0.2)\n",
            "Requirement already satisfied: markdown<4,>=3.3 in /usr/local/lib/python3.10/dist-packages (from mlflow) (3.6)\n",
            "Requirement already satisfied: matplotlib<4 in /usr/local/lib/python3.10/dist-packages (from mlflow) (3.7.1)\n",
            "Requirement already satisfied: graphene<4 in /usr/local/lib/python3.10/dist-packages (from mlflow) (3.3)\n",
            "Requirement already satisfied: gunicorn<22 in /usr/local/lib/python3.10/dist-packages (from mlflow) (21.2.0)\n",
            "Requirement already satisfied: Jinja2<4,>=2.11 in /usr/local/lib/python3.10/dist-packages (from mlflow) (3.1.3)\n",
            "Requirement already satisfied: Mako in /usr/local/lib/python3.10/dist-packages (from alembic!=1.10.0,<2->mlflow) (1.3.2)\n",
            "Requirement already satisfied: typing-extensions>=4 in /usr/local/lib/python3.10/dist-packages (from alembic!=1.10.0,<2->mlflow) (4.10.0)\n",
            "Requirement already satisfied: urllib3>=1.26.0 in /usr/local/lib/python3.10/dist-packages (from docker<8,>=4.0.0->mlflow) (2.0.7)\n",
            "Requirement already satisfied: Werkzeug>=2.2.2 in /usr/local/lib/python3.10/dist-packages (from Flask<4->mlflow) (3.0.1)\n",
            "Requirement already satisfied: itsdangerous>=2.0 in /usr/local/lib/python3.10/dist-packages (from Flask<4->mlflow) (2.1.2)\n",
            "Requirement already satisfied: gitdb<5,>=4.0.1 in /usr/local/lib/python3.10/dist-packages (from gitpython<4,>=3.1.9->mlflow) (4.0.11)\n",
            "Requirement already satisfied: graphql-core<3.3,>=3.1 in /usr/local/lib/python3.10/dist-packages (from graphene<4->mlflow) (3.2.3)\n",
            "Requirement already satisfied: graphql-relay<3.3,>=3.1 in /usr/local/lib/python3.10/dist-packages (from graphene<4->mlflow) (3.2.0)\n",
            "Requirement already satisfied: aniso8601<10,>=8 in /usr/local/lib/python3.10/dist-packages (from graphene<4->mlflow) (9.0.1)\n",
            "Requirement already satisfied: zipp>=0.5 in /usr/local/lib/python3.10/dist-packages (from importlib-metadata!=4.7.0,<8,>=3.7.0->mlflow) (3.18.1)\n",
            "Requirement already satisfied: MarkupSafe>=2.0 in /usr/local/lib/python3.10/dist-packages (from Jinja2<4,>=2.11->mlflow) (2.1.5)\n",
            "Requirement already satisfied: contourpy>=1.0.1 in /usr/local/lib/python3.10/dist-packages (from matplotlib<4->mlflow) (1.2.0)\n",
            "Requirement already satisfied: cycler>=0.10 in /usr/local/lib/python3.10/dist-packages (from matplotlib<4->mlflow) (0.12.1)\n",
            "Requirement already satisfied: fonttools>=4.22.0 in /usr/local/lib/python3.10/dist-packages (from matplotlib<4->mlflow) (4.50.0)\n",
            "Requirement already satisfied: kiwisolver>=1.0.1 in /usr/local/lib/python3.10/dist-packages (from matplotlib<4->mlflow) (1.4.5)\n",
            "Requirement already satisfied: pillow>=6.2.0 in /usr/local/lib/python3.10/dist-packages (from matplotlib<4->mlflow) (9.4.0)\n",
            "Requirement already satisfied: pyparsing>=2.3.1 in /usr/local/lib/python3.10/dist-packages (from matplotlib<4->mlflow) (3.1.2)\n",
            "Requirement already satisfied: python-dateutil>=2.7 in /usr/local/lib/python3.10/dist-packages (from matplotlib<4->mlflow) (2.8.2)\n",
            "Requirement already satisfied: six in /usr/local/lib/python3.10/dist-packages (from querystring-parser<2->mlflow) (1.16.0)\n",
            "Requirement already satisfied: charset-normalizer<4,>=2 in /usr/local/lib/python3.10/dist-packages (from requests<3,>=2.17.3->mlflow) (3.3.2)\n",
            "Requirement already satisfied: idna<4,>=2.5 in /usr/local/lib/python3.10/dist-packages (from requests<3,>=2.17.3->mlflow) (3.6)\n",
            "Requirement already satisfied: certifi>=2017.4.17 in /usr/local/lib/python3.10/dist-packages (from requests<3,>=2.17.3->mlflow) (2024.2.2)\n",
            "Requirement already satisfied: joblib>=1.1.1 in /usr/local/lib/python3.10/dist-packages (from scikit-learn<2->mlflow) (1.3.2)\n",
            "Requirement already satisfied: threadpoolctl>=2.0.0 in /usr/local/lib/python3.10/dist-packages (from scikit-learn<2->mlflow) (3.4.0)\n",
            "Requirement already satisfied: greenlet!=0.4.17 in /usr/local/lib/python3.10/dist-packages (from sqlalchemy<3,>=1.4.0->mlflow) (3.0.3)\n",
            "Requirement already satisfied: smmap<6,>=3.0.1 in /usr/local/lib/python3.10/dist-packages (from gitdb<5,>=4.0.1->gitpython<4,>=3.1.9->mlflow) (5.0.1)\n"
          ]
        }
      ]
    },
    {
      "cell_type": "code",
      "source": [
        "# Instalar ngrok\n",
        "!pip install pyngrok"
      ],
      "metadata": {
        "id": "t_LYIfn2XJA9",
        "colab": {
          "base_uri": "https://localhost:8080/"
        },
        "outputId": "23e2eee4-6c52-4599-c64e-47dbe4895a30"
      },
      "execution_count": null,
      "outputs": [
        {
          "output_type": "stream",
          "name": "stdout",
          "text": [
            "Requirement already satisfied: pyngrok in /usr/local/lib/python3.10/dist-packages (7.1.6)\n",
            "Requirement already satisfied: PyYAML>=5.1 in /usr/local/lib/python3.10/dist-packages (from pyngrok) (6.0.1)\n"
          ]
        }
      ]
    },
    {
      "cell_type": "code",
      "source": [
        "!ngrok authtoken 'YOUR TOKEN'"
      ],
      "metadata": {
        "colab": {
          "base_uri": "https://localhost:8080/"
        },
        "id": "azkHE4XfcjMl",
        "outputId": "9b684d90-6831-4559-d37e-b425fb7fea32"
      },
      "execution_count": null,
      "outputs": [
        {
          "output_type": "stream",
          "name": "stdout",
          "text": [
            "Authtoken saved to configuration file: /root/.config/ngrok/ngrok.yml\n"
          ]
        }
      ]
    },
    {
      "cell_type": "code",
      "source": [
        "# Configurar y exponer puerto\n",
        "from pyngrok import ngrok\n",
        "\n",
        "# Termina cualquier túnel ngrok si existe\n",
        "ngrok.kill()\n",
        "\n",
        "# Establece el túnel ngrok para el puerto 5000\n",
        "ngrok_tunnel = ngrok.connect(addr=\"5000\", proto=\"http\", bind_tls=True)\n",
        "print('MLflow UI running at:', ngrok_tunnel.public_url)\n"
      ],
      "metadata": {
        "colab": {
          "base_uri": "https://localhost:8080/"
        },
        "id": "2YeOjGpGXMDE",
        "outputId": "bda96a0b-9939-4827-d880-02899e385a0d"
      },
      "execution_count": null,
      "outputs": [
        {
          "output_type": "stream",
          "name": "stdout",
          "text": [
            "MLflow UI running at: https://1f6e-34-91-64-49.ngrok-free.app\n"
          ]
        }
      ]
    },
    {
      "cell_type": "markdown",
      "source": [
        "####Capturas de MLFlow!![Captura de pantalla 2024-04-01 230623.png](data:image/png;base64,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)"
      ],
      "metadata": {
        "id": "-zPNsvRFkvox"
      }
    },
    {
      "cell_type": "markdown",
      "source": [
        "![Captura de pantalla 2024-04-01 230731.png](data:image/png;base64,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)"
      ],
      "metadata": {
        "id": "3Cga-fID0Tdj"
      }
    },
    {
      "cell_type": "markdown",
      "source": [
        "![Captura de pantalla 2024-04-01 230809.png](data:image/png;base64,iVBORw0KGgoAAAANSUhEUgAABd4AAANHCAYAAAAosU/jAAAAAXNSR0IArs4c6QAAAARnQU1BAACxjwv8YQUAAAAJcEhZcwAADsMAAA7DAcdvqGQAAMJASURBVHhe7N0HYBVVvsfxXxqh94QOIoigCFIsqGAXy6Lss65rL6wN11XEXlZFFMFdu2Ivu4trQ1EBQUSxrdJBQQQRQk2ooYaQ5M2ZOTd37s29N+0mJPD9vDebmTO9XvnPmf9JWJKxtkAAAAAAAAAAACAuEu1fAAAAAAAAAAAQBwTeAQAAAAAAAACIIwLvAAAAAAAAAADEUbE53mvXTFVqjWSnS1FqSrKSkmLH6vPy8pWTu1s5u3Kdbre278yxY8qnTq1U1XDW725LSkqx2wGg5Lz71rtndzn377Yd8blvAxISpALzpLFPG/MnIcEbKChIkDPaKfD+x5S70wIAAAAAAADVVNTAe0pyktIa11fNGim2pGx27spV1oZs5e7OsyWlY7Yj3dkOE/gHUDl25uQqc2O2dpfxvg0wsXT3AeNG2k1PCdhpC+cFAAAAAAAAqpmIgfd6dWqpScO6SjTVVOMgv6BA6zdt0ZZtO21JydSvW0uNG8RvOwCUnHffbnXu2x22pLQInQMAAAAAAGDfVCRfS/06tZTWqF5cg91mWWmN6rvLLikTdG/aML7bAaDkvPu2nnsvlpp73+Z7/eVSUOKK8gAAAAAAAEBVERJ4N2ldTE33imKWbdZRHHc7GlTcdgAoOfPVSXIJ7tsQbpL2eITME7w687yAAwAAAAAAQDUSEng3Od0TKjDAZZZt1lEck9O9IrcDQMmZmu/pjYq/b4MqIL1MQT413wEAAAAAAFBtFOZ4N42Xtkpv5BZWtJWZG5WzK9cOhaqZmqKWaSXbDrPhv27brY8zczQ7O1eZOXluRdvmNZPUo36KzkhPVcc6yQTsgDhY5dy3prHkWAqcG7DCXpqZm5sXcgAAAAAAAKgGCgPvDerWrtA0M36mwcbNW7fboVAN69V2U1sUJye/QM8s265PM6M32JqYID3YqZ6OaFjDlgAoq/Wbnft2S+T7FgAAAAAAAEBQYeC9WZMGqlMr1S2saFu371Tmhmw7FKpZ4/qqU7umHYrMBN3v+mWLW8u9CFsrtl6y9Lf2ddW3capb5Myi5CJNyQIoqVj3ramHnu82hFrRNdK9+7sistkAAAAAAACg9Mb8+03bF9sFF15s+6qG9955W8f0PVbNmje3JaHWrlmjr6d9qbPPPd+WlE5h4L1di6ZKSqqcyPTuvDwtX73eDoVq19LZjsTo22E29oml2/Sxr6Z77wYpOq9FLXWum6yBMzaoi/P3jg511Tw1STvzCnTbN5vcv88d19itBQ+g9GLdt268vZTB8EcevNed5Y57HvAKSqoM6wIAAAAAAEDFMIH34oLqJZmmsq1Zs1pffzlV/Y47QenNmtlST+batZr25Rfqe+zxRcaVVGGEu7KC7kZyUpLtKypW0N1YvG23Ps0KBt3/3LKWhneur54NUlQjMUF/coZHdWlQGHTv+95aPTU3Wy/+tFUzs3bZuWK7/PLLNXr0aDsU6v7773c7Y/369e60kZj599tvP40dO9ad/pdffrFjgMrz7LPP6oEHiga2TZkZVxqx7lvzVUmlIegOAAAAAACAcmrevIWOOfY4fTV1ihtoDzAB+fIG3Y1SR9vfe+89/frrr3YoyASWP/jgAztUcT7NynHTxhimAdXL2tQuTG6R7PRc3rq2+9eomZSgo5oH0ucU6OWft9r+4j388MNuYN3PDL/22mt2KDoz3Xfffafff/9dAwcOtKVA5cvJydErr7yiRx55xJZ4QXdTZsbFS+AeBAAAAAAAAKqL8OB7oBZ8eYPuRqkC7xs3btRtt92m8847T7/99pstlZYsWaILLrhAQ4cO1YYNG2xpxZi5KZjX/ewWNYsN+P3t0HrO/5qpEjRlRfSGWMPdeeedmjZtmh3ymGFTXpx169apXbt2dgjYc/72t7/pr3/9q55//nn94x//cAPwJuhuysy4+KEaOgAAAAAAAKofE3w/qm8/fTFlklvT3QTiyxt0N0oVeG/UqJGbQiU7O1vnn3++MjIy3M4E3bds2aIXXnhBjRs3tlNXjLW78myf1KVuiu2Lrm29ZLWo46XI+D07OG9xjj32WH344Yd2yHPTTTe55bGYmv/9+/d3a8abVDPhKWbMsCkPdN98841b7k9HY2rMm3EBJl2N6YCyCATfn3jiCT333HMVEHQvWaqZf4x4OKRbu2a1Mp0uvLxYxPgBAAAAAMBeyORBL0mHipGclKzU1Jp2qPxKnWrmhBNO0EsvveTWbP/Tn/6kc8891+1/8cUX3XEVLd/+NUq68YHUM6XRtGlTt9Z6IBhuAuT//Oc/3f5YDjzwQE2cOFGXXXaZm2rGDAeYgLoJys+YMcMdZ7o///nP7jpOPvlkLViwwJ3O1Kw//vjjC9c9e/Zs9e3b1+0HyqqgoEAJCXsuKcyvixaGdCbVTV5eyV+GAQAAAAAA7M1M46Ml6RBfJr3Mt9O+ctPLHH5kHzfVjD/ne1mVOvBumKCwqdG9Zs0aN62K6TdllaF5jWADj79s2237oluzPU+rtpngXoH2q1+63TUvFv7zn/+4/eZlQ3mD3wsXLnRT1TRp0sSWyA3mm4B7586dC2vYm0D77bffri+//LIwz7x/HqA0TIoZU9vdfLFxzTXXuP2mLJ5KEs9/9qU3Qrq27fZTnbp19behd4Z0xdpz7w4AAAAAAACwFwnkdO933AlueploDa6WRZkC74YJQptgdDwC0qXRrX6y7ZM+WLOz2KwTz8zdojw3D0aCTmhdyyssIVNbfdmyZW5td1P7vaKC32lpae6y/TXszbpNA60mWH/ooYe6ZUBpBYLuJuBu0suYFzpXXHFFhQTfAQAAAAAAgOoiPOgeEK/ge5kD78Zxxx3ndpXpjPRgnp0aztbn5gdD7+8v2a6FG4ONr366bIdGztri9HlVZK88qK77tzTOOussNx2Mqf1eXqZW+8MPP1xYi90wtZBNuWEC7KaGvUk7Y/Tp00eTJk1Sly5d3GGgtFJTU91Auwm4B9x7771umRkXP5VZDZ0k7wAAAAAAAFVJpFz0/q4q+saml4nUkGqgwVXT2GpZJSzJWOtGsdq1aKqkpHLF4UssLy9fy1avs0Oh9m+dbvsiMxv7j6XbdECdJP0hvaYb7tu+u0C3fbNRz8zbqpkXNFfdlES9MH+rnpyzxQbmC9yg+wvHN1FiCeKDl19+uUaOHFlYw90Mv/rqq26/qZFuguOmMVQTQO/Vq5dbHmDyuxuBaQzz1wTuTS12M7/J8x5gpg/kgQ+MMzngzbpNTXvzRUFg3cCe9tuKTNsXytxWpQ2HP/Lgvdq8eZOGj3zSlgAAAAAAAAB7h8LAe4umDVWrZg23sKLt2LlLq9dtskOhigu8G2aDA/Hznzfk6s8T12vO+hx3uF6NJG3ZZZpgDYYBj21VU+P+kK66KZVZKxfY+0QLvBv++xIAAAAAAADYlxVWcc/JLb6h0ngp77oCwb3Z63apz7trbdDdlCb4gu7e8NUH1yXoDlQC7jAAAAAAAADAUxh431WJgfd4ratbkxqadFa6rj64ng5omKyUxAS3O6Bhiv7Sta6mn99czx3XhKA7UEmC35kAAAAAAAAA+67CVDMJCQlqld5INVKS3REVxQTdV2ZuVEFB0RBdorMN+7VKs0MAqpqlK7Mi3ruhAl+cxFNFLBMAAAAAAACoGIU13k0wLXNDdgmCamVX3Doqq3FXAGWTXKJ7tCIC5ATdAQAAAAAAUH2ERNFMbfQNm7fZofgzy46VZqaia9sDKJ+S3qNemDweL/Go6Q4AAAAAAIDqp0j11c1bt2vdxi3Kj2PN9/z8AmVtyHaXHUut1Bq2D0BVVDM1xfbF5oXL4xEwN8uI37MIAAAAAAAAqAwR80Zkb9uhFWs3aEfOLltSdmYZGWvXa8v2nbYkulo1CbwDVVntUrwcC6mrXprYuZ2Weu4AAAAAAACorgobV40mJTlJNVNrqFZqilvbNTkpyY6JbHdennbm5GqH0+3M2aXc3Xl2TGy1a9ZQ86YN7RCAqmr1uk3asbN0L+USEqSCAlt73ft/p8x79JhyN8huI+3etF4/AAAAAAAAUB0VG3ivDAkJCWrTvHGxQX0Ae555mZaxZr0dAgAAAAAAABAuYqqZypbeuD5Bd6CaMF/BmHsWAAAAAAAAQGR7PPDepGFd1amVaocAVAd1a9dUkwZ17RAAAAAAAAAAvz0WeE9MTHBzujeoW9uWAKhOGtSr7dzDDZRokrIDAAAAAAAAKLRHAu+mIdXWzRq7fwFUX7Vrpqp1c+5lAAAAAAAAwK/CG1c1tWGTk5OUnJSo1BopqpmaolqpBOmAvc2OnF3amZOrnF25ys3LV97uPOUX7PG2mwEAAAAAAIBKl7By7YYCk6+5RkqyUlKSlJRYJdpbBQAAAAAAAACgWsjLz1dubp525e7W1u07lVDgsOMAAAAAAAAAAEA5Ub0dAAAAAAAAAIA4IvAOAAAAAAAAAEAcEXgHAAAAAAAAACCOCLwDAAAAAAAAABBHNK6KKsNcibvcln/zlJdfoAKnc/4fAAAAAAAA5ZCYICU4/5PkdDVSktwuwSkDUHEIvGOPy92drx07d7t/AQAAAAAAUPFSkhNVq2ay+xdA/BF4xx6zOy9f23cQcAcAAAAAANhTTOC9dq1kJScRgAfiicA79ohdufnasm2XHQIAAAAAAMCeVK9OipuCBkB8EHhHpduZk6dtO3LtEAAAAAAAAKqCOrVSVDOV4DsQDwTeUamKC7qbdj1q1PAa+UhKSlCiaf3DkZ9foLy8Aq/x1V15iutF66zCNORqWhVJcJdM6yIAAAAAAKAiFDj/l2ACcl6Lp1UwKlendopq1iD4DpQXgXdUGpPLPXtr5PQypiXt2jVL/lbVBPC378xVea5es84Ck16eODsAAAAAANgTqmj9v/p1a9DoKlBOBN5RKUyN9U3ZORFf5KakJKpenRql/p0xy9q6bZebL7603Lrt5tIn6A4AAAAAAPYgUwc+0fk/87eqMOGSBvVTlWQzEVSGzZs3a/fu3WrSpIktwd7ql5kbtOLXLVq91HRbnQsuQS3b11ULp2vVsZ4O7NnYTlm9EXhHpdi8dZfz8CwaIK9dM1m1nK48tu/crR1OBwAAAAAAsK/ZsX27+7dW7dru33gxNd5NzffKMH78eD355JNu/+DBg3X66ae7/di7bFy7U+8984syFmXbksjadKqvs68/UI2a1bQl1ROB933Q8uXL3b9t27Z1/1a03Xn52rylaIqZ1BpJqls7xQ6Vz9btucrZlWeHYnNTzHDVAwAAAACAKsRrea70AYsJ48cpISFB/U/9gy2Jnwb1UpWcFP9a7wsXLtSuXV6syNRyv++++5Sb67UJmJKSor///e9KTg5W1Gzfvr3q1atnh8pvaZZXObR9WsWn0zn11FPdvxMmTHD/Vpbs7Gz9/vvvdqhk9ttvP9WvX98OxdeMKWs04fUl2pVTsswVNVITddplHdXz+Ga2pPoh8F7BVq9eraysLDVq1EitW7d2H4TGhg0btGLFCh1wwAGqVauWW1YZpk2bppEjR7r9Q4YMUd++fd3+irQlQjqYinhravLHmzzyAAAAAAAA+wIT1rv5r9e4/Y8/8Xxh3Cleatj0wPFiguy33HKLfvnlF1tSMibw/swzzygxMT6B8vkrvPhR19Z7Z+A9Ly9Pf/nLX9zYY2m0adNGzz//vJKS4tu47o+TVuvjlxe7/YFQdPi1asrdkrDyP1zZUYed3MIOVSwTw73++uvdbXv22WfLnfYoLoH3119/3X0bdeGFF9qSPevnn392T9bBBx9sSyrfb7/9pjfeeEPff/+9LZEaNmyoM888U+eee64+//xz/fOf/3QfGh06dLBTVBxzw73wwgv66KOP3HNlHlQ5OTk666yzNGjQoLjfUAHm4tqwaac34GMe2ubhHc6cu2+++UbHH3+8OnbsaEtLxgT3TZAfAAAAAABgXzBr5nSNHPGQ23/rbffo0B693P54atygZngstMwyMjJ09dVXq3PnzurVq2TbOn36dDdQ/8orr6hly5a2tHz29sD7qlWrdMUVV8Q8zl9++WXEwPzLL7+sVq1a2aHy27B2p54dOkO5tqZ7pMC72+t0Bc4kbgDeNy4lNVHXjeilxpWQdua9997Tiy++6PZfc801GjhwoNtfVuW+ul599VX95z//0WeffeYGcvc08+Zs2bJlWrBggebPn29LK9evv/6qm2++2Q26d+/e3T1J5iarXbu2G4w3uarMDVBZ1q1b526PCbq3a9dOzz33nNuZ/g8//NAdZ6apCLm5RdO/mHsnUtD9/fffd3N4DRs2TCeffLJ7TZWGWWaJfghCXjXN1quHjtY8O1Ro3Se65VDn4XTo9ZpYeGjMtKbM616da4vLJHRZvf72iaKdgXmvxB4fVMLtM/tWouVZhcfCdP7j4TN3dPRx0djlhm5nPI9xvJltK+U+GhGvpert55cG6pWf7YAja9JQ3Tcp0+nL1OS7n5NvlI8ZN1STs+xgFWD2488v7ZnfibIJP4bz9coFzj7Yzn9OCmVN0H13T1D4YXf3PTBv1GNg1ld0fKx5zbVQOM7tfNeD2Rb/uCLrteuz471ryufn54Lz+pdbKPbxCNk2/zEJWa7pIlynIdseOj7qckNEPpYx5w07XqH7E3qsoq/XO18Rr41KUrh+c5xjbGeIKNdtxTPXUEmfU8Fz4F2rxdyPMa4hI9a1EHLPxdo+91r2jy/N/lSAaOex8J6z93ExxyZk/4ssL/Z5CJYHFHOeHNGfceHrKsrMGxwXti0xtj3iMguPS/HnMPYxCjLTVdrzwN3+aP9NEMq9/ov8Jux57nGtgtsFAOEmTvjYrVxpus8mfmJL4yue2QVMxVDDBIQvvvjiEnVdunRx5wmkokHxTHzUiHWcTe32SALzxoOJsb//zC+FQXfDBNVNt3tXvtfl5mvn9t3anu2dXzfo7ovdmXnNMspfdbx4JjOISWlkMpccc8wxtrTsyhV4N28A3n77bTVr1sxNX5KammrH7Dkm/9Nxxx3nBrlNvqi5cys3cmdaYDZ5qcx2PPjgg3r00UfdNyQ33XST+2ZuxIgRWrt2rf773//aOSrWrFmzdO2117pvBgcMGKCnn37aTXlj3hCaflMD34wz01TEscpxbqBwqSmRa9eb2v8nnniiZsyYoW7duhW+YerUqZObY8rf9e7d2x0XLtqyQ9jg/LoJ16vXoRfoaW/QJ0sTh92irm8s1IzZz6h/U6fIDZ5eILllXnd5N2/qMpn7g29Z0/SwbtHwCRH+meSs9zWvbZFimKCwf/vGSJcUDfS6QfyTbtFUO1wsE1A/6VOdMjmwXHs8QjjH69XHbX/JzfsofDtKtg/VS4Rrqbpz/iH99uT+OvIgO+zIWub8OB2a7vRlarnaK80rDvXze3pVJ6h7xJF7xkFXjdW/rupqhypXmYIM/mPoBjTulu519mGM113hOyeGGzAY/Ly8j/mCTPkwPVQ43126O3IQyawvbObi5s1atkgdrxxdOP5fY65VYLOyZi9V36cC5Q/pxMl3hwSAfn5pkF7dL7Dsh9Tu5UHB8WZ/H1iqy+38/7xyqYb5g0vFHA+z3Td9eYL+acf966FTC6/TrJVLpZOC+/SvMSN0kv86NUHCwVN82+4b74y76eX2usvOe9d+z+umSOc1wrGMPe98veKcu3aB/XnqGi17wBd8c5a3/EI7LtZ6I9yvlaoM64923VY1WZNGFl6vfz85U6+EXH8PSf7zZa5P/zX01AmaNtgXkCzmWvjed8/980rp1SciBVYzNfnfE23/nhf9PDrXduG97Dwfijk25lk57PdrCu/d8Gs99Dw4v0NZK7RM/QuPZWG5ywS679aywDMq/L6ygXD/M87/G1FkXcX5eZrvmhity/W8nvY9L2M+88y2PBF4BoQ9k8IUd4wK7ennQZViXooU/0JjT/53AgCU1Nq1azRv7mz16n2EevY6XHNmz3TL4i1Spcry2rmzaHaE4vhrQaN6WLl4S5GGVE2NdtOde9OBuvKB7rr07kN01QOH6rhz2mm3e60548NOtVmGWVZFS09P1zvvvONWMm/atPxBnDIH3k2eG1P93gTdR40aFZeNiReTM92kKjHB90WLFlVq8N0E103+9htuuEGHHXaYLZXbYMSbb76pOXPmuIHjymBq1d9xxx3Kz893XwaYHEUmzUyA6b/uuut0//33u9MMHTrUfSkQT3nOcsOZRlUjadCggdvog3lhsnLlSjVu3NgtN8fxiCOOCOl69uzpjgtXI8qyw5mge/+Jp2vi5FE6zpYFrdSqL06U/+slEyTWI9PKF2z36zbIt6w09ep/oqauWmmHg8x6u954sx2KYe4Pevr4URpQuMxDNeAR6c6PZtthL+h+mcZoxhslWJ7LC6jf8EYxAeO5H+jOQ27WDXawRMwLhXnOPMfbYaME+1D9FL2Wqrus2VOkK88uDKaa4MCq39urpQkK/DxNy47tGTHw/vO3E3XihcFgJ0rPfwx//vB55zyMLhJsDygMkN/b35YEzNf3kzvp8rOCgYSDzrpGevm9sFqJJoi3VCee1MkOGyWbt12ryAGptJOv9QWPuurIk6RlK4M1Q0OX3VUDruykz7/1gkfmult80iWF86edfIlOXDxFc2zQJObxsMGmu3zB9nAd20ULonnBzBPvjRz4Mueko+9+MMej4+RpJTiWxcxrg4eFAbK0nurbcZGWB4JEB10bsq+R1xvpfq1cpV1/9Ou26nFfMgWuG+fZ93nHazSgcEfN9Su9+mHk61dpp+r8kybqbRuEjX0dddUVvsBf2qEnqOPipUUD7+blzn79daId3JNinkf32ra/GWawmGPjHmff78pBRznL/H1F4f6HnIeAjlFeAGfN1LTF/XV+IGjurmuRps22zyH35eY1+meUQGvEdcUScp+mq/uxnbR4Wcmeeea5sXxxJ7WNuCOhijtGAXv6eQAAKJ9t27bq9Vdf1FNPPKaHHrhbt916o677y2Ua8rfr3PH9T/uDTnU6w5SZcWYaM62Z543XXnKXUVa784rGdsrLpF0xmQ9Kw8TbqotYscjKriS8J2X8Ghp0NwKB9/27NtL877Lc3O9T31umvgPbqNeJLbR9624lRnjHEmlZVV2ZAu8m6G7SllTFoHtAePDd1PyuaCZ4bfIjmRQupta9nwm8/+tf/3I7kwanMgRahz7ppJPUp08ftz+SI488Uv37e/84Kssbx1jy84t+B5KUFPmyu+eee9yH6J///Gc35/ytt97qlptjZr6s8HejR492x4VLjrLscE1PfUYz/nGGily5tmb70/pcd57U2aZ4ma3pT96sy06N8a8fN9VKIEVKaWtpz9a426WHzzzUDlvOMi+bN0oDIlfuL1bTlt2leSsLU8occsVCzbgibB2xrPtBn8kfCI9ktl69ZI6z7Yfb4ZKwtcAv/6OKi0eH70Mhc7ydczPP/WrBHvdXwgL0/nMSmLZwGps2ZoKdJqTczuN2EdIQBdjlx0zpE+FaKsl6bwn5+sE5Xn8Ljiuyn4XCtt2fTsger3VhxyR4XO12rfMvI9J1nKk5XwZrt3ufyA/Sq4snapj5vP2BiVr88iD3U/fQT9lNgMFfyy4wr+38tXxD5rXTueMDtdO8abx5w2urRVuuw9RavnuCJptamHYdobXO7fJ/NjWnvWm8mtz+9YV/Mu8f508T4G3HKz9H3lYTlLrp5UVyJnLHBfbXrSEamL5IqgD/MfT6C4NHEZSqll5aa7XTUq3yrdCr2XmJBrSzBdGEzGtewrilxbPB8MJ9cAOXoV9EuAFGN/horrtFOvEo//6YwH0gYBb7eBQXbDJBq6hMoE7+gKqfFzjz7gfLDZBP1Pe+CyXysSxmXtsfCD4GAoZRa6pmLdXiIsFG//3qiHAPmGsu9GsHex/YayFwj/ivzZAvHMz4wDVb5P4IW3+A2Y7APGHXeezrNvR+K3KPmJrTvvGB7QzdRv/zxQh9Ztw3KULDU/7tdef35hk2WfZ55xyvTXZan7RW7SMGPwPS2gWCsCW7jgK8l0zh17NzbEwt8rOiNZgf+VnkCtu/0OvBUWT/veJYxzXqeTTLcmvB298M/zPaJ3hsvCDyYt/LPfclhRtkjnAezH6Ze8GbtAgvyN835Ni5y/9ypnue/C83Q0VZlyPkODjXZPREkvM17mUFA+2xnnnutXy3818Pi/TqYG+5gVMW8jth77nox8gv9H4sem97y/LvT3HXQtHzF3qPFv3PldD7Ldr5j6Ys2xxyfgLPqCjH11u+84x0t9E7x4F1FirRcyb8WQgA8VGnTl11697Dzee+wPl3xoqM5dp//47q2+94nXv+n9Wly8HqclBXnXmW898JBx+ihMREdxozrZnHzGuWUVYRQjtlZmJmJkNEnTp13DYjt2/fbscU7/bbb3fnqepM46S33XabGyMMZ8pMxVeTuntf8PvPm21fkJtqpiBBuTvztPyXzVoyb6O++2Slfp21Qfsf3NBNPRPp44YVv26xfRXLxLzHjRtnh8qn1IF3kw7EbIBhakybVComQBqt27ZtmzttRTA5h6ZOnRq1+9///lfYaOiSJUvc2uYVydTSNoFrkxolXN26dd23eeFdZTSsuidFyr8U7cugHj16uHnxzcVtGlgtbeOqRrm/Omp6hkbNHqMbdKIeNulVTHB+3UrNP76V5A/yhgc1L5Fec9OjON0b3XXnMH9QMzI37Yu7vB/Uu0gaktleQPuuCC8HIul2uG744haNKwwCly39S4hVKzX1kFZaXbidThf2r6h5r1yg+Y/cX6oUKusm3K87DxlT9OuB0u6DM+1rut875ubLhScvCAbBw8/JXU7/7Z/bkQGf685Vh3vj3RcSJuhs9meaV+Z0Ex+Zo8tCAtSWu3zn/DjXSNSvICJdS+6IyOv1p9jpevv9Nuhtgu599Vn/wDZN08PzfPvpF5K+yFlvyLF0OMP9p9v1Ot1rhzjDIefTvCAw16JdhrmOTwp78eDWBgwECtJ10kNjvRqNNk3HXSd1KkwF4q+NmzXpDX1eGOww//AepGnHBtKRjNblvwdSjnTVFe6n//YfrUVqH5p/JE/TkfZz+n/d294ZDvwDN9ZyrcXPa/lRRbcvyFn+v6UbzPzOdsgNsATW5yzPHwh1AwyhqSXavTwyJKD1+QPBbb3rJGfZNj2ECUr980rnd8IeN3dbfn4uJFXAPy9s7S4jIOQYmhqjHdtL/n/ohwcho/IC1oGauIa7bNvvypqgp03aiyKBsxLM6/j8gUDwISzA5w+6PGGOczANTbkUczxMYL1dK5MKxI5zutDgayCYFmGcCeLt11pZ/mBXaYJFUY9lccz9NVp9v7TbNXipzo96vJzj+u8IgbaQ+9Uq9h6IYPLd+t7OY+73xYHrPLBv9pr9171hQd8o67/p277e9E4XNSVGJCFpOx7Sic6yxgXOlQmGhaQDekje1mRqzrJgiiFz333+78C1Ef7MGKvzlz0fej2bQOMDCu6j81xoa599d50km1ZphE46qm/o9thzEuAFVN/w3Q8mCBvjhU84X8DTnIvwNCc/v2TSpwyJ+FVG7OemM++3vv1zz6/vC5aI+2/EOq4xHHStu4yOgVQwzn1R7LEx89wrL1DvdG+3G233P8J5COy/uc7s9CW/X82Lw07O/vkDq4FnWOR1mWBrSAqrC5fq1cnuwgoFg8TmHMROGVMo7VT93Vzjsr+p9msdsyx/Gpx/Xuk894yox8gn0v3ou7fvOsl7GfK0hnjLj3gtBNN9BX5jg4Hu8N/E0Wr7pT/VUAl+o0uiFNscfn7cFGXmeohyfF2Tp0h/NdNHOFfRnjPFPQsBII569Oyt+x98VPXq1XeHE5OSdPmV12jgH891h43z/3Sxbr/zfp1wwsnucIMGDd15ytvgaqRKlWVlgq4ms4HJMW7aiixtRVmTAmTTpgg1H6oQEwM0NbpNzPSHH5x/q1um35QZJkX1viBqLfUEL437QYc31eEnt9BZ13RS83Z19N2nK1WzdrJzzXmT+VVGjfevvvrKrXBu4t/ffuv8x3I5lTrw7s+nZFq+nTdvXswungn5qzrTkIVhbq7iTJkyxU09E+8a5rE8/vjjbiOv/s6UVaTSxsFNOwGHHHJIxAeQuZZMg7mBmvyRlODQl40/yBsWtJw3/XEd98gfdYg75Oj2Rz2sTzWjmMi7WwPdXd7hmn5oaC3n0ge0D9Xlk0dp/iWBIPn9Uv+SppSJ4ckLNL13YDu9oG/hds71auTfEetLgHDrPtHw27vrtYg170u5D8f71t30DF12o/PPPltlt8g5ccbf8Uj4B/gnhn5lYFPd+Pen6alX64Yvws7lqk90ixt0L2vO9sjrDU+x89l0Z1/MVwdf+L+2SFP/y2/W09Mj1HoPSV90qHr7jofLWcdE33E/5EzzsuIHX2DdvCAYFHodH/+4pvuC9yG1AQOBoAcmFtbcHjbZBHicspAgsFfLrrCWX/in/iagcWH/4Of1hWkGJng1OP/qr31o/pHsCz4edLYbDHdrhRa3XCMkFUQkzvID63NrnJogS6BmaViagCipJQpTFjhOvDe4rW7qiEjpIfx849MO6urb77BjaCx+Xm8Hgg1OV5oA5kFXeQEPLxhkghYnOGc/INPmFY4c5I09rxecCmyTF+DzB9994/8qPe3MX+qgSzTFHA//S5DwvM5u7dyQcWHb5Q88Fwk2xRL7WMZmglgjbQDIdH31fcTj5QWzTJ7oIsHYSLV3i70HIjjpoWCQ3r3nfClv/F9KONesf9HR1u9P4xEtRU5EIWk7QlMVebXA/YHnrjopEJy9KrgNIWlaijwzzLVggnEBXvDcfx+b59NJEY9f4KWhd1/82Zy7Y31pVkygz70fAuOnqa15+VZSJrBqr9Ejv3Xm9z9jnWexeWl3Q9j5D4rx3DSDV/nH9XX2P/gFS/T9j3FcS6uYY+PWJPa9rLlBI2O/aPQdq8D9WvLgu/MbFnj5arqwlxShzHN5Ueg17qzbBOf9gs8X7x4u2bMjgiybMst3/6SdfKp7bkpyjCLej757201PI9/9EHItePN3DLnHvN/YwNcCRX8TnfF/NS9ZrJL8RpdEibe56PlxU5QV97zxpz0KE/05Y0R/FgJAvLVtu58efHikWrRspRnT/6dhD94dEnczDZc+9uiDev+9t9W6TVs95Exr5imv8tZxjCVWjCcak3GiKrvooov0pz/9yd1OU7s/4O9//7tbZsaZFw/7OhM/bdelgboc0VRd+6QpuUaiNq7doaTkyFecqQlf0fwx3XhcZ6UOvJuc4KZBTuPQQw/Vhx9+GLEmd6AzebsrSqAh1WidyQUeaC3Z1Czv3r27219RTAJ+8xXAr7/+aksiMyfOvDkxyforo0HawMuSwN+uXbu6nV/4NPGSGCEpU1nelJovFo499lj94Q9/cFPjRHsjml9hkffQVDPBoGWWVs2Tpt7e1waLTddXd37xuVaZ743ddCOBcqeLmCbECzjr9g/cIKjJPx8roO01ChtcZmHtZ7eGdSBI/ox6aY6zoa1KVGM+WPvedL4UIyEBYS/oO3XiD1pn9itWjfyI+z1br55kGhr1BXfDlWMfgrxz0rVllH85RbFuVaR1tVLL4+25dH2uOy8x+xAWdC/ReY7MXa+pje6bv//tn3s5/81XB3pcl/nG9brkceeERUi/4+z3RF9KmsuKa5S3aSvnn4yxpKllyIny0nkUprqwwY3CWu6mFqOtwR1Se8z8Y9tfy85NA2DTDAQ6E7z3pWQwwa92Lz8fowZnQLpaBv4bsgTLLR1v2dHylbsNcvprVTqdSR8TzN9bSuZ4FtZYDKspHn4MXWEBw9IEME3Awxcg//uhKsy5HGjsL3pt6OjzFuEGoXz5k/3cYFv/4mvJRsvVbAXPT+zj4c+fbdYdktfZzxl3g6m9G/WFjRcsKgw2ReTlZS7+WEbizet94eAPAHXVFeZ4+bfL1L68YJDXyGqRGvVh92tFMOfQbQjTu/5DXwqUcP1uqqKSMi8ZgvebSfvh8VIcRbtX/bXFQxr7jJiex6/kObZd5njY+8LUlu0u5xmxX+vg8kMCwteqZbH5wiOv2335JVu73lwDRV5QFsf33DTc6yhwXE36jYBi9j/acS2LqMcmLD2LI+3kIc7+B9t3iM25X03wt7hno+88hQbSQ19ShCrl9WFfzhRtTyNMtGsy6vVakmNUgvsxrb06Rr0fotxjZh77wsX9TfRf7+FK8RsdmrYlxgvaYrZ5uXNRBr/AMp25vn0B8lKJ8ZyJ+SwEgIqRlpauBx4cobp162nFioyQiosm68OSxb+qfv0Guv+BR9W4Sen+NR1NpNhOWZnA5o8//uhWRjVM5cvSuOCCCwrbBKzKLr30Up199tnKzc21Jd6LEVNmxu0rWrSLkuKowLuuPvvXUr01fL6e+OuP2rppl44Z2EY7tuxWQmLR+F7UZcWRiT1ee+21Gjx4sI455hhbWnalDrwbgeD77Nmz3ZxFpcnHVFl27NihL774wt02k/rFpDGpaCbo3q9fPy1btsz9NCGaMWPGuCl4zMuBeAe6Iwm8rQn8HTZsmB566CG3PyB8mnhJiPBw3p0XeR1XXXWVzj///JDOvCU0HnvsMfeLAvO5h2lbwP/G0C8vyrLLJWaA0gtO3lCY4iPYubWPQwLJTldsjvUszZjo/LPXH4g1gVZ32AuIu/npfcuMnOrEW84NvYtbnydY+950NqjcslWEhmc9G6Z/qqkmCG1yl7vbGcxl7taIj7Tfpma3M+/ThTXazQsKOxwxUF26fQgXUtvbsXpVeEKMUFHzycvfOOqJevgNr1Z+SLqXUp/nIHe9N44JzutfhjkHpqZ6+Lgi7RN4KWlWXR6c5rUb7ahoTAol2xuZ9wIjIDRdTID5x7wNujr/qFaEIJJbQ8yfAsP9h3IwpUph5wvWm3UtO6l/8QEK+w9hVwmWG09u/ubAiwZ/V+qUIj6B4JP7D/hg8L3oMSxNsLJ4wbzH5nw6BfYLBtMFc9FHrvUZKWdyuKgBUT9fACfAXbYbyPEChcGGWA2zrTboVczxMPmiS6swIGq2y+uLIF1tQ2p/O9xaneaeKO5YxprXDsdigqVu+pnIKWMi368VoDDY7Pw3he9LgRKv321osyS8mv3uSwZ7rwVrFke6PiwTHP53++BzwbwgtKMiXXOh2xPhHJWYrW0b0i6Bn3f9evm2y34tuPdIIE+1e50F81ZHr1nte276riPvuPpr/MfY/1jHtdz8xyZObHA2Ut59tya3e7+HvZAoVqTj4zu2xYn5zIsg0vVaQuV/HsS4x2IcWy/YbpntL+FvdNrJI0KmKd3LywBzfmzFAN+yIqaQKZEYx8CI8iwEgIpkYkmmsdROnTq7Nd7Hffi+25n+A5yyrVvjmws7UmynrEzMzLTxZ+Jipo2/0rQbOXz4cF122WV2qOq7+uqr3UB7gOk3ZfuS5vvVsX1BJvZo/i85JVG166WoXqMaqlEzSdkbdqlWnWR3XEKE7ywiLasinHXWWTrjjDPsUPmUKfBumOC7uWAWLlyoW265RdnZVadl2fCge7duESOTFeK8885zG3Z98sknNX36dFvqMWllTCMQb7zxhlvTfV/4rCQ5qeiNkrvb+wohnDleJi+/vwvkwsrKylJaWprbCGyrVq3c4UhycyMvu3xM2o7HdZkvODzvo1s09cbD3Zrbh/S+WU9fEqMRzgjmveKfPsttbNRbnrOP//AFWE33xs1empAieeCjc/OoF9swajGaHq5TdIuGF6bA8XKuH9f/cHUKC/67OcVNUHryQo2KUlPfpEIJnWeaHj7evrSIEKgO3we3Vn6JapKnqVf/EzXVfkHgWveJXiuuBrjNMR/c38A2nK5e/uPe8gyNsilxojasWhpmvf789H5FzoGfV8PdS/2zUqu+8L8gMA0C294AZ99C8uc715z86XjMi5OPgsc39PhHSHVimCCV/ce8qe1WNMBqAiihNZHdFC56Xk9HCwr9/Jybk/WGq67VDYF8rIUWheUXH+nmgHdrIxe33Hgzn7RPLkN+2iiyJj0XrOUeEkiOcAxl0mxMDDk2JjhfXAA8oqwJerqwtmRXXRESoPByN3svGCKkSwmZ15ivyf7j75zLYYW1LDM1+SV/7fb5euUBX17yNC/FUHCfvDzPgcClqcEuXw59N5BU2DBh7ONh0mD45zXb/XZhYM/Zrkm+a8zuU2HQr8h15aXf8Lbbq/3+eaBNAkdwvcUdy1jzetscnvfaHK/A8XBfxkRtMDbK/RqB24ilr/a+yRUe+xWlj3N+g9e/CXLZ3ljrD8+D/kSs/fALr11sX2xYXuOS/jYWvGsxvBauF6i23PvM326DPQe23+yTSS/lP0fm+phcOBBdyLMpAvc4F37REPtaCD3Odtm2od3wAKUXOPeCjcHUQzGem+G1qE26ENsba/9jHtdyCj02kdqVMNsf/gVQUNakCcHtDVxjgeeMqcHuv59DngXedRSyvyYvuj3WRXmB2JCvdtzpbb/j55d8y7LbUnhei3nmFWEb3PU/57x9Le4Ylfx5EEvReyzs2LovBqK3c1Dpv9Hu9avCtlXiIdpzJvqzEAAq1sKFP7vBS5NR4bYhgzXmP2+4nenPz89zy5csLkWbMsWIFNspr9NOO63UcbEmTZrYvqonkNI5XCD4Hi3oHm2+vUXz/YrWUjcvjky3Ye1O5ezIU0G+KZPWLt+m5BpJSklJipjRItKyqroyB94Nc8GYQPPSpUt10003VWq+8mjM271A0L1z586VGnQ3TOvMI0eOdAPrd999t/tFwAsvvODWMDc1uE0jELVr19YjjzziBpL3djWcmyVcbpScTOYLit9//z2kW7TI+6Ew+a/MeJMyaPLkybrkkkvc8nC7dldMvidTI/w1XWBranfWZRoTDBZ3G+Q1wmnHuV2kBjl9WrT0T9/XbWy0NLWki/KCsIH19594uiYWqRVdWuYlwDSdMjGQRsdr5DNqYL3c4rcP5quA18zLErusXsOky4rkeA93qC53GzYNpg2Kug2mhvsb5oWLM10p0spEFp7b3nSBdD/mHIRuk+mKBum9vPDBLxB+kMJrvB8/Si2nB8Z711zouTxRD7f8wY436W6667XAvkdMdeIwNbxsDW8TACpSK80EcQJBhkLpOsl5HrbzNWZpOvcfrVkmbUIwD637uXxIft5OurzdtMJ5bjKNmRXWloux3AoRntPZdGEpYmLwcs16taHNNqa1UkitVd1ra+VFPIZy8wbfpWBtarfBvRLWtg/5jN9tKK7kNQCLm3e5//i7jTIGAvbpail/ah7TGGRoA4Ch+eO9RvoKrylzrfnyQLsN5vlqSsY8HmZeXxqAItv9ZXC+ovtkritfI6cXeI0DFm73Qdd6DfbZ+UtzHmLOG77N9nj57zF/g7CBzruPotyvEXgpKYLn5fuj/DWei5HW3nf9e8fF3b5Y6+94jdqaHOV2nki56SPz2lDw5wGXP5e2+VokJE/43VreKj3kPjPd08va+2pmm5cjoc+M8P03zzX/OTLXR+FFFyJT/jQ44den++IksAynK3KdxLwW/MfZPvcivQiLKsZz0waiC+/Lb80vQVC0/Y99XEsr9rEJv7dDn/uRTAlub/j9Gv47EX6/u9dRsJHS0GdYUe62mfYkAtN/2zckx3taO9+xs9d76L7FeOYV4T2LgtOb68w9HbGPUSmeBzEVucfCjq37zApr5+BC/5cQlf0bba7TEaHnx3SF/z3he6bEajPAL8pzJuqzEAAq2MKFP7l/582drXXrsnTWwHN0+h/OUmbmWs2ZPdMdt3CBN008RIrtlFdZUi/HO0tDZTHx032tpnvAgb2aKL1NbTvkkyC9PmyeVi7e4uZ2r1U3WV9/tEIfv/Srappa7/l2OiutdW11dpZV0UxFXxPrNjHc9evX29KyS3Au2nJftS+++KLq16/vblRV8PPP3n/FHXTQnvuvHvMS4uOPP9b777+vDRs2uGX16tVTnz593Dd6lRF0N4Hra665xn0j2LJlS7cx3I0bN7p5+Q3z6USjRo3UunVrrV692nlYr9Po0aPVtm1bd3y8rN9U9IVM/bo1lJJcuvc+Jnf+1KlTddRRR+nggw+2pUG7cvO1ZVvpG+XAvsHUmH+tZUW+OKjC5o5Wr1dbxXiRMVuvHvqiWkZpMPbnlwbq7XahQdLimUCUlxoiPv8ANcGZN9S2FEHi6i/exxD7grLdr/Gzp9cPIIj7EQD2XvfdM1SLf12kXr2P0J8vvlzNmjV3y9euXaM3XntJs2dNV5cuB+vu+4a55eVh6ro3bljTG4gDE5syqYZNZdlevXrZ0thMhoRffvlFL7/8spsFIR7mr/Aiu11bl6tOcqFArXXT3mVplHW+4qxatUpXXHFFzOP85ZdfuucjXDyPs2Fqsr9wx6wi6aEDIWl/Gm7TLqQZ9JclJSXomkd6Rg7gx9l7773nxrkNE1MdOHCg219WcQm8IzpzeJcvX+7mfzfB78oUCLyHM4F3s12RLh5TO9/U2o+n7K27lBtWEz0pMUEN68e3YdmNm3eqDO22Yl9gAs+mMdgogeW9XrkC7ybgPU1HlqqGpcPUXn9CuiFmzcTS2AcD73E/htj7lfF+jZs9vX4AQdyPALC32rVrl+65a4guvXyQDjrI9xWdz/x5c/TWG69o2COPuw2ulkeNlETVq1PDDpWfyVRhsmYsXly6ZHUmlfQ//vGPcu9PQLwD7xdeeGFhxdvSMpVzA43NxotpyPXGG2/UkiVLbEnJdOzYUU888UTcjnPAd5+u1IQ3fnP7wwPuxQ2fesn+6nN6/F4ExJKZmanrr7/ebbT4qaeeKlUbBJEQeEeFM2+0Nm3JsUNBqTWSVLd2ih0qn63bc5Wzq2T53c1ty0W/l3MD7Y/bAcPkn99Hg+5GOWu8Vw37YOAdAAAAwD7DROdMG6bFxStycnLcyp2JibEDxibwaroaNcoXNDeVJk3lyXgzNdjNvpSESUtz4IEH2qH4WJrlBd7bp8Un8G7SXo8YMaIwaFxS5jzeddddOvroo21J/JhtMcfZvKwpCXOtmOPsr20eT9Mnr9bEN3/TrpywPDJR1KydpNMu66BD+zWzJdUPgXdUii3bcrUrQsOntWsmq5bTlceOnbu13elKxVz1FfMcAQAAAAAAqPbiWWESMDZl5eiD537R7z9vtiWR7XdQA50zuLPqNYrf1xZ7AoF3VApzlZla7yZXUzjz2VLdOjVKHQc3SzI53aM11lqcAuf/Eoi+AwAAAACAPagqxicSE7wUwRVU+Rn7uPWrd+j3BZu1zOnMXxPka9elgfZzOvO3actadsrqjcA7Ks3uvAJtjpByxjAP9Dq1U9wgfEmYhlS3bc9VfjkuX/Pj4baSzI8IAAAAAADYEwqkhETnTxWLzjWsl+o2agmg7Ai8o1Lt3JXnBsyjSU5OVIrtEhMT3M4wNeVNt3t3vnY5nfkbN2YVzrILEsz7ZXM78MMCAAAAAAAqgle/3UTaE0qS1H0PMBUja9aIb+OawL6IwDsqXXHBdwAAAAAAAFQ+k9Pd5HYHUH4E3rFH5O7O15atu6rii10AAAAAAIB9iknHW69ODTcDAYD4IPCOPcZcedt25CpnV54tAQAAAAAAQGUyNdzr1EqhIVUgzgi8Y4/LyytwA/CmFjwAAAAAAAAqnqndbvK5J9n29QDEF4F3VBnmStyVm+d2eaaxU9OgKlcnAAAAAABAuZjYumnM1QTZa6QkuR013IGKReAdAAAAAAAAAIA4osUEAAAAAAAAAADiiMA7AAAAAAAAAABxROAdAAAAAAAAAIA4IvAOAAAAAAAAAEAcEXgHAAAAAAAAACCOEpZlLCuw/QAAAAAAAAAAoJwS6hw2hMA7AAAAAAAAAAARrJp8j+0rOVLNAAAAAAAAAAAQRwTeAQAAAAAAAACIIwLvAAAAAAAAAADEEYF3AAAAAAAAAADiiMA7AAAAAAAAAABxROAdAAAAAAAAAIA4IvAOAAAAAAAAAEAZffTRR7YviMA7AAAAAAAAAABlEAi6hwffCbwDAAAAAAAAAFBK4cF2/3BCncOGFNj+fVdCgvJat9fujl2U16yVlJLqleflKmnVcqVO/dQbBgAAAAAAAADsU1ZNvsf2BUVKLxNw5plnEnhXcrJ2Hv8H5bdoYwtCJf/6k2p8N8UOAQAAAAAAAAD2JZEC78XZt1PNJCZqx/9dFjXobiRs32b7AAAAAAAAAAAo3j4deM894GAV1Kxlh6z8fCUt/kmpkz5Q6hcfK2X+DDsCAAAAAAAAAIDi7bOB94Iaqco94jg75EnMWqNa77+u1G+nKGn1CiVlLJXydtuxAAAAAAAAAAAUb58NvOc3b237rLw8pX41Xgnbt9oCAAAAAAAAAABKb98NvNdvaPs8KT/PUsI2gu4AAAAAAAAAgPJJqHPYkALbX+0kJCSoW6eWdkjK3Z2nn5essUOxmUZVC+rWs0NSja8nKfm3hXYost0HHqKCVJsTPneXUhbM9voBAAAAAAAAAHulVZPvcf/Onl3yeHC1rvFeIyVJ37x5U2E39omr7JhiJCWFBN0NN597LAkJyu3RR7mHHuF2ee062BEAAAAAAAAAAATtk6lm8hs2sX1WXp4ScnPsQBQJCW6DrAEJ+fm2DwAAAAAAAACAoH0y8J7Xej/b50lau9L2RZfXtLnt8yTPn2H7AAAAAAAAAAAI2usD7yYlTG7XXiFdXvM2dqyVs7PINKYrSK1pJ5B2HX2S7fMkrSk+WA8AAAAAAAAA2Pfs9YH3XYf2UW7Po0K6/GbBBlmNvPadikxjuoScnXaKBBXUq2/7naHt26T8PDsEAAAAAAAAAEDQ3h14N3nZGzSyA6WTsD7T9kkFtes4/5vgDTiSVv5u+wAAAAAAAAAACJVQ57AhBba/2kmtkaz1Xw+3Q9KqzM3q9IeH7JBUkFJDOwb8yQ5ZiUmSG0i3zN5vy/b6fWpOHa/EDV7wPb9JM+084zy330j+ebZqTJ9mhwAAAAAAAIDqo/8xB+qcU7qredN6SkwMVjYtqYKCAm3ZlqOZP6/UuKk/aeFvwQqsZXHn1aeo98FtdOuoD7UkY51b1qFNUz12y1ma/lOGHn7xM7cM2FNWTb7H/Tt79mz3b0nEPfD+nxGX2j5p4jcL9NqHP+iSMw/Xdecfo1bNGig5KVHZzo35v7m/68bh72nTlh3utHVrp+qJ2/9PRx3aXg3q1nLL1m/e5ixjoW7/50favTvfLfMrLvAeiZtGpmsvO+QcgG1bVeu9V+1QZHntOirn2NPskLPeie9HbZC1Sc8uanH8YUpt2lBJNVLcB1Hezl3avipTy97/XDvWrLdThiqoXVe7jjjWDnlSvxwv5Rfdb7M9u9t3cmbKV0J+gZKWL1HSssV2bFBBjRraddRJ5mmoBNNtXK+UeT/asQAAAAAAANjXvPjAeWrfuolapTVU4/p1VLtmDbd8+85d2pC9TSuzNqmJU35A22ZueSQm3hWYftHytfp6xlI99soXdmzpjX3yKp105IFu/8V3vOn+fXP4xe7fyd//ooE3vuT2A3tKlQi8b/3hMdsnPf/fb9SiaX2deXxXJSQUfXu2Oitbp/zlWaWmJOujp69Wy7QGdkyon39bo/6DntXGbC9IH1CWwHvOSWcpr2VbOyTV+HKCkpf9aoci2/HHi1VQr6Edkmq/9UyRgHhqkwba/8LT1aBTO1tSVP7uPM0f9Ya2r1hrS4Lc2vl/+osd8tR6+0VfnnlPQa3a2nnWRSqokWpLpORff1KN76bYoaDdHbqENApbY9pEJS9dZIcAAAAAAACwL3nnn5eqQ+umOqBNs4ixOsME1X/NWKucXbt1SMfWtjQ6M/2cRRmauWCFbnz4A1tacvXr1NSM/96qFmnB9hX9TPyw13mPKXtbaIwMqExlCbxXaI73c045VGedcEjUG9ncUJ8+e40mjr42atDdOGj/5nr3H1ealO3l5g9YG0mrltm+6PxB94RtW4oG3RvVV+frLwgJupuHTu7W7XZIbk33nx5/0wu6m3Q3CaGHPiF3l9uFSE6xPUG7uxxaZB/y69SzfT7OOnK79bYD3nYnZ/xmh1A19NWbY4dr8atn22HscUP+psWT/6bg67xinH2VZk6+T29yCgEAAAAAVZyp6W6C7p3aNo8aqzPMODONqfD66/KilUfDmekPPbCtenZprVuvON6WlozJgNG9c6uoQXfDjDPTmGmrquGvDtfisVfpSjtcOby40syRfe0wqpoKDbw3bVhHu/Py3ZQzV983RlffP0ZT/rfILQto07yhmjTwppvgTHfVff/RNQ+8rWkzlijPN525eWvWKBqILp0E5TdsYvsdeXluCpZY8hs1tX2e5EXzbV9Qh0sHqFaa14hrQX6+1s34SbP//oLmDn/FHd4491fNfeQVbctY49ZYzzn2VO06rOhNkbAzGKg3TC14v4JadZTbuZsdCorUgOzu/TuFvDCo8b8vncLddmjfcuXI+7R4svMADOkIllZ1gfMW+wfkbE0057PSf9wAAAAAAKg+TE53k17G1HQvKTPt+uxtyt4WmoEimu6d2uiYXu3Vef90WxKdyen+9sjLNP3tIRr/3DW21Eszs/+pD7hdIOWMYaYx05p5zLyVzQ2sh8SVyhKL8GIYE4fYwRBeED3yuCrOrZQY4fiUpmLjXqpCA+/G7f/4SGf/7RX9Z/wM/efTGTpz8Ivu33A3Pfq+znGmGzN+pt76eLpOu/Z5jf96gR0rpSQn6dz+PexQ2Zic50pOtkMm0O08OPJiB6Pz05rbPk/C9q22z1PvgLaq36GN22+C7L+88K4WvzZOOes3KTElWUv+PV6/vPieCvLyVJCcoh1n/ll5bfbX7gMOkpKC22IkbA1t5LWgdm3b59nV+5hgLXjfC4MCU+Pdt1/G7gO72z6Hs+6kNRl2YB+1dYmGn3SHOhZ2f9fF79lxe8w0XTzQ2ZbL9/iGuNxAd1ULYG/dKXU8MPo2DWmrDrYXAAAAAABEZhpSNTndTe30kjLTmnnWrg+NV0Vjpu/UtpkGHHewLYmub6/9dUa/g9W6WbDSaN3Db9XCpWs1+v7z3c70m7IAM62Zx8xbaWxQ+VxN98WUTPepvlM9dbST3XG5UzbwJb1sh0v9RX21t1PfPec/Pndo+Oz6Otc5dvtyjfwKDbybBlFf//AHOxQ0/KVJts+zKzcvYjDeBO39Tu7jNbJQVnlt2ts+T8KunJAAdiQmWO6XuDG0cdT9z+9v+6SN837Vpp+D6VxM8H3d/+bZIWd9u3OVvGKpN5CUXKT2euKa0AZbC2oHU8gUpNZUXttgiDH1q/G2z5NfL5iqZ7czXX6TNDvkTPvFx/tsbXfsBep20HnR3gYfk64lGeVrOR0AAAAAgL1d86b13IZUS8vMs3FLaIaGWMz0PQ9qZYeiu/OfH9s+z/lDXlPvg9vqxzFD3EZWTWf6TZkZ5xc+b8U5WxOv7aCsCXdEqDRpKlP+Q3fYIRT18pC/q+OETNU/9IR9NutEhQbe5yxaqR05uXYoKGPNJtvnmbtoldtgQ7hVWaFv1GrXLF+qmd2HHGb7PIkrf7d90e0OD45vCgbeTY32Gg3q2iFp6ZjPbF90Sb/+bPuk3EOPNK8D7ZCzvMzVts9TUNs+EJ1pck4c4Myc5A4mZq5S4tpVIbnm8xs0tn3ONncL7qepoZ+0eh+v7R6Dl84kNO2MV2bfSha+obQpTWwX6W1d6GdHoct0x716duE03vxhubgC+cKH+D/R8W9HWJlf+Gc9IXnjg+sJ2cbC2u3e+DsOrekGue+IMK5wnkpP0bNSE2fvVIeDI6z07AN1cN1MzfzJDocIPV/Rtjv0nEV+Ex2eqij2Z197+ngBAAAAAFBUYmKCatcMTWlcEmaenbuKxvaiMdPXq1N8LvZZC1foxuHBYPaMnzM0cshZdijIlJlxAWYeM29luHJkV3XYukT/HWkLYgjEfQr7TzXpdtLdGt/R4g2xmbhG0ZiCfz1+obGLsqyvgoycru+21tTBffxxtPDYSeRYS3g8Jrjf1Sf2UqGB9505kWtZm4ZH/SIF3Y3w6colIcFLNeOTMr9oLftwBXWDjTuEN6yakJSoRLvM/Nzdyt26ze2PJSnTFzA3gfTE4CkIb1y1ILWW+ze/fkPlN7b5sZxjUuOHr9z0Mcp3Oiu/iZejK79xWkge+5Q5/3PnQWTm7ds7GTXV5w/2Dj37Kl1/qPTdc/63luZB2VYzA5/LPLdEOvT0kOC7efCFfHY0IVt9rg278dv0Vs+fvPE9h0yzheGcbTlGesZdzqfOw8k+pI/ZYlPl2DL/Q9YE3a9tpZ8KP+lxpmnUu8iDuL6zzYH1dzxpupbU7aDr3X3wUt4Mn71ThSl57OdRw189XX02Bvdr+OySfV4WT4uHzNeSNl2L/tj8oYM0e3rRt8vuS4jeSpv9aeF2e+cj9EHunrNGvhREz21Rf/eHMcg85O/ouNI3zRKlnRo9+F4VjhcAAAAAACivvjquY01lL/4lmD6mhNy0MxPM1/mZeseND1RszXgT77leUwpjEe9kmFhSVQm+T9OKjc42NgnEW8wLhdDYSSDWEh5nu+PQbHv8TDddSwrHVZ/YS4UG3qsSkzImJG2MaVjVpJqJITy/e8qs72xfeUUJhJtgup/Z3qQk5Zx4ZmGAPun3X5W4IUsJZvt90xc0aCglJGrXMacUTpuweaOSfTXsowt9U+S/0IsI1MoOC4Ia0d66uYqrsV3RAjW5A50vl/kdHy9RthvYdY7DxSaYOyUs/7vJU+V7SL73kp6ZvVP1A7nHnWPSv43zMPV/dhTpjV6J3pI663ozkBNsmi7+2jyoI5S1aVt4DL0AtH+bi07jypiu/oXrf0//9e9DRH3VupGUvT6YyuXlIf/YA7nx39PMjPC3o2erp3PMJ0Z4gWGOR31nX0Neboz8h/PDo2DNefec+Y+rwzmvPd0fxoCzdZ55CRM2zUT/ckJUleMFAAAAAECo/PwCbd8ZWuGzJMw8NWuUPAOFmX7LttjxNqNH59Z68o7gv617HdRGQ0Z+aIeCTJkZF2DmMfNWlqw1oXEHN/ZVGF8qW03rDqf6lxHoTlefYFKN0gmLgdxxuQlSpztltmAPW7x+p+0LfkUw3B9DixhnC4vF6T31d+epXrGXfSbwrhqpwYZJHYnZoeluItm9f2fb5wnP716Ql6/8Xd5Dy6SdSakb2hhqJPnpLZ2JvZQxyss1Tz6v35GwO6zGe3KS8pq1Cta6LyhQyrzpXn9+nhJ2BHNsFdSoqfx69ZXfwLn6rORFwfzyMZ19oPR14A3Sp/qp4+kRavTa4PzF9ZQV2r5sYVC9p/xBy1BXanlhrWG3cYVoAfqKEt64qr/BC/cGl/pc6zzknEfTM0WCudlaEXYDv7wmW6prG9FoX0/1Cz8fivHA3LgxuM5SKbr+IO+BY95uBtftdGE1tw3/Q6lkvAC+t+w9+6bUvBzRob0Lt8F9UGcsj/DG2DseS34qesDu+MnZ/0aNvIe4OWdbV2pqrAfz2Y2UZr5AuNZ3XJ3u3ODvfZiqc7wAAAAAAPBbs26LNmQXn6khnJmnUb3i410BZvqZP4e2YRjJwzf9wfZ53h55mab/tFyHXTBSk7//xe1Mvykz4/zC561Iac39lQBtbXYTV3puicpaz3qJyRnvj1G5nclwYCcopaLxnkxlOssK3/Y9pWOTmrbP64/0FcHL361Utj/OFjVmU71iL/tOjfc6oVHQhM0bbF8MNqe6q6BACTk77IDHTS+zOfjQ2v/Pp9u+6HZ37GL75KWM8aeBCa+Bn1JDu44+2Q5IyQtmh+aY991YBTVrKbfPic6OeTnjE7ZtVcqCOW5/sd57SRcX1oT2PgEpyrmwBzoPgoHTi4bXR/7DfUj0j5hr2/PyyPcKbyr3ZgoEQKsIN5BeHuGBfdtFTykTX5Ef2nH4lMme20BL1HvsoebWNA+8rTWfe0nffRwrah4vgc/CwroijapYVeV4AQAAAADg8+5nc7Qya5NKk9bZTGvmadYkmIY5FjP9ouVrNW5qjACRNW3Gb/rkq5+0Ym2wYuzWHx5T5/bNNOj+t93O9JuyADOtmcfMW/HCU6SgbKJXkCyzahR72WcC77u6H277PAm7gp85RJPXoq3tc5jAu6+GecDi/3xq+6ScjaHB29wuh4bUss89uKd2d7CB99xcJf/2i9dvJThlygvmu89rtZ8KagXfKqYsnGv7PImrlts+Z/PqNVBes5Z2yJl23o+2r7TMDbFTmUvtYAW4sk8r58CVPkdWxTlbE0+tr++e+1TfKZD3PLbhBzsP3kCN66VblF23lY6r5Er8Hu+HIHLqk/hxW6J282ntuU+VTK33tGOu0pVDeqvPxvlRPiOKfjzcc+b/6iDCObuyue8/Jt7bqKwy7m9VOF4AAAAAAARM/PoXLV2xXr9mrLUlxTPTNqlfR/XreG0QFmfOogx9PWOpFv5W/Bf3D7/4mc4f8pp6nz9Sp137vC2V3hx+sX6bcK/bmf6A06553p3WzGPmrQzB1MS2oNLVVHp72+vygtjFOvtAHVx3p376rnIqg8Zy5cgT3OwSgdTLJu1MpLTHJlZYf+sWLTYDJYyzVYfYy74ReE9IVL4/iO5IXlTc27eEkFryCTt3uMH3cFuXrNCmBb9pwdNj9Pt/7Y3vrC/n+DOUe1hfFZhGXWvXVc5xpyu3Rx9nnFcjPeWnGUVzujsSt/m+K7HTGsnzflTC1tDAftIKX3TcN61ydiopLKhfUu4NETWoWR7BPPKmwYfKqglePLNdvdUhw+xz4HOVE8Iequk615cT3qTWMelGCt/WvfeLftpaU30u9k3jGP5q5bxxc1OotOkdmh7o7Ks0sQQvEPxC0ue4nGPzaug+7VHmOKuVrj+mfsza7t4PY+/Qtgrcc7YzOJ/NwR9yzpxjdv2hwc+fnBVqpsnnfmroebxy5N+i/OhWseMFAAAAAIDP1ff+V0tWrNOi5Wti1nz3aq6vUc6u3TqgbTNbGp2ZfvYvyzVzwQo99soXtrRktm7P0ZyFK7U6K3omAjNuzi8r3WkrVWFq4uERUjIXwwSPVV+tyxy0tzEJUwHRlrgxuwh54E3aleD29XXbLyw2vW6F8+KAbgOpvnTPLw+ZryWmHUZ/Cmobj1nytZ3OzXpgUv/64zFna6I7T/WKvewTgfeCGjVsn5Wf7zZQGkteegvb56nxdfS3aQuf/a82//K725+f1kw7zr1CeW32d4d3nHeldpxzufLadnCOtne4k5YvUcrcyDXSw4Prrrw8pfzk3OlhEnJ3uV24Gj9OU8LuXDtUUt4N4baCHC2NRrnYVDUn3aFndEJI46aVIrxxVaczgVm3JeS6voZR3UY4w29uZ/zX9YLzn5rupnYJNlRq9s2rLe9fR//108uf6qUkzCc2EzJDG+e4tp5mlvblhhuMtrnqA+enkX+feksh+13ZzIsR87NVzI+H84Du+ZzJCe/Le3+q9M5Jf/e9UIpwzi6WnglpXNXL3ea1Bm6ncbo7miyP/mKqSh0vAAAAAABCnXvT65rxc4b+99NSZazdoG07ctzAuelMvykz4xKc/zukY/RGTP3TT5m+UB9+MV83PvyBHVs62dt26qclq+2QdPEdb7pdgBlnptkTArWqFd4g6rUdpNlToscHCoPHZvqyVcx0G0n1xbNMzO6dDDvSJ3v2dGUeE9g2r/3C4f62DStFYF+D23Hw4k+dYxeeBvk99Te11Nv0Dk57bSv99Fxo/KRoPKa3cyHYg12NYi8JdQ4bUvLkTiXgz730zayl6v+XZ+1QqJJMl5KcpI3fPmKHpInfLNDZf3vFDkmpNZK1/uvgpbsqc7M6/eEhOxSUl95SOacG36QkbNuiWu+9Zociyznlj8prHnzA1H7z6Yg13v3y05pr52nn2qEICvKV/NMs1Zj5rS0oKvegHsrtfYwd8iTPm64as76zQ6F2/N+lwcZXjbzdqvXOK0oIzxcfkwm6nyC96Q9MRhNjWtPI6sHLSxC4L8369jCzT27QNg750gEAAAAAAKqA/sccqHNO6a7mTespMdGXRaGETOB9y7YctyFVk9O9JOllYrnz6lPU++A2unXUh1qSsc4t69CmqR675SxN/ymj0tLLANGsmnyP+3f27KKVo6OJe+B98/eP2j7p29lL3RxMkZRkOhN4X/f1w3ZI+uybhTr3llftkJSakqzMacPskAm8Z6vLmcHhgLz9DlBOv1PtkNdIqakVHsvOU/6ofNuAggliFxeoDzC51nOOPU0FqTWdHajhBeud+U1N9tQvxxcbEM+v31A7z7rIDjnr3rFNtd4N7nO4naeerfy0YO38Gl9PUvLSUqaZGfI3zWw+PUL6l0gB8lIE3guHMzV8iHTHSLt8U37Mlj3w9q0MCLwDAAAAAAAA+7QqEXhPSUmyfaaCd4F25+XboVDxms4/Xs6e5O4umjd9V+++2n3QoXZIqjH9ayX/PMsOReHPmW4UU9s9osAySjuvTUlTKD/ysXGVZtoorhx5n+4IyW3tyJjuBszjE3h/T8NfHe7mRfdkVp9ANoF3AAAAAAAAYJ9WJQLvVU+Ctv/pLyZCb4el1M/HKWmll5MdiInAOwAAAAAAALBPK0vgfa9vXDW/QcOQoLupfZ60ZoUdAIphGi4l6A4AAAAAAACgFPb6wPvurr1tn8c0rGoaIAUAAAAAAAAAoCLsvYH3hATlHtRDuzt0tgWeGjO/tX0AAAAAAAAAAMTfXhV4z2vTQXmt2yv3kN7acc4Vyu19jB1j5eUpcdUyOwAAAAAAAAAAQPztPYH3pCTlHHuqck74g3J79FFBrdp2hFVQoJof/0cJu3bZAgAAAAAAAAAA4m+vCbznNWvp7E2U3dmVo9TPPlDi5o22AAAAAAAAAACAirHXBN7zG6crYecOp6fAK8jbrcQN65Qy6zvV+ujfSlq70isHAAAAAAAAAKACJdQ5bIiNVAMAAAAAAAAAAL9Vk+9x/86ePdv9WxJ7VeOqAAAAAAAAAADsaQTeAQAAAAAAAACIIwLvAAAAAAAAAADEEYF3AAAAAAAAAADiiMA7AAAAAAAAAABxlFDnsCEFth/Y6xz59B22D/H0/Q3DbR8AAAAAAACwd1s1+R737+zZs92/JUGNdwAAAAAAAAAA4ojAOwAAAAAAAAAAcUTgHQAAAAAAAACAOEoocNh+AAAAAAAAAADgk52d7f4lxzsAAAAAAAAAAHsIgXcAAAAAAAAAAOKIwDsAAAAAAAAAAHFE4B0AAAAAAAAAgDgi8A4AAAAAAAAAQBwReAcAAAAAAAAAII4IvAMAAAAAAAAAEEcE3gEAAAAAAAAAiCMC7wAAAAAAAAAAxBGBdwAAAAAAAAAA4ojAOwAAAAAAAAAAcUTgHQAAAAAAAACAOCLwDgAAAAAAAABAHBF4BwAAAAAAAAAgjgi8AwAAAAAAAAAQRwTeAQAAAAAAAACIIwLvAAAAAAAAAADEEYF3AAAAAAAAAADiiMA7AAAAAAAAAABxROAdAAAAAAAAAIA4imPgfbGG3zJZ/820g6U0641P1OGNxXZIypo0WR1uccoenaWFpt/5m2XHxUv4Oiua2acrJ623QwAAAAAAAACAvVGVqfHe45IztOSSjnZosV6aIA2/zSm7rYc6n3yS+zfNjo2X0HWiZNbrv49+ouHz7CAAAAAAAAAAIEQVTjVTWwek214AAAAAAAAAAKqJhAKH7S8FU+v5e91h08ocd+qRevnkjRp+y+/qcNtJOs8EzDNn6cpHV2mqN4muuuwM3XGI129SvJwzx+v35m3ilj3dwunvvjxkPjP+Ec3Skav3C6kRP/yWX/SSHQos279cpbfU975a8ibNy5ETcrwBO25FYJ3O+o2QaZSq4YF9cdfn7NtlTTTxNbtt3Q8svra8/xg463y353o9rR4lWJ8R7Rhn6tRRRzlL8Zh9ntDD2393eaubaPjqVd587n621ReB5cQ6Jr798Zazn97VL/Z4BrYt9Lj7lxdy7NVI74ZtY/j5jsVckR9/Pk39juihBvXq2lIAAAAAAAAAqHzZ2dnu39mzZ7t/S6IMNd69gPDEnkdqyagznO5A9bdj/LLm7FB/kyrGTHNZI7302reaZconTdY5OtDOe0bRIGx6D73sLPMqN3gbYbwNuusyu+zbWqqDLZ9QuNwjNVyrdLvNp+4Gkmc20fd2ne/2dItDzftWR06o7a7TW24TTXzU22ZPju74VHrEHe9s35xfikm34mzno+uDx+By6enCILsj5vpKdowjmuPs8+VmHu8YHHmLs0TfcOCYuOv3HxP9Epp/3tk/E9A3474/VbrjVZNjv6PuMMtJ9152BNL/uOd0dcvCZS25TDrH5uQv9nxHVKAVqzP18NOvafOWrbYMAAAAAAAAAKqH0gfeM5drolrqkcIAakedFyGYmnbyUcHa24ek6yrbm9a8trR6S9kbSp2XqZe6H1hYe94E6s9z+zvqjsIa6E10fM9U279eX8yUhl8erOnd4+Rgv2e9/vvpRl11WbCWtlnuDd03akJhcD3Vt4yOOrW7tHhN9IZSsyb97mznfsFj4CzvkVOD2xRzfSU8xhEVrtMeg7Dhqas3Ov12/af7jkmPRnac5TvGad2b6LjMHVrhDYax+fh9x1eHHKjh5rhnlu18JyQk6C9//j81S2tC8B0AAAAAAABAtVP6wPvaHZraol5Y4DoSUzP9E3VwO196kkOO0vc91+tIU25rRZdG1prtOq5FIzsUytSu9tb3iS+Fy0YtySxJvvhUdWhme63WLVKjBtfNuOJE205PjPWV+BiXz0uvBc6P0722MXqAPL2eYifVCT++TXRAixwtWev0lvF8JyYm6LqLz9am7C16/d1PbCkAAAAAAAAAVH1la1y12BrMJuhu8r3b1CNu6pigtJNPcsvdgOwbi21pyYXUzLbcdDImD7xNafJ9Ye1yY7t+tbnSo7OBYp8Vq3PUsXkJa5pHEL6dZnlBxayvPF8FlIjJ2x44P7bz5X8vnfDju16/rg6+WCjL+c7PL9Czb76nhvXr6dJzzrClAAAAAAAAAFD1lT7wbtLGZPpyhWux/uvPDW5kbnFKfbWgTXoY2+tXljQkbtoTf371zFn6r9NvgtbBGuYmvUwgyG3SwuTYHOWeWZPCa157aVgCeehdznKfntNIpwZS2pSSt52/67+BgLS7PNtf3PqiHuNG6pDuS38z71tfg6alYdYfyNteXkWPr+b9ojvMOsK+Mijp+Tbt/b7wr/e1Nmu97rzhMhpYBQAAAAAAAFCtlKHGu2lg80B1nPC9TVPyi5aE1wp385lv1zmBNCazVFjj3Z8OpsNr0rulrWXtLPvl21pqcSBNyqPrpWZSj0v82zRLS3ypYHpccobebWEaGvXmOWd10TQuplb29/5tfnSHbhjly8FeWmY7L6utOx61y3tVusFXCz/2+qId4yY673TTUK2dZ1a63u3uzlBqZv3+Y2K62I3FBvi2waaOCT++HT6tpe99Da8Gll/y852gVs3TdMf1BN0BAAAAAAAAVD8JBaZ6MQAAAAAAAAAAKCI7O9v9O3v2bPdvSRB4Lyc3t3xhQ65WesvCGt8AAAAAAAAAgOqLwDsAAAAAAAAAAHFUlsB7GXK8AwAAAAAAAACAaAi8AwAAAAAAAAAQR6SaAQAAAAAAAIBizF+xWU999qu+XrROO3PzbCmqopopSTqmU1MNPuUAdW3dwJaWHTneAQAAAAAAACDOTND9/Ke/I+BezZgA/Ns39Cl38J0c7wAAAAAAAAAQZ6amO0H36secM3Pu9gQC7wAAAAAAAAAQg0kvg+ppT507Au8AAAAAAAAAEAO13auvPXXuCLwDAAAAAAAAABBHBN4BAAAAAAAAAIgjAu8AAAAAAAAAAMRRJQTes/Tu1W3UuLnTPT7DllUTM57ytrv5IL272pYBAAAAAAAAABADNd6xx2R+MMi+2Cimu3qsMu08kWz+9NbCaUdFfLeTrWVTRuvGs09QZ3e6o9T/pqc0bmG2HQ8AAAAAAAAA8UPgHVVeenp9pdr+InJm6KXHx9iBSDI07qZT1ePCB/XWN7/aAH6GfhwzQpced4mGTslySwAAAAAAAFD9LFm+UveMesHtTD9QVRB4r6I2zx+rlx64VQOHjI9Z27s6Sz99pJb+8lPk7u3B6uROdYLuvuoENXD7i1r2zpMaNt8ORLDsrbt16ZgMp6+XrnpuvJauyNCGJd/q7Rt7OWUz9NJNT2jSBndSAAAAAAAAVDOff/2DMlatdbvPv/7Rlu7l+h2pWaNO0Vv97HC1tr/eeqgE++Lu87EabgerAwLvVdSizwZr6LNj9NXmHFuyF0qtrwYNInXSVx88pUXOJOnXDdK57b3Ji8gYq3uHTJG6dlU3WxRqht4d4Yx3dLv3IY34Y1c1SHYG6rTRyXc+pSdPcPozX9dLn5nAPAAAAAAAAKqb9KaNbZ/UPK2J7asqumniqDO0xN/dFjmKVSpffa8et3ymi76yw5Gcf6yWPHSkrrKDqHwE3lH1zB+jp93sMb00+P+OjpJmJkPvPjBY43SCnrznL2pnS0OsztBc+7nAgCO6ej2F2qjv6Ue7fZO+mb/XflUAAAAAAACwNxtwUl/dcOm5uumKC/SHE4+xpVXJVv33lk/Uwe0W6Lt6bTTxfDsKe7UyB943L52it0wqlON62oYte+rIs2/VM98UkzN7d5a+evZW9e/jNYbZ44xbNerTxQqv1/3j4974SA1rBhvlHKR3V9tCZendq+08j8+Qti3WuMcD63G27ZK79dacKI1pbl6sdx8YFLJNz/wvdsObmTPG6pnbg/O4DXZe/aDeLdJg5wyNcse30aUfOMdmwwy9dPulOrKbneempzTJV+E6sG/9R9iCcYNtg6B2/hIq+fY5nP0f9+zduvSMo+y03rm8x1cTPHjMn5L5aCfzm9G6MTB9n4G68fHxWrTZm7Z8cvTV+8+769AFf9FF4fFyy6SQGTROOuzvt+oiLydNqdWqU9/reWexlnl9AAAAAAAAqEaSEhPVu1sXHXpwJyUmJtjSquo3TV2Zq/TG+9thafhtwdrws64NlofWlj9Ww00N9kBt+bC0K+HLuOraU7Tk8LpSrSa6wykrDPS78/mWaYvd6W87Um89FFoeEDre6dya9CZFjH/YJ2Q94ftll1c4ztnOEP79rt7pdMoWeF89Vjf2uVQ3mlQoOW3V79heaqcsLfpmjO45u78GfRAldcfuDL37t/4a+MAY/bjUK1o2Y4yGXXG8znx8RpHge5ntnqGXLjlPl44IrMfZts9e1439L9Ez4fnAM8ZqUN/jNejZ8SHbdM9Zx2noO8u9gnAznlLnMwbrntfGa1nq0ep39AFKNw12jhutQcddolEzouzJ6k819IyBGvraFC1y3yZ4jXyef8bd8c0zXprtyxivG089Xpc+8LrGzdipTkc70/eq6Z7LZ+ZHqge+Q8s+GKx+Zz+ot2bY87x0ht4aMUhHXviUftzmFZXZ0g/0zLPmBUOabjk3cm73HGf/BpkUM72G6rHLokTmjdr11cz2Tpu32PYF5GjhvOm2HwAAAAAAANXRpuwt+vfYiW5n+qu2bjq3o/TTT7+5QyYAfZ4yCmvD/9Sqiw2Sm6B2G+mHQE35jeppAukRhC7jE/V47je99Nxn6vDDVmnHeg13yvq/babspoln1ddPH9pl/iCd5w+Yp9eXPjPjvtQdtihE4fgF+k4moO/siG/4+sLgullPE2UWbrt/vxznH6s7WmW722XGP6Pm6lPLjgvf7w+zdfBZ1Suvu1+Za7w3u/IxTZy1WBu+G6uxb4/VrBXfavS5ac6YLL1731ivxnK4xwdrWNJQTf05QxvWON3P4/WkO4/044gn9Y4NfJfb4w/qnV4jtdA0pOmsZ+l7Q3WYO2KGnvpshtvncbb1gcF618SX0wfqyck/edu1ZrEW/vsCzXnNzXcS0cl3vq7vnf1YOHWMxr43RQt/Gau7THudzjqGPR+5QdRxDzyhTdd/oaV2HbOeGqh0MyLzdb31pVebPf2Po91tmDjUHZQGPKWF7vQZev2P3rEqiZJu39wP7tJb5rh3Hayxv8zU9+8503/yrXduOkdK8vKUBr3UQA8FjtWKnzR1pN2PGSN095jwAHfpzB3/uiaZnq7XaMDREdafMVaDLx/hXF8n6MmnB6tb5Dw0ngZH6w/Xecfsq9uHaNini7V5tzOQk625bw3RIDfADwAAAAAAgOrq48+/1mfT/ud2pr/qqavzCmtwN9LMwtzsXhD+u+/mulOF1IY/v436aL3ecQPmxlz1N4H0CF7akCPVq11sLverrm2ujplrgnnh396oxbVS1cEOyj8uksLx3naGD9ev770Y8NaTYYP9xm+6aN5WddzP1NbfX28dUleL532vl7yReum5xfpuhx0I3++vMvXTjlS1qaa13ssWeG8xUCOGXaDDWviinsltdM5FF3j9mfO0rDAFjE/XoRr96AXqFmjzoHFXXfTISHthTNG738SpkctjH9JTd56gdNOQpqPB0YN013Vef+b8jGBakfkf6OlxpidN1z81Uhd1talHlKr0E4bqqUe8HOBF9Bqst288QZ2CbTc4K+mlcy47zesf51uH35Uj9dRFHW0t7lS1O3eo7j7WHdC4X6PUri+LUmxfzm4bfG7STM391cvNuTk9Um3yrrrrgXt0TuBYJddXt4uc/brSG/zxs+llT9uS843GPe99knDyVac5j58w22Zo1DXmRUmaznnuIV0UrdHVQqnqd/UwO50z7xXHq33rNmrc7mAdN+QbtesVo7Y8AAAAAAAAUG6BHO8L9N2Oujo1JO1KivqcFQjKn6E7OqYUBrC1ZXthcDqmt7/U8JX13ZQyxTammt6mcF1LRrVRR1VMUDs7O+wlweocZRe+HMhVVqS4cYBNj+NtYxf1qZWitBZ2XDVT9sZVd2dr0YzxeuvZ0Rp2+yANPH+gepz1lB0ZxelH6bDwGsp1DtHhA7zerzIj1RMvgyO6KjTtd6ra7W+D6J9mFNb2zlw6T947pT/q5COLVp3udEiUwLuRk6W5U8bqJWf/77npAg08+wT1HzzejoxsQO9DnC3xS1fbg23vr8HtiqUw931YN8pfkd8o4fZ1O2KwV1v9y7t15nGDNeqDb7QoZtqb09WvV/ixSlX33jao/2VW8PgW5oUP7aLlqs+Z/o3edGc+Tece28YtC8rQu7dfrWHOfh429EU99cfw8VG0OE1PTvhCrw+9QIe5Afg0dTrlUo34cKpGX2WX0TU17LwAAAAAAACgOjANqp50zOE69dgjnf6+trQq+k0XfbZe6tjGlzrF3/Cq7R61NeDDarFf1Th69MpNLePM6wbgA3ngI8hevCB0XYW17+Or8OVBQItU1S98kRAeSK+rtMJUM47MYNqcQBesPV+9lCnwnrN4jG7se7COPGOQbnzgQY360kRL03XyBSd4E1RBhQ1p+u0O5DpvqFqliLxu/nKEBh7WU8ddOFhDnf1/Z7ZTmNxLp5xb2hrUqaoVOT1TVKkNjla/Y4t2DWztfqM025d69FD978N7NKC9c10vHKth116gIw/qqYH3jdWi8uZrr9Mm4ra2rWPHh8jR/z5/ygvaDzhd/cLfZK2eoXHveAH7H0cMVAt/ML/HYLkfLjiGnWHLTAO7AQ06asDNj2nidyZlz0x9/8ZDuuqI+tqcYXO89+6odl4fAAAAAAAAqpGG9evpoj+eqgvOPMXpL2WgrbJ99b2eWZyq89zg+FzNzKxr+8O4aWCa6Nzz7bCblibF9kcXK+3MSz9lSx07VnhjpWY92eltgjndA+llfjcvFLy0NB0PCdbMd1PT2H53v0Pmrd7KEHhfrDf/equbF7zbda9r4bIMm+d9tEZc3NtOUxo7tdM573tWIJFQqJytm2yfz+YpGjb4KZNiSAMeGa+lK2we9bcf090nlLAWdjl0u9Ksq2h3VXc7QRm2r8ERg/T6d4u1cLJzDi86WunK0lcvDNaZt0fOVR/JDpM7PUz6KfcU2U7TPXhKhFz1OdM16Vmvd8DpZhsq2nxN+8gL5F/Ur3fERlwBAAAAAABQteXl52vm/IVuZ/qrupeeW+MGl2ddu7/ueHSBvqvnT/9yig2Mz1X/D9cr/fBAeSPNjJLj3TSuWjj/4dJ/77b509/OsI2gnuEFsr/6Xj1+yAlJbbMkRu34MjPrCdn2LkqbF6y1bmrn/3dLMJ3M9VoTzPFeZL+drrj0OVVY6QPvq+drmq1MPOCME5Tuqym+eW0xecqn/1o0//fSbzTuS6/3qq4HeD1+SzOdw++Xo4ULbE3lcmrQOBCI/kJfzQjUfg/I0f++/MD2+yz+SS+50ejTNKB/15Ca5mtWxylHfXmUeftSld71NF01cowmPuWljcl851P9r0jkfbp+KdIIboamfWDT2Fx2cFianxKaP1PvuD1H6+RDIwTmWwzU67aR2SLdrKdksxXprk9s2c1uS7JRLfvgBT1l0smnD9Y5J0b4GgIAAAAAAABV3ieff6MnX/2v25n+qmWu+t/ype6wQx5T9ol6PPeb0/+bLrrbn1bFl/rFBLALy7/Uksapwdzp7jhvuYE0M4HpgusKLrswVcvbX/qmdTqb1sZdRiDFTQTh44sbDt32oqli7ng0OK7Hc3Od7Yy2304XeJHg2+fqovSB96RgPuzPvpyhzbZ/88IxuvX2MXYoiim3atDDU5RpY9w5q6do2A23apIZSB+sPxwbDIB26nqp1zP/eT391mK7nhwt+/RBDXsyco7w0ko98gTd4latnq9h9z6od+fbqve7szX3rSH667veYIhkk1THmK7Pvg4GsjOnjNCtD3gNg8bV/6ZHCH7HUMrtWzRlrOaG53TPs3+dJTUoUhV8ih66b7R+DMyzO0uTRtyqh6aYgTTdMuDoMtUenzv9U692ffrR6lZso6mlMGesnvl0vpZtthfdtgz9+PKtGnjtWGd9aTrn739SPxK8AwAAAAAAVEtrstbZvtD+vUq/I3V9R+mnn0ywHtVF6QPv6Ufr3Mu8Gskm13b7bifoyD5t1P64MTrwMhssj+bKQTp8zKXq3M7Lw92ix6W2UdBeuuvVv4YEQBsce4HucistZ+ndIcervZvPu6N63L5Zp9xsG/Isr9SjdcNzg3SY6Z/xugaddLCXH7z1wTpuhHTXPRe4k4XofrwGB7Zr8FFq3MfZ/25t1PmmjPhtl6Ow0dPM13Wps3yzXdEaJQ1Ryu3bPHuwjjvIWX6fgRp4/gXq75zLHjeZ2utpOue5yyIEpS/QmS2fV38zj3useur8x79xg+am0dMhR5clip2hRf+zLwVOPzi++dZ3Z+ieK05TjwM7etvb4Sj1v2uMljn71+/OUjTSCgAAAAAAgCrnxGMOV+sW6WrXuoXbyOreoZsmBlKtmO6sJsr8oWIaQkXFKUOO9/o6+Z7/6vWhA9XJRIYzN0kHDNLoqW/olmObeZNE0+R0PTh1rB68oJcNrrbRYRcM1etfv61beoUFbFO76pY3x2rEZSd461GaOp3irOf9kbo4Qkaasmpw9D3679SndP0pB3iB7vQDdPJlD2miU3bO/v4mdQO66nq7Xe4+LN2pBifco7GTn4rrdqUe/Vd99NwgndzZpl1p30udGpQkqF267Wt3xFBddKxzPpbO0FdffqMftx2gfs45Gf3JRI2OGJRuq3MfmaqJ916gw2zN9Ha9LtBdr3yhj27uVfg1ROlk6pdPvb5+XQ+Ib771lj314GWnqV/gODrn1+zf61OnauyNZd1eAAAAAAAAVAUd2rbSQ0Ou0d//drX2d/r3Dl46msJ0K04Xnq4FVV9CgcP2A1FlfjBIna81NeGHauKawd5XAgAAAAAAAMA+wAS/UX2ZLwfKIzvbS1E+e/Zs929JlKHGOwAAAAAAAAAAiIbAOwAAAAAAAAAAcUTgHQAAAAAAAABiqJmSZPtQ3eypc0fgHQAAAAAAAABiOKZTU9uH6mZPnTsaVwUAAAAAAACAGOav2Kzzn/5OO3PzbAmqA1Pb/e0b+qhr6wa2pGxoXBUAAAAAAAAA4swEbk0A96SDm5F2phow58icq3gE3cuKGu8AAAAAAAAAAERBjXcAAAAAAAAAAPYwAu8AAAAAAAAAAMQRgXcAAAAAAAAAAOKIwDsAAAAAAAAAAHFE4B0AAAAAAAAAgDgi8A4AAAAAAAAAQBwReAcAAAAAAAAAII4IvAMAAAAAAAAAEEcE3gEAAAAAAAAAiCMC7wAAAAAAAAAAxBGBdwAAAAAAAAAA4ojAOwAAAAAAAAAAcUTgHQAAAAAAAACAOCLwDgAAAAAAAABAHBF4BwAAAAAAAAAgjgi8AwAAAAAAAAAQRwTeAQAAAAAAAACIIwLvAAAAAAAAAADEUakC7ys27LB9KKttObttHwAAAAAAAABgb1SqwHvrxrVsH8qqTmqy7QMAAAAAAAAA7I1INQMAAAAAAAAAQBwReAcAAAAAAAAAII4IvAMAAAAAAAAAEEcE3gEAAAAAAAAAiCMC7wAAAAAAAAAAxBGBdwAAAAAAAAAA4qjaB943zxunNyfN13Y7DM+Pj7dR46vHKtMOR7V6rC5t3kajZtjhPSknQ5Nefl1fZdhhVFv71n25SQs+/o8+X7jVDkvbF76vh+58QJfd8qQ+L/YmBAAAAAAAwN6mzIH3zbPe1+PDHtbVt5jg0gP66z/f1FdLg4GnyrJp0QJ99c0iZdnh6iLzg0Fq3LyNGl84RstsWaGcbzSsmzOu+SC9u9qWVXdLx2voJbdqXKz92fmrJj3xgib9mm0Lqqbwa/+6p7/QZjuudDZpwTvP6q9vz7LD1UHJtrla3Zebv9Cj5lze/Y4W26KYtszSmH8+rDHz7LCzlz//8Ksm/BK4uOfrvZfna1Wnk/XY/VfoxHRbXCrV8doAAAAAAABAQJkC71mTntSQt+ZrddNDdOVFp+nmi/qqT85SvfL0s3rzp512qsrR7uyhevH+/1M7O1ztTHldH8+3/dbmz8dqVHpXdbPDe4UNi/XSZ5uVYwcjanCCRsz9Vg+eUN8WVEGL3tG9zrW/uX1f3X3HjXrsxtN0ZpuadmRp7dSq39Zpc8yDUtWUbJur0325atosLWjXXN1yftX0hbYwlh1rtDhjt3LtoHSAzn7gXj121gF22BmTL7Vs1V5p9erastKqjtcGAAAAAAAAApLud9j+ksn5Tm+++LM2dxugh648Vu1btFKzFu3V9agOqjnnR437ebsO75evT+5+Ts9mNdEZXW11z2XjdOuD72lDu77q2niTFrw/Wve9OlHvTPpG8zfWVPeDWqlmgrTgjQd064Tlyvtpov7xnxmq02i5Rj7+obaY+Zp6i1r14QgNfmuVuh53sNa+aabfrqOPOUB1tFurvnpNw58dpzcnfKkflm9Xx4MOUMNVdt3tnWU0cRaw6B1d9/B7Wpt+rHq0cIbnvamrR8xQq+N6qGWyu4oKt23hOD39yQm6/rrxejXjWN3Qp6Udk6F37/ubmrQ/QZPm52jANQN0UD1Tnq25Yx7UjVdfqr/c/ZY+mJuphoccqYMa2w3OmKJ7rv2zzrn+GX2wpKaaaoq+2Ha6bjizs3NcHJvn66W/XaALr7pbT3+8VAldjtHhrVOlrQs19oXxavbnm3VUYBMCTBqaA07Wz+0O1aRhZtkva2btQ3VK84UaZtf13ZYD1Of49mrozuBs48tDdNZlf9HQ5z7WkoKu6ndYS9Wc8ZQanzHCGb9Y4174hx79ZX9dfuY2Pd/8CL2Q2EQzR16hcyY30+WHLdR1zvp+O95uy7bFeveRv+mKwTdq6N/f1czmx+rcbo2VM3+M7rxpkM6//n69+vEcNTzyj+pmr42KljXzc41b3EJX3jxAB9apqToNW6lj5zaqaa+pDS2PVfdmdtpJT+r6V5e712nNX8bpqWff1gsffalPvpyhhP3ba8Xo0XrTpCFZu0hjP/tSW9x5o1zDKYF7Y70ar52kR517Z+zUn1Tn4AOUP3G07jb30udzlNfmYB3UtIa3AT7utjy7SDXrzNArzzjLnjxDO5t3UbNf/61hZviz/ymjdjsd0da+9NgyX+89+ZL+8f4XGvflHG1v3EFdW2Tr80eLbnPLuWbZP2nnzml64sWJ2uyU1Zjovy8dG37UmBde1xPvfKH3J3+jNfUPUe/Wu7X449c08uVP3H39bHq2uvY70F5LlWWppo6ZrgYnXqGj8r7TOxk1dFqPNkqyY4s8j9pu0L+f+tGtGb909pfOMViuA/vna8ItL2pc4oHqV2+aHrr3C5nMTRsWz7DjD9TmT1/RyFed/fzUnP85ym3lO09Fjk1zbf7X60WvjYLv9Mpzb+pZ55y8P+Ubbah3iHq0LutLHwAAAAAAAJRUTo5XO3LNmjXu35IofY33RYv1fX5dnXZKD9W2Ra7E1jrx+NbShqVasK6LendP1vZ5CwpTN6yavUBZDQ5Rv87S4vdG69E5dXXJLUP14m191XTeeD366VI7pSNztbYfPkgvjrpRJx7eVf1q7dZXzrI8SzVjzk6lHdZbHcO2fvPXo3XfuK3qc+WNevH+c9Vrw4966D/fKbddR/VylrF4mXdgVi1Yqlxn3umLvWWu+m21ctu3V5dUd7ASNdTJJw6WXvtcXwVqti79Ru/OH6xz/tjWFnjmvnCJjnt4swa8OFNLf/lQD3aeoUH/96AmbTBj5+uZay7VO01u1NS5U/XR9amaM86dzXLGX3ia3mlzt75atlhf3Zmud84arLd8hzyWN7/K1Ln//FBTH+mqSQ9crSNumq5+j07QrDf+qE0vDNFb33gb727j+2304MTFWj35bjV7f6AGjcmQug/S0n87+6nT9OTUn7R05GkKZN8Y93m2znxlpja8OLCwzJOhd28/T4P+d7Duet/Z57mjNaCB+Zpihp6+8FYtO/YpLV2yWP8bdbRz5XtzVIa07l2c626pnnrsP5q7xvd1R6feOrOx9NWsQGqQNZo7c5N3nWqW3nt5ltYdOEBPPHSzRv6pjVK2N1e/G87V2eaFwcHH69n7b9QFXWJcw95CnXtjsX5u9X8aedPx6pW4Tm+OelLvJZ+sv992rgY03qRx732hVXbSopZq+vo++tutZtqtmvDGkxqx6ADdcPcVuqbTbs348DPNMMcyf4HGPPa+vmrSVw8/PFQPn15XX731hiasjLzNnhVanDrAuWfv1cWH2KKAHbP05j/H6/P8A3TzzTfq2Zv6ar9859jN+0CPfrFV3S66Ti8+dJ0Gd3KeGXaWSrNwusZvaa3DujZUr6O6KGXBAs0Nv578z6MDj9fN1/Zwa/Ifea6zL/f/UYWHwGjqjL//eB3p9Lbrd64dv1XbU7voLzff7Oznn3R2A+c8vTXeezZGPDb1IhznNfr89Un6rtZh+rtzDb14XR81MMcQAAAAAAAAVVKpA+9ZazY6/5umds29Yb+UWileT77U8fBDlLZjqRa4CcyXau78nWrZs6taar6++2GnOvY9XUc2r6mUpn11bCdp1aLFwTzZDbroxB6Beq9d1O+wmtq+YLEXUFzpzL+5rk7s3d4dG7RO039YJx3SVwM6NVRKPWe+ng2Vu+B3LXaWcVBHafHvS5WrTVqesVv9Dmmt7RkrnHWaYWd7DuwS+iKhktQ6+nQNTn9K737u5TWfO/51bbrmdPULyVAxX5OemaF+Q4fqoq5patCgjU6+/kZdlfm6Jk135pvzhZ6acbTuvvkCdUuvr/SuF+jqi+yshjv+NF19+QlKT01V+imna4Cm6Kv5JcvAffFFZrlp6tbfzJelIy66XCe3qa92znJOdoYXZZpt97ZxwFXOuBapSk0/QWeeLk36Zr4yk1Odba7lLqtmg/pOf/ANR78/DdRhDeyA3/zxevqdThrxxFAN6Ojsc3pXXTSgq5SzUybcuGn9ZuWY5fYapIu6e7NUivSTdfdtp+lE/arHHxuh6x57Xwu2mBHt1a17XeU617EbUN28QNMz7XWau1PbnKJt27ZqV2JdNTjkXJ16sHO/1Gmk2uYOTK6r2vWcazY51jVsNT1EZx/ZWrVbefeNWe+ZA7oorakzrbN+bdgUI9+8b1pnucpvqFP/0Fct67XWkb3bOMNbtcnMvGC2Pt/WUGc649JSayrtmB7qo62avnBdhG12F+xordOOD78nPdtnfOcsr7muvPZcdWnV0N32U49qrtxd5nXCbm3a5pzR1Kbqcu5poUHsSrDghwVS78PVy1ySnZzjkrpCX/64yRsZ4H8eJdZU7frJMk+6OnWcfQlPJWPGO2Wmln9KbedYueObqtuJfdWuaV3nGXmAepljv2On+zIl2rEpepx3KHe3M7xrp7bvcp6b7Y7X2c50AAAAAAAAqJpKHXhPa9rI+d8s2crjIXJ3mFBSsuqYGGu7rurXYKe+mr3UDZZ/taGu+vVoL2VmaFm+tHjCaLdhStM9OsfMvFu7zEKMVC+wFdDy0C5K27xAM5ZJq2b9qlWND1C3VnZkoQytWuksZs64wuXeOmGTlG+iVVLHjk2lRb9rcc4CzV7WRr1PbaOOKzO0eMev+nlpTXXvtKeCWF31h6tO0FsfTFFmzjca97x0br+udpy1erHmZkqHHdDGFjgaNJDJaLJ2W44yly9SpnrqQH/c05cyJ/O3ec748RrUwzTYarqBGuaU53iHplg1w9LvdGubZvuccfZvYBvHXdvTrqON+pvsMjtjV0dvUCdyqozMpfM019mn7h1tQUDq0Rry74fU7rMh6tzuKJ3/wJSijdNWtKaH6YLb7tQTfzlMXbbN16OPvaPFJqd33x7qYl82ma89FgSu09Q+uuTKrkpb/IVuvfMB3fniF8pypi8q9jXsCr9jmzZV00BZUvF5klJC5m+kloHPDHyzZq3Kcl9Qvfmotw2X3TJOn5sR/u0oIkW1o3wxsmz5Omc726iD9+6lUEqv83TbUTU1971XdPUdj+v5r1fYMZUk5zt9Oc85Vz+87+3nre9rwg5p7vRZoS8vwp5HpbdbWTPG6fl/jtCt9z+sO805taIdm6La69Qr+6rX1ll66IGH3Rc+i51tBQAAAAAAQNVU6sC7Ou6nXolbNf7LsBZB81fo8y9WSG26qIubk7y9evWsq6yFC7Xg56Vald5FvUwQMr25m6ahy1nX6bVR9wa7205TMJwbpl1Xndh4p+YsmqUFP21Vx8MPU3g6cqmFG0Ssffj/hS531MVuLdrandqrY/5qLftisWZ06qiO6R3VvcEa/fr1Gi2o1V5d9mArkO1OuUAXjftAb74wXqO6Xqo/hMXd1aKjujn79uOvGbbAsXmz1jp/2jaur/R0E5BfrGW+0fLFSNPbmtwfF+j1nzO0YU2we/2PUY946bVo4zYGe9ErP4Wso2gKmZJJb2mqc8/ULxHS4aQ6x2j01JlaOvkvqvnspRo2rmQ19+MrWQ06nabBl3ZVg20L9J3JWtTgEPVpY142zdLc2evUpW+fwuu0duf/090Pm2B9V9VeOE0vfLHOjvGLfQ1XlrTm5uVaU11xr38b7tXdJ5ft5VTTtIbSutVaXuQdTF11PPtGPTv8Rt19ZLK+/+B9fR7psFSQ7T/O0vepB+jm+03KGNtdcoBqZ8zSdyvtRHGQO+MN3fnvpUo7/RL9/Y479fCpga95Yh2bCJofr2ucc/Lircer2+b5evSDsGcwAAAAAAAAqozSB97r9dUFpzR0a4ne99p4fT/rR82d9YXGPPaKxqxrqIsvOF6BzCEtexyglpkL9OYPm9Slz2E2sO7lf18w+X19vmiNtm/ZpFXz3tdXC92RUXhpPBb/8IU+z2yqfodHCgA2V7eeznZN/0xvzljhLjdr2Rea8L2N5KV3VvcGW/X5D6vVpUsXpTjL7Nhxtz6fPEubTCDem2rPaHy0Blw2RcMefl0XXXS6+2IiVFedfH0vfTVihN6an6XNmzM06Zkn9VKvoTr3yFSpc29dlT5eTz8zVnMzs7VsyggNe8vOanQ9Snd1HaOnR3njzfw/vjxec+3o+OiqfkO76q1nRuhddxud7ZjxusaZrxmM1FR103TNmeeMK0mQsevxuqvXN3rovqf0VYazzRkz9NK4+dLq8XpmzHxnGTmq2aBB4bVWWbK+eFOvTJqmxSs3afvKWZowYbE2JzbXAW5K/qbqc1RrZc3/Qh8tdfq72xZfM5374+MFzjbvVu069Xy1p2uqjslJkrFUi7dsdXqKuYYrS6euOrHWOr337/FavM7Zzy0rtOCDL2y6m/BtLp6XF3+F3njFW567T9+ucY7lfzRh0Trl5iW76Vsq1zpNn75OKZ06q1s9kzLGdod0Vp/ErfpqVowGEGrVdNNSLVi8QNt3FP/ZyPZNW920MnVSa0pbFuj7ecEa79GOTdHjPF/jXpumVTt2SjXqqk7R9nMBAAAAAABQhZQ+8O5IO/k6PXxhVzVYOUsvvzVej//7O80wNUdvu04n+mPirbqqX+OtWrXBF4RUTXW58E+6os1WvffiaF13/5N66KNNqtHYjo7CDeJvcJbVpou6R4m2pp14iW47sqam//cVd7l3vrxAuY0DOZjbq0uXZGVtNmllvBqnHTu2dvMm9+pc2Zmlw9VXvwGDlZ4+WOecWN+Wher2lzc08ZqaevPqnmp/4Fm6J+N0TXxzsLqZ9B4NTtCD/35Inb5/QMd1O1VDZx+tK/053lN76ZZXR+vwjCd1XreD1b7vpRq5MlXxTa6TqsNuHK3Xj8jQyAvNNh6n859YrpqB6u5dT9MtFzXUO5c444aMV6Ytjiq1q255c6wG1/lAgw5ztvm8J7XIhNlr19fOT2/UEe06qsUZT2rn0DG6a0Aca+4Xo056TWV9M02PPv6krnt8nMZnN9XF112oI92vPKSU7l105CbnOm3fRb0D12mtusqd84GG3DlCV//zR+V2P1l/Od7cDw3V7Vjnus6er4fuf1xv/lTcNVxJUnvo4mv7qsuGWXp0uLOfD7yhN9cl25ccRbe5WOkn6+brDlOXrB/1kLO8O1+Yp00NaqqOcxt+9dqzuvrOx3Xf57vV79z/04mBx0RFW/mdJmREuPcTu+gg0+bE99Pd9EER1TtMpx1eV1lfv6Pr7n1HgWafo2lw1Aka0Nx53j35pP7qnM8G7YM13qMdm6LHuY5qb5qm++52rqFh47SgcQ/d9sfwT2MAAAAAAABQVSQUOGw/gPLK+U7P3z1JumCorukVOX89AAAAAAAAgOojOzvb/Tt79mz3b0mUqcY7gKJyt63Q9/+apu9rddFJPQi6AwAAAAAAAPsqAu9APGSO16P3vqKXVzTVNdedq47cWQAAAAAAAMA+i1QzAAAAAAAAAABEQaoZAAAAAAAAAAD2MALvAAAAAAAAAADEEYF3AAAAAAAAAADiiMA7AAAAAAAAAABxROOqe0CHWz6xfYiXJaPOsH0AAAAAAAAAED80rgoAAAAAAAAAwB5W6hrvcxctt30oqz++MM/2IV4++Mshtg8AAAAAAAAAgrp1amv7yqYsNd5JNQMAAAAAAAAAQBSkmgEAAAAAAAAAYA8j8A4AAAAAAAAAQBwReAcAAAAAAAAAII4IvAMAAAAAAAAAEEcE3gEAAAAAAAAAiCMC7wAAAAAAAAAAxBGBdwAAAAAAAAAA4ojAOwAAAAAAAAAAcUTgHQAAAAAAAACAOCLwDgAAAAAAAABAHBF4BwAAAAAAAAAgjgi8AwAAAAAAAAAQRwTeAQAAAAAAAACIIwLvAAAAAAAAAADEEYF3AAAAAAAAAADiKKHAYftLbMfOXVq7YbO2btup/NLPDgAAAAAAAAB7rcSEBNWtU1PNGjdQrZo1bGlsW7bv1LLV67Vxyzbl5xNzLY/ExAQ1qldH7Vo0Ub3aNW1p2WVnZ7t/Z8+e7f4tiVIH3k3QfUnGWrVIa6RG9eu4OwEAAAAAAAAA8JjA+cbsbVqdtVEd2jQrNvhugu6zFy1Xh1bpatakvpISSVRSHnn5+Vq7PltLVmbq0E5tyx18L0vgvdRn0NR0N0H3Jg3rEnQHAAAAAAAAgDAmbmripyaOauKpxTE13U3QvWVaQ4LucWCOoTmW5piaY7snlPosmvQypqY7AAAAAAAAACA6E0c18dTimPQypqY74sscU3Ns94RSB95NTndqugMAAAAAAABAbCaOWpI2Mk1qGmq6x585pnsqXz5nEwAAAAAAAACAOCLwDgAAAAAAAABAHBF4BwAAAAAAAAAgjgi8AwAAAAAAAAAQRwkFDttfInMXLVe3Tm3tUNlsyt6ir/43W/MXLVHGqrVuWZNGDdS5QzudemwfNW3c0C0DAAAAAAAAgOqsJPHUL2f+omN7HmiHymbDpmx9/s2PylidqZVrMrVt+w7t37aVF3M97ijVSEm2U+5b4nFss7Oz3b+zZ892/5ZEpdd4n/XTL7rj0Wf1/oQvlL11mw7rfpDb7c7L0+Svf9Rtw5/WtzPm2qkBAAAAAAAAALG8P2Gqbn34SX0y5Rtt2LhZ3bscoCN6dNWGzdnuuDsefUaLf8/Q2Ilf6rJbHrBzoSJVao33uQsX6x8v/Ucd2rXSnweeqvZtWtoxniXLVuhfYyfqt+Urde3FZ+uIQw+2Y6qwjQv07ZwdanVcT7WzRVWCu10b1aj7UerSyJaV0cYF32rOjlY6rmeV2kMAAAAAAACgyqvoGu8fTJyqDz/7ys0ocu1FZ6vjfq3tGM/CJb/rjffGa9XaLLVslub+fW3UvXZsnKweq0t7DNY4nabRs0brnBa2vKzc5WXohjWDdZgtKqu9vsZ7zq5cvfCvD9zPG+664YoiQXejQ7vWuufGK3VA+zZ68/1PtX3HTjumBEygeepUTQ10M5fZEXujjVrw7VTNXG4HI2nURUcdV/6ge7wtmzlV3y7YaIcAAAAAAAAAlNWK1Zlu0L1Z08Z6aMg1RYLuRucO+6l3t85KrZHiBt2jmvGUGjdvE9KNmmHHFePH/wyWnpupDWviEHTfS1Ra4P2zaf9Tbm6urrv4bCUk2MIIzLi/XPhH7czZpSnfTrelxSis3X2cjjvO69rX2i7CuwAAAAAAAAD2VhO/+t6Npw768x9Vq2aqLS3qo0nT3IrRxRo6VhvWZHjdrKc094yn9KMdVZxubdNsH4xKSzXz93++pJSUZN15/WW2JLaHnnpFubm79febB9mSGEzgfYHU5aguilzBe5lmTl0q74OAGmrmS79iamAv9UY4o5qpu12GKV9Zq5lqrl2r7MJy/3Kk+vsfp571bKqZ/aWlv9kx9dtHTsti09I0arZTa9fucgq8bWm+5lvN8Q0Ha6lH2u7QbQhsc3b49naRFoSkwImw7ZFO4/KZmhrYD9VXe2f++jbVTHstLTxW/vlLdgwbOWUbtdHspstbdjv3mKyVV2zL3H4AAAAAAACg+qvIVDN3jnhOtWul6u7BV9iScjA13r88Shtu7mULsvTu1XdJDwRqsc/QqOYDNcwdF0gpY6bpqUHj3EJpwFNa+IB0a48MDXhungZdO153fZKhW5xF/vh4G/UfYSd7bqZe/6MN1BemqTGGaqJJLxNINfOJ1P8MO5N5KVC4bSW316eaWZ25Tq2bp9uh4rVp0cz9VKJEGjVXI63VnIjpZUxalqXS/rY2fPdG2jhnprwpl2m92tta8t3VzFnGAl8alF1rd6iJGecLugeX00y17HTOodfSdU0Ky2tkr1T0bCrZzhZ1cad1JtXaOVO1wD+8YIGtqR9tu9upp9nWGl7w29s2T+j2+sXadh836C61N9O42+ObKnup1jcNlNdQ9orAdpb0GHZX96OOU/v6Jjbf3ZnWBNid7Qr5UoGgOwAAAAAAAFBS6zZsVNuWze1QnM0Yo0E6Xf3coLsJsA+UPgnUhj9d43qY2vBpOufFDE0cKjfAvuHFgfIiwCM0TsPcaU3QPfODQeqvQG36mRrwaU+bxmaGRvX4VANm2eWG5HQfof7mRYCtfT9gxAt6d7UdVQ1UWuA9v3QV66UEKS8/X3l5+bYglkbqYoK6Wlo0v/vypVqrZmofeKlkgvQ1dmq7Gxtup56FNdMbqXmjGrbfU6NZ+2AgePl6ZddvH6wl3qiLuhS+qKqv9oHluMvfpR1bvMGi6quVrdLeqHkj1Qgf3rXDq5Uec7sjC9lev5jbHrRsXbbq7x8Mfjfq0iW4PN/8IdtZmmNYRH3VinmsAAAAAAAAAESTlJSk/PySxE9LaMTAYI53E/QOBNLdIPxTujhQ4bzF0RowYJ6WRQ2ED9UNgRrtmqE3r5VG/ykwc5r6nX6a5i43+ebbqt2A8Vq2yhsTaqgmBmq4u+uLNl3VVGmB91bN0rRs5Ro7VLxlK9a4jQIkJZV8E9v19GpOuwH4bwM1sh271mpOYcOrc7R2VzDYu3HBt4UNsnrpXiLbuG2natSqb4diaaTaNW1vecXY7tIo2bZv1PadNVSrnh2MpVFt+XexpMewKPPCpL30mzdvzMZiAQAAAAAAAIRo2rihlq6IYzXwQI73SDXMxw1W58KGV016mdIEwsdrUI/AvG3U+drxGrfUBANNjfmx0hleefTGXNPUrovtrSYqLfDeu1sX/bZ8pZaXIPj+u3OxmGm7HtjBlpROu54m5clGrQlE3k3OdTeVSbAztbdNwNjkLg+UmRQqsezaEUhkXkmibHdZlGzbSx/YL+0xLMqkzjHzmgD8tzFS9AAAAAAAAADw69ppfy1fuVpLM+JcFbzFQD32nDToP75IuL/hVduZNDIlY3K3h84bzNfeS7e4ZSYAP6hapZOJpdIC7ycefZjq1K6p1979RLGyzphxr73zsWqm1tCAk/ra0mIsnxlaW3rjmmAjnm2bqH720oi1qbN37PLVBDeB+ui1td30Kv7lbFygBRVZQzvGdpdWybbdSxOT/Vsg/72ZbEFhfzSlOYaxkXYGAAAAAAAAKI2Tjjnc/fvy2x8pP7+Uqb6Lkf7HYRq9YKBXC73XUbprhO0vtV7qN3SE+j9e3Myx0s5UP5UWeDeB9BsuPU/LVqzWqBf/peyt2+yYoM1btmrk6LfcGu+HHtxJDevXtWOK0ba9aq0IpGRxOrfBzqPkpU5vp57dm2mnTWfidjYNTbue7VVz7RxbvkA7asaord2oi47yL8dZh0qSlqXMom+3m6KldX1lm3H+lDrRlHDbG3U5St2b7dRSuz4zWXEJakp1DB3t2rstyjrTmgC/afTVbtPUOdrYqHuZa/QDAAAAAAAA+5omjRro/047QStWZ+rR595w46vhTBz2sRfe0pRvp9uSkkrTOdcM1TC3Fnov3TLrKc21KWHc7uqxyrRTFuewm2e6QfzCeZsHarbP0KjCsp4ad/rMUtSir9oSChy2v0TmLlqubp3KHh1dtHS5nn3jPe3O260D92+n9CaN3AZU12/arIVLliln1y517rCf5v+yROf/4SSddvxRdk4AAAAAAAAAqF5KEk/9cuYvOrbngXao9D6aNM3pvlJqjRR17rifG3M1MtdvdGOuSYmJuuL8ATr0oE5u+b6kvMfWyM720njPnj3b/VsSSfc7bH+JrF2/Wc2aNLBDpWfewhzXp5cSEhI0/5ffNPvnX5W1YZPq1K6lgw5or6v/NFAnH3OENmdv0SdTvlFycpI67U81aAAAAAAAAADVT0niqctWr9d+LZraodI7sEM79Tuip3bv3q3ZC37VT4t+08o1WW7MtVfXzrr24rPVpmUzO/W+pbzH1sjJyXH/rllTfPulAZVe4700Xn3nY/ftzBknHG1LAAAAAAAAAKD6qIwa74huT9V4r7Qc72Vx+bl/IOgOAAAAAAAAAKhWqnTgHQAAAAAAAACA6obAOwAAAAAAAAAAcUTgHQAAAAAAAACAOCp14D0xIUH5+aVqjxUAAAAAAAAA9jkmjmriqcVJTExQXn6+HUK8mGNqju2eUOrAe906NbUxe5sdAgAAAAAAAABEYuKoJp5anEb16mjt+mw7hHgxx9Qc2z2h1IH3Zo0baHXWRq3ftJWa7wAAAAAAAAAQxsRNTfzUxFFNPLU47Vo00ZKVmVqVtYma73FgjqE5luaYmmO7JyQUOGx/ie3YuUtrN2zW1m07lV/62QEAAAAAAABgr2XSy5ia7iboXqtmDVsa25btO7Vs9Xpt3LKNCs/lZNLLmJruJuher3bxXxwUJzvb+xph9uzZ7t+SKFPgHQAAAAAAAACAfUFZAu+lTjUDAAAAAAAAAACiI/AOAAAAAAAAAEAcEXgHAAAAAAAAACCOCLwDAAAAAAAAABBHBN4BAAAAAAAAAIgjAu8AAAAAAAAAAMQRgXcAAAAAAAAAAOKIwDsAAAAAAAAAAHFE4B0AAAAAAAAAgDgi8A4AAAAAAAAAQBwReAcAAAAAAAAAII4IvAMAAAAAAAAAEEcE3gEAAAAAAAAAiCMC7wAAAAAAAAAAxBGBdwAAAAAAAAAA4iihwGH7S2zHzl1au2Gztm7bqfzSzw4AwD4tMSFBdevUVLPGDVSrZg1bWrH47QYAoOz47QYAoHqJ9293dna2+3f27Nnu35IodeDd/PgvyVirFmmN1Kh+HSUmJtgxAACgJPLzC7Qxe5tWZ21UhzbNKvwf8Px2AwBQPvx2AwBQvcT7t7ssgfdSp5oxb9zNj3+ThnX58QcAoAzM76f5HTW/p+Z3taLx2w0AQPnw2w0AQPVS2b/dkZQ68G4+czNv3AEAQPmY31Pzu1rR+O0GACA++O0GAKB6qazf7khKHXg3ueV44w4AQPmZ39PKyNnKbzcAAPHBbzcAANVLZf12R1LqwDsAAAAAAAAAAIiOwDsAAAAAAAAAAHFE4B0AAAAAAAAAgDgi8A4AAAAAAAAAQBwReAcAAAAAAAAAII4IvAMAAAAAAAAAEEcE3gEAAAAAAAAAiCMC7wAAAAAAAAAAxBGBdwAAAAAAAAAA4ojAOwAAAAAAAAAAcUTgHQAAAAAAAACAOCLwDgAAAAAAAABAHBF4BwAAAAAAAAAgjgi8AwAAAAAAAAAQRwTeAQAAAAAAAACIIwLvAAAAAAAAAADEEYF3AAAAAAAAAADiaI8H3jds3KhzL7xYh/Q8Qv/6z9u2VG6/KTPjzDQAAKBq4LcbAIDqhd9uAAAq3x4PvH86fqI+nzJVK1et0iOPPW5LpQeHP+qWmXHjJ3xmSwEAqBhLlq/UPaNecDvTj+j47QYAVAX8dpccv90AgKpgX/vt3uOB9/bt97N9UscO+9s+qVPHjrZP6rB/sLyqyPxgkBo3f0o/ukMzNKp5G136QZY7BACofj7/+gdlrFrrdp9/7T3dEVnF/XZnaNIDl6qH85va+PEZtgwAgMj47S656vrvbiNn6RS99PI3WmaHIynJNACAPW9f++3e44H3o/scqYkfj9WTjz+mN1990ZZKb732sv458lFN+vQjHXnEYbYUAICKkd60se2Tmqc1sX2IpKJ+uzPHjdD5z6bqlq9/0tLre9lSx7bFeuumozSKWDwAwIff7pKrzv/u3rl0ika+NEWLNtuCCEoyDQBgz9vXfrsTChy2v0TmLlqubp3a2qF9l6nx3vnaQzRxzWAd5tZ4H6i5z83U639Ms1MAAKqTvPx8zZr/i5KTktStywFKTEywYypWZfyuVpff7tDfViNbcz94XaNGjNC4pdJdn2ToFl88HgCwb+O3GwCA6qU6/3ZnZ2e7f2fPnu3+LYk9XuN9V26unnj6WV07+CbNmj3HlsrtN2VmnJmmdGzql8df1z1n91Tjq8cq0xRnjNc9Fx6lxs64Hhc+qHcX57hTG5v/N1o3nuGN63zcg5rkvinP0leP36r+fdoUzjMpw50cALCXSUpMVO9uXXTowZ0q7ce/uqqI3+4fH3d+f68d7/SNUH/zG+6mb/tV097ZpAF/f0gD3KmKk6O5Y+7W+e7vdk8deckYLbJjtGGGnrlpoJfGptsJumeK9x9NypiiUdeeoM6mvM9A3fjsDAUqy3lp5R7UM68Ncufzatxna+7Lg3VkN285g3zTAwAqF7/dJVeh/+5+bYreve8C97c05N/Mq8fqUqfsnhde16Xmt9mmkVv26YP2t/oonf/AWC3a5ha7Iv27PDTNa+Tf+tBpHJvn663bbfo65/c6ZD12u4a9M8XGB3pq4H1TSFMDAJVgX/vt3uOB94kTJ+nvDw3X2++8pxtuusWWStfd+De3zIwz05TFuM+zdeYrM7XhxYFK3zBFQ8+4S2tPH62ly37S26f8f3v3AyVXQd8L/IfWRh8KCLIkcCAFA5ZnSAyCQlWg8GICNgj+AV4PIfFI8fQp4CNiigXeE/BowNgC4p/UUyHxtYhVsXmGkBgq8Cgqkj9LEA0oBk5N2CAmC1h4vrrv3pm72dlNNsxufrObzX4+50zm/pmZnb2Zne+937n3zpNxwXuuj3teLKL7wRvjrHd/KV54z42x6mcPx51XHh7x2/IRtsSLB54TC5Y+Fht+cmu8r2NBnH3TXTawAXZDmzufjX+4/c7apRymf63I7mM/9HD84LOnFkMXxteLLL7htPIIsjfHh//hinjfUXvXbvOSHlwQZ330yTjh8w/Hhp9/P258W8QL5fTnH4z5M8+IG//jzFjwwMPx+HcvjzcUG+5RWzeYFcsOvjzuLH7mT//unHjhS2fEWV9eW3u4um/Hmj2viFUb63vbt3/5vDjpWwfH1XcW6wbfuzwO+NYZccGtPpUHGA6yu3mt3O7+4ZfviBfef2P8sP2OmLPft+Psubf2KrG/sXbvuOreJ+OZS94cW5ZdHtP+qiNm/F2R1T9bGFOfvDBOv/6+MpV3sF3eoL+s72Vt3PTnp8Y1z58at7TXc3/SD4ufc3XvbflF93TE+/92aaxaeGZs/vKs+MrdPTvmAdAaoy27h71478/LXrbzT+2E/3pGHFttq3fc9+34Snwg/uLcibH3mL3iiGmnxYyOW+OBn3bGPd+4Nh744Gfjxg++OcbvvVeMP/mcmDquvNeEmHpOOW1MjNn3bfHO04pJv+6srRQAsHv53yv+Tyy794e1SznMwO1Udu+5V+yzZznwqtinyOIiegfsxRf+vfh3S2zeUiR18XjHfuicmFROKdYBPvXgrLjxM7Pi2IOLxz745Dj35P3r6wYdF8Rfzzm5lv9tE8+Jj3x4YjzwjX+N9tojls6Mc08/uBpeG8tvejBmnP+BYj2hWDdoOzlOL9YNlt/XWNQDMFRk987L2O5+6yUXxbkT94+92ybGueeeE3HXXfHAhmpm4f3vOzXG/0E5tCnuWXxLxOzZxe33ijF7Tyhy9NTouHVl/Cx2tF3eo7+s72XNv8SND74tLr+kmNdWz/2PXDwrOm6+K37U0LzPLJ5rOX98saFfHln3REftOHkAWmi0ZfewF+/Tpk2N/3H5ZXH2+98bN93wN9XUiM//7fx433vOqM0rbzMYe+/5ymooYv2jt0d01A9fLw9b23fKhbG4CP74f09E+5KIGW86PLbdxu+MdUsWxMf/4pw4411/EtOurSYDwCjWyuzeGWPednHc9qmDY/FHj45xx8+KK5bV90Rf/9Mi6E87Jo6oFfs9ausGpx0V4xtWAMa2HRyx9sWGD9n3iVd1z9/wWLQX2+SL//Lo+rpEcamtG7zgI3kAdm0tze4/6Nnujj94VTXQY59XdwfpE7HuG+Vm+Rlbc7R2mrkiW18s5vW/Xd6jv6xv1PGLh4qHPDrecGg1obD3fgcU/3bEloY96F9Z+zCgx+InFe8A5Br24v0PX/GKuPgj/y2+eOPfxpsmHVVNjZjypsmx4As31uaVt9lZ4w89NWLiFfH9jU/GMw2XOW8+IMa/tQjZR57YZk/29bdeGMd97qmYeuWC+Pp3/jXu/Hg1A4Ddzp+d8vb4L29/S0w/8bhi+B3VVLZnqLJ74MbEpA/eGD9Y+XB8/0Nj4qbzro3FxTb02IOPiVjyUKzvE/TjDz9jm+kbO4oN+BP3j7ZqvJdxB9f2qjv37x/utS5RntIOgKEnu5vX0uz+fz0ne3nxuc3Fv2NizMvr470dEuNnREy68o7eOVr7UvX+t8t7237WN2o77Kgix1fGzx6vJhS2/Pqp4t+Do23f+jgAw2O0ZfewF++lB1euiv/1j1+PzoZz+5TD5bRyXoa2406LGWu/FJ+64b5Yv6UztnQ8Fou/cVd0xP5xwulnRNsXrosrvr02OrZsinVLbo3lG4pw7niouGex0jAm4oUNd8WyFfXHAmD3s89er4lzz5we55z+zmL41dVU+jMU2T1QHUsWxNfWdsaL/zEm9t6757zwbcedGe9rWxCfuur2aO/ojI7H7oiv3bUp2t52ZpxfTp9/V23doGPtrfH5m56K9517Soyv7tvbxDjh4xPjazddG/+0dlNsKe6z/sFbYnHPd9QBMIRk98C0KrsX3/yPsfzJYhv7ybvis9cuiLbZZ8YJ2/0Eu9j2Pu3UaP/SdTH/vidrOVpm8j8VmVyb1892eaP+sr6XyX8aF775vrjmc7fWcr98Xp+//pY49hNnxlt3tDs9AC032rJ72Iv3H/zwgZh62ulx4X//WMz64AXV1KgNl9PKeeVtdtq4M+KGOy+OA+68NKa84Y1x6Ls/Fsufb4syqttmfDb++YtvjvXXnhp//IZpcd7iztjnP0VMOvOz8eG22+OMSSfFrK9EvOHE+kMBsPv5j9//Plau/WntUg7TvyHL7gEas/eLsfgjJ8W48RNi2vUvxF9//eMxo9zwH3dq3PitG+Mtj18bJ016Y5xw/pLYUp5Eft+T4+py+k+viWnFusEf/8UdccAnb4sbZ5Rf7Lo9Y+LYixbELW99Mj7750fHoW84Kc6+/ol45XbLBQBaTXY3r5XZPeP9R8S6udPj0GM/FosPuSZuu+Lk2nb29rQV29jfv7gtln3sT4ocfWNMu/iu2Ny2V31eP9vljfrN+l4mxocX3R4XvvzWmFXk/qHvuibWv+v2uO2iiUWSAzCcRlt279FVqIab0r7uiZh0xCHV2M772j/cGhddcmlt+MBx42Ltqh/Vhv/zm46JjRvLw8EibvjcdXHun59TGwaAVvjn5ffGt5b+S234PdP/NE6fOjSHvWXn6vbIbgB2R7K7ea3J7gdj/tgzov2LK+OWM/v70BoAeozk7O7s7Kxdr169unbdjGHf4/20U6fFKSefFAcdeGB84q/qKwKlv557aYwde0BtXnkbAGiljZueroZ6D7OtYc/ujrviirPPiTN6Xa6O5b4TDWBUkd3Ns90NwK5gtGX3sO/xDgC7gp8/8W/x1dsWx8tf/vKY9d7T4rBDDqrmtNZI3GsOAHYFsnu42eMdgIEZydk9mD3eFe8AMIxsvAPAyCK7AWBkycjVEXmqGQAAAAAA2J0o3gEAAAAAIJHiHQAAAAAAEineAQAAAAAgkeIdAAAAAAASKd4BAAAAACCR4h0AAAAAABIp3gEAAAAAIJHiHQAAAAAAEineAQAAAAAgkeIdAAAAAAASKd4HaOrUqdUQrdS+7olqiFaynIeG5dx6ljE7Irtbz99g61nGrWcZt55lTLNkdy5/e3ksy1yWZx7LctekeAcAAAAAgESKdwAAAAAASKR4BwAAAACARIp3AAAAAABIpHgHAAAAAIBEincAAAAAAEikeAcAAAAAgESKdwAAAAAASKR4BwAAAACARIp3AAAAAABIpHgHAAAAAIBEincAAAAAAEikeAcAAAAAgESKdwAAAAAASKR4BwAAAACARIp3AAAAAABIpHgHAAAAAIBEincAAAAAAEikeAcAAAAAgESKdwAAAAAASKR4BwAAAACARIp3AAAAAABIpHgHAAAAAIBEincAAAAAAEikeAcAAAAAgER7dBWq4aa0r3siJh1xSDU2+kydOjX+7GM3VWO0SsczndG2717VGK1iOQ8Ny7n1BrqML552RDU0/IYiV2W37G4173OtZxm3nmXcejuzjGX36CK7c3l/y2NZ5rI88+yKy3J3y+7Ozs7a9erVq2vXzVC8D1C5AvCLSR+txgAYaT544mHxidOPrMaGn4331pPdACOb7B59ZDfAyLY7ZvdginenmgEAAAAAgESKdwAAAAAASKR4BwAAAACARIp3AAAAAABIpHgHAAAAAIBEincAAAAAAEikeAcAAAAAgESKdwAAAAAASKR4BwAAAACARIp3AAAAAABIpHgHAAAAAIBEincAAAAAAEikeAcAAAAAgESKdwAAAAAASKR4BwAAAACARIp3AAAAAABIpHgHAAAAAIBEincAAAAAAEikeAcAAAAAgESKdwAAAAAASKR4BwAAAACARIp3AAAAAABIpHgHAAAAAIBEincAAAAAAEikeAcAAAAAgESKdwAAAAAASKR4BwAAAACARIp3AAAAAABIpHgHAAAAAIBEincAAAAAAEikeAcAAAAAgESKdwAAAAAASKR4BwAAAACARIp3AAAAAABIpHgHAAAAAIBEincAAAAAAEikeAcAAAAAgESKdwAAAAAASKR4BwAAAACARIp3AAAAAABIpHgHAAAAAIBEincAAAAAAEikeAcAAAAAgESKdwAAAAAASKR4BwAAAACARIp3AAAAAABIpHgHAAAAAIBEincAAAAAAEikeAcAAAAAgESKdwAAAAAASKR4BwAAAACARIp3AAAAAABIpHgHAAAAAIBEincAAAAAAEikeAcAAAAAgESKdwAAAAAASKR4BwAAAACARIp3AAAAAABIpHgHAAAAAIBEincAAAAAAEikeAcAAAAAgESKdwAAAAAASKR4BwAAAACARIp3AAAAAABIpHgHAAAAAIBEincAAAAAAEikeAcAAAAAgESKdwAAAAAASKR4BwAAAACARIp3AAAAAABIpHgHAAAAAIBEincAAAAAAEikeAcAAAAAgESKdwAAAAAASKR4BwAAAACARIp3AHYJn577rvj5/Ooyd1I1dft63faa4+L8anqccFys6p7exOMAAIPXkuxunAcApErJ7jgsvnZNz7xVf3lYNZ2+FO8ADL+zT4yzXvPr+PSc78br5zwS97/m4Ljz7GpeH+f/5TvjrHiyuF152+/Gbc/uFx+ugv78N+4VHT+qT3/9nCfjsbb+HwcA2AlJ2R3jxjRkd595AECepOz+9Nwj4/hnu+c9Eg8fdKTt7n4o3gEYdp/+o1dH5791xFdqY7+I7//b72LCHzW3t/rPO39XDUV85YvLYtrXq5Foj5Ud1SAAkCoru+Prdzdk96Q4ui2i45lfVOMAQJac7D4sDn5NxGO/bK/GB/Y4o43iHYBdQuNG9leeebEa2lZZrt8WB289rO2ygzrjpi9uZwP9hONietvvYtOGahwASJWX3d2HrI+NTd/5bkMRDwBk2vns/kU8+WxE2749R6ft6HFGO8U7ACNLeXhc9yFv3/l1dL5qv3j/2dW8rSbFne/eLzp+tCzOvaeaBAAMj5fM7l/EuZeXh6s/FvFO54oFgGG3g+y+bN6T0THhyK2l/M/f8ur6DLaheAdgl9D4ifn5+46phvo6LL521Kt7Dmu75wcx5UfPxYSjGr/oZVLcOf/giB/ZYw4AWikvu7vVD1ffay8b8ADQCjnZ3R7Taud3r19u64jo7HyuNofeFO8ADLvLfvlc7HVQWxXih8VJB72iJ+RPOC5WzX9nfO2EcqR+WFvj+ePK89TFs7+tn6fu7BMdpg4AQyAruz89t/t2pfrj2HgHgHxp292Nyj3j256Lpds7/SuKdwB2AV+/u/Yt6ZfVDlWrf0N6f8X5ZfPq377efVhb7VvZ59VXFmorA/GKOP7d1SFv5eWa7e1RBwDslKTsvuyXLzbkdv1xpth4B4B8SdldP8q8yu63RNw25+64rJpDb3t0FarhprSveyImHXFINTb6TJ06NX4x6aPVGAAjzQdPPCw+cfqR1djwG4pcld2yG2Akk92jj+wGGNl2x+zu7OysXa9evbp23Qx7vAMAAAAAQCLFOwAAAAAAJFK8AwAAAABAIsU7AAAAAAAkUrwDAAAAAEAixTsAAAAAACRSvAMAAAAAQCLFOwAAAAAAJFK8AwAAAABAIsU7AAAAAAAkUrwDAAAAAEAixTsAAAAAACRSvAMAAAAAQCLFOwAAAAAAJFK8AwAAAABAIsU7AAAAAAAkUrwDAAAAAEAixTsAAAAAACRSvAMAAAAAQCLFOwAAAAAAJFK8AwAAAABAIsU7AAAAAAAkUrwDAAAAAEAixTsAAAAAACRSvAMAAAAAQCLFOwAAAAAAJFK8AwAAAABAIsU7AAAAAAAkUrwDAAAAAEAixTsAAAAAACRSvAMAAAAAQCLFOwAAAAAAJFK8AwAAAABAIsU7AAAAAAAkUrwDAAAAAEAixTsAAAAAACRSvAMAAAAAQCLFOwAAAAAAJFK8AwAAAABAIsU7AAAAAAAkUrwDAAAAAEAixTsAAAAAACRSvAMAAAAAQCLFOwAAAAAAJFK8AwAAAABAIsU7AAAAAAAkUrwDAAAAAEAixTsAAAAAACRSvAMAAAAAQCLFOwAAAAAAJFK8AwAAAABAIsU7AAAAAAAkUrwDAAAAAEAixTsAAAAAACRSvAMAAAAAQCLFOwAAAAAAJFK8AwAAAABAIsU7AAAAAAAkUrwDAAAAAEAixTsAAAAAACRSvAMAAAAAQCLFOwAAAAAAJFK8AwAAAABAIsU7AAAAAAAkUrwDAAAAAEAixTsAAAAAACRSvAMAAAAAQCLFOwAAAAAAJFK8AwAAAABAIsU7AAAAAAAkUrwDAAAAAEAixTsAAAAAACRSvAMAAAAAQKI9ugrVcFPa1z0Rk444pBobfaZOnRp/9rGbqjFapeOZzmjbd69qjFaxnIeG5dx6A13GF087ohoafkORq7Jbdrea97nWs4xbzzJuvZ1ZxrJ7dJHduby/5bEsc1meeXbFZbm7ZXdnZ2ftevXq1bXrZijeB6hcAVi+fHk1RquM9tfZULGch4bl3HojeRkPxXMf7a9B2d163udazzJuPcu49XaXZTwUv8dofz3K7lze3/JYlrkszzyW5Y5lLJ/BFO9ONQMAAAAAAIkU7wAAAAAAkEjxDgAAAAAAiRTvAAAAAACQSPEOAAAAAACJFO8AAAAAAJBI8Q4AAAAAAIkU7wAAAAAAkEjxDgAAAAAAiRTvAAAAAACQSPEOAAAAAACJFO8AAAAAAJBI8Q4AAAAAAIkU7wAAAAAAkEjxDgAAAAAAiRTvAAAAAACQSPEOAAAAAACJFO8AAAAAAJBI8Q4AAAAAAIkU7wAAAAAAkEjxDgAAAAAAiRTvAAAAAACQSPEOAAAAAACJFO8AAAAAAJBI8Q4AAAAAAIn26CpUw01pX/dETDrikGoMANgZQ5GrshsA8shuABhZMnK1s7Ozdr169eradTPs8Q4AAAAAAIkU7wAAAAAAkEjxDgAAAAAAiZzjfQAeWXhVzFtTjUyeETefN6UaYVAeWhSzb368Gjk05s6fGUdWY71tjBXzFsSijmp0h7elr8G8bjctvyEuXfpay7lpvV+jE6ZfEJdPHVsf2Z6OO+KaeQ/EY7URr+em9Vpu+8TMuRfFKW21kW31um3EKbOvjJlHVSO7GOeJbS3ZnUhut5zMbjV53XK7aVb3JbtbS3YPTtPLrc/fnmW8HQN5L9tqVSyaszjWv1S2jEID+5uuL8cVteFml/0oMkpythUycnUw53iPsngfiDU/W18NjTLtC7tmfWZJV0dtZEPX9z7zya6F7bURBmVl18JLru/63lP1sY5l13fNumVlfaSvp5Z0Xd0w7ye3fLL/29LbYF63tftc33X1JQu7flJNYsd6v357v7a3Ub6edzSffvR5/fZ6bffV5/+gtsx33dfzUOSq7C7J7p0jt1tOZrecvG613Ter+5LdLSS7B2cAy618L+yZV/4tWsa9DeS9rFt5nyKPi/tdvWxDNY2aAf1Nez3u2EBemyM7Z1shI1e3bNlSu9x9991NX5xqpkmPrHo8Jhw9JfavjY2NSUfvEytWraqNMQgPrY0VbYfHpOqTuf0nHx4T1qyNR+qjvbWdGpc3fCJ65JRDqyFeyoBft+UnokteF9d94PBqAi9tY7Sv3BynTOl+jU6JYyZvjvvXbKzGe3tk6QMR08/yqf1AdayK+zsOjWO6P6E/amKc0vFotG/do3YH2sbG+GqQ0UV2J5LbLSezW01et5ysJoHsHpyBLLf9p17UsNdr+V5YDVI3iPeyRxYuiF+ddlG8d1w1ga0G8trctPzeWDF5xqjeK3uH5OyIpHgfgPFjew4X2n/sa6shBm3c2OrNt9D0m8DGWLGkeOMeJ9Ga1fzrdlUsmvd0vHfuqT3/LzRpnzjwgGqw8Lpx+1RDfW2MX22IeGzpgpg956r6Zd4dsamay0toe128rhos3kDiwH7LkCkxc+7hcf+8ahnPWRwx2+kBRivZnUhut5zMbjV53XKymgSye3AGtdw67ohvrun93kih6fey+infvjnuAmXxDjT72nx6w+aINYt7snfOou3v5DGaydkRR/HOiFJ+krxo3AznTEtXnvP03jhwrjfi1ivPw3Zl3Dy/fpk77oH48vLt723HYBWv568+GsdXy3nu5IgVSxQmMBzkdivI7KEhr1tLVsPwKz/EfSDGz3YO7UF7aFFcuuEd1nMSlech787e66b/JuYtdMTL4MjZXYXifQDWb+xZ2d608TfVEIO2YWPPH33HxlhfDfan9oUc4YtfBqq51+2G+FXH5mLFq/o0tPYFHI/HPJ8wN2lz/OqparBQ+6S+X71vW+5t99iGDdUYO9TxdDxdDdZfs9VgXw8tj0XRc0qMI8+7IGbGA7H0ofo4o4vsTiS3W05mt5q8bjlZTQLZPTgDW271L7CMUf5li/1q8r2stpwb9tAuv0C0PFrqGh/U9jKQ12bjbWt7xzeufyJnRyDFe5PK85M+tnJV9Qff9xyRDFifc1FtWvNoPDZ5YrXnVrkn11UNYVWuFFxVO3zLxvvA7PB1W54bds4NsaL2fzAlZlafKtcuc4+NCXFozJ1vb7qX1vc8davix2v2ieMnV3s9PLSoWAnrLkP63rb+f+IUDE1omxLHtz0eP+5eUehzvumy4JvdvTfEAa+LCY3nuqudC88htKOR7E4kt1tOZreavG45WU0C2T04zWdIofZ+Vx45pXTfrgG8l5Xny9+ax8Wl3Kt4wvQL7AHfYCCvzd63LZb1qsd7n+pwtJOzI9Ie5beyVsNNaV/3REw64pBqbHSp7bm1phqZbA+unVYG/s3FG2lN4wZjuQG/IO4/ugqsXrfrVh7+65C4ZvT7ui1Dbl556NF2lmNt3tPxXhvxTaq/ZhdVodZrZav2+o1ehYj3kkGqvS7LPTtLvd8Dasu0cc/aPu8b5SGLu+qGxVDkquyuRvy97Ry53XIyu9Xkdcvtplndl+xuLX97g9NshvS6Xbe2Y+M63xvSYyDvZQ3KeeWOB4r33pp9bZbKc+ZfurQ6Is3rclujJGdbISNXOzs7a9erV6+uXTdjD8U7AAwfG+8AMLLIbgAYWTJydTDFu1PNAAAAAABAIsU7AAAAAAAkUrwDAAAAAEAixTsAAAAAACRSvAMAAAAAQCLFOwAAAAAAJFK8AwAAAABAIsU7AAAAAAAkUrwDAAAAAEAixTsAAAAAACRSvAMAAAAAQCLFOwAAAAAAJFK8AwAAAABAIsU7AAAAAAAkUrwDAAAAAEAixTsAAAAAACRSvAMAAAAAQCLFOwAAAAAAJFK8AwAAAABAIsU7AAAAAAAkUrwDAAAAAEAixTsAAAAAACRSvAMAAAAAQCLFOwAAAAAAJFK8AwAAAABAIsU7AAAAAAAkUrwDAAAAAEAixTsAAAAAACRSvAMAAAAAQCLFOwAAAAAAJFK8AwAAAABAIsU7AAAAAAAkUrwDAAAAAEAixTsAAAAAACRSvAMAAAAAQCLFOwAAAAAAJFK8AwAAAABAIsU7AAAAAAAkUrwDAAAAAEAixTsAAAAAACRSvAMAAAAAQCLFOwAAAAAAJFK8AwAAAABAIsU7AAAAAAAkUrwDAAAAAEAixTsAAAAAACRSvAMAAAAAQKI9ugrVcFPa1z0Rk444pBob6VbFojlr45j5M+PIakq+ofgZrVI+98WxohrrNmH6BXH51LHVWOGhRTH75oi5W3/HjbFi3oJY1FEbiVNmXxkzj6oPA9DbUOSq7B4o2S27AfonuwdKdu+Y7AZotYxc7ezsrF2vXr26dt0Me7zv8sowvSFWVGE6tKbEzPlXxs1bLzPilDg03tsY/uXzW/J4NVz3yMIi/MfNqN9n7rGx/uZF8Ug1DwB2f7IbAEYW2Q1AvmHZ4/36O9dVQ61x8bQjqqGXMhI+eS9XAG6L+MBFcUpbNWmYbFp+Q3w5ztrmU/drNr4uxi99uvodt32+jyy8Kn48xafvANszUvaak90DIbsBdmeyu052t4bsBsiXkauD2eN9WIr318/5bjXUGj+f/65qqFsZSj2HYMXkGXHzeVOKgSqcZ0fMu7n+6XHP4Vx9g6xxfNv7NR7WVQblpUs314YnTD+2IRzL+/UcQtbzs/p7vP6edx+1Q87q94vYJ2bO7X7OjT+vmh53xDVfjXjv0Y/GvOo5NndIWvlclseBcxtXZKrnPX9i/HjrSk457d7idr1XAL45rs9hcgDUjJSNd9ldJ7sBkN11slt2A4wUGbnqVDP9GhunzO0+bOuCmLnh3oZDyB6Peasmbj2ka/zS25o8vKzhfrMPjRVL7ohN5eQijC9d+tqYW3u8K+ND8ejWwO99CFn5s5Y3HAq2vccrn3fxfNvK8C6mby/8S0fNrB6zvO9rY9HSVbXJm5bfG+uLlYz6vJ5Ajo4H4ptxVn16s4ekPbQ8Fo2b2BD+ZbAvjpjduEJQmhLHTN4c96/ZWI2vih+vqQYBoGmyW3YDMLLIbtkNQKOX/89CNdyUp369JQ7Yb+9qbPDe+vr9WnY5bsJ+1U9pUH46fe134vZlD0b78y/E/oefGJMP2Bjty34XZ318Wuxfu9G4OPBlP4zbnxofJ7y+iOT7Hi7y7K1x2J7lvOcaxvvc74Dfx7Pf/mXsM21yRPvd8fu3XxCnHFDOiNjz9X8Yzy7riAOLeeVty0/lP/yFO4vnsa6I/IjDXuLx9u/1c4t5W3+Pu+P21b+Nt7398Niz9qn45+Kqb5fTNkd07V2bvv9v18Xf/9OKePbA8nctH7jw/GNxz6MHxYeKlYnar7VncbunvhM/fllxm47tPXbdI3feHYdNP6P+HArl77HoNefFhce/uhgrn3/P77j/5L1i/Rf+Mf6mfJzi93r79OKFNvaUnucAwFZZubojslt2l2Q3QA7ZXb/IbtkNMFJk5OqLL75Yu964sftDzyaUp5oZiDU/W18NjSDtC7tmfWZJV0c1+pNbPtm1sL0cWtm18JKFXT+pTa3rWHZ919XLNhRDG7q+95nru773VH167/G+9+sZ73nsbj3zyseedcvK+uQmH2/b59FXOb/hZz61pOvqht+1VD6nWZdUj9HP/N7Pua/i+fS6T/n8ysfse9ne83yp5w8wug1Frsrucrj/rJXd1U22eqnnDzC6ye5+yO6eXJXdALuUjFzdsmVL7XL33Xc3fRkVp5rZtPE3EePG1j/V3uYQrMfjxw9Vg8W8pUsjjp9cnhNtbBw4ruHQrY5VcX8Th8IdOaXh8LdCedhZ9yFvT2/YHBPGjauPNPl4L21D/Kpjnziw+lR705pH47H64FZHnndlXDc9Gn6XR6O9+2d33BHfXHNoHLOjc809tDZWbF1+pe1/6/rcxsPqKpuW3xaLxr1jm+kAsCOyW3YDMLLIbtkNQG+jonjff2oRQGsWx+w5VxWXtRGTqxk1hxa5X04vL+W503pC7Mjpx0YsXVCf99WnY3wzIXbUzJg77oG4tPZ4V8WX4/AiHOsG9XjFisikoyMWzSvus7B+DrnepsT0Itxr88uft+G1MaGaUx6WVv+9ropLVx4eH+r+kpW218avvlqfPnveo3F8ry9u2Va5ArV1xaUJvX7uhnf0f448AOiH7JbdAIwsslt2A9DbHuWu8tVwU4biG9xpoY76t6t/aO6pDZ+kAzBchiJXZfcIJ7sBdimym5ckuwF2KRm52tnZWbtevXp17boZo2KPdwAAAAAAGCqKdwAAAAAASKR4H23aTo3LHe4GACOH7AaAkUV2A1BQvAMAAAAAQCLFOwAAAAAAJFK8AwAAAABAIsU7AAAAAAAkUrwDAAAAAEAixTsAAAAAACRSvAMAAAAAQCLFOwAAAAAAJFK8AwAAAABAIsU7AAAAAAAkUrwDAAAAAEAixTsAAAAAACRSvAMAAAAAQCLFOwAAAAAAJFK8AwAAAABAIsU7AAAAAAAkUrwDAAAAAEAixTsAAAAAACRSvAMAAAAAQCLFOwAAAAAAJFK8AwAAAABAIsU7AAAAAAAkUrwDAAAAAEAixTsAAAAAACRSvAMAAAAAQCLFOwAAAAAAJFK8AwAAAABAIsU7AAAAAAAkGnDx/rI99ojf/76rGgMABqvM0zJXW012A0AO2Q0AI8tQZff2DLh4f/Wer4zfdD5fjQEAg1XmaZmrrSa7ASCH7AaAkWWosnt7Bly8H7Dv3rFh02/i15uf8wk8AAxCmZ9ljpZ5WuZqq8luANg5shsARpahzu7t2aOrUA037d9f+L/x1DNb4rnnX4jfD/zuADCqlYe5lZ+4l+H/qlf+YTW1tWQ3AAye7AaAkSU7uzs7O2vXq1evrl03Y1DFOwAAAAAAjAaDKd4HfKoZAAAAAACgf4p3AAAAAABIpHgHAAAAAIBEincAAAAAAEikeAcAAAAAgESKdwAAAAAASKR4BwAAAACARIp3AAAAAABIpHgHAAAAAIBEincAAAAAAEikeAcAAAAAgESKdwAAAAAASKR4BwAAAACARIp3AAAAAABIpHgHAAAAAIBEincAAAAAAEikeAcAAAAAgESKdwAAAAAASKR4BwAAAACARIp3AAAAAABIpHgHAAAAAIBEincAAAAAAEikeAcAAAAAgESKdwAAAAAASKR4BwAAAACARIp3AAAAAABIpHgHAAAAAIBEincAAAAAAEikeAcAAAAAgESKdwAAAAAASKR4BwAAAACARIp3AAAAAABIpHgHAAAAAIBEincAAAAAAEikeAcAAAAAgESKdwAAAAAASKR4BwAAAACARIp3AAAAAABIpHgHAAAAAIBEincAAAAAAEikeAcAAAAAgESKdwAAAAAASKR4BwAAAACARIp3AAAAAABIpHgHAAAAAIBEincAAAAAAEikeAcAAAAAgESKdwAAAAAASKR4BwAAAACARIp3AAAAAABIpHgHAAAAAIBEincAAAAAAEikeAcAAAAAgESKdwAAAAAASKR4BwAAAACARIp3AAAAAABIpHgHAAAAAIBEincAAAAAAEikeAcAAAAAgESKdwAAAAAASKR4BwAAAACARIp3AAAAAABIpHgHAAAAAIBEincAAAAAAEikeAcAAAAAgESKdwAAAAAASKR4BwAAAACARIp3AAAAAABIpHgHAAAAAIBEincAAAAAAEikeAcAAAAAgESKdwAAAAAASKR4BwAAAACARIp3AAAAAABIpHgHAAAAAIBEincAAAAAAEikeAcAAAAAgESKdwAAAAAASKR4BwAAAACARIp3AAAAAABIpHgHAAAAAIBEe3QVqmEAAAAAAKBBZ2dnNdQ8e7wDAAAAAEAixTsAAAAAACRSvAMAAAAAQCLFOwAAAAAAJFK8AwAAAABAIsU7AAAAAAAkUrwDAAAAAEAixTsAAAAAACRSvAMAAAAAQCLFOwAAAAAAJFK8AwAAAABAIsU7AAAAAAAkUrwDAAAAAEAixTsAAAAAACRSvAMAAAAAQCLFOwAAAAAAJFK8AwAAAABAIsU7AAAAAAAkUrwDAAAAAEAixTsAAAAAACRSvAMAAAAAQCLFOwAAAAAAJFK8AwAAAABAIsU7AAAAAAAkUrwDAAAAAEAixTsAAAAAACRSvAMAAAAAQCLFOwAAAAAAJFK8AwAAAABAIsU7AAAAAAAkUrwDAAAAAEAixTsAAAAAACRSvAMAAAAAQCLFOwAAAAAAJFK8AwAAAABAIsU7AAAAAAAkUrwDAAAAAEAixTsAAAAAACRSvAMAAAAAQCLFOwAAAAAAJFK8AwAAAABAIsU7AAAAAAAkUrwDAAAAAEAixTsAAAAAACRSvAMAAAAAQCLFOwAAAAAAJFK8AwAAAABAIsU7AAAAAAAkUrwDAAAAAEAixTsAAAAAACRSvAMAAAAAQCLFOwAAAAAAJFK8AwAAAABAIsU7AAAAAAAkUrwDAAAAAEAixTsAAAAAACRSvAMAAAAAQCLFOwAAAAAAJNqjq1ANAwAAAAAADTo7O6uhHrNmzaqGtnXLLbfY4x0AAAAAAAaiLNe3p3u64h0AAAAAAAaob/neOK54BwAAAACAQegu2/uW8M7xDgAAAAAA/djeOd5fij3eAQAAAAAgkeIdAAAAAADSRPx/O+LSMxge0B8AAAAASUVORK5CYII=)"
      ],
      "metadata": {
        "id": "iu6vbVS50NB4"
      }
    },
    {
      "cell_type": "markdown",
      "source": [
        "![Captura de pantalla 2024-04-01 230832.png](data:image/png;base64,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)"
      ],
      "metadata": {
        "id": "Dk3TbkTUyNLJ"
      }
    },
    {
      "cell_type": "code",
      "source": [],
      "metadata": {
        "id": "glgtYaLaaPLi"
      },
      "execution_count": null,
      "outputs": []
    },
    {
      "cell_type": "markdown",
      "metadata": {
        "id": "Cj8bcxFX85UO"
      },
      "source": [
        "# Práctica Final: detección de mensajes troll\n",
        "\n",
        "\n",
        "\n",
        "En los últimos años Twitch se ha consolidad como uno de los principales medios de comunicación especialmente para las generaciones más jóvenes.\n",
        "\n",
        "Al tratarse de una plataforma participativa en la que los usuarios pueden poner comentarios durante y posteriormente a las emisiones. Entre estos comentarios han aparecido como siempre comentarios ofensisvos.\n",
        "\n",
        "En esta práctica construiremos una Inteligencia Artificial capaz de clasificar esos mensajes troll.\n",
        "\n",
        "Durante la práctica entrenaremos el modelo de Deep Learning y lo desplegaremos para inferencia en batch, la más habitual actualmente dentro de la industria:"
      ]
    },
    {
      "cell_type": "markdown",
      "metadata": {
        "id": "AI5vlvwU9FAv"
      },
      "source": [
        "## Teoría\n",
        "\n",
        "**1. ¿Qué es Apache Beam?**\n",
        "\n",
        "Apache Beam es un framework de trabajo que permite definir pipelines de procesado de datos enfocadas a la paralelización de procesos.\n",
        "\n",
        "Beam es una abstracción por lo que los detalles de implementación son gestionados por los motores de ejecución (Flink, DataFlow...)\n",
        "\n",
        "Es un framework compatible con distintos lenguajes de programación como Java, Python o Go.\n",
        "\n",
        "**2. ¿Cuáles son las diferentes formas de desplegar un modelo?**\n",
        "\n",
        "Distinguimos cuatro opciones:\n",
        "\n",
        "* Despligue en Batch. Desplegamos el modelo para hacer predicciones de grandes cantidades de datos en un momento puntual.\n",
        "\n",
        "* Despligue online. Permite la disponibilización del modelo a demanda por el ususario de manera que se pueden realizar predicciones mediante llamdas a APIs.\n",
        "\n",
        "* Despliegue en streaming Despligue pensando en la recepción continua de datos de manera que nuestro servidor es capaz de procesar un flujo continuo e ininterrumpido de datos en tiempo real.\n",
        "\n",
        "* ML Automatizado. Es el estado más avanzado en el desarrollo de MLOPS en el que el modelo es monitoeado y reentrenado de manera automática.\n",
        "\n",
        "**3. ¿Cuál es la principal diferencia entre la inferencia en batch y la inferencia en streaming?**\n",
        "\n",
        "La inferencia en batch procesa grandes cantidades de datos en momentos puntuales y normalmente programados de antemano frente al procesamiento en streming cuya infrastructura está diseñada para estar constantemente en funcionamiento emitiendo predicciones de manera continua y en tiempo real (o casi).\n",
        "\n"
      ]
    },
    {
      "cell_type": "markdown",
      "metadata": {
        "id": "hgE9XB8ACVmQ"
      },
      "source": [
        "# Configuración de nuestro proyecto en GCP\n"
      ]
    },
    {
      "cell_type": "code",
      "execution_count": 1,
      "metadata": {
        "id": "zAorVw7RCT9C",
        "colab": {
          "base_uri": "https://localhost:8080/"
        },
        "outputId": "29a8f30f-9cb7-400a-9a61-90a417337f25"
      },
      "outputs": [
        {
          "output_type": "stream",
          "name": "stdout",
          "text": [
            "Updated property [core/project].\n"
          ]
        }
      ],
      "source": [
        "PROJECT_ID = 'ia-practica-0402'\n",
        "!gcloud config set project $PROJECT_ID"
      ]
    },
    {
      "cell_type": "code",
      "execution_count": 1,
      "metadata": {
        "id": "hbAl8pSkCXCm"
      },
      "outputs": [],
      "source": [
        "import sys\n",
        "\n",
        "# If you are running this notebook in Colab, run this cell and follow the\n",
        "# instructions to authenticate your GCP account. This provides access to your\n",
        "# Cloud Storage bucket and lets you submit training jobs and prediction\n",
        "# requests.\n",
        "\n",
        "if 'google.colab' in sys.modules:\n",
        "  from google.colab import auth as google_auth\n",
        "  google_auth.authenticate_user()\n",
        "\n",
        "# If you are running this notebook locally, replace the string below with the\n",
        "# path to your service account key and run this cell to authenticate your GCP\n",
        "# account.\n",
        "else:\n",
        "  %env GOOGLE_APPLICATION_CREDENTIALS ''"
      ]
    },
    {
      "cell_type": "markdown",
      "metadata": {
        "id": "p5Xoej7vH0X-"
      },
      "source": [
        "Creamos el bucket mediante la consola y una vez creado lo indicamos en la variable:"
      ]
    },
    {
      "cell_type": "code",
      "execution_count": 3,
      "metadata": {
        "id": "n6Zpx14FCfXy"
      },
      "outputs": [],
      "source": [
        "BUCKET_NAME = 'ia-practica-0402'\n",
        "REGION = \"europe-west1\""
      ]
    },
    {
      "cell_type": "code",
      "execution_count": 4,
      "metadata": {
        "id": "lE4V-Xt0ChSb",
        "colab": {
          "base_uri": "https://localhost:8080/"
        },
        "outputId": "d89b0d6c-5cb0-484c-d2aa-9bb76f03fe51"
      },
      "outputs": [
        {
          "output_type": "stream",
          "name": "stdout",
          "text": [
            "Creating gs://ia-practica-0402/...\n",
            "ServiceException: 409 A Cloud Storage bucket named 'ia-practica-0402' already exists. Try another name. Bucket names must be globally unique across all Google Cloud projects, including those outside of your organization.\n"
          ]
        }
      ],
      "source": [
        "! gsutil mb -l $REGION gs://$BUCKET_NAME"
      ]
    },
    {
      "cell_type": "code",
      "source": [
        "! gsutil ls -al gs://$BUCKET_NAME"
      ],
      "metadata": {
        "id": "gOVdfljXuRPy",
        "colab": {
          "base_uri": "https://localhost:8080/"
        },
        "outputId": "febdb085-dd08-4a8b-ef1d-61c551ada33d"
      },
      "execution_count": 5,
      "outputs": [
        {
          "output_type": "stream",
          "name": "stdout",
          "text": [
            "                                 gs://ia-practica-0402/twitter-sentiment-batch/\n"
          ]
        }
      ]
    },
    {
      "cell_type": "markdown",
      "metadata": {
        "id": "3D8Qw14y_nRa"
      },
      "source": [
        "# Entrenamiento e inferencia en Batch\n",
        "\n",
        "## Preparación\n",
        "\n",
        "Para esta primera parte se va a utilizar [Tweets Dataset for Detection of Cyber-Trolls](https://www.kaggle.com/dataturks/dataset-for-detection-of-cybertrolls). El objetivo es desarrollar un clasificador binario para detectar si el mensaje recibido es troll (1) o no (0). **Las métricas obtenidas del entrenamiento y la inferencia no se tendrán en cuenta para la evaluación de la práctica, la importancia está en la arquitectura de la solución**, es decir, lo importante no es que nuestro modelo detecte correctamente los tweets de trolls si no que funcione y sea capaz de hacer inferencias.\n"
      ]
    },
    {
      "cell_type": "markdown",
      "metadata": {
        "id": "qM_dh-471gIq"
      },
      "source": [
        "A continuación, se van a subir los datos de entrenamiento al bucket del proyecto que se haya creado. **Importante:** crea el bucket en una única región. Os dejo disponibilizado el dataset en un bucket de acceso público:"
      ]
    },
    {
      "cell_type": "code",
      "execution_count": 2,
      "metadata": {
        "id": "Sqp4L_nmUjAc",
        "colab": {
          "base_uri": "https://localhost:8080/"
        },
        "outputId": "65f9ffb3-3e90-4542-f52e-1fba361ada73"
      },
      "outputs": [
        {
          "output_type": "stream",
          "name": "stdout",
          "text": [
            "Requirement already satisfied: gdown in /usr/local/lib/python3.10/dist-packages (4.7.3)\n",
            "Requirement already satisfied: filelock in /usr/local/lib/python3.10/dist-packages (from gdown) (3.13.3)\n",
            "Requirement already satisfied: requests[socks] in /usr/local/lib/python3.10/dist-packages (from gdown) (2.31.0)\n",
            "Requirement already satisfied: six in /usr/local/lib/python3.10/dist-packages (from gdown) (1.16.0)\n",
            "Requirement already satisfied: tqdm in /usr/local/lib/python3.10/dist-packages (from gdown) (4.66.2)\n",
            "Requirement already satisfied: beautifulsoup4 in /usr/local/lib/python3.10/dist-packages (from gdown) (4.12.3)\n",
            "Requirement already satisfied: soupsieve>1.2 in /usr/local/lib/python3.10/dist-packages (from beautifulsoup4->gdown) (2.5)\n",
            "Requirement already satisfied: charset-normalizer<4,>=2 in /usr/local/lib/python3.10/dist-packages (from requests[socks]->gdown) (3.3.2)\n",
            "Requirement already satisfied: idna<4,>=2.5 in /usr/local/lib/python3.10/dist-packages (from requests[socks]->gdown) (3.6)\n",
            "Requirement already satisfied: urllib3<3,>=1.21.1 in /usr/local/lib/python3.10/dist-packages (from requests[socks]->gdown) (2.0.7)\n",
            "Requirement already satisfied: certifi>=2017.4.17 in /usr/local/lib/python3.10/dist-packages (from requests[socks]->gdown) (2024.2.2)\n",
            "Requirement already satisfied: PySocks!=1.5.7,>=1.5.6 in /usr/local/lib/python3.10/dist-packages (from requests[socks]->gdown) (1.7.1)\n",
            "Downloading...\n",
            "From: https://drive.google.com/uc?id=1dTaKofC9ZcMWa5cVtGLDFkEnbc4hiPJr\n",
            "To: /content/dataset-cybertrolls.json\n",
            "100% 2.76M/2.76M [00:00<00:00, 58.8MB/s]\n"
          ]
        }
      ],
      "source": [
        "%pip install gdown\n",
        "! gdown \"1dTaKofC9ZcMWa5cVtGLDFkEnbc4hiPJr\""
      ]
    },
    {
      "cell_type": "markdown",
      "metadata": {
        "id": "vCQQ9j2I11tg"
      },
      "source": [
        "Ahora se crea el directorio dónde vas a desarrollar esta primera parte de la práctica."
      ]
    },
    {
      "cell_type": "code",
      "source": [
        "# Clono el directorio con los pipes, incluye los pipes siministrados y los\n",
        "# y los modificados para conteplar el dataset con datos json y la ejecucion\n",
        "# en nube y en local (colab)\n",
        "\n",
        "! git clone https://github.com/danrool/twitter-sentiment-batch"
      ],
      "metadata": {
        "colab": {
          "base_uri": "https://localhost:8080/"
        },
        "id": "rLXnvAFhLrin",
        "outputId": "6f2f1210-3415-4893-e2b1-379b16e25fc7"
      },
      "execution_count": 3,
      "outputs": [
        {
          "output_type": "stream",
          "name": "stdout",
          "text": [
            "Cloning into 'twitter-sentiment-batch'...\n",
            "remote: Enumerating objects: 18, done.\u001b[K\n",
            "remote: Counting objects: 100% (18/18), done.\u001b[K\n",
            "remote: Compressing objects: 100% (11/11), done.\u001b[K\n",
            "remote: Total 18 (delta 4), reused 18 (delta 4), pack-reused 0\u001b[K\n",
            "Receiving objects: 100% (18/18), 6.64 MiB | 2.13 MiB/s, done.\n",
            "Resolving deltas: 100% (4/4), done.\n",
            "Updating files: 100% (13/13), done.\n"
          ]
        }
      ]
    },
    {
      "cell_type": "code",
      "execution_count": 4,
      "metadata": {
        "id": "PsblBlJ6RrGm"
      },
      "outputs": [],
      "source": [
        "# Creo los directorios necesarios y copio el dataset\n",
        "\n",
        "! mkdir -p mkdir ./twitter-sentiment-batch/data && cp /content/dataset-cybertrolls.json ./twitter-sentiment-batch/data/dataset-cybertrolls.json"
      ]
    },
    {
      "cell_type": "code",
      "source": [
        "# Verifico los datos\n",
        "\n",
        "! ls"
      ],
      "metadata": {
        "colab": {
          "base_uri": "https://localhost:8080/"
        },
        "id": "9yb2kYK-PHqc",
        "outputId": "66d33ea9-57ef-4f3f-b229-cf0957ec2bac"
      },
      "execution_count": 5,
      "outputs": [
        {
          "output_type": "stream",
          "name": "stdout",
          "text": [
            "dataset-cybertrolls.json  mkdir  sample_data  twitter-sentiment-batch\n"
          ]
        }
      ]
    },
    {
      "cell_type": "markdown",
      "metadata": {
        "id": "nyK51quU1_oi"
      },
      "source": [
        "Se establece el directorio de trabajo que hemos creado."
      ]
    },
    {
      "cell_type": "code",
      "execution_count": 6,
      "metadata": {
        "id": "s7ybSaotRwkP",
        "colab": {
          "base_uri": "https://localhost:8080/"
        },
        "outputId": "edf9b75e-1b94-46fb-c77d-b177b690ce00"
      },
      "outputs": [
        {
          "output_type": "stream",
          "name": "stdout",
          "text": [
            "/content/twitter-sentiment-batch\n"
          ]
        }
      ],
      "source": [
        "# Estableco el directorio de trabajo\n",
        "\n",
        "%cd twitter-sentiment-batch/"
      ]
    },
    {
      "cell_type": "markdown",
      "metadata": {
        "id": "4NSd4bAo2aj_"
      },
      "source": [
        "Ahora se descargarán los datos en el workspace de Colab para trabajar en local."
      ]
    },
    {
      "cell_type": "code",
      "execution_count": 7,
      "metadata": {
        "id": "qOmUJSg1JCgg",
        "colab": {
          "base_uri": "https://localhost:8080/"
        },
        "outputId": "838c1b33-fdcd-4a65-8801-d51eda8472c1"
      },
      "outputs": [
        {
          "output_type": "stream",
          "name": "stdout",
          "text": [
            "data\t    predict-work.py\t     preprocess.py\t README.md\t   setup.py\t  trainer\n",
            "predict.py  preprocess-local-gcp.py  preprocess-work.py  requirements.txt  tokenizer.pkl\n",
            "dataset-cybertrolls.json\n"
          ]
        }
      ],
      "source": [
        "# Verifico los archivos y datos\n",
        "\n",
        "! ls && ls ./data"
      ]
    },
    {
      "cell_type": "markdown",
      "metadata": {
        "id": "eRoW6zyg2kEz"
      },
      "source": [
        "Se establecen las dependencias que se usarán en la práctica. Se pueden añadir y quitar las dependencias que no se usen o viceversa."
      ]
    },
    {
      "cell_type": "code",
      "execution_count": 8,
      "metadata": {
        "id": "9s0-8_JK_z2D",
        "colab": {
          "base_uri": "https://localhost:8080/"
        },
        "outputId": "9be6de16-3f68-473b-a2f1-5f201e4094aa"
      },
      "outputs": [
        {
          "output_type": "stream",
          "name": "stdout",
          "text": [
            "Overwriting requirements.txt\n"
          ]
        }
      ],
      "source": [
        "%%writefile requirements.txt\n",
        "\n",
        "apache-beam[gcp]\n",
        "tensorflow\n",
        "gensim==3.6.0\n",
        "fsspec==0.8.4\n",
        "gcsfs==0.7.1\n",
        "numpy==1.20.0"
      ]
    },
    {
      "cell_type": "markdown",
      "metadata": {
        "id": "yIl8lrPp2x2j"
      },
      "source": [
        "Instalamos las dependencias. **No olvides reiniciar el entorno al instalar y establecer las variables y credenciales de GCP al arrancar.**"
      ]
    },
    {
      "cell_type": "code",
      "execution_count": 9,
      "metadata": {
        "id": "74dHb1iQ0UNN",
        "colab": {
          "base_uri": "https://localhost:8080/"
        },
        "outputId": "a732b2cb-ad8b-4ffa-df0d-2b4e2d7d7344"
      },
      "outputs": [
        {
          "output_type": "stream",
          "name": "stdout",
          "text": [
            "Collecting apache-beam[gcp] (from -r requirements.txt (line 2))\n",
            "  Downloading apache_beam-2.55.0-cp310-cp310-manylinux_2_17_x86_64.manylinux2014_x86_64.whl (14.8 MB)\n",
            "\u001b[2K     \u001b[90m━━━━━━━━━━━━━━━━━━━━━━━━━━━━━━━━━━━━━━━━\u001b[0m \u001b[32m14.8/14.8 MB\u001b[0m \u001b[31m26.3 MB/s\u001b[0m eta \u001b[36m0:00:00\u001b[0m\n",
            "\u001b[?25hRequirement already satisfied: tensorflow in /usr/local/lib/python3.10/dist-packages (from -r requirements.txt (line 3)) (2.15.0)\n",
            "Collecting gensim==3.6.0 (from -r requirements.txt (line 4))\n",
            "  Downloading gensim-3.6.0.tar.gz (23.1 MB)\n",
            "\u001b[2K     \u001b[90m━━━━━━━━━━━━━━━━━━━━━━━━━━━━━━━━━━━━━━━━\u001b[0m \u001b[32m23.1/23.1 MB\u001b[0m \u001b[31m29.9 MB/s\u001b[0m eta \u001b[36m0:00:00\u001b[0m\n",
            "\u001b[?25h  Preparing metadata (setup.py) ... \u001b[?25l\u001b[?25hdone\n",
            "Collecting fsspec==0.8.4 (from -r requirements.txt (line 5))\n",
            "  Downloading fsspec-0.8.4-py3-none-any.whl (91 kB)\n",
            "\u001b[2K     \u001b[90m━━━━━━━━━━━━━━━━━━━━━━━━━━━━━━━━━━━━━━━━\u001b[0m \u001b[32m91.1/91.1 kB\u001b[0m \u001b[31m10.0 MB/s\u001b[0m eta \u001b[36m0:00:00\u001b[0m\n",
            "\u001b[?25hCollecting gcsfs==0.7.1 (from -r requirements.txt (line 6))\n",
            "  Downloading gcsfs-0.7.1-py2.py3-none-any.whl (20 kB)\n",
            "Collecting numpy==1.20.0 (from -r requirements.txt (line 7))\n",
            "  Downloading numpy-1.20.0.zip (8.0 MB)\n",
            "\u001b[2K     \u001b[90m━━━━━━━━━━━━━━━━━━━━━━━━━━━━━━━━━━━━━━━━\u001b[0m \u001b[32m8.0/8.0 MB\u001b[0m \u001b[31m45.9 MB/s\u001b[0m eta \u001b[36m0:00:00\u001b[0m\n",
            "\u001b[?25h  Installing build dependencies ... \u001b[?25l\u001b[?25hdone\n",
            "  Getting requirements to build wheel ... \u001b[?25l\u001b[?25hdone\n",
            "  Preparing metadata (pyproject.toml) ... \u001b[?25l\u001b[?25hdone\n",
            "Requirement already satisfied: scipy>=0.18.1 in /usr/local/lib/python3.10/dist-packages (from gensim==3.6.0->-r requirements.txt (line 4)) (1.11.4)\n",
            "Requirement already satisfied: six>=1.5.0 in /usr/local/lib/python3.10/dist-packages (from gensim==3.6.0->-r requirements.txt (line 4)) (1.16.0)\n",
            "Requirement already satisfied: smart_open>=1.2.1 in /usr/local/lib/python3.10/dist-packages (from gensim==3.6.0->-r requirements.txt (line 4)) (6.4.0)\n",
            "Requirement already satisfied: google-auth>=1.2 in /usr/local/lib/python3.10/dist-packages (from gcsfs==0.7.1->-r requirements.txt (line 6)) (2.27.0)\n",
            "Requirement already satisfied: google-auth-oauthlib in /usr/local/lib/python3.10/dist-packages (from gcsfs==0.7.1->-r requirements.txt (line 6)) (1.2.0)\n",
            "Requirement already satisfied: requests in /usr/local/lib/python3.10/dist-packages (from gcsfs==0.7.1->-r requirements.txt (line 6)) (2.31.0)\n",
            "Requirement already satisfied: decorator in /usr/local/lib/python3.10/dist-packages (from gcsfs==0.7.1->-r requirements.txt (line 6)) (4.4.2)\n",
            "Requirement already satisfied: aiohttp in /usr/local/lib/python3.10/dist-packages (from gcsfs==0.7.1->-r requirements.txt (line 6)) (3.9.3)\n",
            "Collecting crcmod<2.0,>=1.7 (from apache-beam[gcp]->-r requirements.txt (line 2))\n",
            "  Downloading crcmod-1.7.tar.gz (89 kB)\n",
            "\u001b[2K     \u001b[90m━━━━━━━━━━━━━━━━━━━━━━━━━━━━━━━━━━━━━━━━\u001b[0m \u001b[32m89.7/89.7 kB\u001b[0m \u001b[31m8.7 MB/s\u001b[0m eta \u001b[36m0:00:00\u001b[0m\n",
            "\u001b[?25h  Preparing metadata (setup.py) ... \u001b[?25l\u001b[?25hdone\n",
            "Collecting orjson<4,>=3.9.7 (from apache-beam[gcp]->-r requirements.txt (line 2))\n",
            "  Downloading orjson-3.10.0-cp310-cp310-manylinux_2_17_x86_64.manylinux2014_x86_64.whl (144 kB)\n",
            "\u001b[2K     \u001b[90m━━━━━━━━━━━━━━━━━━━━━━━━━━━━━━━━━━━━━━━━\u001b[0m \u001b[32m144.8/144.8 kB\u001b[0m \u001b[31m13.9 MB/s\u001b[0m eta \u001b[36m0:00:00\u001b[0m\n",
            "\u001b[?25hCollecting dill<0.3.2,>=0.3.1.1 (from apache-beam[gcp]->-r requirements.txt (line 2))\n",
            "  Downloading dill-0.3.1.1.tar.gz (151 kB)\n",
            "\u001b[2K     \u001b[90m━━━━━━━━━━━━━━━━━━━━━━━━━━━━━━━━━━━━━━━━\u001b[0m \u001b[32m152.0/152.0 kB\u001b[0m \u001b[31m15.3 MB/s\u001b[0m eta \u001b[36m0:00:00\u001b[0m\n",
            "\u001b[?25h  Preparing metadata (setup.py) ... \u001b[?25l\u001b[?25hdone\n",
            "Requirement already satisfied: cloudpickle~=2.2.1 in /usr/local/lib/python3.10/dist-packages (from apache-beam[gcp]->-r requirements.txt (line 2)) (2.2.1)\n",
            "Collecting fastavro<2,>=0.23.6 (from apache-beam[gcp]->-r requirements.txt (line 2))\n",
            "  Downloading fastavro-1.9.4-cp310-cp310-manylinux_2_17_x86_64.manylinux2014_x86_64.whl (3.1 MB)\n",
            "\u001b[2K     \u001b[90m━━━━━━━━━━━━━━━━━━━━━━━━━━━━━━━━━━━━━━━━\u001b[0m \u001b[32m3.1/3.1 MB\u001b[0m \u001b[31m63.4 MB/s\u001b[0m eta \u001b[36m0:00:00\u001b[0m\n",
            "\u001b[?25hCollecting fasteners<1.0,>=0.3 (from apache-beam[gcp]->-r requirements.txt (line 2))\n",
            "  Downloading fasteners-0.19-py3-none-any.whl (18 kB)\n",
            "Requirement already satisfied: grpcio!=1.48.0,<2,>=1.33.1 in /usr/local/lib/python3.10/dist-packages (from apache-beam[gcp]->-r requirements.txt (line 2)) (1.62.1)\n",
            "Collecting hdfs<3.0.0,>=2.1.0 (from apache-beam[gcp]->-r requirements.txt (line 2))\n",
            "  Downloading hdfs-2.7.3.tar.gz (43 kB)\n",
            "\u001b[2K     \u001b[90m━━━━━━━━━━━━━━━━━━━━━━━━━━━━━━━━━━━━━━━━\u001b[0m \u001b[32m43.5/43.5 kB\u001b[0m \u001b[31m5.0 MB/s\u001b[0m eta \u001b[36m0:00:00\u001b[0m\n",
            "\u001b[?25h  Preparing metadata (setup.py) ... \u001b[?25l\u001b[?25hdone\n",
            "Requirement already satisfied: httplib2<0.23.0,>=0.8 in /usr/local/lib/python3.10/dist-packages (from apache-beam[gcp]->-r requirements.txt (line 2)) (0.22.0)\n",
            "Collecting js2py<1,>=0.74 (from apache-beam[gcp]->-r requirements.txt (line 2))\n",
            "  Downloading Js2Py-0.74-py3-none-any.whl (1.0 MB)\n",
            "\u001b[2K     \u001b[90m━━━━━━━━━━━━━━━━━━━━━━━━━━━━━━━━━━━━━━━━\u001b[0m \u001b[32m1.0/1.0 MB\u001b[0m \u001b[31m59.0 MB/s\u001b[0m eta \u001b[36m0:00:00\u001b[0m\n",
            "\u001b[?25hRequirement already satisfied: jsonschema<5.0.0,>=4.0.0 in /usr/local/lib/python3.10/dist-packages (from apache-beam[gcp]->-r requirements.txt (line 2)) (4.19.2)\n",
            "Requirement already satisfied: jsonpickle<4.0.0,>=3.0.0 in /usr/local/lib/python3.10/dist-packages (from apache-beam[gcp]->-r requirements.txt (line 2)) (3.0.3)\n",
            "Collecting objsize<0.8.0,>=0.6.1 (from apache-beam[gcp]->-r requirements.txt (line 2))\n",
            "  Downloading objsize-0.7.0-py3-none-any.whl (11 kB)\n",
            "Requirement already satisfied: packaging>=22.0 in /usr/local/lib/python3.10/dist-packages (from apache-beam[gcp]->-r requirements.txt (line 2)) (24.0)\n",
            "Collecting pymongo<5.0.0,>=3.8.0 (from apache-beam[gcp]->-r requirements.txt (line 2))\n",
            "  Downloading pymongo-4.6.3-cp310-cp310-manylinux_2_17_x86_64.manylinux2014_x86_64.whl (676 kB)\n",
            "\u001b[2K     \u001b[90m━━━━━━━━━━━━━━━━━━━━━━━━━━━━━━━━━━━━━━━━\u001b[0m \u001b[32m676.9/676.9 kB\u001b[0m \u001b[31m35.1 MB/s\u001b[0m eta \u001b[36m0:00:00\u001b[0m\n",
            "\u001b[?25hRequirement already satisfied: proto-plus<2,>=1.7.1 in /usr/local/lib/python3.10/dist-packages (from apache-beam[gcp]->-r requirements.txt (line 2)) (1.23.0)\n",
            "Requirement already satisfied: protobuf!=4.0.*,!=4.21.*,!=4.22.0,!=4.23.*,!=4.24.*,<4.26.0,>=3.20.3 in /usr/local/lib/python3.10/dist-packages (from apache-beam[gcp]->-r requirements.txt (line 2)) (3.20.3)\n",
            "Requirement already satisfied: pydot<2,>=1.2.0 in /usr/local/lib/python3.10/dist-packages (from apache-beam[gcp]->-r requirements.txt (line 2)) (1.4.2)\n",
            "Requirement already satisfied: python-dateutil<3,>=2.8.0 in /usr/local/lib/python3.10/dist-packages (from apache-beam[gcp]->-r requirements.txt (line 2)) (2.8.2)\n",
            "Requirement already satisfied: pytz>=2018.3 in /usr/local/lib/python3.10/dist-packages (from apache-beam[gcp]->-r requirements.txt (line 2)) (2023.4)\n",
            "Requirement already satisfied: regex>=2020.6.8 in /usr/local/lib/python3.10/dist-packages (from apache-beam[gcp]->-r requirements.txt (line 2)) (2023.12.25)\n",
            "Requirement already satisfied: typing-extensions>=3.7.0 in /usr/local/lib/python3.10/dist-packages (from apache-beam[gcp]->-r requirements.txt (line 2)) (4.10.0)\n",
            "Collecting zstandard<1,>=0.18.0 (from apache-beam[gcp]->-r requirements.txt (line 2))\n",
            "  Downloading zstandard-0.22.0-cp310-cp310-manylinux_2_17_x86_64.manylinux2014_x86_64.whl (5.4 MB)\n",
            "\u001b[2K     \u001b[90m━━━━━━━━━━━━━━━━━━━━━━━━━━━━━━━━━━━━━━━━\u001b[0m \u001b[32m5.4/5.4 MB\u001b[0m \u001b[31m53.7 MB/s\u001b[0m eta \u001b[36m0:00:00\u001b[0m\n",
            "\u001b[?25hRequirement already satisfied: pyarrow<15.0.0,>=3.0.0 in /usr/local/lib/python3.10/dist-packages (from apache-beam[gcp]->-r requirements.txt (line 2)) (14.0.2)\n",
            "Requirement already satisfied: pyarrow-hotfix<1 in /usr/local/lib/python3.10/dist-packages (from apache-beam[gcp]->-r requirements.txt (line 2)) (0.6)\n",
            "Requirement already satisfied: cachetools<6,>=3.1.0 in /usr/local/lib/python3.10/dist-packages (from apache-beam[gcp]->-r requirements.txt (line 2)) (5.3.3)\n",
            "Requirement already satisfied: google-api-core<3,>=2.0.0 in /usr/local/lib/python3.10/dist-packages (from apache-beam[gcp]->-r requirements.txt (line 2)) (2.11.1)\n",
            "Collecting google-apitools<0.5.32,>=0.5.31 (from apache-beam[gcp]->-r requirements.txt (line 2))\n",
            "  Downloading google-apitools-0.5.31.tar.gz (173 kB)\n",
            "\u001b[2K     \u001b[90m━━━━━━━━━━━━━━━━━━━━━━━━━━━━━━━━━━━━━━━━\u001b[0m \u001b[32m173.5/173.5 kB\u001b[0m \u001b[31m18.9 MB/s\u001b[0m eta \u001b[36m0:00:00\u001b[0m\n",
            "\u001b[?25h  Preparing metadata (setup.py) ... \u001b[?25l\u001b[?25hdone\n",
            "Requirement already satisfied: google-auth-httplib2<0.2.0,>=0.1.0 in /usr/local/lib/python3.10/dist-packages (from apache-beam[gcp]->-r requirements.txt (line 2)) (0.1.1)\n",
            "Requirement already satisfied: google-cloud-datastore<3,>=2.0.0 in /usr/local/lib/python3.10/dist-packages (from apache-beam[gcp]->-r requirements.txt (line 2)) (2.15.2)\n",
            "Collecting google-cloud-pubsub<3,>=2.1.0 (from apache-beam[gcp]->-r requirements.txt (line 2))\n",
            "  Downloading google_cloud_pubsub-2.21.1-py2.py3-none-any.whl (273 kB)\n",
            "\u001b[2K     \u001b[90m━━━━━━━━━━━━━━━━━━━━━━━━━━━━━━━━━━━━━━━━\u001b[0m \u001b[32m273.2/273.2 kB\u001b[0m \u001b[31m22.8 MB/s\u001b[0m eta \u001b[36m0:00:00\u001b[0m\n",
            "\u001b[?25hCollecting google-cloud-pubsublite<2,>=1.2.0 (from apache-beam[gcp]->-r requirements.txt (line 2))\n",
            "  Downloading google_cloud_pubsublite-1.9.0-py2.py3-none-any.whl (287 kB)\n",
            "\u001b[2K     \u001b[90m━━━━━━━━━━━━━━━━━━━━━━━━━━━━━━━━━━━━━━━━\u001b[0m \u001b[32m287.3/287.3 kB\u001b[0m \u001b[31m24.5 MB/s\u001b[0m eta \u001b[36m0:00:00\u001b[0m\n",
            "\u001b[?25hCollecting google-cloud-storage<3,>=2.14.0 (from apache-beam[gcp]->-r requirements.txt (line 2))\n",
            "  Downloading google_cloud_storage-2.16.0-py2.py3-none-any.whl (125 kB)\n",
            "\u001b[2K     \u001b[90m━━━━━━━━━━━━━━━━━━━━━━━━━━━━━━━━━━━━━━━━\u001b[0m \u001b[32m125.6/125.6 kB\u001b[0m \u001b[31m12.7 MB/s\u001b[0m eta \u001b[36m0:00:00\u001b[0m\n",
            "\u001b[?25hRequirement already satisfied: google-cloud-bigquery<4,>=2.0.0 in /usr/local/lib/python3.10/dist-packages (from apache-beam[gcp]->-r requirements.txt (line 2)) (3.12.0)\n",
            "Requirement already satisfied: google-cloud-bigquery-storage<3,>=2.6.3 in /usr/local/lib/python3.10/dist-packages (from apache-beam[gcp]->-r requirements.txt (line 2)) (2.24.0)\n",
            "Requirement already satisfied: google-cloud-core<3,>=2.0.0 in /usr/local/lib/python3.10/dist-packages (from apache-beam[gcp]->-r requirements.txt (line 2)) (2.3.3)\n",
            "Collecting google-cloud-bigtable<3,>=2.19.0 (from apache-beam[gcp]->-r requirements.txt (line 2))\n",
            "  Downloading google_cloud_bigtable-2.23.0-py2.py3-none-any.whl (357 kB)\n",
            "\u001b[2K     \u001b[90m━━━━━━━━━━━━━━━━━━━━━━━━━━━━━━━━━━━━━━━━\u001b[0m \u001b[32m357.5/357.5 kB\u001b[0m \u001b[31m35.5 MB/s\u001b[0m eta \u001b[36m0:00:00\u001b[0m\n",
            "\u001b[?25hCollecting google-cloud-spanner<4,>=3.0.0 (from apache-beam[gcp]->-r requirements.txt (line 2))\n",
            "  Downloading google_cloud_spanner-3.44.0-py2.py3-none-any.whl (357 kB)\n",
            "\u001b[2K     \u001b[90m━━━━━━━━━━━━━━━━━━━━━━━━━━━━━━━━━━━━━━━━\u001b[0m \u001b[32m357.2/357.2 kB\u001b[0m \u001b[31m31.3 MB/s\u001b[0m eta \u001b[36m0:00:00\u001b[0m\n",
            "\u001b[?25hCollecting google-cloud-dlp<4,>=3.0.0 (from apache-beam[gcp]->-r requirements.txt (line 2))\n",
            "  Downloading google_cloud_dlp-3.16.0-py2.py3-none-any.whl (167 kB)\n",
            "\u001b[2K     \u001b[90m━━━━━━━━━━━━━━━━━━━━━━━━━━━━━━━━━━━━━━━━\u001b[0m \u001b[32m167.3/167.3 kB\u001b[0m \u001b[31m17.9 MB/s\u001b[0m eta \u001b[36m0:00:00\u001b[0m\n",
            "\u001b[?25hRequirement already satisfied: google-cloud-language<3,>=2.0 in /usr/local/lib/python3.10/dist-packages (from apache-beam[gcp]->-r requirements.txt (line 2)) (2.13.3)\n",
            "Collecting google-cloud-videointelligence<3,>=2.0 (from apache-beam[gcp]->-r requirements.txt (line 2))\n",
            "  Downloading google_cloud_videointelligence-2.13.3-py2.py3-none-any.whl (240 kB)\n",
            "\u001b[2K     \u001b[90m━━━━━━━━━━━━━━━━━━━━━━━━━━━━━━━━━━━━━━━━\u001b[0m \u001b[32m240.4/240.4 kB\u001b[0m \u001b[31m26.5 MB/s\u001b[0m eta \u001b[36m0:00:00\u001b[0m\n",
            "\u001b[?25hCollecting google-cloud-vision<4,>=2 (from apache-beam[gcp]->-r requirements.txt (line 2))\n",
            "  Downloading google_cloud_vision-3.7.2-py2.py3-none-any.whl (459 kB)\n",
            "\u001b[2K     \u001b[90m━━━━━━━━━━━━━━━━━━━━━━━━━━━━━━━━━━━━━━━━\u001b[0m \u001b[32m459.6/459.6 kB\u001b[0m \u001b[31m41.0 MB/s\u001b[0m eta \u001b[36m0:00:00\u001b[0m\n",
            "\u001b[?25hCollecting google-cloud-recommendations-ai<0.11.0,>=0.1.0 (from apache-beam[gcp]->-r requirements.txt (line 2))\n",
            "  Downloading google_cloud_recommendations_ai-0.10.10-py2.py3-none-any.whl (180 kB)\n",
            "\u001b[2K     \u001b[90m━━━━━━━━━━━━━━━━━━━━━━━━━━━━━━━━━━━━━━━━\u001b[0m \u001b[32m180.3/180.3 kB\u001b[0m \u001b[31m18.6 MB/s\u001b[0m eta \u001b[36m0:00:00\u001b[0m\n",
            "\u001b[?25hRequirement already satisfied: google-cloud-aiplatform<2.0,>=1.26.0 in /usr/local/lib/python3.10/dist-packages (from apache-beam[gcp]->-r requirements.txt (line 2)) (1.46.0)\n",
            "Requirement already satisfied: absl-py>=1.0.0 in /usr/local/lib/python3.10/dist-packages (from tensorflow->-r requirements.txt (line 3)) (1.4.0)\n",
            "Requirement already satisfied: astunparse>=1.6.0 in /usr/local/lib/python3.10/dist-packages (from tensorflow->-r requirements.txt (line 3)) (1.6.3)\n",
            "Requirement already satisfied: flatbuffers>=23.5.26 in /usr/local/lib/python3.10/dist-packages (from tensorflow->-r requirements.txt (line 3)) (24.3.25)\n",
            "Requirement already satisfied: gast!=0.5.0,!=0.5.1,!=0.5.2,>=0.2.1 in /usr/local/lib/python3.10/dist-packages (from tensorflow->-r requirements.txt (line 3)) (0.5.4)\n",
            "Requirement already satisfied: google-pasta>=0.1.1 in /usr/local/lib/python3.10/dist-packages (from tensorflow->-r requirements.txt (line 3)) (0.2.0)\n",
            "Requirement already satisfied: h5py>=2.9.0 in /usr/local/lib/python3.10/dist-packages (from tensorflow->-r requirements.txt (line 3)) (3.9.0)\n",
            "Requirement already satisfied: libclang>=13.0.0 in /usr/local/lib/python3.10/dist-packages (from tensorflow->-r requirements.txt (line 3)) (18.1.1)\n",
            "Requirement already satisfied: ml-dtypes~=0.2.0 in /usr/local/lib/python3.10/dist-packages (from tensorflow->-r requirements.txt (line 3)) (0.2.0)\n",
            "INFO: pip is looking at multiple versions of tensorflow to determine which version is compatible with other requirements. This could take a while.\n",
            "Collecting tensorflow (from -r requirements.txt (line 3))\n",
            "  Downloading tensorflow-2.16.1-cp310-cp310-manylinux_2_17_x86_64.manylinux2014_x86_64.whl (589.8 MB)\n",
            "\u001b[2K     \u001b[90m━━━━━━━━━━━━━━━━━━━━━━━━━━━━━━━━━━━━━━━━\u001b[0m \u001b[32m589.8/589.8 MB\u001b[0m \u001b[31m1.9 MB/s\u001b[0m eta \u001b[36m0:00:00\u001b[0m\n",
            "\u001b[?25hCollecting h5py>=3.10.0 (from tensorflow->-r requirements.txt (line 3))\n",
            "  Downloading h5py-3.10.0-cp310-cp310-manylinux_2_17_x86_64.manylinux2014_x86_64.whl (4.8 MB)\n",
            "\u001b[2K     \u001b[90m━━━━━━━━━━━━━━━━━━━━━━━━━━━━━━━━━━━━━━━━\u001b[0m \u001b[32m4.8/4.8 MB\u001b[0m \u001b[31m14.3 MB/s\u001b[0m eta \u001b[36m0:00:00\u001b[0m\n",
            "\u001b[?25hCollecting ml-dtypes~=0.3.1 (from tensorflow->-r requirements.txt (line 3))\n",
            "  Downloading ml_dtypes-0.3.2-cp310-cp310-manylinux_2_17_x86_64.manylinux2014_x86_64.whl (2.2 MB)\n",
            "\u001b[2K     \u001b[90m━━━━━━━━━━━━━━━━━━━━━━━━━━━━━━━━━━━━━━━━\u001b[0m \u001b[32m2.2/2.2 MB\u001b[0m \u001b[31m34.2 MB/s\u001b[0m eta \u001b[36m0:00:00\u001b[0m\n",
            "\u001b[?25hRequirement already satisfied: opt-einsum>=2.3.2 in /usr/local/lib/python3.10/dist-packages (from tensorflow->-r requirements.txt (line 3)) (3.3.0)\n",
            "Requirement already satisfied: setuptools in /usr/local/lib/python3.10/dist-packages (from tensorflow->-r requirements.txt (line 3)) (67.7.2)\n",
            "Requirement already satisfied: termcolor>=1.1.0 in /usr/local/lib/python3.10/dist-packages (from tensorflow->-r requirements.txt (line 3)) (2.4.0)\n",
            "Requirement already satisfied: wrapt>=1.11.0 in /usr/local/lib/python3.10/dist-packages (from tensorflow->-r requirements.txt (line 3)) (1.14.1)\n",
            "Collecting tensorboard<2.17,>=2.16 (from tensorflow->-r requirements.txt (line 3))\n",
            "  Downloading tensorboard-2.16.2-py3-none-any.whl (5.5 MB)\n",
            "\u001b[2K     \u001b[90m━━━━━━━━━━━━━━━━━━━━━━━━━━━━━━━━━━━━━━━━\u001b[0m \u001b[32m5.5/5.5 MB\u001b[0m \u001b[31m29.7 MB/s\u001b[0m eta \u001b[36m0:00:00\u001b[0m\n",
            "\u001b[?25hCollecting keras>=3.0.0 (from tensorflow->-r requirements.txt (line 3))\n",
            "  Downloading keras-3.1.1-py3-none-any.whl (1.1 MB)\n",
            "\u001b[2K     \u001b[90m━━━━━━━━━━━━━━━━━━━━━━━━━━━━━━━━━━━━━━━━\u001b[0m \u001b[32m1.1/1.1 MB\u001b[0m \u001b[31m22.9 MB/s\u001b[0m eta \u001b[36m0:00:00\u001b[0m\n",
            "\u001b[?25hRequirement already satisfied: tensorflow-io-gcs-filesystem>=0.23.1 in /usr/local/lib/python3.10/dist-packages (from tensorflow->-r requirements.txt (line 3)) (0.36.0)\n",
            "Collecting tensorflow (from -r requirements.txt (line 3))\n",
            "  Downloading tensorflow-2.15.1-cp310-cp310-manylinux_2_17_x86_64.manylinux2014_x86_64.whl (475.2 MB)\n",
            "\u001b[2K     \u001b[90m━━━━━━━━━━━━━━━━━━━━━━━━━━━━━━━━━━━━━━━━\u001b[0m \u001b[32m475.2/475.2 MB\u001b[0m \u001b[31m2.5 MB/s\u001b[0m eta \u001b[36m0:00:00\u001b[0m\n",
            "\u001b[?25h  Downloading tensorflow-2.15.0.post1-cp310-cp310-manylinux_2_17_x86_64.manylinux2014_x86_64.whl (475.2 MB)\n",
            "\u001b[2K     \u001b[90m━━━━━━━━━━━━━━━━━━━━━━━━━━━━━━━━━━━━━━━━\u001b[0m \u001b[32m475.2/475.2 MB\u001b[0m \u001b[31m2.3 MB/s\u001b[0m eta \u001b[36m0:00:00\u001b[0m\n",
            "\u001b[?25h  Downloading tensorflow-2.14.1-cp310-cp310-manylinux_2_17_x86_64.manylinux2014_x86_64.whl (489.9 MB)\n",
            "\u001b[2K     \u001b[90m━━━━━━━━━━━━━━━━━━━━━━━━━━━━━━━━━━━━━━━━\u001b[0m \u001b[32m489.9/489.9 MB\u001b[0m \u001b[31m1.1 MB/s\u001b[0m eta \u001b[36m0:00:00\u001b[0m\n",
            "\u001b[?25h  Downloading tensorflow-2.14.0-cp310-cp310-manylinux_2_17_x86_64.manylinux2014_x86_64.whl (489.8 MB)\n",
            "\u001b[2K     \u001b[90m━━━━━━━━━━━━━━━━━━━━━━━━━━━━━━━━━━━━━━━━\u001b[0m \u001b[32m489.8/489.8 MB\u001b[0m \u001b[31m1.7 MB/s\u001b[0m eta \u001b[36m0:00:00\u001b[0m\n",
            "\u001b[?25h  Downloading tensorflow-2.13.1-cp310-cp310-manylinux_2_17_x86_64.manylinux2014_x86_64.whl (479.7 MB)\n",
            "\u001b[2K     \u001b[90m━━━━━━━━━━━━━━━━━━━━━━━━━━━━━━━━━━━━━━━━\u001b[0m \u001b[32m479.7/479.7 MB\u001b[0m \u001b[31m2.6 MB/s\u001b[0m eta \u001b[36m0:00:00\u001b[0m\n",
            "\u001b[?25hCollecting gast<=0.4.0,>=0.2.1 (from tensorflow->-r requirements.txt (line 3))\n",
            "  Downloading gast-0.4.0-py3-none-any.whl (9.8 kB)\n",
            "Collecting keras<2.14,>=2.13.1 (from tensorflow->-r requirements.txt (line 3))\n",
            "  Downloading keras-2.13.1-py3-none-any.whl (1.7 MB)\n",
            "\u001b[2K     \u001b[90m━━━━━━━━━━━━━━━━━━━━━━━━━━━━━━━━━━━━━━━━\u001b[0m \u001b[32m1.7/1.7 MB\u001b[0m \u001b[31m47.3 MB/s\u001b[0m eta \u001b[36m0:00:00\u001b[0m\n",
            "\u001b[?25hCollecting tensorflow (from -r requirements.txt (line 3))\n",
            "  Downloading tensorflow-2.13.0-cp310-cp310-manylinux_2_17_x86_64.manylinux2014_x86_64.whl (524.1 MB)\n",
            "\u001b[2K     \u001b[90m━━━━━━━━━━━━━━━━━━━━━━━━━━━━━━━━━━━━━━━━\u001b[0m \u001b[32m524.1/524.1 MB\u001b[0m \u001b[31m1.9 MB/s\u001b[0m eta \u001b[36m0:00:00\u001b[0m\n",
            "\u001b[?25hINFO: pip is looking at multiple versions of tensorflow to determine which version is compatible with other requirements. This could take a while.\n",
            "  Downloading tensorflow-2.12.1-cp310-cp310-manylinux_2_17_x86_64.manylinux2014_x86_64.whl (585.9 MB)\n",
            "\u001b[2K     \u001b[90m━━━━━━━━━━━━━━━━━━━━━━━━━━━━━━━━━━━━━━━━\u001b[0m \u001b[32m585.9/585.9 MB\u001b[0m \u001b[31m2.0 MB/s\u001b[0m eta \u001b[36m0:00:00\u001b[0m\n",
            "\u001b[?25hRequirement already satisfied: jax>=0.3.15 in /usr/local/lib/python3.10/dist-packages (from tensorflow->-r requirements.txt (line 3)) (0.4.23)\n",
            "Collecting keras<2.13,>=2.12.0 (from tensorflow->-r requirements.txt (line 3))\n",
            "  Downloading keras-2.12.0-py2.py3-none-any.whl (1.7 MB)\n",
            "\u001b[2K     \u001b[90m━━━━━━━━━━━━━━━━━━━━━━━━━━━━━━━━━━━━━━━━\u001b[0m \u001b[32m1.7/1.7 MB\u001b[0m \u001b[31m10.6 MB/s\u001b[0m eta \u001b[36m0:00:00\u001b[0m\n",
            "\u001b[?25hCollecting tensorflow (from -r requirements.txt (line 3))\n",
            "  Downloading tensorflow-2.12.0-cp310-cp310-manylinux_2_17_x86_64.manylinux2014_x86_64.whl (585.9 MB)\n",
            "\u001b[2K     \u001b[90m━━━━━━━━━━━━━━━━━━━━━━━━━━━━━━━━━━━━━━━━\u001b[0m \u001b[32m585.9/585.9 MB\u001b[0m \u001b[31m2.2 MB/s\u001b[0m eta \u001b[36m0:00:00\u001b[0m\n",
            "\u001b[?25h  Downloading tensorflow-2.11.1-cp310-cp310-manylinux_2_17_x86_64.manylinux2014_x86_64.whl (588.3 MB)\n",
            "\u001b[2K     \u001b[90m━━━━━━━━━━━━━━━━━━━━━━━━━━━━━━━━━━━━━━━━\u001b[0m \u001b[32m588.3/588.3 MB\u001b[0m \u001b[31m1.1 MB/s\u001b[0m eta \u001b[36m0:00:00\u001b[0m\n",
            "\u001b[?25hCollecting keras<2.12,>=2.11.0 (from tensorflow->-r requirements.txt (line 3))\n",
            "  Downloading keras-2.11.0-py2.py3-none-any.whl (1.7 MB)\n",
            "\u001b[2K     \u001b[90m━━━━━━━━━━━━━━━━━━━━━━━━━━━━━━━━━━━━━━━━\u001b[0m \u001b[32m1.7/1.7 MB\u001b[0m \u001b[31m15.6 MB/s\u001b[0m eta \u001b[36m0:00:00\u001b[0m\n",
            "\u001b[?25hCollecting tensorflow (from -r requirements.txt (line 3))\n",
            "  Downloading tensorflow-2.11.0-cp310-cp310-manylinux_2_17_x86_64.manylinux2014_x86_64.whl (588.3 MB)\n",
            "\u001b[2K     \u001b[90m━━━━━━━━━━━━━━━━━━━━━━━━━━━━━━━━━━━━━━━━\u001b[0m \u001b[32m588.3/588.3 MB\u001b[0m \u001b[31m1.8 MB/s\u001b[0m eta \u001b[36m0:00:00\u001b[0m\n",
            "\u001b[?25h  Downloading tensorflow-2.10.1-cp310-cp310-manylinux_2_17_x86_64.manylinux2014_x86_64.whl (578.1 MB)\n",
            "\u001b[2K     \u001b[90m━━━━━━━━━━━━━━━━━━━━━━━━━━━━━━━━━━━━━━━━\u001b[0m \u001b[32m578.1/578.1 MB\u001b[0m \u001b[31m2.3 MB/s\u001b[0m eta \u001b[36m0:00:00\u001b[0m\n",
            "\u001b[?25hCollecting keras<2.11,>=2.10.0 (from tensorflow->-r requirements.txt (line 3))\n",
            "  Downloading keras-2.10.0-py2.py3-none-any.whl (1.7 MB)\n",
            "\u001b[2K     \u001b[90m━━━━━━━━━━━━━━━━━━━━━━━━━━━━━━━━━━━━━━━━\u001b[0m \u001b[32m1.7/1.7 MB\u001b[0m \u001b[31m25.0 MB/s\u001b[0m eta \u001b[36m0:00:00\u001b[0m\n",
            "\u001b[?25hCollecting keras-preprocessing>=1.1.1 (from tensorflow->-r requirements.txt (line 3))\n",
            "  Downloading Keras_Preprocessing-1.1.2-py2.py3-none-any.whl (42 kB)\n",
            "\u001b[2K     \u001b[90m━━━━━━━━━━━━━━━━━━━━━━━━━━━━━━━━━━━━━━━━\u001b[0m \u001b[32m42.6/42.6 kB\u001b[0m \u001b[31m4.6 MB/s\u001b[0m eta \u001b[36m0:00:00\u001b[0m\n",
            "\u001b[?25hINFO: This is taking longer than usual. You might need to provide the dependency resolver with stricter constraints to reduce runtime. See https://pip.pypa.io/warnings/backtracking for guidance. If you want to abort this run, press Ctrl + C.\n",
            "Collecting tensorflow (from -r requirements.txt (line 3))\n",
            "  Downloading tensorflow-2.10.0-cp310-cp310-manylinux_2_17_x86_64.manylinux2014_x86_64.whl (578.0 MB)\n",
            "\u001b[2K     \u001b[90m━━━━━━━━━━━━━━━━━━━━━━━━━━━━━━━━━━━━━━━━\u001b[0m \u001b[32m578.0/578.0 MB\u001b[0m \u001b[31m2.0 MB/s\u001b[0m eta \u001b[36m0:00:00\u001b[0m\n",
            "\u001b[?25h  Downloading tensorflow-2.9.3-cp310-cp310-manylinux_2_17_x86_64.manylinux2014_x86_64.whl (511.8 MB)\n",
            "\u001b[2K     \u001b[90m━━━━━━━━━━━━━━━━━━━━━━━━━━━━━━━━━━━━━━━━\u001b[0m \u001b[32m511.8/511.8 MB\u001b[0m \u001b[31m2.3 MB/s\u001b[0m eta \u001b[36m0:00:00\u001b[0m\n",
            "\u001b[?25hCollecting flatbuffers<2,>=1.12 (from tensorflow->-r requirements.txt (line 3))\n",
            "  Downloading flatbuffers-1.12-py2.py3-none-any.whl (15 kB)\n",
            "Collecting keras<2.10.0,>=2.9.0rc0 (from tensorflow->-r requirements.txt (line 3))\n",
            "  Downloading keras-2.9.0-py2.py3-none-any.whl (1.6 MB)\n",
            "\u001b[2K     \u001b[90m━━━━━━━━━━━━━━━━━━━━━━━━━━━━━━━━━━━━━━━━\u001b[0m \u001b[32m1.6/1.6 MB\u001b[0m \u001b[31m48.2 MB/s\u001b[0m eta \u001b[36m0:00:00\u001b[0m\n",
            "\u001b[?25hCollecting tensorflow (from -r requirements.txt (line 3))\n",
            "  Downloading tensorflow-2.9.2-cp310-cp310-manylinux_2_17_x86_64.manylinux2014_x86_64.whl (511.8 MB)\n",
            "\u001b[2K     \u001b[90m━━━━━━━━━━━━━━━━━━━━━━━━━━━━━━━━━━━━━━━━\u001b[0m \u001b[32m511.8/511.8 MB\u001b[0m \u001b[31m2.7 MB/s\u001b[0m eta \u001b[36m0:00:00\u001b[0m\n",
            "\u001b[?25h  Downloading tensorflow-2.9.1-cp310-cp310-manylinux_2_17_x86_64.manylinux2014_x86_64.whl (511.7 MB)\n",
            "\u001b[2K     \u001b[90m━━━━━━━━━━━━━━━━━━━━━━━━━━━━━━━━━━━━━━━━\u001b[0m \u001b[32m511.7/511.7 MB\u001b[0m \u001b[31m1.8 MB/s\u001b[0m eta \u001b[36m0:00:00\u001b[0m\n",
            "\u001b[?25h  Downloading tensorflow-2.9.0-cp310-cp310-manylinux_2_17_x86_64.manylinux2014_x86_64.whl (511.7 MB)\n",
            "\u001b[2K     \u001b[90m━━━━━━━━━━━━━━━━━━━━━━━━━━━━━━━━━━━━━━━━\u001b[0m \u001b[32m511.7/511.7 MB\u001b[0m \u001b[31m2.0 MB/s\u001b[0m eta \u001b[36m0:00:00\u001b[0m\n",
            "\u001b[?25hCollecting tensorboard<2.10,>=2.9 (from tensorflow->-r requirements.txt (line 3))\n",
            "  Downloading tensorboard-2.9.1-py3-none-any.whl (5.8 MB)\n",
            "\u001b[2K     \u001b[90m━━━━━━━━━━━━━━━━━━━━━━━━━━━━━━━━━━━━━━━━\u001b[0m \u001b[32m5.8/5.8 MB\u001b[0m \u001b[31m11.1 MB/s\u001b[0m eta \u001b[36m0:00:00\u001b[0m\n",
            "\u001b[?25hCollecting tensorflow-estimator<2.10.0,>=2.9.0rc0 (from tensorflow->-r requirements.txt (line 3))\n",
            "  Downloading tensorflow_estimator-2.9.0-py2.py3-none-any.whl (438 kB)\n",
            "\u001b[2K     \u001b[90m━━━━━━━━━━━━━━━━━━━━━━━━━━━━━━━━━━━━━━━━\u001b[0m \u001b[32m438.7/438.7 kB\u001b[0m \u001b[31m9.5 MB/s\u001b[0m eta \u001b[36m0:00:00\u001b[0m\n",
            "\u001b[?25hRequirement already satisfied: wheel<1.0,>=0.23.0 in /usr/local/lib/python3.10/dist-packages (from astunparse>=1.6.0->tensorflow->-r requirements.txt (line 3)) (0.43.0)\n",
            "Requirement already satisfied: googleapis-common-protos<2.0.dev0,>=1.56.2 in /usr/local/lib/python3.10/dist-packages (from google-api-core<3,>=2.0.0->apache-beam[gcp]->-r requirements.txt (line 2)) (1.63.0)\n",
            "Requirement already satisfied: oauth2client>=1.4.12 in /usr/local/lib/python3.10/dist-packages (from google-apitools<0.5.32,>=0.5.31->apache-beam[gcp]->-r requirements.txt (line 2)) (4.1.3)\n",
            "Requirement already satisfied: pyasn1-modules>=0.2.1 in /usr/local/lib/python3.10/dist-packages (from google-auth>=1.2->gcsfs==0.7.1->-r requirements.txt (line 6)) (0.4.0)\n",
            "Requirement already satisfied: rsa<5,>=3.1.4 in /usr/local/lib/python3.10/dist-packages (from google-auth>=1.2->gcsfs==0.7.1->-r requirements.txt (line 6)) (4.9)\n",
            "Requirement already satisfied: google-cloud-resource-manager<3.0.0dev,>=1.3.3 in /usr/local/lib/python3.10/dist-packages (from google-cloud-aiplatform<2.0,>=1.26.0->apache-beam[gcp]->-r requirements.txt (line 2)) (1.12.3)\n",
            "Requirement already satisfied: shapely<3.0.0dev in /usr/local/lib/python3.10/dist-packages (from google-cloud-aiplatform<2.0,>=1.26.0->apache-beam[gcp]->-r requirements.txt (line 2)) (2.0.3)\n",
            "Requirement already satisfied: pydantic<3 in /usr/local/lib/python3.10/dist-packages (from google-cloud-aiplatform<2.0,>=1.26.0->apache-beam[gcp]->-r requirements.txt (line 2)) (2.6.4)\n",
            "Requirement already satisfied: docstring-parser<1 in /usr/local/lib/python3.10/dist-packages (from google-cloud-aiplatform<2.0,>=1.26.0->apache-beam[gcp]->-r requirements.txt (line 2)) (0.16)\n",
            "Requirement already satisfied: google-resumable-media<3.0dev,>=0.6.0 in /usr/local/lib/python3.10/dist-packages (from google-cloud-bigquery<4,>=2.0.0->apache-beam[gcp]->-r requirements.txt (line 2)) (2.7.0)\n",
            "Collecting google-api-core[grpc]!=2.0.*,!=2.1.*,!=2.2.*,!=2.3.*,!=2.4.*,!=2.5.*,!=2.6.*,!=2.7.*,<3.0.0dev,>=1.34.1 (from google-cloud-aiplatform<2.0,>=1.26.0->apache-beam[gcp]->-r requirements.txt (line 2))\n",
            "  Downloading google_api_core-2.18.0-py3-none-any.whl (138 kB)\n",
            "\u001b[2K     \u001b[90m━━━━━━━━━━━━━━━━━━━━━━━━━━━━━━━━━━━━━━━━\u001b[0m \u001b[32m138.3/138.3 kB\u001b[0m \u001b[31m11.1 MB/s\u001b[0m eta \u001b[36m0:00:00\u001b[0m\n",
            "\u001b[?25hRequirement already satisfied: grpc-google-iam-v1<1.0.0dev,>=0.12.4 in /usr/local/lib/python3.10/dist-packages (from google-cloud-bigtable<3,>=2.19.0->apache-beam[gcp]->-r requirements.txt (line 2)) (0.13.0)\n",
            "Requirement already satisfied: grpcio-status>=1.33.2 in /usr/local/lib/python3.10/dist-packages (from google-cloud-pubsub<3,>=2.1.0->apache-beam[gcp]->-r requirements.txt (line 2)) (1.48.2)\n",
            "Collecting overrides<8.0.0,>=6.0.1 (from google-cloud-pubsublite<2,>=1.2.0->apache-beam[gcp]->-r requirements.txt (line 2))\n",
            "  Downloading overrides-7.7.0-py3-none-any.whl (17 kB)\n",
            "Requirement already satisfied: sqlparse>=0.4.4 in /usr/local/lib/python3.10/dist-packages (from google-cloud-spanner<4,>=3.0.0->apache-beam[gcp]->-r requirements.txt (line 2)) (0.4.4)\n",
            "Collecting deprecated>=1.2.14 (from google-cloud-spanner<4,>=3.0.0->apache-beam[gcp]->-r requirements.txt (line 2))\n",
            "  Downloading Deprecated-1.2.14-py2.py3-none-any.whl (9.6 kB)\n",
            "Collecting grpc-interceptor>=0.15.4 (from google-cloud-spanner<4,>=3.0.0->apache-beam[gcp]->-r requirements.txt (line 2))\n",
            "  Downloading grpc_interceptor-0.15.4-py3-none-any.whl (20 kB)\n",
            "Requirement already satisfied: google-crc32c<2.0dev,>=1.0 in /usr/local/lib/python3.10/dist-packages (from google-cloud-storage<3,>=2.14.0->apache-beam[gcp]->-r requirements.txt (line 2)) (1.5.0)\n",
            "Collecting docopt (from hdfs<3.0.0,>=2.1.0->apache-beam[gcp]->-r requirements.txt (line 2))\n",
            "  Downloading docopt-0.6.2.tar.gz (25 kB)\n",
            "  Preparing metadata (setup.py) ... \u001b[?25l\u001b[?25hdone\n",
            "Requirement already satisfied: pyparsing!=3.0.0,!=3.0.1,!=3.0.2,!=3.0.3,<4,>=2.4.2 in /usr/local/lib/python3.10/dist-packages (from httplib2<0.23.0,>=0.8->apache-beam[gcp]->-r requirements.txt (line 2)) (3.1.2)\n",
            "Requirement already satisfied: tzlocal>=1.2 in /usr/local/lib/python3.10/dist-packages (from js2py<1,>=0.74->apache-beam[gcp]->-r requirements.txt (line 2)) (5.2)\n",
            "Collecting pyjsparser>=2.5.1 (from js2py<1,>=0.74->apache-beam[gcp]->-r requirements.txt (line 2))\n",
            "  Downloading pyjsparser-2.7.1.tar.gz (24 kB)\n",
            "  Preparing metadata (setup.py) ... \u001b[?25l\u001b[?25hdone\n",
            "Requirement already satisfied: attrs>=22.2.0 in /usr/local/lib/python3.10/dist-packages (from jsonschema<5.0.0,>=4.0.0->apache-beam[gcp]->-r requirements.txt (line 2)) (23.2.0)\n",
            "Requirement already satisfied: jsonschema-specifications>=2023.03.6 in /usr/local/lib/python3.10/dist-packages (from jsonschema<5.0.0,>=4.0.0->apache-beam[gcp]->-r requirements.txt (line 2)) (2023.12.1)\n",
            "Requirement already satisfied: referencing>=0.28.4 in /usr/local/lib/python3.10/dist-packages (from jsonschema<5.0.0,>=4.0.0->apache-beam[gcp]->-r requirements.txt (line 2)) (0.34.0)\n",
            "Requirement already satisfied: rpds-py>=0.7.1 in /usr/local/lib/python3.10/dist-packages (from jsonschema<5.0.0,>=4.0.0->apache-beam[gcp]->-r requirements.txt (line 2)) (0.18.0)\n",
            "Collecting dnspython<3.0.0,>=1.16.0 (from pymongo<5.0.0,>=3.8.0->apache-beam[gcp]->-r requirements.txt (line 2))\n",
            "  Downloading dnspython-2.6.1-py3-none-any.whl (307 kB)\n",
            "\u001b[2K     \u001b[90m━━━━━━━━━━━━━━━━━━━━━━━━━━━━━━━━━━━━━━━━\u001b[0m \u001b[32m307.7/307.7 kB\u001b[0m \u001b[31m12.1 MB/s\u001b[0m eta \u001b[36m0:00:00\u001b[0m\n",
            "\u001b[?25hRequirement already satisfied: charset-normalizer<4,>=2 in /usr/local/lib/python3.10/dist-packages (from requests->gcsfs==0.7.1->-r requirements.txt (line 6)) (3.3.2)\n",
            "Requirement already satisfied: idna<4,>=2.5 in /usr/local/lib/python3.10/dist-packages (from requests->gcsfs==0.7.1->-r requirements.txt (line 6)) (3.6)\n",
            "Requirement already satisfied: urllib3<3,>=1.21.1 in /usr/local/lib/python3.10/dist-packages (from requests->gcsfs==0.7.1->-r requirements.txt (line 6)) (2.0.7)\n",
            "Requirement already satisfied: certifi>=2017.4.17 in /usr/local/lib/python3.10/dist-packages (from requests->gcsfs==0.7.1->-r requirements.txt (line 6)) (2024.2.2)\n",
            "INFO: pip is looking at multiple versions of scipy to determine which version is compatible with other requirements. This could take a while.\n",
            "Collecting scipy>=0.18.1 (from gensim==3.6.0->-r requirements.txt (line 4))\n",
            "  Downloading scipy-1.13.0-cp310-cp310-manylinux_2_17_x86_64.manylinux2014_x86_64.whl (38.6 MB)\n",
            "\u001b[2K     \u001b[90m━━━━━━━━━━━━━━━━━━━━━━━━━━━━━━━━━━━━━━━━\u001b[0m \u001b[32m38.6/38.6 MB\u001b[0m \u001b[31m7.4 MB/s\u001b[0m eta \u001b[36m0:00:00\u001b[0m\n",
            "\u001b[?25h  Downloading scipy-1.12.0-cp310-cp310-manylinux_2_17_x86_64.manylinux2014_x86_64.whl (38.4 MB)\n",
            "\u001b[2K     \u001b[90m━━━━━━━━━━━━━━━━━━━━━━━━━━━━━━━━━━━━━━━━\u001b[0m \u001b[32m38.4/38.4 MB\u001b[0m \u001b[31m6.9 MB/s\u001b[0m eta \u001b[36m0:00:00\u001b[0m\n",
            "\u001b[?25h  Downloading scipy-1.11.3-cp310-cp310-manylinux_2_17_x86_64.manylinux2014_x86_64.whl (36.4 MB)\n",
            "\u001b[2K     \u001b[90m━━━━━━━━━━━━━━━━━━━━━━━━━━━━━━━━━━━━━━━━\u001b[0m \u001b[32m36.4/36.4 MB\u001b[0m \u001b[31m8.4 MB/s\u001b[0m eta \u001b[36m0:00:00\u001b[0m\n",
            "\u001b[?25h  Downloading scipy-1.11.2-cp310-cp310-manylinux_2_17_x86_64.manylinux2014_x86_64.whl (36.3 MB)\n",
            "\u001b[2K     \u001b[90m━━━━━━━━━━━━━━━━━━━━━━━━━━━━━━━━━━━━━━━━\u001b[0m \u001b[32m36.3/36.3 MB\u001b[0m \u001b[31m9.4 MB/s\u001b[0m eta \u001b[36m0:00:00\u001b[0m\n",
            "\u001b[?25h  Downloading scipy-1.11.1-cp310-cp310-manylinux_2_17_x86_64.manylinux2014_x86_64.whl (36.3 MB)\n",
            "\u001b[2K     \u001b[90m━━━━━━━━━━━━━━━━━━━━━━━━━━━━━━━━━━━━━━━━\u001b[0m \u001b[32m36.3/36.3 MB\u001b[0m \u001b[31m6.5 MB/s\u001b[0m eta \u001b[36m0:00:00\u001b[0m\n",
            "\u001b[?25h  Downloading scipy-1.10.1-cp310-cp310-manylinux_2_17_x86_64.manylinux2014_x86_64.whl (34.4 MB)\n",
            "\u001b[2K     \u001b[90m━━━━━━━━━━━━━━━━━━━━━━━━━━━━━━━━━━━━━━━━\u001b[0m \u001b[32m34.4/34.4 MB\u001b[0m \u001b[31m5.5 MB/s\u001b[0m eta \u001b[36m0:00:00\u001b[0m\n",
            "\u001b[?25hCollecting google-auth-oauthlib (from gcsfs==0.7.1->-r requirements.txt (line 6))\n",
            "  Downloading google_auth_oauthlib-0.4.6-py2.py3-none-any.whl (18 kB)\n",
            "Requirement already satisfied: markdown>=2.6.8 in /usr/local/lib/python3.10/dist-packages (from tensorboard<2.10,>=2.9->tensorflow->-r requirements.txt (line 3)) (3.6)\n",
            "INFO: pip is looking at multiple versions of tensorboard to determine which version is compatible with other requirements. This could take a while.\n",
            "Collecting tensorboard<2.10,>=2.9 (from tensorflow->-r requirements.txt (line 3))\n",
            "  Downloading tensorboard-2.9.0-py3-none-any.whl (5.8 MB)\n",
            "\u001b[2K     \u001b[90m━━━━━━━━━━━━━━━━━━━━━━━━━━━━━━━━━━━━━━━━\u001b[0m \u001b[32m5.8/5.8 MB\u001b[0m \u001b[31m6.6 MB/s\u001b[0m eta \u001b[36m0:00:00\u001b[0m\n",
            "\u001b[?25hCollecting tensorboard-data-server<0.7.0,>=0.6.0 (from tensorboard<2.10,>=2.9->tensorflow->-r requirements.txt (line 3))\n",
            "  Downloading tensorboard_data_server-0.6.1-py3-none-manylinux2010_x86_64.whl (4.9 MB)\n",
            "\u001b[2K     \u001b[90m━━━━━━━━━━━━━━━━━━━━━━━━━━━━━━━━━━━━━━━━\u001b[0m \u001b[32m4.9/4.9 MB\u001b[0m \u001b[31m7.3 MB/s\u001b[0m eta \u001b[36m0:00:00\u001b[0m\n",
            "\u001b[?25hCollecting tensorboard-plugin-wit>=1.6.0 (from tensorboard<2.10,>=2.9->tensorflow->-r requirements.txt (line 3))\n",
            "  Downloading tensorboard_plugin_wit-1.8.1-py3-none-any.whl (781 kB)\n",
            "\u001b[2K     \u001b[90m━━━━━━━━━━━━━━━━━━━━━━━━━━━━━━━━━━━━━━━━\u001b[0m \u001b[32m781.3/781.3 kB\u001b[0m \u001b[31m7.4 MB/s\u001b[0m eta \u001b[36m0:00:00\u001b[0m\n",
            "\u001b[?25hRequirement already satisfied: werkzeug>=1.0.1 in /usr/local/lib/python3.10/dist-packages (from tensorboard<2.10,>=2.9->tensorflow->-r requirements.txt (line 3)) (3.0.2)\n",
            "Requirement already satisfied: requests-oauthlib>=0.7.0 in /usr/local/lib/python3.10/dist-packages (from google-auth-oauthlib->gcsfs==0.7.1->-r requirements.txt (line 6)) (1.3.1)\n",
            "Requirement already satisfied: aiosignal>=1.1.2 in /usr/local/lib/python3.10/dist-packages (from aiohttp->gcsfs==0.7.1->-r requirements.txt (line 6)) (1.3.1)\n",
            "Requirement already satisfied: frozenlist>=1.1.1 in /usr/local/lib/python3.10/dist-packages (from aiohttp->gcsfs==0.7.1->-r requirements.txt (line 6)) (1.4.1)\n",
            "Requirement already satisfied: multidict<7.0,>=4.5 in /usr/local/lib/python3.10/dist-packages (from aiohttp->gcsfs==0.7.1->-r requirements.txt (line 6)) (6.0.5)\n",
            "Requirement already satisfied: yarl<2.0,>=1.0 in /usr/local/lib/python3.10/dist-packages (from aiohttp->gcsfs==0.7.1->-r requirements.txt (line 6)) (1.9.4)\n",
            "Requirement already satisfied: async-timeout<5.0,>=4.0 in /usr/local/lib/python3.10/dist-packages (from aiohttp->gcsfs==0.7.1->-r requirements.txt (line 6)) (4.0.3)\n",
            "Requirement already satisfied: pyasn1>=0.1.7 in /usr/local/lib/python3.10/dist-packages (from oauth2client>=1.4.12->google-apitools<0.5.32,>=0.5.31->apache-beam[gcp]->-r requirements.txt (line 2)) (0.6.0)\n",
            "Requirement already satisfied: annotated-types>=0.4.0 in /usr/local/lib/python3.10/dist-packages (from pydantic<3->google-cloud-aiplatform<2.0,>=1.26.0->apache-beam[gcp]->-r requirements.txt (line 2)) (0.6.0)\n",
            "Requirement already satisfied: pydantic-core==2.16.3 in /usr/local/lib/python3.10/dist-packages (from pydantic<3->google-cloud-aiplatform<2.0,>=1.26.0->apache-beam[gcp]->-r requirements.txt (line 2)) (2.16.3)\n",
            "Requirement already satisfied: oauthlib>=3.0.0 in /usr/local/lib/python3.10/dist-packages (from requests-oauthlib>=0.7.0->google-auth-oauthlib->gcsfs==0.7.1->-r requirements.txt (line 6)) (3.2.2)\n",
            "Requirement already satisfied: MarkupSafe>=2.1.1 in /usr/local/lib/python3.10/dist-packages (from werkzeug>=1.0.1->tensorboard<2.10,>=2.9->tensorflow->-r requirements.txt (line 3)) (2.1.5)\n",
            "Building wheels for collected packages: gensim, numpy, crcmod, dill, google-apitools, hdfs, pyjsparser, docopt\n",
            "  Building wheel for gensim (setup.py) ... \u001b[?25l\u001b[?25hdone\n",
            "  Created wheel for gensim: filename=gensim-3.6.0-cp310-cp310-linux_x86_64.whl size=23777924 sha256=2536da9b2a3bc37c7f73cc66bb975cf518c3893db432184dcc4a3e615764cd94\n",
            "  Stored in directory: /root/.cache/pip/wheels/00/e8/47/96f55c3144a5ea3537f549f7a97607011f5004b9f13fa8dcc5\n",
            "  \u001b[1;31merror\u001b[0m: \u001b[1msubprocess-exited-with-error\u001b[0m\n",
            "  \n",
            "  \u001b[31m×\u001b[0m \u001b[32mBuilding wheel for numpy \u001b[0m\u001b[1;32m(\u001b[0m\u001b[32mpyproject.toml\u001b[0m\u001b[1;32m)\u001b[0m did not run successfully.\n",
            "  \u001b[31m│\u001b[0m exit code: \u001b[1;36m1\u001b[0m\n",
            "  \u001b[31m╰─>\u001b[0m See above for output.\n",
            "  \n",
            "  \u001b[1;35mnote\u001b[0m: This error originates from a subprocess, and is likely not a problem with pip.\n",
            "  Building wheel for numpy (pyproject.toml) ... \u001b[?25l\u001b[?25herror\n",
            "\u001b[31m  ERROR: Failed building wheel for numpy\u001b[0m\u001b[31m\n",
            "\u001b[0m  Building wheel for crcmod (setup.py) ... \u001b[?25l\u001b[?25hdone\n",
            "  Created wheel for crcmod: filename=crcmod-1.7-cp310-cp310-linux_x86_64.whl size=31404 sha256=c70109b4945f655a1899469044bac512ee22bb6bc4cbd0050c54efc32880dfcc\n",
            "  Stored in directory: /root/.cache/pip/wheels/85/4c/07/72215c529bd59d67e3dac29711d7aba1b692f543c808ba9e86\n",
            "  Building wheel for dill (setup.py) ... \u001b[?25l\u001b[?25hdone\n",
            "  Created wheel for dill: filename=dill-0.3.1.1-py3-none-any.whl size=78541 sha256=6e4956eada83365476856f7225c22daff5f5130fbb88538d1097ce72b81a30f3\n",
            "  Stored in directory: /root/.cache/pip/wheels/ea/e2/86/64980d90e297e7bf2ce588c2b96e818f5399c515c4bb8a7e4f\n",
            "  Building wheel for google-apitools (setup.py) ... \u001b[?25l\u001b[?25hdone\n",
            "  Created wheel for google-apitools: filename=google_apitools-0.5.31-py3-none-any.whl size=131015 sha256=4c3c3561fa3fc4326838a935a4d01f35f973b6c61df9e7c1942e1b86db4c816c\n",
            "  Stored in directory: /root/.cache/pip/wheels/04/b7/e0/9712f8c23a5da3d9d16fb88216b897bf60e85b12f5470f26ee\n",
            "  Building wheel for hdfs (setup.py) ... \u001b[?25l\u001b[?25hdone\n",
            "  Created wheel for hdfs: filename=hdfs-2.7.3-py3-none-any.whl size=34324 sha256=100f6b400fac3e53c5c2a67eeee2a2e35440691022e523049b6067351ef1f6fc\n",
            "  Stored in directory: /root/.cache/pip/wheels/e5/8d/b6/99c1c0a3ac5788c866b0ecd3f48b0134a5910e6ed26011800b\n",
            "  Building wheel for pyjsparser (setup.py) ... \u001b[?25l\u001b[?25hdone\n",
            "  Created wheel for pyjsparser: filename=pyjsparser-2.7.1-py3-none-any.whl size=25984 sha256=2a1fec1d1c9b340c6b8b9b84931c0f1c4da8bf7b3a304e076d813edde636b7a0\n",
            "  Stored in directory: /root/.cache/pip/wheels/5e/81/26/5956478df303e2bf5a85a5df595bb307bd25948a4bab69f7c7\n",
            "  Building wheel for docopt (setup.py) ... \u001b[?25l\u001b[?25hdone\n",
            "  Created wheel for docopt: filename=docopt-0.6.2-py2.py3-none-any.whl size=13706 sha256=28511bb19319d177dc090544087ee8e19206a613e31899774f6181b926548c41\n",
            "  Stored in directory: /root/.cache/pip/wheels/fc/ab/d4/5da2067ac95b36618c629a5f93f809425700506f72c9732fac\n",
            "Successfully built gensim crcmod dill google-apitools hdfs pyjsparser docopt\n",
            "Failed to build numpy\n",
            "\u001b[31mERROR: Could not build wheels for numpy, which is required to install pyproject.toml-based projects\u001b[0m\u001b[31m\n",
            "\u001b[0m"
          ]
        }
      ],
      "source": [
        "! pip install -r requirements.txt"
      ]
    },
    {
      "cell_type": "code",
      "source": [
        "PROJECT_ID = \"ia-practica-0402\" #@param {type:\"string\"}\n",
        "! gcloud config set project $PROJECT_ID\n",
        "BUCKET_NAME = \"ia-practica-0402\" #@param {type:\"string\"}\n",
        "REGION = \"europe-west1\" #@param {type:\"string\"}\n",
        "\n",
        "print(f\"Project: {PROJECT_ID}\")\n",
        "print(f\"Region: {REGION}\")\n",
        "print(f\"Bucket: {BUCKET_NAME}\")\n"
      ],
      "metadata": {
        "colab": {
          "base_uri": "https://localhost:8080/"
        },
        "id": "EKKfxnJ5zEH1",
        "outputId": "0de5174e-a9c8-4453-fc94-f397a55b0fe3"
      },
      "execution_count": 11,
      "outputs": [
        {
          "output_type": "stream",
          "name": "stdout",
          "text": [
            "Updated property [core/project].\n",
            "Project: ia-practica-0402\n",
            "Region: europe-west1\n",
            "Bucket: ia-practica-0402\n"
          ]
        }
      ]
    },
    {
      "cell_type": "code",
      "execution_count": 10,
      "metadata": {
        "id": "jRCMqESUnUcq",
        "colab": {
          "base_uri": "https://localhost:8080/",
          "height": 1000
        },
        "outputId": "37766fc7-bca4-43e4-c51c-f595cb01f65f"
      },
      "outputs": [
        {
          "output_type": "stream",
          "name": "stdout",
          "text": [
            "Collecting apache-beam[gcp]\n",
            "  Using cached apache_beam-2.55.0-cp310-cp310-manylinux_2_17_x86_64.manylinux2014_x86_64.whl (14.8 MB)\n",
            "Collecting crcmod<2.0,>=1.7 (from apache-beam[gcp])\n",
            "  Using cached crcmod-1.7-cp310-cp310-linux_x86_64.whl\n",
            "Collecting orjson<4,>=3.9.7 (from apache-beam[gcp])\n",
            "  Using cached orjson-3.10.0-cp310-cp310-manylinux_2_17_x86_64.manylinux2014_x86_64.whl (144 kB)\n",
            "Collecting dill<0.3.2,>=0.3.1.1 (from apache-beam[gcp])\n",
            "  Using cached dill-0.3.1.1-py3-none-any.whl\n",
            "Requirement already satisfied: cloudpickle~=2.2.1 in /usr/local/lib/python3.10/dist-packages (from apache-beam[gcp]) (2.2.1)\n",
            "Collecting fastavro<2,>=0.23.6 (from apache-beam[gcp])\n",
            "  Using cached fastavro-1.9.4-cp310-cp310-manylinux_2_17_x86_64.manylinux2014_x86_64.whl (3.1 MB)\n",
            "Collecting fasteners<1.0,>=0.3 (from apache-beam[gcp])\n",
            "  Using cached fasteners-0.19-py3-none-any.whl (18 kB)\n",
            "Requirement already satisfied: grpcio!=1.48.0,<2,>=1.33.1 in /usr/local/lib/python3.10/dist-packages (from apache-beam[gcp]) (1.62.1)\n",
            "Collecting hdfs<3.0.0,>=2.1.0 (from apache-beam[gcp])\n",
            "  Using cached hdfs-2.7.3-py3-none-any.whl\n",
            "Requirement already satisfied: httplib2<0.23.0,>=0.8 in /usr/local/lib/python3.10/dist-packages (from apache-beam[gcp]) (0.22.0)\n",
            "Collecting js2py<1,>=0.74 (from apache-beam[gcp])\n",
            "  Using cached Js2Py-0.74-py3-none-any.whl (1.0 MB)\n",
            "Requirement already satisfied: jsonschema<5.0.0,>=4.0.0 in /usr/local/lib/python3.10/dist-packages (from apache-beam[gcp]) (4.19.2)\n",
            "Requirement already satisfied: jsonpickle<4.0.0,>=3.0.0 in /usr/local/lib/python3.10/dist-packages (from apache-beam[gcp]) (3.0.3)\n",
            "Requirement already satisfied: numpy<1.27.0,>=1.14.3 in /usr/local/lib/python3.10/dist-packages (from apache-beam[gcp]) (1.25.2)\n",
            "Collecting objsize<0.8.0,>=0.6.1 (from apache-beam[gcp])\n",
            "  Using cached objsize-0.7.0-py3-none-any.whl (11 kB)\n",
            "Requirement already satisfied: packaging>=22.0 in /usr/local/lib/python3.10/dist-packages (from apache-beam[gcp]) (24.0)\n",
            "Collecting pymongo<5.0.0,>=3.8.0 (from apache-beam[gcp])\n",
            "  Using cached pymongo-4.6.3-cp310-cp310-manylinux_2_17_x86_64.manylinux2014_x86_64.whl (676 kB)\n",
            "Requirement already satisfied: proto-plus<2,>=1.7.1 in /usr/local/lib/python3.10/dist-packages (from apache-beam[gcp]) (1.23.0)\n",
            "Requirement already satisfied: protobuf!=4.0.*,!=4.21.*,!=4.22.0,!=4.23.*,!=4.24.*,<4.26.0,>=3.20.3 in /usr/local/lib/python3.10/dist-packages (from apache-beam[gcp]) (3.20.3)\n",
            "Requirement already satisfied: pydot<2,>=1.2.0 in /usr/local/lib/python3.10/dist-packages (from apache-beam[gcp]) (1.4.2)\n",
            "Requirement already satisfied: python-dateutil<3,>=2.8.0 in /usr/local/lib/python3.10/dist-packages (from apache-beam[gcp]) (2.8.2)\n",
            "Requirement already satisfied: pytz>=2018.3 in /usr/local/lib/python3.10/dist-packages (from apache-beam[gcp]) (2023.4)\n",
            "Requirement already satisfied: regex>=2020.6.8 in /usr/local/lib/python3.10/dist-packages (from apache-beam[gcp]) (2023.12.25)\n",
            "Requirement already satisfied: requests<3.0.0,>=2.24.0 in /usr/local/lib/python3.10/dist-packages (from apache-beam[gcp]) (2.31.0)\n",
            "Requirement already satisfied: typing-extensions>=3.7.0 in /usr/local/lib/python3.10/dist-packages (from apache-beam[gcp]) (4.10.0)\n",
            "Collecting zstandard<1,>=0.18.0 (from apache-beam[gcp])\n",
            "  Using cached zstandard-0.22.0-cp310-cp310-manylinux_2_17_x86_64.manylinux2014_x86_64.whl (5.4 MB)\n",
            "Requirement already satisfied: pyarrow<15.0.0,>=3.0.0 in /usr/local/lib/python3.10/dist-packages (from apache-beam[gcp]) (14.0.2)\n",
            "Requirement already satisfied: pyarrow-hotfix<1 in /usr/local/lib/python3.10/dist-packages (from apache-beam[gcp]) (0.6)\n",
            "Requirement already satisfied: cachetools<6,>=3.1.0 in /usr/local/lib/python3.10/dist-packages (from apache-beam[gcp]) (5.3.3)\n",
            "Requirement already satisfied: google-api-core<3,>=2.0.0 in /usr/local/lib/python3.10/dist-packages (from apache-beam[gcp]) (2.11.1)\n",
            "Collecting google-apitools<0.5.32,>=0.5.31 (from apache-beam[gcp])\n",
            "  Using cached google_apitools-0.5.31-py3-none-any.whl\n",
            "Requirement already satisfied: google-auth<3,>=1.18.0 in /usr/local/lib/python3.10/dist-packages (from apache-beam[gcp]) (2.27.0)\n",
            "Requirement already satisfied: google-auth-httplib2<0.2.0,>=0.1.0 in /usr/local/lib/python3.10/dist-packages (from apache-beam[gcp]) (0.1.1)\n",
            "Requirement already satisfied: google-cloud-datastore<3,>=2.0.0 in /usr/local/lib/python3.10/dist-packages (from apache-beam[gcp]) (2.15.2)\n",
            "Collecting google-cloud-pubsub<3,>=2.1.0 (from apache-beam[gcp])\n",
            "  Using cached google_cloud_pubsub-2.21.1-py2.py3-none-any.whl (273 kB)\n",
            "Collecting google-cloud-pubsublite<2,>=1.2.0 (from apache-beam[gcp])\n",
            "  Using cached google_cloud_pubsublite-1.9.0-py2.py3-none-any.whl (287 kB)\n",
            "Collecting google-cloud-storage<3,>=2.14.0 (from apache-beam[gcp])\n",
            "  Using cached google_cloud_storage-2.16.0-py2.py3-none-any.whl (125 kB)\n",
            "Requirement already satisfied: google-cloud-bigquery<4,>=2.0.0 in /usr/local/lib/python3.10/dist-packages (from apache-beam[gcp]) (3.12.0)\n",
            "Requirement already satisfied: google-cloud-bigquery-storage<3,>=2.6.3 in /usr/local/lib/python3.10/dist-packages (from apache-beam[gcp]) (2.24.0)\n",
            "Requirement already satisfied: google-cloud-core<3,>=2.0.0 in /usr/local/lib/python3.10/dist-packages (from apache-beam[gcp]) (2.3.3)\n",
            "Collecting google-cloud-bigtable<3,>=2.19.0 (from apache-beam[gcp])\n",
            "  Using cached google_cloud_bigtable-2.23.0-py2.py3-none-any.whl (357 kB)\n",
            "Collecting google-cloud-spanner<4,>=3.0.0 (from apache-beam[gcp])\n",
            "  Using cached google_cloud_spanner-3.44.0-py2.py3-none-any.whl (357 kB)\n",
            "Collecting google-cloud-dlp<4,>=3.0.0 (from apache-beam[gcp])\n",
            "  Using cached google_cloud_dlp-3.16.0-py2.py3-none-any.whl (167 kB)\n",
            "Requirement already satisfied: google-cloud-language<3,>=2.0 in /usr/local/lib/python3.10/dist-packages (from apache-beam[gcp]) (2.13.3)\n",
            "Collecting google-cloud-videointelligence<3,>=2.0 (from apache-beam[gcp])\n",
            "  Using cached google_cloud_videointelligence-2.13.3-py2.py3-none-any.whl (240 kB)\n",
            "Collecting google-cloud-vision<4,>=2 (from apache-beam[gcp])\n",
            "  Using cached google_cloud_vision-3.7.2-py2.py3-none-any.whl (459 kB)\n",
            "Collecting google-cloud-recommendations-ai<0.11.0,>=0.1.0 (from apache-beam[gcp])\n",
            "  Using cached google_cloud_recommendations_ai-0.10.10-py2.py3-none-any.whl (180 kB)\n",
            "Requirement already satisfied: google-cloud-aiplatform<2.0,>=1.26.0 in /usr/local/lib/python3.10/dist-packages (from apache-beam[gcp]) (1.46.0)\n",
            "Requirement already satisfied: googleapis-common-protos<2.0.dev0,>=1.56.2 in /usr/local/lib/python3.10/dist-packages (from google-api-core<3,>=2.0.0->apache-beam[gcp]) (1.63.0)\n",
            "Requirement already satisfied: oauth2client>=1.4.12 in /usr/local/lib/python3.10/dist-packages (from google-apitools<0.5.32,>=0.5.31->apache-beam[gcp]) (4.1.3)\n",
            "Requirement already satisfied: six>=1.12.0 in /usr/local/lib/python3.10/dist-packages (from google-apitools<0.5.32,>=0.5.31->apache-beam[gcp]) (1.16.0)\n",
            "Requirement already satisfied: pyasn1-modules>=0.2.1 in /usr/local/lib/python3.10/dist-packages (from google-auth<3,>=1.18.0->apache-beam[gcp]) (0.4.0)\n",
            "Requirement already satisfied: rsa<5,>=3.1.4 in /usr/local/lib/python3.10/dist-packages (from google-auth<3,>=1.18.0->apache-beam[gcp]) (4.9)\n",
            "Requirement already satisfied: google-cloud-resource-manager<3.0.0dev,>=1.3.3 in /usr/local/lib/python3.10/dist-packages (from google-cloud-aiplatform<2.0,>=1.26.0->apache-beam[gcp]) (1.12.3)\n",
            "Requirement already satisfied: shapely<3.0.0dev in /usr/local/lib/python3.10/dist-packages (from google-cloud-aiplatform<2.0,>=1.26.0->apache-beam[gcp]) (2.0.3)\n",
            "Requirement already satisfied: pydantic<3 in /usr/local/lib/python3.10/dist-packages (from google-cloud-aiplatform<2.0,>=1.26.0->apache-beam[gcp]) (2.6.4)\n",
            "Requirement already satisfied: docstring-parser<1 in /usr/local/lib/python3.10/dist-packages (from google-cloud-aiplatform<2.0,>=1.26.0->apache-beam[gcp]) (0.16)\n",
            "Requirement already satisfied: google-resumable-media<3.0dev,>=0.6.0 in /usr/local/lib/python3.10/dist-packages (from google-cloud-bigquery<4,>=2.0.0->apache-beam[gcp]) (2.7.0)\n",
            "Collecting google-api-core[grpc]!=2.0.*,!=2.1.*,!=2.2.*,!=2.3.*,!=2.4.*,!=2.5.*,!=2.6.*,!=2.7.*,<3.0.0dev,>=1.34.1 (from google-cloud-aiplatform<2.0,>=1.26.0->apache-beam[gcp])\n",
            "  Using cached google_api_core-2.18.0-py3-none-any.whl (138 kB)\n",
            "Requirement already satisfied: grpc-google-iam-v1<1.0.0dev,>=0.12.4 in /usr/local/lib/python3.10/dist-packages (from google-cloud-bigtable<3,>=2.19.0->apache-beam[gcp]) (0.13.0)\n",
            "Requirement already satisfied: grpcio-status>=1.33.2 in /usr/local/lib/python3.10/dist-packages (from google-cloud-pubsub<3,>=2.1.0->apache-beam[gcp]) (1.48.2)\n",
            "Collecting overrides<8.0.0,>=6.0.1 (from google-cloud-pubsublite<2,>=1.2.0->apache-beam[gcp])\n",
            "  Using cached overrides-7.7.0-py3-none-any.whl (17 kB)\n",
            "Requirement already satisfied: sqlparse>=0.4.4 in /usr/local/lib/python3.10/dist-packages (from google-cloud-spanner<4,>=3.0.0->apache-beam[gcp]) (0.4.4)\n",
            "Collecting deprecated>=1.2.14 (from google-cloud-spanner<4,>=3.0.0->apache-beam[gcp])\n",
            "  Using cached Deprecated-1.2.14-py2.py3-none-any.whl (9.6 kB)\n",
            "Collecting grpc-interceptor>=0.15.4 (from google-cloud-spanner<4,>=3.0.0->apache-beam[gcp])\n",
            "  Using cached grpc_interceptor-0.15.4-py3-none-any.whl (20 kB)\n",
            "Requirement already satisfied: google-crc32c<2.0dev,>=1.0 in /usr/local/lib/python3.10/dist-packages (from google-cloud-storage<3,>=2.14.0->apache-beam[gcp]) (1.5.0)\n",
            "Collecting docopt (from hdfs<3.0.0,>=2.1.0->apache-beam[gcp])\n",
            "  Using cached docopt-0.6.2-py2.py3-none-any.whl\n",
            "Requirement already satisfied: pyparsing!=3.0.0,!=3.0.1,!=3.0.2,!=3.0.3,<4,>=2.4.2 in /usr/local/lib/python3.10/dist-packages (from httplib2<0.23.0,>=0.8->apache-beam[gcp]) (3.1.2)\n",
            "Requirement already satisfied: tzlocal>=1.2 in /usr/local/lib/python3.10/dist-packages (from js2py<1,>=0.74->apache-beam[gcp]) (5.2)\n",
            "Collecting pyjsparser>=2.5.1 (from js2py<1,>=0.74->apache-beam[gcp])\n",
            "  Using cached pyjsparser-2.7.1-py3-none-any.whl\n",
            "Requirement already satisfied: attrs>=22.2.0 in /usr/local/lib/python3.10/dist-packages (from jsonschema<5.0.0,>=4.0.0->apache-beam[gcp]) (23.2.0)\n",
            "Requirement already satisfied: jsonschema-specifications>=2023.03.6 in /usr/local/lib/python3.10/dist-packages (from jsonschema<5.0.0,>=4.0.0->apache-beam[gcp]) (2023.12.1)\n",
            "Requirement already satisfied: referencing>=0.28.4 in /usr/local/lib/python3.10/dist-packages (from jsonschema<5.0.0,>=4.0.0->apache-beam[gcp]) (0.34.0)\n",
            "Requirement already satisfied: rpds-py>=0.7.1 in /usr/local/lib/python3.10/dist-packages (from jsonschema<5.0.0,>=4.0.0->apache-beam[gcp]) (0.18.0)\n",
            "Collecting dnspython<3.0.0,>=1.16.0 (from pymongo<5.0.0,>=3.8.0->apache-beam[gcp])\n",
            "  Using cached dnspython-2.6.1-py3-none-any.whl (307 kB)\n",
            "Requirement already satisfied: charset-normalizer<4,>=2 in /usr/local/lib/python3.10/dist-packages (from requests<3.0.0,>=2.24.0->apache-beam[gcp]) (3.3.2)\n",
            "Requirement already satisfied: idna<4,>=2.5 in /usr/local/lib/python3.10/dist-packages (from requests<3.0.0,>=2.24.0->apache-beam[gcp]) (3.6)\n",
            "Requirement already satisfied: urllib3<3,>=1.21.1 in /usr/local/lib/python3.10/dist-packages (from requests<3.0.0,>=2.24.0->apache-beam[gcp]) (2.0.7)\n",
            "Requirement already satisfied: certifi>=2017.4.17 in /usr/local/lib/python3.10/dist-packages (from requests<3.0.0,>=2.24.0->apache-beam[gcp]) (2024.2.2)\n",
            "Requirement already satisfied: wrapt<2,>=1.10 in /usr/local/lib/python3.10/dist-packages (from deprecated>=1.2.14->google-cloud-spanner<4,>=3.0.0->apache-beam[gcp]) (1.14.1)\n",
            "Requirement already satisfied: pyasn1>=0.1.7 in /usr/local/lib/python3.10/dist-packages (from oauth2client>=1.4.12->google-apitools<0.5.32,>=0.5.31->apache-beam[gcp]) (0.6.0)\n",
            "Requirement already satisfied: annotated-types>=0.4.0 in /usr/local/lib/python3.10/dist-packages (from pydantic<3->google-cloud-aiplatform<2.0,>=1.26.0->apache-beam[gcp]) (0.6.0)\n",
            "Requirement already satisfied: pydantic-core==2.16.3 in /usr/local/lib/python3.10/dist-packages (from pydantic<3->google-cloud-aiplatform<2.0,>=1.26.0->apache-beam[gcp]) (2.16.3)\n",
            "Installing collected packages: pyjsparser, docopt, crcmod, zstandard, overrides, orjson, objsize, js2py, grpc-interceptor, fasteners, fastavro, dnspython, dill, deprecated, pymongo, hdfs, google-apitools, google-api-core, apache-beam, google-cloud-vision, google-cloud-videointelligence, google-cloud-storage, google-cloud-spanner, google-cloud-recommendations-ai, google-cloud-pubsub, google-cloud-dlp, google-cloud-bigtable, google-cloud-pubsublite\n",
            "  Attempting uninstall: google-api-core\n",
            "    Found existing installation: google-api-core 2.11.1\n",
            "    Uninstalling google-api-core-2.11.1:\n",
            "      Successfully uninstalled google-api-core-2.11.1\n",
            "  Attempting uninstall: google-cloud-storage\n",
            "    Found existing installation: google-cloud-storage 2.8.0\n",
            "    Uninstalling google-cloud-storage-2.8.0:\n",
            "      Successfully uninstalled google-cloud-storage-2.8.0\n",
            "Successfully installed apache-beam-2.55.0 crcmod-1.7 deprecated-1.2.14 dill-0.3.1.1 dnspython-2.6.1 docopt-0.6.2 fastavro-1.9.4 fasteners-0.19 google-api-core-2.18.0 google-apitools-0.5.31 google-cloud-bigtable-2.23.0 google-cloud-dlp-3.16.0 google-cloud-pubsub-2.21.1 google-cloud-pubsublite-1.9.0 google-cloud-recommendations-ai-0.10.10 google-cloud-spanner-3.44.0 google-cloud-storage-2.16.0 google-cloud-videointelligence-2.13.3 google-cloud-vision-3.7.2 grpc-interceptor-0.15.4 hdfs-2.7.3 js2py-0.74 objsize-0.7.0 orjson-3.10.0 overrides-7.7.0 pyjsparser-2.7.1 pymongo-4.6.3 zstandard-0.22.0\n"
          ]
        },
        {
          "output_type": "display_data",
          "data": {
            "application/vnd.colab-display-data+json": {
              "pip_warning": {
                "packages": [
                  "google"
                ]
              },
              "id": "a81582e996f14bf5a10b203559ba36ff"
            }
          },
          "metadata": {}
        }
      ],
      "source": [
        "! pip install apache-beam[gcp]"
      ]
    },
    {
      "cell_type": "markdown",
      "metadata": {
        "id": "k0DDu27S3CJv"
      },
      "source": [
        "## Primer ejercicio\n",
        "\n",
        "Desarrollar un pipeline de preprocesamiento utilizando Apache Beam para generar datos de train, eval y test para los datos proporcionados anteriormente. Requisitos:\n",
        "\n",
        "- Proporcionar dos modos de ejecución: `train` y `test`\n",
        "- Soportar ejecuciones en local con `DirectRunner` y ejecuciones en Dataflow usando `DataFlowRunner`."
      ]
    },
    {
      "cell_type": "code",
      "source": [
        "import os\n",
        "\n",
        "WORK_DIR = os.getcwd()"
      ],
      "metadata": {
        "id": "H7VLid3mSbF7"
      },
      "execution_count": 11,
      "outputs": []
    },
    {
      "cell_type": "code",
      "source": [
        "WORK_DIR"
      ],
      "metadata": {
        "colab": {
          "base_uri": "https://localhost:8080/",
          "height": 35
        },
        "id": "SBkjdx5cSl-K",
        "outputId": "347ee839-501c-4575-945f-5a06e204945d"
      },
      "execution_count": 12,
      "outputs": [
        {
          "output_type": "execute_result",
          "data": {
            "text/plain": [
              "'/content/twitter-sentiment-batch'"
            ],
            "application/vnd.google.colaboratory.intrinsic+json": {
              "type": "string"
            }
          },
          "metadata": {},
          "execution_count": 12
        }
      ]
    },
    {
      "cell_type": "code",
      "source": [
        "# Preprocesamiento local para train\n",
        "\n",
        "! python3 preprocess-local-gcp.py \\\n",
        "  --work-dir $WORK_DIR \\\n",
        "  --runner DirectRunner \\\n",
        "  --input $WORK_DIR/data/dataset-cybertrolls.json \\\n",
        "  --output $WORK_DIR/data/transformed_data \\\n",
        "  --mode train"
      ],
      "metadata": {
        "colab": {
          "base_uri": "https://localhost:8080/"
        },
        "id": "D1B1HqStZn49",
        "outputId": "ff8052e9-e5c2-4eab-a8e5-63e7b4d37328"
      },
      "execution_count": 13,
      "outputs": [
        {
          "output_type": "stream",
          "name": "stdout",
          "text": [
            "[nltk_data] Downloading package stopwords to /root/nltk_data...\n",
            "[nltk_data]   Unzipping corpora/stopwords.zip.\n",
            "INFO:root:Missing pipeline option (runner). Executing pipeline using the default runner: DirectRunner.\n",
            "WARNING:apache_beam.runners.portability.fn_api_runner.fn_runner:If direct_num_workers is not equal to 1, direct_running_mode should be `multi_processing` or `multi_threading` instead of `in_memory` in order for it to have the desired worker parallelism effect. direct_num_workers: 2 ; running_mode: in_memory\n",
            "INFO:apache_beam.runners.portability.fn_api_runner.translations:==================== <function annotate_downstream_side_inputs at 0x7e2ec46ab910> ====================\n",
            "INFO:apache_beam.runners.portability.fn_api_runner.translations:==================== <function fix_side_input_pcoll_coders at 0x7e2ec46aba30> ====================\n",
            "INFO:apache_beam.runners.portability.fn_api_runner.translations:==================== <function pack_combiners at 0x7e2ec46abf40> ====================\n",
            "INFO:apache_beam.runners.portability.fn_api_runner.translations:==================== <function lift_combiners at 0x7e2ec46ac040> ====================\n",
            "INFO:apache_beam.runners.portability.fn_api_runner.translations:==================== <function expand_sdf at 0x7e2ec46ac1f0> ====================\n",
            "INFO:apache_beam.runners.portability.fn_api_runner.translations:==================== <function expand_gbk at 0x7e2ec46ac280> ====================\n",
            "INFO:apache_beam.runners.portability.fn_api_runner.translations:==================== <function sink_flattens at 0x7e2ec46ac3a0> ====================\n",
            "INFO:apache_beam.runners.portability.fn_api_runner.translations:==================== <function greedily_fuse at 0x7e2ec46ac430> ====================\n",
            "INFO:apache_beam.runners.portability.fn_api_runner.translations:==================== <function read_to_impulse at 0x7e2ec46ac4c0> ====================\n",
            "INFO:apache_beam.runners.portability.fn_api_runner.translations:==================== <function impulse_to_input at 0x7e2ec46ac550> ====================\n",
            "INFO:apache_beam.runners.portability.fn_api_runner.translations:==================== <function sort_stages at 0x7e2ec46ac790> ====================\n",
            "INFO:apache_beam.runners.portability.fn_api_runner.translations:==================== <function add_impulse_to_dangling_transforms at 0x7e2ec46ac8b0> ====================\n",
            "INFO:apache_beam.runners.portability.fn_api_runner.translations:==================== <function setup_timer_mapping at 0x7e2ec46ac700> ====================\n",
            "INFO:apache_beam.runners.portability.fn_api_runner.translations:==================== <function populate_data_channel_coders at 0x7e2ec46ac820> ====================\n",
            "INFO:apache_beam.runners.worker.statecache:Creating state cache with size 104857600\n",
            "INFO:apache_beam.runners.portability.fn_api_runner.worker_handlers:Created Worker handler <apache_beam.runners.portability.fn_api_runner.worker_handlers.EmbeddedWorkerHandler object at 0x7e2ec474e320> for environment ref_Environment_default_environment_1 (beam:env:embedded_python:v1, b'')\n",
            "INFO:apache_beam.runners.worker.statecache:Creating state cache with size 104857600\n",
            "INFO:apache_beam.runners.portability.fn_api_runner.worker_handlers:Created Worker handler <apache_beam.runners.portability.fn_api_runner.worker_handlers.EmbeddedWorkerHandler object at 0x7e2ec474e290> for environment ref_Environment_default_environment_1 (beam:env:embedded_python:v1, b'')\n",
            "INFO:apache_beam.io.filebasedsink:Starting finalize_write threads with num_shards: 2 (skipped: 0), batches: 2, num_threads: 2\n",
            "INFO:apache_beam.io.filebasedsink:Renamed 2 shards in 0.01 seconds.\n",
            "INFO:apache_beam.io.filebasedsink:Starting finalize_write threads with num_shards: 2 (skipped: 0), batches: 2, num_threads: 2\n",
            "INFO:apache_beam.io.filebasedsink:Renamed 2 shards in 0.00 seconds.\n"
          ]
        }
      ]
    },
    {
      "cell_type": "code",
      "source": [
        "# Preprocesamiento los carch local para test\n",
        "\n",
        "! python3 preprocess-local-gcp.py \\\n",
        "  --work-dir $WORK_DIR \\\n",
        "  --runner DirectRunner \\\n",
        "  --input $WORK_DIR/data/dataset-cybertrolls.json \\\n",
        "  --output $WORK_DIR/data/transformed_data \\\n",
        "  --mode test"
      ],
      "metadata": {
        "colab": {
          "base_uri": "https://localhost:8080/"
        },
        "id": "T-e80M8PZoqJ",
        "outputId": "01f65ab5-df99-4e14-c131-4da2897590ef"
      },
      "execution_count": 14,
      "outputs": [
        {
          "output_type": "stream",
          "name": "stdout",
          "text": [
            "[nltk_data] Downloading package stopwords to /root/nltk_data...\n",
            "[nltk_data]   Package stopwords is already up-to-date!\n",
            "INFO:root:Missing pipeline option (runner). Executing pipeline using the default runner: DirectRunner.\n",
            "WARNING:apache_beam.runners.portability.fn_api_runner.fn_runner:If direct_num_workers is not equal to 1, direct_running_mode should be `multi_processing` or `multi_threading` instead of `in_memory` in order for it to have the desired worker parallelism effect. direct_num_workers: 2 ; running_mode: in_memory\n",
            "INFO:apache_beam.runners.portability.fn_api_runner.translations:==================== <function annotate_downstream_side_inputs at 0x7af1019c2950> ====================\n",
            "INFO:apache_beam.runners.portability.fn_api_runner.translations:==================== <function fix_side_input_pcoll_coders at 0x7af1019c2a70> ====================\n",
            "INFO:apache_beam.runners.portability.fn_api_runner.translations:==================== <function pack_combiners at 0x7af1019c2f80> ====================\n",
            "INFO:apache_beam.runners.portability.fn_api_runner.translations:==================== <function lift_combiners at 0x7af1019c3010> ====================\n",
            "INFO:apache_beam.runners.portability.fn_api_runner.translations:==================== <function expand_sdf at 0x7af1019c31c0> ====================\n",
            "INFO:apache_beam.runners.portability.fn_api_runner.translations:==================== <function expand_gbk at 0x7af1019c3250> ====================\n",
            "INFO:apache_beam.runners.portability.fn_api_runner.translations:==================== <function sink_flattens at 0x7af1019c3370> ====================\n",
            "INFO:apache_beam.runners.portability.fn_api_runner.translations:==================== <function greedily_fuse at 0x7af1019c3400> ====================\n",
            "INFO:apache_beam.runners.portability.fn_api_runner.translations:==================== <function read_to_impulse at 0x7af1019c3490> ====================\n",
            "INFO:apache_beam.runners.portability.fn_api_runner.translations:==================== <function impulse_to_input at 0x7af1019c3520> ====================\n",
            "INFO:apache_beam.runners.portability.fn_api_runner.translations:==================== <function sort_stages at 0x7af1019c3760> ====================\n",
            "INFO:apache_beam.runners.portability.fn_api_runner.translations:==================== <function add_impulse_to_dangling_transforms at 0x7af1019c3880> ====================\n",
            "INFO:apache_beam.runners.portability.fn_api_runner.translations:==================== <function setup_timer_mapping at 0x7af1019c36d0> ====================\n",
            "INFO:apache_beam.runners.portability.fn_api_runner.translations:==================== <function populate_data_channel_coders at 0x7af1019c37f0> ====================\n",
            "INFO:apache_beam.runners.worker.statecache:Creating state cache with size 104857600\n",
            "INFO:apache_beam.runners.portability.fn_api_runner.worker_handlers:Created Worker handler <apache_beam.runners.portability.fn_api_runner.worker_handlers.EmbeddedWorkerHandler object at 0x7af101734ee0> for environment ref_Environment_default_environment_1 (beam:env:embedded_python:v1, b'')\n",
            "INFO:apache_beam.runners.worker.statecache:Creating state cache with size 104857600\n",
            "INFO:apache_beam.runners.portability.fn_api_runner.worker_handlers:Created Worker handler <apache_beam.runners.portability.fn_api_runner.worker_handlers.EmbeddedWorkerHandler object at 0x7af10170ff10> for environment ref_Environment_default_environment_1 (beam:env:embedded_python:v1, b'')\n",
            "INFO:apache_beam.io.filebasedsink:Starting finalize_write threads with num_shards: 2 (skipped: 0), batches: 2, num_threads: 2\n",
            "INFO:apache_beam.io.filebasedsink:Renamed 2 shards in 0.01 seconds.\n"
          ]
        }
      ]
    },
    {
      "cell_type": "code",
      "source": [
        "# En varias ejecuciones se perdia la conexion con GCP por lo que necesitaba\n",
        "# volver a ejecutar a establecer la conexion\n",
        "\n",
        "from google.colab import auth\n",
        "auth.authenticate_user()"
      ],
      "metadata": {
        "id": "kpX9Eq9c9Oxk"
      },
      "execution_count": 19,
      "outputs": []
    },
    {
      "cell_type": "code",
      "source": [
        "# Copiar los archivos locales a GCP\n",
        "\n",
        "!gsutil -m cp -r ./*.txt gs://$BUCKET_NAME/twitter-sentiment-batch/\n",
        "!gsutil -m cp -r ./*.py gs://$BUCKET_NAME/twitter-sentiment-batch/"
      ],
      "metadata": {
        "colab": {
          "base_uri": "https://localhost:8080/"
        },
        "id": "YJoe8K4xwB5J",
        "outputId": "2916c2a9-06e7-42f2-cccd-02fbdf243203"
      },
      "execution_count": 20,
      "outputs": [
        {
          "output_type": "stream",
          "name": "stdout",
          "text": [
            "Copying file://./requirements.txt [Content-Type=text/plain]...\n",
            "-\n",
            "Operation completed over 1 objects/84.0 B.                                       \n",
            "Copying file://./predict-work.py [Content-Type=text/x-python]...\n",
            "Copying file://./predict.py [Content-Type=text/x-python]...\n",
            "Copying file://./preprocess-local-gcp.py [Content-Type=text/x-python]...\n",
            "Copying file://./preprocess.py [Content-Type=text/x-python]...\n",
            "Copying file://./preprocess-work.py [Content-Type=text/x-python]...\n",
            "Copying file://./setup.py [Content-Type=text/x-python]...\n",
            "\\ [6/6 files][ 32.3 KiB/ 32.3 KiB] 100% Done                                    \n",
            "Operation completed over 6 objects/32.3 KiB.                                     \n"
          ]
        }
      ]
    },
    {
      "cell_type": "code",
      "source": [
        "# Copiar los archivos locales a GCP\n",
        "\n",
        "!gsutil -m cp -r ./trainer/ gs://$BUCKET_NAME/twitter-sentiment-batch/trainer"
      ],
      "metadata": {
        "colab": {
          "base_uri": "https://localhost:8080/"
        },
        "id": "Zx6E6tc_wDRI",
        "outputId": "98af9518-41f4-4706-fbd5-b0326a68f365"
      },
      "execution_count": 21,
      "outputs": [
        {
          "output_type": "stream",
          "name": "stdout",
          "text": [
            "Copying file://./trainer/.DS_Store [Content-Type=application/octet-stream]...\n",
            "Copying file://./trainer/__init__.py [Content-Type=text/x-python]...\n",
            "/ [0/4 files][    0.0 B/ 22.8 KiB]   0% Done                                    \r/ [0/4 files][    0.0 B/ 22.8 KiB]   0% Done                                    \rCopying file://./trainer/task-work.py [Content-Type=text/x-python]...\n",
            "Copying file://./trainer/task.py [Content-Type=text/x-python]...\n",
            "- [4/4 files][ 22.8 KiB/ 22.8 KiB] 100% Done                                    \n",
            "Operation completed over 4 objects/22.8 KiB.                                     \n"
          ]
        }
      ]
    },
    {
      "cell_type": "code",
      "source": [
        "# Copiar los archivos locales a GCP\n",
        "\n",
        "!gsutil -m cp -r ./data gs://$BUCKET_NAME/twitter-sentiment-batch/data"
      ],
      "metadata": {
        "colab": {
          "base_uri": "https://localhost:8080/"
        },
        "id": "zYwl6FvifSqE",
        "outputId": "bf3a0e87-6241-4dcc-a9e8-4b00c9263f0d"
      },
      "execution_count": 22,
      "outputs": [
        {
          "output_type": "stream",
          "name": "stdout",
          "text": [
            "Copying file://./data/transformed_data/train/part-00001-of-00002 [Content-Type=application/octet-stream]...\n",
            "Copying file://./data/dataset-cybertrolls.json [Content-Type=application/json]...\n",
            "Copying file://./data/transformed_data/train/part-00000-of-00002 [Content-Type=application/octet-stream]...\n",
            "/ [0/7 files][    0.0 B/  5.0 MiB]   0% Done                                    \r/ [0/7 files][    0.0 B/  5.0 MiB]   0% Done                                    \r/ [0/7 files][    0.0 B/  5.0 MiB]   0% Done                                    \rCopying file://./data/transformed_data/test/part-00001-of-00002 [Content-Type=application/octet-stream]...\n",
            "Copying file://./data/transformed_data/eval/part-00001-of-00002 [Content-Type=application/octet-stream]...\n",
            "/ [0/7 files][    0.0 B/  5.0 MiB]   0% Done                                    \r/ [0/7 files][    0.0 B/  5.0 MiB]   0% Done                                    \rCopying file://./data/transformed_data/eval/part-00000-of-00002 [Content-Type=application/octet-stream]...\n",
            "Copying file://./data/transformed_data/test/part-00000-of-00002 [Content-Type=application/octet-stream]...\n",
            "| [7/7 files][  5.0 MiB/  5.0 MiB] 100% Done                                    \n",
            "Operation completed over 7 objects/5.0 MiB.                                      \n"
          ]
        }
      ]
    },
    {
      "cell_type": "code",
      "source": [
        "# Chequeo los archivos en GCP\n",
        "\n",
        "! gsutil ls -al gs://$BUCKET_NAME\n",
        "! gsutil ls -al gs://$BUCKET_NAME/twitter-sentiment-batch\n",
        "! gsutil ls -al gs://$BUCKET_NAME/twitter-sentiment-batch/data"
      ],
      "metadata": {
        "colab": {
          "base_uri": "https://localhost:8080/"
        },
        "id": "UEn-z3uXfVgy",
        "outputId": "5c4b10d4-9bb7-4a20-a19d-38ebfbd4c15f"
      },
      "execution_count": 23,
      "outputs": [
        {
          "output_type": "stream",
          "name": "stdout",
          "text": [
            "                                 gs://ia-practica-0402/twitter-sentiment-batch/\n",
            "      5711  2024-04-07T00:32:23Z  gs://ia-practica-0402/twitter-sentiment-batch/predict-work.py#1712449943455730  metageneration=1\n",
            "      5024  2024-04-07T00:32:23Z  gs://ia-practica-0402/twitter-sentiment-batch/predict.py#1712449943591825  metageneration=1\n",
            "      8011  2024-04-07T00:32:23Z  gs://ia-practica-0402/twitter-sentiment-batch/preprocess-local-gcp.py#1712449943344685  metageneration=1\n",
            "      7874  2024-04-07T00:32:23Z  gs://ia-practica-0402/twitter-sentiment-batch/preprocess-work.py#1712449943834805  metageneration=1\n",
            "      6020  2024-04-07T00:32:23Z  gs://ia-practica-0402/twitter-sentiment-batch/preprocess.py#1712449943690253  metageneration=1\n",
            "        84  2024-04-07T00:32:20Z  gs://ia-practica-0402/twitter-sentiment-batch/requirements.txt#1712449940526819  metageneration=1\n",
            "       450  2024-04-07T00:32:24Z  gs://ia-practica-0402/twitter-sentiment-batch/setup.py#1712449944022017  metageneration=1\n",
            "                                 gs://ia-practica-0402/twitter-sentiment-batch/data/\n",
            "                                 gs://ia-practica-0402/twitter-sentiment-batch/trainer/\n",
            "TOTAL: 7 objects, 33174 bytes (32.4 KiB)\n",
            "   2756023  2024-04-06T23:37:45Z  gs://ia-practica-0402/twitter-sentiment-batch/data/dataset-cybertrolls.json#1712446665700468  metageneration=1\n",
            "                                 gs://ia-practica-0402/twitter-sentiment-batch/data/data/\n",
            "                                 gs://ia-practica-0402/twitter-sentiment-batch/data/transformed_data/\n",
            "TOTAL: 1 objects, 2756023 bytes (2.63 MiB)\n"
          ]
        }
      ]
    },
    {
      "cell_type": "code",
      "source": [
        "# Estableco el directorio de trabajo en GCP\n",
        "\n",
        "WORK_DIR_GCP = 'twitter-sentiment-batch'"
      ],
      "metadata": {
        "id": "Mq5QfYMBn4q8"
      },
      "execution_count": 24,
      "outputs": []
    },
    {
      "cell_type": "code",
      "source": [
        "# Visualizao para verificar las variables que usare en las proximas ejecuciones\n",
        "\n",
        "print(f\"Project: {PROJECT_ID}\")\n",
        "print(f\"Region: {REGION}\")\n",
        "print(f\"Bucket: {BUCKET_NAME}\")\n",
        "print(f\"Directorio : {WORK_DIR}\")\n",
        "print(f\"Directorio GCP: {WORK_DIR_GCP}\")"
      ],
      "metadata": {
        "colab": {
          "base_uri": "https://localhost:8080/"
        },
        "id": "c0YFBTufiKoZ",
        "outputId": "473f07a5-00be-4968-806b-502771ff3dbd"
      },
      "execution_count": 36,
      "outputs": [
        {
          "output_type": "stream",
          "name": "stdout",
          "text": [
            "Project: ia-practica-0402\n",
            "Region: europe-west1\n",
            "Bucket: ia-practica-0402\n",
            "Directorio : /content/twitter-sentiment-batch\n",
            "Directorio GCP: twitter-sentiment-batch\n"
          ]
        }
      ]
    },
    {
      "cell_type": "markdown",
      "metadata": {
        "id": "qawuKC0k4B0e"
      },
      "source": [
        "Se proporciona un fichero `setup.py` necesario para ejecutar en DataFlow. Modificar la variable `REQUIRED_PACKAGES` con las dependencias que se hayan usado en el `requirements.txt`"
      ]
    },
    {
      "cell_type": "code",
      "execution_count": 15,
      "metadata": {
        "id": "n1MQvWsk_mVX",
        "colab": {
          "base_uri": "https://localhost:8080/"
        },
        "outputId": "942c99d0-282a-4d74-df4b-e7885c0c5417"
      },
      "outputs": [
        {
          "output_type": "stream",
          "name": "stdout",
          "text": [
            "Overwriting setup.py\n"
          ]
        }
      ],
      "source": [
        "%%writefile setup.py\n",
        "\n",
        "import setuptools\n",
        "\n",
        "REQUIRED_PACKAGES = [\n",
        "  \"apache-beam[gcp]==2.24.0\",\n",
        "  \"tensorflow==2.8.0\",\n",
        "  \"gensim==3.6.0\",\n",
        "  \"fsspec==0.8.4\",\n",
        "  \"gcsfs==0.7.1\",\n",
        "  \"numpy==1.20.0\"\n",
        "]\n",
        "\n",
        "setuptools.setup(\n",
        "    name=\"twitchstreaming\",\n",
        "    version=\"0.0.1\",\n",
        "    install_requires=REQUIRED_PACKAGES,\n",
        "    packages=setuptools.find_packages(),\n",
        "    include_package_data=True,\n",
        "    description=\"Troll detection\",\n",
        ")\n"
      ]
    },
    {
      "cell_type": "code",
      "source": [
        "## Ejecuto el presamiento en GCP train\n",
        "## -- Interrumpi la ejecucion por disponibilidad de la plataforma\n",
        "\n",
        "! python3 preprocess-local-gcp.py \\\n",
        "  --project $PROJECT_ID \\\n",
        "  --region $REGION \\\n",
        "  --runner DataflowRunner \\\n",
        "  --temp_location $BUCKET_NAME/$WORK_DIR_GCP/beam-temp \\\n",
        "  --setup_file ./setup.py \\\n",
        "  --work-dir $BUCKET_NAME/$WORK_DIR_GCP \\\n",
        "  --input gs://$BUCKET_NAME/$WORK_DIR_GCP/data/dataset-cybertrolls.json \\\n",
        "  --output $BUCKET_NAME/$WORK_DIR_GCP/data/transformed_data \\\n",
        "  --mode train"
      ],
      "metadata": {
        "colab": {
          "base_uri": "https://localhost:8080/"
        },
        "id": "cBBrjmnm6R7S",
        "outputId": "842205a7-7ad5-4568-cf5e-9d94782d4ea5"
      },
      "execution_count": 27,
      "outputs": [
        {
          "output_type": "stream",
          "name": "stdout",
          "text": [
            "[nltk_data] Downloading package stopwords to /root/nltk_data...\n",
            "[nltk_data]   Package stopwords is already up-to-date!\n",
            "INFO:apache_beam.internal.gcp.auth:Setting socket default timeout to 60 seconds.\n",
            "INFO:apache_beam.internal.gcp.auth:socket default timeout is 60.0 seconds.\n",
            "WARNING:google.auth._default:No project ID could be determined. Consider running `gcloud config set project` or setting the GOOGLE_CLOUD_PROJECT environment variable\n",
            "INFO:google.auth.compute_engine._metadata:Compute Engine Metadata server call to universe/universe_domain returned 404, reason: \n",
            "INFO:apache_beam.runners.portability.stager:Executing command: ['/usr/bin/python3', '-m', 'build', '--sdist', '--outdir', '/tmp/tmpni5talto', '.']\n",
            "INFO:apache_beam.runners.dataflow.dataflow_runner:Pipeline has additional dependencies to be installed in SDK worker container, consider using the SDK container image pre-building workflow to avoid repetitive installations. Learn more on https://cloud.google.com/dataflow/docs/guides/using-custom-containers#prebuild\n",
            "INFO:root:Using provided Python SDK container image: gcr.io/cloud-dataflow/v1beta3/beam_python3.10_sdk:2.55.0\n",
            "INFO:root:Python SDK container image set to \"gcr.io/cloud-dataflow/v1beta3/beam_python3.10_sdk:2.55.0\" for Docker environment\n",
            "INFO:apache_beam.runners.portability.fn_api_runner.translations:==================== <function pack_combiners at 0x7938859e81f0> ====================\n",
            "INFO:apache_beam.runners.portability.fn_api_runner.translations:==================== <function sort_stages at 0x7938859e89d0> ====================\n",
            "INFO:apache_beam.runners.dataflow.internal.apiclient:Starting GCS upload to gs://dataflow-staging-europe-west1-666891e9834d9e32d523357f20aa0408/beamapp-root-0407003410-398401-jrgwtfpz.1712450050.398646/pickled_main_session...\n",
            "INFO:apache_beam.runners.dataflow.internal.apiclient:Completed GCS upload to gs://dataflow-staging-europe-west1-666891e9834d9e32d523357f20aa0408/beamapp-root-0407003410-398401-jrgwtfpz.1712450050.398646/pickled_main_session in 1 seconds.\n",
            "INFO:apache_beam.runners.dataflow.internal.apiclient:Starting GCS upload to gs://dataflow-staging-europe-west1-666891e9834d9e32d523357f20aa0408/beamapp-root-0407003410-398401-jrgwtfpz.1712450050.398646/workflow.tar.gz...\n",
            "INFO:apache_beam.runners.dataflow.internal.apiclient:Completed GCS upload to gs://dataflow-staging-europe-west1-666891e9834d9e32d523357f20aa0408/beamapp-root-0407003410-398401-jrgwtfpz.1712450050.398646/workflow.tar.gz in 1 seconds.\n",
            "INFO:apache_beam.runners.dataflow.internal.apiclient:Starting GCS upload to gs://dataflow-staging-europe-west1-666891e9834d9e32d523357f20aa0408/beamapp-root-0407003410-398401-jrgwtfpz.1712450050.398646/pipeline.pb...\n",
            "INFO:apache_beam.runners.dataflow.internal.apiclient:Completed GCS upload to gs://dataflow-staging-europe-west1-666891e9834d9e32d523357f20aa0408/beamapp-root-0407003410-398401-jrgwtfpz.1712450050.398646/pipeline.pb in 1 seconds.\n",
            "INFO:apache_beam.runners.dataflow.internal.apiclient:Create job: <Job\n",
            " clientRequestId: '20240407003410399967-2545'\n",
            " createTime: '2024-04-07T00:34:16.352973Z'\n",
            " currentStateTime: '1970-01-01T00:00:00Z'\n",
            " id: '2024-04-06_17_34_15-4718568444109518392'\n",
            " location: 'europe-west1'\n",
            " name: 'beamapp-root-0407003410-398401-jrgwtfpz'\n",
            " projectId: 'ia-practica-0402'\n",
            " stageStates: []\n",
            " startTime: '2024-04-07T00:34:16.352973Z'\n",
            " steps: []\n",
            " tempFiles: []\n",
            " type: TypeValueValuesEnum(JOB_TYPE_BATCH, 1)>\n",
            "INFO:apache_beam.runners.dataflow.internal.apiclient:Created job with id: [2024-04-06_17_34_15-4718568444109518392]\n",
            "INFO:apache_beam.runners.dataflow.internal.apiclient:Submitted job: 2024-04-06_17_34_15-4718568444109518392\n",
            "INFO:apache_beam.runners.dataflow.internal.apiclient:To access the Dataflow monitoring console, please navigate to https://console.cloud.google.com/dataflow/jobs/europe-west1/2024-04-06_17_34_15-4718568444109518392?project=ia-practica-0402\n",
            "INFO:apache_beam.runners.dataflow.dataflow_runner:Job 2024-04-06_17_34_15-4718568444109518392 is in state JOB_STATE_PENDING\n",
            "INFO:apache_beam.runners.dataflow.dataflow_runner:2024-04-07T00:34:18.551Z: JOB_MESSAGE_BASIC: Worker configuration: n1-standard-1 in europe-west1-d.\n",
            "INFO:apache_beam.runners.dataflow.dataflow_runner:2024-04-07T00:34:20.096Z: JOB_MESSAGE_BASIC: Executing operation TrainWriteToCSV/Write/WriteImpl/DoOnce/Impulse+TrainWriteToCSV/Write/WriteImpl/DoOnce/FlatMap(<lambda at core.py:3782>)+TrainWriteToCSV/Write/WriteImpl/DoOnce/Map(decode)+TrainWriteToCSV/Write/WriteImpl/InitializeWrite\n",
            "INFO:apache_beam.runners.dataflow.dataflow_runner:2024-04-07T00:34:20.113Z: JOB_MESSAGE_BASIC: Executing operation ReadTwitterData/Read/Impulse+ReadTwitterData/Read/EmitSource+ref_AppliedPTransform_ReadTwitterData-Read-SDFBoundedSourceReader-ParDo-SDFBoundedSourceDoFn-_7/PairWithRestriction+ref_AppliedPTransform_ReadTwitterData-Read-SDFBoundedSourceReader-ParDo-SDFBoundedSourceDoFn-_7/SplitWithSizing\n",
            "INFO:apache_beam.runners.dataflow.dataflow_runner:2024-04-07T00:34:20.130Z: JOB_MESSAGE_BASIC: Executing operation EvalWriteToCSV/Write/WriteImpl/DoOnce/Impulse+EvalWriteToCSV/Write/WriteImpl/DoOnce/FlatMap(<lambda at core.py:3782>)+EvalWriteToCSV/Write/WriteImpl/DoOnce/Map(decode)+EvalWriteToCSV/Write/WriteImpl/InitializeWrite\n",
            "INFO:apache_beam.runners.dataflow.dataflow_runner:2024-04-07T00:34:20.140Z: JOB_MESSAGE_BASIC: Starting 1 workers in europe-west1-d...\n",
            "INFO:apache_beam.runners.dataflow.dataflow_runner:Job 2024-04-06_17_34_15-4718568444109518392 is in state JOB_STATE_RUNNING\n",
            "Traceback (most recent call last):\n",
            "  File \"/usr/local/lib/python3.10/dist-packages/apache_beam/pipeline.py\", line 613, in __exit__\n",
            "    self.result.wait_until_finish()\n",
            "  File \"/usr/local/lib/python3.10/dist-packages/apache_beam/runners/dataflow/dataflow_runner.py\", line 765, in wait_until_finish\n",
            "    time.sleep(5.0)\n",
            "KeyboardInterrupt\n",
            "\n",
            "During handling of the above exception, another exception occurred:\n",
            "\n",
            "Traceback (most recent call last):\n",
            "  File \"/content/twitter-sentiment-batch/preprocess-local-gcp.py\", line 244, in <module>\n",
            "    run()\n",
            "  File \"/content/twitter-sentiment-batch/preprocess-local-gcp.py\", line 198, in run\n",
            "    with beam.Pipeline(options=pipeline_options) as p:\n",
            "  File \"/usr/local/lib/python3.10/dist-packages/apache_beam/pipeline.py\", line 615, in __exit__\n",
            "    self._extra_context.__exit__(exc_type, exc_val, exc_tb)\n",
            "  File \"/usr/lib/python3.10/contextlib.py\", line 538, in __exit__\n",
            "    frame_exc = sys.exc_info()[1]\n",
            "KeyboardInterrupt\n",
            "^C\n"
          ]
        }
      ]
    },
    {
      "cell_type": "code",
      "source": [
        "## Ejecuto el presamiento en GCP train\n",
        "## -- Interrumpi la ejecucion por disponibilidad de la plataforma\n",
        "\n",
        "! python3 preprocess-local-gcp.py \\\n",
        "  --project $PROJECT_ID \\\n",
        "  --region $REGION \\\n",
        "  --runner DataflowRunner \\\n",
        "  --temp_location $BUCKET_NAME/$WORK_DIR_GCP/beam-temp \\\n",
        "  --setup_file ./setup.py \\\n",
        "  --work-dir $BUCKET_NAME/$WORK_DIR_GCP \\\n",
        "  --input gs://$BUCKET_NAME/$WORK_DIR_GCP/data/dataset-cybertrolls.json \\\n",
        "  --output $BUCKET_NAME/$WORK_DIR_GCP/data/transformed_data \\\n",
        "  --mode test"
      ],
      "metadata": {
        "id": "vNZH-a7CrF_m",
        "colab": {
          "base_uri": "https://localhost:8080/"
        },
        "outputId": "382b8979-a984-4c4c-9050-3d1eccfad30f"
      },
      "execution_count": 28,
      "outputs": [
        {
          "output_type": "stream",
          "name": "stdout",
          "text": [
            "[nltk_data] Downloading package stopwords to /root/nltk_data...\n",
            "[nltk_data]   Package stopwords is already up-to-date!\n",
            "INFO:apache_beam.internal.gcp.auth:Setting socket default timeout to 60 seconds.\n",
            "INFO:apache_beam.internal.gcp.auth:socket default timeout is 60.0 seconds.\n",
            "WARNING:google.auth._default:No project ID could be determined. Consider running `gcloud config set project` or setting the GOOGLE_CLOUD_PROJECT environment variable\n",
            "INFO:google.auth.compute_engine._metadata:Compute Engine Metadata server call to universe/universe_domain returned 404, reason: \n",
            "INFO:apache_beam.runners.portability.stager:Executing command: ['/usr/bin/python3', '-m', 'build', '--sdist', '--outdir', '/tmp/tmpffoqqvab', '.']\n",
            "INFO:apache_beam.runners.dataflow.dataflow_runner:Pipeline has additional dependencies to be installed in SDK worker container, consider using the SDK container image pre-building workflow to avoid repetitive installations. Learn more on https://cloud.google.com/dataflow/docs/guides/using-custom-containers#prebuild\n",
            "INFO:root:Using provided Python SDK container image: gcr.io/cloud-dataflow/v1beta3/beam_python3.10_sdk:2.55.0\n",
            "INFO:root:Python SDK container image set to \"gcr.io/cloud-dataflow/v1beta3/beam_python3.10_sdk:2.55.0\" for Docker environment\n",
            "INFO:apache_beam.runners.portability.fn_api_runner.translations:==================== <function pack_combiners at 0x7acb015edfc0> ====================\n",
            "INFO:apache_beam.runners.portability.fn_api_runner.translations:==================== <function sort_stages at 0x7acb015ee7a0> ====================\n",
            "INFO:apache_beam.runners.dataflow.internal.apiclient:Starting GCS upload to gs://dataflow-staging-europe-west1-666891e9834d9e32d523357f20aa0408/beamapp-root-0407003636-093712-xtjjr7da.1712450196.093959/pickled_main_session...\n",
            "INFO:apache_beam.runners.dataflow.internal.apiclient:Completed GCS upload to gs://dataflow-staging-europe-west1-666891e9834d9e32d523357f20aa0408/beamapp-root-0407003636-093712-xtjjr7da.1712450196.093959/pickled_main_session in 1 seconds.\n",
            "INFO:apache_beam.runners.dataflow.internal.apiclient:Starting GCS upload to gs://dataflow-staging-europe-west1-666891e9834d9e32d523357f20aa0408/beamapp-root-0407003636-093712-xtjjr7da.1712450196.093959/workflow.tar.gz...\n",
            "INFO:apache_beam.runners.dataflow.internal.apiclient:Completed GCS upload to gs://dataflow-staging-europe-west1-666891e9834d9e32d523357f20aa0408/beamapp-root-0407003636-093712-xtjjr7da.1712450196.093959/workflow.tar.gz in 1 seconds.\n",
            "INFO:apache_beam.runners.dataflow.internal.apiclient:Starting GCS upload to gs://dataflow-staging-europe-west1-666891e9834d9e32d523357f20aa0408/beamapp-root-0407003636-093712-xtjjr7da.1712450196.093959/pipeline.pb...\n",
            "INFO:apache_beam.runners.dataflow.internal.apiclient:Completed GCS upload to gs://dataflow-staging-europe-west1-666891e9834d9e32d523357f20aa0408/beamapp-root-0407003636-093712-xtjjr7da.1712450196.093959/pipeline.pb in 1 seconds.\n",
            "INFO:apache_beam.runners.dataflow.internal.apiclient:Create job: <Job\n",
            " clientRequestId: '20240407003636095360-2882'\n",
            " createTime: '2024-04-07T00:36:42.878192Z'\n",
            " currentStateTime: '1970-01-01T00:00:00Z'\n",
            " id: '2024-04-06_17_36_42-6290487935068759033'\n",
            " location: 'europe-west1'\n",
            " name: 'beamapp-root-0407003636-093712-xtjjr7da'\n",
            " projectId: 'ia-practica-0402'\n",
            " stageStates: []\n",
            " startTime: '2024-04-07T00:36:42.878192Z'\n",
            " steps: []\n",
            " tempFiles: []\n",
            " type: TypeValueValuesEnum(JOB_TYPE_BATCH, 1)>\n",
            "INFO:apache_beam.runners.dataflow.internal.apiclient:Created job with id: [2024-04-06_17_36_42-6290487935068759033]\n",
            "INFO:apache_beam.runners.dataflow.internal.apiclient:Submitted job: 2024-04-06_17_36_42-6290487935068759033\n",
            "INFO:apache_beam.runners.dataflow.internal.apiclient:To access the Dataflow monitoring console, please navigate to https://console.cloud.google.com/dataflow/jobs/europe-west1/2024-04-06_17_36_42-6290487935068759033?project=ia-practica-0402\n",
            "INFO:apache_beam.runners.dataflow.dataflow_runner:Job 2024-04-06_17_36_42-6290487935068759033 is in state JOB_STATE_PENDING\n",
            "INFO:apache_beam.runners.dataflow.dataflow_runner:2024-04-07T00:36:45.689Z: JOB_MESSAGE_BASIC: Worker configuration: n1-standard-1 in europe-west1-d.\n",
            "INFO:apache_beam.runners.dataflow.dataflow_runner:2024-04-07T00:36:47.199Z: JOB_MESSAGE_BASIC: Executing operation ReadTwitterData/Read/Impulse+ReadTwitterData/Read/EmitSource+ref_AppliedPTransform_ReadTwitterData-Read-SDFBoundedSourceReader-ParDo-SDFBoundedSourceDoFn-_7/PairWithRestriction+ref_AppliedPTransform_ReadTwitterData-Read-SDFBoundedSourceReader-ParDo-SDFBoundedSourceDoFn-_7/SplitWithSizing\n",
            "INFO:apache_beam.runners.dataflow.dataflow_runner:2024-04-07T00:36:47.215Z: JOB_MESSAGE_BASIC: Executing operation TestWriteToCSV/Write/WriteImpl/DoOnce/Impulse+TestWriteToCSV/Write/WriteImpl/DoOnce/FlatMap(<lambda at core.py:3782>)+TestWriteToCSV/Write/WriteImpl/DoOnce/Map(decode)+TestWriteToCSV/Write/WriteImpl/InitializeWrite\n",
            "INFO:apache_beam.runners.dataflow.dataflow_runner:2024-04-07T00:36:47.246Z: JOB_MESSAGE_BASIC: Starting 1 workers in europe-west1-d...\n",
            "INFO:apache_beam.runners.dataflow.dataflow_runner:Job 2024-04-06_17_36_42-6290487935068759033 is in state JOB_STATE_RUNNING\n",
            "Traceback (most recent call last):\n",
            "  File \"/content/twitter-sentiment-batch/preprocess-local-gcp.py\", line 244, in <module>\n",
            "    run()\n",
            "  File \"/content/twitter-sentiment-batch/preprocess-local-gcp.py\", line 198, in run\n",
            "    with beam.Pipeline(options=pipeline_options) as p:\n",
            "  File \"/usr/local/lib/python3.10/dist-packages/apache_beam/pipeline.py\", line 613, in __exit__\n",
            "    self.result.wait_until_finish()\n",
            "  File \"/usr/local/lib/python3.10/dist-packages/apache_beam/runners/dataflow/dataflow_runner.py\", line 765, in wait_until_finish\n",
            "    time.sleep(5.0)\n",
            "KeyboardInterrupt\n",
            "^C\n"
          ]
        }
      ]
    },
    {
      "cell_type": "markdown",
      "metadata": {
        "id": "hxYFYMy-o55h"
      },
      "source": [
        "Me creo una copia por si hubiera algún error en el procesamiento (buena práctica):"
      ]
    },
    {
      "cell_type": "code",
      "execution_count": 16,
      "metadata": {
        "id": "KlBCbvSQpBUK",
        "colab": {
          "base_uri": "https://localhost:8080/"
        },
        "outputId": "dd20c54b-4498-4ba8-e34f-e58f457d24de"
      },
      "outputs": [
        {
          "output_type": "stream",
          "name": "stdout",
          "text": [
            "Downloading...\n",
            "From: https://drive.google.com/uc?id=1dTaKofC9ZcMWa5cVtGLDFkEnbc4hiPJr\n",
            "To: /content/twitter-sentiment-batch/dataset-cybertrolls.json\n",
            "100% 2.76M/2.76M [00:00<00:00, 162MB/s]\n",
            "Copying file://dataset-cybertrolls.json...\n",
            "/ [1 files][  2.6 MiB/  2.6 MiB]                                                \n",
            "Operation completed over 1 objects/2.6 MiB.                                      \n"
          ]
        }
      ],
      "source": [
        "! gdown \"1dTaKofC9ZcMWa5cVtGLDFkEnbc4hiPJr\"\n",
        "! gsutil cp dataset-cybertrolls.json //$WORK_DIR/data.json\n"
      ]
    },
    {
      "cell_type": "markdown",
      "metadata": {
        "id": "jLDlz_fL4UJA"
      },
      "source": [
        "### Validación preprocess train en local\n",
        "Con el comando mostrado a continuación se valida la correcta generación de los datos de entrenamiento y validación en local."
      ]
    },
    {
      "cell_type": "code",
      "execution_count": 17,
      "metadata": {
        "id": "vFpirg37C3bN",
        "colab": {
          "base_uri": "https://localhost:8080/"
        },
        "outputId": "5affbf78-f58d-4cff-8f26-6c3d3548976a"
      },
      "outputs": [
        {
          "output_type": "stream",
          "name": "stdout",
          "text": [
            "total 816\n",
            "-rw-r--r-- 1 root root 315563 Apr  7 03:04 part-00000-of-00002\n",
            "-rw-r--r-- 1 root root 514032 Apr  7 03:04 part-00001-of-00002\n",
            "total 212\n",
            "-rw-r--r-- 1 root root 131894 Apr  7 03:04 part-00000-of-00002\n",
            "-rw-r--r-- 1 root root  77852 Apr  7 03:04 part-00001-of-00002\n"
          ]
        }
      ],
      "source": [
        "# mostrar los archivos generados para train y validacion\n",
        "! ls -l  //$WORK_DIR/data/transformed_data/train && ls -l  //$WORK_DIR/data/transformed_data/eval"
      ]
    },
    {
      "cell_type": "code",
      "source": [
        "! head -n 10  //$WORK_DIR/data/transformed_data/train/part-00000-of-00002"
      ],
      "metadata": {
        "colab": {
          "base_uri": "https://localhost:8080/"
        },
        "id": "-4cTlMX9FGBG",
        "outputId": "81f75a8d-9a7f-445e-c920-072cbc1c88e6"
      },
      "execution_count": 18,
      "outputs": [
        {
          "output_type": "stream",
          "name": "stdout",
          "text": [
            "hmm maybe crossed wires w 1 allisoncarter called nerd correct geek moving 2 fast 4 fun, NEGATIVE\n",
            "agreed continues piss, NEGATIVE\n",
            "wonder outlook sucks, NEGATIVE\n",
            "sucks lol cause time fine 1 meal cant none driving nuts lol, NEGATIVE\n",
            "nice robot post lol gt hate cheesy responses, NEGATIVE\n",
            "tell wrestlher loser gets clean office, NEGATIVE\n",
            "hear blip still damn line btw malicious already taken let start band, NEGATIVE\n",
            "european stop bitch mbites stop buying chocolate bought 22 kilos, NEGATIVE\n",
            "fuck love barry manilow, NEGATIVE\n",
            "hate bring um see ur last tweet came, NEGATIVE\n"
          ]
        }
      ]
    },
    {
      "cell_type": "code",
      "source": [
        "!gsutil ls -l  gs://$BUCKET_NAME/$WORK_DIR_GCP/data/transformed_data/train && ls -l  gs://$BUCKET_NAME/$WORK_DIR_GCP/data/transformed_data/eval"
      ],
      "metadata": {
        "colab": {
          "base_uri": "https://localhost:8080/"
        },
        "id": "L2okjzJQvAfE",
        "outputId": "8e54569a-4757-476a-efa7-2166a5c73670"
      },
      "execution_count": 32,
      "outputs": [
        {
          "output_type": "stream",
          "name": "stdout",
          "text": [
            "    313884  2024-04-06T23:37:45Z  gs://ia-practica-0402/twitter-sentiment-batch/data/transformed_data/train/part-00000-of-00002\n",
            "    524025  2024-04-06T23:37:45Z  gs://ia-practica-0402/twitter-sentiment-batch/data/transformed_data/train/part-00001-of-00002\n",
            "TOTAL: 2 objects, 837909 bytes (818.27 KiB)\n",
            "ls: cannot access 'gs://ia-practica-0402/twitter-sentiment-batch/data/transformed_data/eval': No such file or directory\n"
          ]
        }
      ]
    },
    {
      "cell_type": "markdown",
      "metadata": {
        "id": "wkkG271a4qnA"
      },
      "source": [
        "### Validación preprocess test en local\n",
        "\n",
        "Con el comando mostrado a continuación se valida la correcta generación de los datos de test en local."
      ]
    },
    {
      "cell_type": "code",
      "execution_count": 19,
      "metadata": {
        "id": "u4lkLgecLS3i",
        "colab": {
          "base_uri": "https://localhost:8080/"
        },
        "outputId": "06bea235-fc96-406e-a568-3cdf16fc4ee9"
      },
      "outputs": [
        {
          "output_type": "stream",
          "name": "stdout",
          "text": [
            "total 1388\n",
            "-rw-r--r-- 1 root root 532561 Apr  7 03:05 part-00000-of-00002\n",
            "-rw-r--r-- 1 root root 881686 Apr  7 03:05 part-00001-of-00002\n"
          ]
        }
      ],
      "source": [
        "# Mosrtar los datos de test generados\n",
        "\n",
        "! ls -l  //$WORK_DIR/data/transformed_data/test"
      ]
    },
    {
      "cell_type": "code",
      "source": [
        "! head -n 10  //$WORK_DIR/data/transformed_data/test/part-00000-of-00002"
      ],
      "metadata": {
        "colab": {
          "base_uri": "https://localhost:8080/"
        },
        "id": "WD0-Ji9MBHRw",
        "outputId": "3291de81-bdd1-4ad9-946d-32fefacc3ca9"
      },
      "execution_count": 20,
      "outputs": [
        {
          "output_type": "stream",
          "name": "stdout",
          "text": [
            "\"Hmm  maybe I crossed wires w/1 of you & @allisoncarter. Who called who nerd & was correct as geek? Me moving 2 fast 4 fun.\"\n",
            "\"agreed. Continues to piss me off too.\"\n",
            "\"i spent half an hour in that damn maze of roundabouts :-0\"\n",
            "\"No wonder Outlook sucks...\"\n",
            "\"It's sucks..lol  cause any other time I'd be fine with 1 meal  but because I cant have none  it's driving me nuts..lol\"\n",
            "\"Nice robot post!... LOL&gt; I hate those cheesy responses too.\"\n",
            "\"tell her I will wrestlher and loser gets to clean my office\"\n",
            "\"Can't hear that blip  still in this damn line. BTW  if Malicious isn't already taken  let's start a band.\"\n",
            "\"I know Ripley lives - I don't think the others do. Sucks to be them!\"\n",
            "\"you're a European so stop being a bitch to @mbites or I'll stop buying your chocolate  of which  I once bought 22 kilos :)\"\n"
          ]
        }
      ]
    },
    {
      "cell_type": "markdown",
      "metadata": {
        "id": "geZM9Sbj45LK"
      },
      "source": [
        "## Segundo ejercicio\n",
        "\n",
        "Desarrollar una tarea de entrenamiento para los datos preprocesados. Requisitos:\n",
        "\n",
        "- Soportar ejecuciones en local usando el SDK de AI-Platform y ejecuciones en GCP con el mismo código."
      ]
    },
    {
      "cell_type": "markdown",
      "metadata": {
        "id": "OMUwXgm_5el-"
      },
      "source": [
        "Se crea el directorio donde trabajaremos:"
      ]
    },
    {
      "cell_type": "code",
      "execution_count": 41,
      "metadata": {
        "id": "HMi8dI1gLoIc",
        "colab": {
          "base_uri": "https://localhost:8080/"
        },
        "outputId": "a9a37b69-a221-4199-9f50-ba43e3054df2"
      },
      "outputs": [
        {
          "output_type": "stream",
          "name": "stdout",
          "text": [
            "mkdir: cannot create directory ‘/content/batch/trainer’: No such file or directory\n"
          ]
        }
      ],
      "source": [
        "%mkdir /content/batch/trainer"
      ]
    },
    {
      "cell_type": "code",
      "execution_count": 42,
      "metadata": {
        "id": "3dJyMXTuNPwo",
        "colab": {
          "base_uri": "https://localhost:8080/"
        },
        "outputId": "eb29e125-c534-42f1-d099-1097b2888c3c"
      },
      "outputs": [
        {
          "output_type": "stream",
          "name": "stdout",
          "text": [
            "Overwriting trainer/__init__.py\n"
          ]
        }
      ],
      "source": [
        "%%writefile trainer/__init__.py\n",
        "\n",
        "version = \"0.1.0\""
      ]
    },
    {
      "cell_type": "code",
      "source": [
        "print(f\"Project: {PROJECT_ID}\")\n",
        "print(f\"Region: {REGION}\")\n",
        "print(f\"Bucket: {BUCKET_NAME}\")\n",
        "print(f\"Directorio : {WORK_DIR}\")\n",
        "print(f\"Directorio GCP: {WORK_DIR_GCP}\")\n"
      ],
      "metadata": {
        "colab": {
          "base_uri": "https://localhost:8080/"
        },
        "id": "rYJ2pGJPBcC2",
        "outputId": "12e59a2a-597a-4ca6-9761-aa80d7604435"
      },
      "execution_count": 43,
      "outputs": [
        {
          "output_type": "stream",
          "name": "stdout",
          "text": [
            "Project: ia-practica-0402\n",
            "Region: europe-west1\n",
            "Bucket: ia-practica-0402\n",
            "Directorio : /content/twitter-sentiment-batch\n",
            "Directorio GCP: twitter-sentiment-batch\n"
          ]
        }
      ]
    },
    {
      "cell_type": "code",
      "source": [
        "JOB = \"twitter_sentiment_analysis_batch_$(date +%Y%m%d_%H%M%S)\"\n",
        "\n",
        "JOB_DIR_GCP = \"gs://\" + BUCKET_NAME + \"/\" + WORK_DIR_GCP + \"/trainer\""
      ],
      "metadata": {
        "id": "fs4jOC2VhQHo"
      },
      "execution_count": 52,
      "outputs": []
    },
    {
      "cell_type": "code",
      "execution_count": 54,
      "metadata": {
        "id": "mUu6gKaTL_S2",
        "colab": {
          "base_uri": "https://localhost:8080/"
        },
        "outputId": "90e4aa65-8568-4acb-df9f-e3b7b0dedba2"
      },
      "outputs": [
        {
          "output_type": "stream",
          "name": "stdout",
          "text": [
            "\u001b[1;31mERROR:\u001b[0m (gcloud.ai-platform.jobs.submit.training) RESOURCE_EXHAUSTED: Quota failure for project ia-practica-0402. The request for 1 K80 accelerators exceeds the allowed maximum of 0 A100, 0 K80, 0 P100, 0 P4, 0 T4, 0 TPU_V2, 0 TPU_V2_POD, 0 TPU_V3, 0 TPU_V3_POD, 0 V100 accelerators. To read more about Cloud ML Engine quota, see https://cloud.google.com/ml-engine/quotas.\n",
            "- '@type': type.googleapis.com/google.rpc.QuotaFailure\n",
            "  violations:\n",
            "  - description: The request for 1 K80 accelerators exceeds the allowed maximum of\n",
            "      0 A100, 0 K80, 0 P100, 0 P4, 0 T4, 0 TPU_V2, 0 TPU_V2_POD, 0 TPU_V3, 0 TPU_V3_POD,\n",
            "      0 V100 accelerators.\n",
            "    subject: ia-practica-0402\n"
          ]
        }
      ],
      "source": [
        "# Entrenamiento en GCP\n",
        "# LA EJECUCION PROBOCABA ESTOS ERRORES\n",
        "##\n",
        "## ERROR: (gcloud.ai-platform.jobs.submit.training) RESOURCE_EXHAUSTED: Quota failure for project ia-practica-0402. The request for 1 K80 accelerators exceeds the allowed maximum of 0 A100, 0 K80, 0 P100, 0 P4, 0 T4, 0 TPU_V2, 0 TPU_V2_POD, 0 TPU_V3, 0 TPU_V3_POD, 0 V100 accelerators. To read more about Cloud ML Engine quota, see https://cloud.google.com/ml-engine/quotas.\n",
        "## - '@type': type.googleapis.com/google.rpc.QuotaFailure\n",
        "##\n",
        "! gcloud ai-platform jobs submit training $JOB \\\n",
        "  --module-name trainer.task \\\n",
        "  --package-path trainer \\\n",
        "  --scale-tier basic_gpu \\\n",
        "  --python-version 3.7 \\\n",
        "  --runtime-version 2.1 \\\n",
        "  --region $REGION \\\n",
        "  --job-dir $JOB_DIR \\\n",
        "  --stream-logs \\\n",
        "  -- \\\n",
        "  --work-dir $JOB_DIR_GCP \\\n",
        "  --epochs 3"
      ]
    },
    {
      "cell_type": "code",
      "source": [
        "# Entrenamiento local\n",
        "\n",
        "# Explicitly tell `gcloud ai-platform local train` to use Python 3\n",
        "! gcloud config set ml_engine/local_python $(which python3)\n",
        "\n",
        "# This is similar to `python -m trainer.task --job-dir local-training-output`\n",
        "# but it better replicates the AI Platform environment, especially for\n",
        "# distributed training (not applicable here).\n",
        "! gcloud ai-platform local train \\\n",
        "  --package-path trainer \\\n",
        "  --module-name trainer.task \\\n",
        "  -- \\\n",
        "  --work-dir $WORK_DIR \\\n",
        "  --epochs 1\n"
      ],
      "metadata": {
        "id": "XAomK9K-iRMS",
        "colab": {
          "base_uri": "https://localhost:8080/"
        },
        "outputId": "f3a77ecd-e031-45b5-e6d8-31f284fe1dfa"
      },
      "execution_count": 21,
      "outputs": [
        {
          "output_type": "stream",
          "name": "stdout",
          "text": [
            "Updated property [ml_engine/local_python].\n",
            "2024-04-07 03:13:28.967834: E external/local_xla/xla/stream_executor/cuda/cuda_dnn.cc:9261] Unable to register cuDNN factory: Attempting to register factory for plugin cuDNN when one has already been registered\n",
            "2024-04-07 03:13:28.967908: E external/local_xla/xla/stream_executor/cuda/cuda_fft.cc:607] Unable to register cuFFT factory: Attempting to register factory for plugin cuFFT when one has already been registered\n",
            "2024-04-07 03:13:28.969696: E external/local_xla/xla/stream_executor/cuda/cuda_blas.cc:1515] Unable to register cuBLAS factory: Attempting to register factory for plugin cuBLAS when one has already been registered\n",
            "2024-04-07 03:13:28.978658: I tensorflow/core/platform/cpu_feature_guard.cc:182] This TensorFlow binary is optimized to use available CPU instructions in performance-critical operations.\n",
            "To enable the following instructions: AVX2 FMA, in other operations, rebuild TensorFlow with the appropriate compiler flags.\n",
            "2024-04-07 03:13:30.420904: W tensorflow/compiler/tf2tensorrt/utils/py_utils.cc:38] TF-TRT Warning: Could not find TensorRT\n",
            "WARNING:tensorflow:From /content/twitter-sentiment-batch/trainer/task.py:112: RunConfig.__init__ (from tensorflow_estimator.python.estimator.run_config) is deprecated and will be removed in a future version.\n",
            "Instructions for updating:\n",
            "Use tf.keras instead.\n",
            "INFO:tensorflow:TF_CONFIG environment variable: {'job': {'job_name': 'trainer.task', 'args': ['--work-dir', '/content/twitter-sentiment-batch', '--epochs', '1']}, 'task': {}, 'cluster': {}, 'environment': 'cloud'}\n",
            "INFO:root:---- Generating word2vec model ----\n",
            "INFO:gensim.utils:Word2Vec lifecycle event {'params': 'Word2Vec<vocab=0, vector_size=300, alpha=0.025>', 'datetime': '2024-04-07T03:13:32.464595', 'gensim': '4.3.2', 'python': '3.10.12 (main, Nov 20 2023, 15:14:05) [GCC 11.4.0]', 'platform': 'Linux-6.1.58+-x86_64-with-glibc2.35', 'event': 'created'}\n",
            "INFO:gensim.models.word2vec:collecting all words and their counts\n",
            "INFO:gensim.models.word2vec:PROGRESS: at sentence #0, processed 0 words, keeping 0 word types\n",
            "INFO:gensim.models.word2vec:PROGRESS: at sentence #10000, processed 78689 words, keeping 10779 word types\n",
            "INFO:gensim.models.word2vec:collected 14703 word types from a corpus of 113589 raw words and 15909 sentences\n",
            "INFO:gensim.models.word2vec:Creating a fresh vocabulary\n",
            "INFO:gensim.utils:Word2Vec lifecycle event {'msg': 'effective_min_count=10 retains 1580 unique words (10.75% of original 14703, drops 13123)', 'datetime': '2024-04-07T03:13:32.505312', 'gensim': '4.3.2', 'python': '3.10.12 (main, Nov 20 2023, 15:14:05) [GCC 11.4.0]', 'platform': 'Linux-6.1.58+-x86_64-with-glibc2.35', 'event': 'prepare_vocab'}\n",
            "INFO:gensim.utils:Word2Vec lifecycle event {'msg': 'effective_min_count=10 leaves 83882 word corpus (73.85% of original 113589, drops 29707)', 'datetime': '2024-04-07T03:13:32.505540', 'gensim': '4.3.2', 'python': '3.10.12 (main, Nov 20 2023, 15:14:05) [GCC 11.4.0]', 'platform': 'Linux-6.1.58+-x86_64-with-glibc2.35', 'event': 'prepare_vocab'}\n",
            "INFO:gensim.models.word2vec:deleting the raw counts dictionary of 14703 items\n",
            "INFO:gensim.models.word2vec:sample=0.001 downsamples 57 most-common words\n",
            "INFO:gensim.utils:Word2Vec lifecycle event {'msg': 'downsampling leaves estimated 69819.34690809256 word corpus (83.2%% of prior 83882)', 'datetime': '2024-04-07T03:13:32.515076', 'gensim': '4.3.2', 'python': '3.10.12 (main, Nov 20 2023, 15:14:05) [GCC 11.4.0]', 'platform': 'Linux-6.1.58+-x86_64-with-glibc2.35', 'event': 'prepare_vocab'}\n",
            "INFO:gensim.models.word2vec:estimated required memory for 1580 words and 300 dimensions: 4582000 bytes\n",
            "INFO:gensim.models.word2vec:resetting layer weights\n",
            "INFO:gensim.utils:Word2Vec lifecycle event {'update': False, 'trim_rule': 'None', 'datetime': '2024-04-07T03:13:32.538241', 'gensim': '4.3.2', 'python': '3.10.12 (main, Nov 20 2023, 15:14:05) [GCC 11.4.0]', 'platform': 'Linux-6.1.58+-x86_64-with-glibc2.35', 'event': 'build_vocab'}\n",
            "INFO:root:Vocab size: 1580\n",
            "INFO:gensim.utils:Word2Vec lifecycle event {'msg': 'training model with 2 workers on 1580 vocabulary and 300 features, using sg=0 hs=0 sample=0.001 negative=5 window=7 shrink_windows=True', 'datetime': '2024-04-07T03:13:32.538570', 'gensim': '4.3.2', 'python': '3.10.12 (main, Nov 20 2023, 15:14:05) [GCC 11.4.0]', 'platform': 'Linux-6.1.58+-x86_64-with-glibc2.35', 'event': 'train'}\n",
            "INFO:gensim.models.word2vec:EPOCH 0: training on 113589 raw words (69713 effective words) took 0.2s, 394662 effective words/s\n",
            "INFO:gensim.models.word2vec:EPOCH 1: training on 113589 raw words (69762 effective words) took 0.2s, 417047 effective words/s\n",
            "INFO:gensim.models.word2vec:EPOCH 2: training on 113589 raw words (69840 effective words) took 0.2s, 395838 effective words/s\n",
            "INFO:gensim.models.word2vec:EPOCH 3: training on 113589 raw words (69774 effective words) took 0.2s, 402192 effective words/s\n",
            "INFO:gensim.models.word2vec:EPOCH 4: training on 113589 raw words (69941 effective words) took 0.2s, 367059 effective words/s\n",
            "INFO:gensim.utils:Word2Vec lifecycle event {'msg': 'training on 567945 raw words (349030 effective words) took 0.9s, 380096 effective words/s', 'datetime': '2024-04-07T03:13:33.456928', 'gensim': '4.3.2', 'python': '3.10.12 (main, Nov 20 2023, 15:14:05) [GCC 11.4.0]', 'platform': 'Linux-6.1.58+-x86_64-with-glibc2.35', 'event': 'train'}\n",
            "INFO:root:---- Generating tokenizer ----\n",
            "INFO:root:Total words: 14704\n",
            "INFO:root:---- Tokenizing train data ----\n",
            "INFO:root:---- Tokenizing eval data ----\n",
            "INFO:root:---- Generating label encoder ----\n",
            "INFO:root:---- Encoding train target ----\n",
            "INFO:root:---- Encoding eval target ----\n",
            "INFO:root:---- Generating embedding layer ----\n",
            "INFO:root:---- Generating Sequential model ----\n",
            "Model: \"sequential\"\n",
            "_________________________________________________________________\n",
            " Layer (type)                Output Shape              Param #   \n",
            "=================================================================\n",
            " embedding (Embedding)       (None, 300, 300)          4411200   \n",
            "                                                                 \n",
            " dropout (Dropout)           (None, 300, 300)          0         \n",
            "                                                                 \n",
            " lstm (LSTM)                 (None, 100)               160400    \n",
            "                                                                 \n",
            " dense (Dense)               (None, 1)                 101       \n",
            "                                                                 \n",
            "=================================================================\n",
            "Total params: 4571701 (17.44 MB)\n",
            "Trainable params: 160501 (626.96 KB)\n",
            "Non-trainable params: 4411200 (16.83 MB)\n",
            "_________________________________________________________________\n",
            "INFO:root:---- Adding loss function to model ----\n",
            "INFO:root:---- Adding callbacks to model ----\n",
            "INFO:root:---- Training model ----\n",
            "  14/1000 [..............................] - ETA: 4:19:28 - loss: 0.6913 - accuracy: 0.5568WARNING:tensorflow:Your input ran out of data; interrupting training. Make sure that your dataset or generator can generate at least `steps_per_epoch * epochs` batches (in this case, 1000 batches). You may need to use the repeat() function when building your dataset.\n",
            "WARNING:tensorflow:Your input ran out of data; interrupting training. Make sure that your dataset or generator can generate at least `steps_per_epoch * epochs` batches (in this case, 1000 batches). You may need to use the repeat() function when building your dataset.\n",
            "1000/1000 [==============================] - 243s 211ms/step - loss: 0.6913 - accuracy: 0.5568 - val_loss: 0.6139 - val_accuracy: 1.0000 - lr: 0.0010\n",
            "INFO:root:---- Evaluating model ----\n",
            "4/4 [==============================] - 17s 5s/step - loss: 0.6797 - accuracy: 0.5967\n",
            "INFO:root:ACCURACY: 0.596729576587677\n",
            "INFO:root:LOSS: 0.6797276735305786\n",
            "INFO:root:---- Saving models ----\n",
            "/usr/local/lib/python3.10/dist-packages/keras/src/engine/training.py:3103: UserWarning: You are saving your model as an HDF5 file via `model.save()`. This file format is considered legacy. We recommend using instead the native Keras format, e.g. `model.save('my_model.keras')`.\n",
            "  saving_api.save_model(\n"
          ]
        }
      ]
    },
    {
      "cell_type": "markdown",
      "metadata": {
        "id": "8axPHdHX6d9W"
      },
      "source": [
        "### Validación Train en local\n",
        "\n",
        "Con el comando mostrado a continuación se valida el correcto entrenamiento del modelo usando los datos preprocesados del apartado anterior."
      ]
    },
    {
      "cell_type": "code",
      "source": [
        "!ls /content/twitter-sentiment-batch/data/model"
      ],
      "metadata": {
        "colab": {
          "base_uri": "https://localhost:8080/"
        },
        "id": "Lr6VOnkL-BPS",
        "outputId": "386d3208-06e4-4b78-916c-78d3ab0a7210"
      },
      "execution_count": 41,
      "outputs": [
        {
          "output_type": "stream",
          "name": "stdout",
          "text": [
            "model.h5  tokenizer.pkl\n"
          ]
        }
      ]
    },
    {
      "cell_type": "code",
      "source": [],
      "metadata": {
        "id": "FVGA0kYjBhpX"
      },
      "execution_count": null,
      "outputs": []
    },
    {
      "cell_type": "markdown",
      "metadata": {
        "id": "0nhlkcjn62Zo"
      },
      "source": [
        "## Tercer ejercicio\n",
        "\n",
        "Desarrollar un pipeline de inferencia utilizando Apache Beam para generar predicciones usando los modelos generados en el apartado anterior así como los datos de test generados en el primer ejercicio.\n"
      ]
    },
    {
      "cell_type": "markdown",
      "metadata": {
        "id": "MUdgcLIP7a42"
      },
      "source": [
        "Generamos un timestamp para la ejecución de las predicciones"
      ]
    },
    {
      "cell_type": "code",
      "execution_count": 26,
      "metadata": {
        "id": "_pvKMtuQPOlr"
      },
      "outputs": [],
      "source": [
        "from datetime import datetime\n",
        "\n",
        "# current date and time\n",
        "TIMESTAMP = datetime.now().strftime('%Y-%m-%d_%H-%M-%S')"
      ]
    },
    {
      "cell_type": "code",
      "source": [
        "TIMESTAMP"
      ],
      "metadata": {
        "colab": {
          "base_uri": "https://localhost:8080/",
          "height": 35
        },
        "id": "ZifpglVly5IW",
        "outputId": "a99d8f5d-2ac5-40d5-b99e-9ecb8547fecb"
      },
      "execution_count": 27,
      "outputs": [
        {
          "output_type": "execute_result",
          "data": {
            "text/plain": [
              "'2024-04-07_05-00-40'"
            ],
            "application/vnd.google.colaboratory.intrinsic+json": {
              "type": "string"
            }
          },
          "metadata": {},
          "execution_count": 27
        }
      ]
    },
    {
      "cell_type": "markdown",
      "metadata": {
        "id": "RkLMdMup70ne"
      },
      "source": [
        "### Validación Predict en local\n",
        "\n",
        "Con el comando mostrado a continuación se valida la correcta inferencia usando los modelos anteriores y los datos de test generados anteriormente."
      ]
    },
    {
      "cell_type": "code",
      "execution_count": 28,
      "metadata": {
        "id": "iUJN0XCLPR_X",
        "colab": {
          "base_uri": "https://localhost:8080/"
        },
        "outputId": "4d856f91-15e6-4174-8977-d2baf7af3f59"
      },
      "outputs": [
        {
          "output_type": "stream",
          "name": "stdout",
          "text": [
            "2024-04-07 05:00:51.035267: E external/local_xla/xla/stream_executor/cuda/cuda_dnn.cc:9261] Unable to register cuDNN factory: Attempting to register factory for plugin cuDNN when one has already been registered\n",
            "2024-04-07 05:00:51.035350: E external/local_xla/xla/stream_executor/cuda/cuda_fft.cc:607] Unable to register cuFFT factory: Attempting to register factory for plugin cuFFT when one has already been registered\n",
            "2024-04-07 05:00:51.038110: E external/local_xla/xla/stream_executor/cuda/cuda_blas.cc:1515] Unable to register cuBLAS factory: Attempting to register factory for plugin cuBLAS when one has already been registered\n",
            "2024-04-07 05:00:52.668346: W tensorflow/compiler/tf2tensorrt/utils/py_utils.cc:38] TF-TRT Warning: Could not find TensorRT\n",
            "Namespace(work_dir='/content/twitter-sentiment-batch', model_dir='/content/twitter-sentiment-batch/data/model', verb='batch', inputs_dir='/content/twitter-sentiment-batch/data/transformed_data/test/part-00000-of-00002', outputs_dir='/content/twitter-sentiment-batch/predictions/2024-04-07_05-00-40')\n",
            "WARNING:apache_beam.options.pipeline_options:Discarding unparseable args: ['/content/twitter-sentiment-batch/data/transformed_data/test/part-00001-of-00002']\n",
            "1/1 [==============================] - 0s 361ms/step\n",
            "/content/twitter-sentiment-batch/predict.py:81: DeprecationWarning: Conversion of an array with ndim > 0 to a scalar is deprecated, and will error in future. Ensure you extract a single element from your array before performing this operation. (Deprecated NumPy 1.25.)\n",
            "  \"score\": float(score),\n",
            "1/1 [==============================] - 0s 74ms/step\n",
            "1/1 [==============================] - 0s 72ms/step\n",
            "1/1 [==============================] - 0s 75ms/step\n",
            "1/1 [==============================] - 0s 79ms/step\n",
            "1/1 [==============================] - 0s 75ms/step\n",
            "1/1 [==============================] - 0s 89ms/step\n",
            "1/1 [==============================] - 0s 73ms/step\n",
            "1/1 [==============================] - 0s 74ms/step\n",
            "1/1 [==============================] - 0s 71ms/step\n",
            "1/1 [==============================] - 0s 77ms/step\n",
            "1/1 [==============================] - 0s 72ms/step\n",
            "1/1 [==============================] - 0s 73ms/step\n",
            "1/1 [==============================] - 0s 75ms/step\n",
            "1/1 [==============================] - 0s 88ms/step\n",
            "1/1 [==============================] - 0s 72ms/step\n",
            "1/1 [==============================] - 0s 73ms/step\n",
            "1/1 [==============================] - 0s 72ms/step\n",
            "1/1 [==============================] - 0s 76ms/step\n",
            "1/1 [==============================] - 0s 73ms/step\n",
            "1/1 [==============================] - 0s 78ms/step\n",
            "1/1 [==============================] - 0s 73ms/step\n",
            "1/1 [==============================] - 0s 87ms/step\n",
            "1/1 [==============================] - 0s 77ms/step\n",
            "1/1 [==============================] - 0s 77ms/step\n",
            "1/1 [==============================] - 0s 77ms/step\n",
            "1/1 [==============================] - 0s 77ms/step\n",
            "1/1 [==============================] - 0s 74ms/step\n",
            "1/1 [==============================] - 0s 82ms/step\n",
            "1/1 [==============================] - 0s 92ms/step\n",
            "1/1 [==============================] - 0s 119ms/step\n",
            "1/1 [==============================] - 0s 123ms/step\n",
            "1/1 [==============================] - 0s 114ms/step\n",
            "1/1 [==============================] - 0s 122ms/step\n",
            "1/1 [==============================] - 0s 116ms/step\n",
            "1/1 [==============================] - 0s 171ms/step\n",
            "1/1 [==============================] - 0s 118ms/step\n",
            "1/1 [==============================] - 0s 119ms/step\n",
            "1/1 [==============================] - 0s 127ms/step\n",
            "1/1 [==============================] - 0s 113ms/step\n",
            "1/1 [==============================] - 0s 126ms/step\n",
            "1/1 [==============================] - 0s 128ms/step\n",
            "1/1 [==============================] - 0s 134ms/step\n",
            "1/1 [==============================] - 0s 130ms/step\n",
            "1/1 [==============================] - 0s 72ms/step\n",
            "1/1 [==============================] - 0s 95ms/step\n",
            "1/1 [==============================] - 0s 73ms/step\n",
            "1/1 [==============================] - 0s 85ms/step\n",
            "1/1 [==============================] - 0s 73ms/step\n",
            "1/1 [==============================] - 0s 76ms/step\n",
            "1/1 [==============================] - 0s 80ms/step\n",
            "1/1 [==============================] - 0s 75ms/step\n",
            "1/1 [==============================] - 0s 74ms/step\n",
            "1/1 [==============================] - 0s 70ms/step\n",
            "1/1 [==============================] - 0s 77ms/step\n",
            "1/1 [==============================] - 0s 71ms/step\n",
            "1/1 [==============================] - 0s 73ms/step\n",
            "1/1 [==============================] - 0s 79ms/step\n",
            "1/1 [==============================] - 0s 75ms/step\n",
            "1/1 [==============================] - 0s 71ms/step\n",
            "1/1 [==============================] - 0s 88ms/step\n",
            "1/1 [==============================] - 0s 79ms/step\n",
            "1/1 [==============================] - 0s 76ms/step\n",
            "1/1 [==============================] - 0s 78ms/step\n",
            "1/1 [==============================] - 0s 74ms/step\n",
            "1/1 [==============================] - 0s 85ms/step\n",
            "1/1 [==============================] - 0s 72ms/step\n",
            "1/1 [==============================] - 0s 79ms/step\n",
            "1/1 [==============================] - 0s 84ms/step\n",
            "1/1 [==============================] - 0s 75ms/step\n",
            "1/1 [==============================] - 0s 70ms/step\n",
            "1/1 [==============================] - 0s 70ms/step\n",
            "1/1 [==============================] - 0s 72ms/step\n",
            "1/1 [==============================] - 0s 76ms/step\n",
            "1/1 [==============================] - 0s 71ms/step\n",
            "1/1 [==============================] - 0s 87ms/step\n",
            "1/1 [==============================] - 0s 82ms/step\n",
            "1/1 [==============================] - 0s 89ms/step\n",
            "1/1 [==============================] - 0s 77ms/step\n",
            "1/1 [==============================] - 0s 73ms/step\n",
            "1/1 [==============================] - 0s 74ms/step\n",
            "1/1 [==============================] - 0s 85ms/step\n",
            "1/1 [==============================] - 0s 85ms/step\n",
            "1/1 [==============================] - 0s 107ms/step\n",
            "1/1 [==============================] - 0s 76ms/step\n",
            "1/1 [==============================] - 0s 76ms/step\n",
            "1/1 [==============================] - 0s 75ms/step\n",
            "1/1 [==============================] - 0s 85ms/step\n",
            "1/1 [==============================] - 0s 73ms/step\n",
            "1/1 [==============================] - 0s 79ms/step\n",
            "1/1 [==============================] - 0s 82ms/step\n",
            "1/1 [==============================] - 0s 76ms/step\n",
            "1/1 [==============================] - 0s 81ms/step\n",
            "1/1 [==============================] - 0s 79ms/step\n",
            "1/1 [==============================] - 0s 81ms/step\n",
            "1/1 [==============================] - 0s 78ms/step\n",
            "1/1 [==============================] - 0s 81ms/step\n",
            "1/1 [==============================] - 0s 77ms/step\n",
            "1/1 [==============================] - 0s 75ms/step\n",
            "1/1 [==============================] - 0s 77ms/step\n",
            "1/1 [==============================] - 0s 75ms/step\n",
            "1/1 [==============================] - 0s 79ms/step\n",
            "1/1 [==============================] - 0s 80ms/step\n",
            "1/1 [==============================] - 0s 73ms/step\n",
            "1/1 [==============================] - 0s 79ms/step\n",
            "1/1 [==============================] - 0s 91ms/step\n",
            "1/1 [==============================] - 0s 76ms/step\n",
            "1/1 [==============================] - 0s 76ms/step\n",
            "1/1 [==============================] - 0s 71ms/step\n",
            "1/1 [==============================] - 0s 76ms/step\n",
            "1/1 [==============================] - 0s 81ms/step\n",
            "1/1 [==============================] - 0s 77ms/step\n",
            "1/1 [==============================] - 0s 79ms/step\n",
            "1/1 [==============================] - 0s 83ms/step\n",
            "1/1 [==============================] - 0s 82ms/step\n",
            "1/1 [==============================] - 0s 77ms/step\n",
            "1/1 [==============================] - 0s 78ms/step\n",
            "1/1 [==============================] - 0s 122ms/step\n",
            "1/1 [==============================] - 0s 135ms/step\n",
            "1/1 [==============================] - 0s 130ms/step\n",
            "1/1 [==============================] - 0s 118ms/step\n",
            "1/1 [==============================] - 0s 122ms/step\n",
            "1/1 [==============================] - 0s 122ms/step\n",
            "1/1 [==============================] - 0s 118ms/step\n",
            "1/1 [==============================] - 0s 139ms/step\n",
            "1/1 [==============================] - 0s 122ms/step\n",
            "1/1 [==============================] - 0s 124ms/step\n",
            "1/1 [==============================] - 0s 142ms/step\n",
            "1/1 [==============================] - 0s 154ms/step\n",
            "1/1 [==============================] - 0s 145ms/step\n",
            "1/1 [==============================] - 0s 80ms/step\n",
            "1/1 [==============================] - 0s 77ms/step\n",
            "1/1 [==============================] - 0s 88ms/step\n",
            "1/1 [==============================] - 0s 73ms/step\n",
            "1/1 [==============================] - 0s 79ms/step\n",
            "1/1 [==============================] - 0s 87ms/step\n",
            "1/1 [==============================] - 0s 80ms/step\n",
            "1/1 [==============================] - 0s 81ms/step\n",
            "1/1 [==============================] - 0s 73ms/step\n",
            "1/1 [==============================] - 0s 87ms/step\n",
            "1/1 [==============================] - 0s 76ms/step\n",
            "1/1 [==============================] - 0s 81ms/step\n",
            "1/1 [==============================] - 0s 86ms/step\n",
            "1/1 [==============================] - 0s 72ms/step\n",
            "1/1 [==============================] - 0s 78ms/step\n",
            "1/1 [==============================] - 0s 72ms/step\n",
            "1/1 [==============================] - 0s 82ms/step\n",
            "1/1 [==============================] - 0s 73ms/step\n",
            "1/1 [==============================] - 0s 87ms/step\n",
            "1/1 [==============================] - 0s 74ms/step\n",
            "1/1 [==============================] - 0s 88ms/step\n",
            "1/1 [==============================] - 0s 73ms/step\n",
            "1/1 [==============================] - 0s 78ms/step\n",
            "1/1 [==============================] - 0s 72ms/step\n",
            "1/1 [==============================] - 0s 74ms/step\n",
            "1/1 [==============================] - 0s 79ms/step\n",
            "1/1 [==============================] - 0s 74ms/step\n",
            "1/1 [==============================] - 0s 74ms/step\n",
            "1/1 [==============================] - 0s 79ms/step\n",
            "1/1 [==============================] - 0s 83ms/step\n",
            "1/1 [==============================] - 0s 72ms/step\n",
            "1/1 [==============================] - 0s 76ms/step\n",
            "1/1 [==============================] - 0s 72ms/step\n",
            "1/1 [==============================] - 0s 72ms/step\n",
            "1/1 [==============================] - 0s 73ms/step\n",
            "1/1 [==============================] - 0s 91ms/step\n",
            "1/1 [==============================] - 0s 81ms/step\n",
            "1/1 [==============================] - 0s 75ms/step\n",
            "1/1 [==============================] - 0s 80ms/step\n",
            "1/1 [==============================] - 0s 74ms/step\n",
            "1/1 [==============================] - 0s 76ms/step\n",
            "1/1 [==============================] - 0s 74ms/step\n",
            "1/1 [==============================] - 0s 74ms/step\n",
            "1/1 [==============================] - 0s 77ms/step\n",
            "1/1 [==============================] - 0s 87ms/step\n",
            "1/1 [==============================] - 0s 76ms/step\n",
            "1/1 [==============================] - 0s 78ms/step\n",
            "1/1 [==============================] - 0s 75ms/step\n",
            "1/1 [==============================] - 0s 75ms/step\n",
            "1/1 [==============================] - 0s 74ms/step\n",
            "1/1 [==============================] - 0s 82ms/step\n",
            "1/1 [==============================] - 0s 77ms/step\n",
            "1/1 [==============================] - 0s 72ms/step\n",
            "1/1 [==============================] - 0s 77ms/step\n",
            "1/1 [==============================] - 0s 73ms/step\n",
            "1/1 [==============================] - 0s 76ms/step\n",
            "1/1 [==============================] - 0s 73ms/step\n",
            "1/1 [==============================] - 0s 78ms/step\n",
            "1/1 [==============================] - 0s 87ms/step\n",
            "1/1 [==============================] - 0s 71ms/step\n",
            "1/1 [==============================] - 0s 74ms/step\n",
            "1/1 [==============================] - 0s 80ms/step\n",
            "1/1 [==============================] - 0s 78ms/step\n",
            "1/1 [==============================] - 0s 85ms/step\n",
            "1/1 [==============================] - 0s 79ms/step\n",
            "1/1 [==============================] - 0s 78ms/step\n",
            "1/1 [==============================] - 0s 78ms/step\n",
            "1/1 [==============================] - 0s 71ms/step\n",
            "1/1 [==============================] - 0s 74ms/step\n",
            "1/1 [==============================] - 0s 76ms/step\n",
            "1/1 [==============================] - 0s 80ms/step\n",
            "1/1 [==============================] - 0s 75ms/step\n",
            "1/1 [==============================] - 0s 75ms/step\n",
            "1/1 [==============================] - 0s 104ms/step\n",
            "1/1 [==============================] - 0s 122ms/step\n",
            "1/1 [==============================] - 0s 137ms/step\n",
            "1/1 [==============================] - 0s 121ms/step\n",
            "1/1 [==============================] - 0s 123ms/step\n",
            "1/1 [==============================] - 0s 136ms/step\n",
            "1/1 [==============================] - 0s 124ms/step\n",
            "1/1 [==============================] - 0s 131ms/step\n",
            "1/1 [==============================] - 0s 125ms/step\n",
            "1/1 [==============================] - 0s 130ms/step\n",
            "1/1 [==============================] - 0s 140ms/step\n",
            "1/1 [==============================] - 0s 157ms/step\n",
            "1/1 [==============================] - 0s 135ms/step\n",
            "1/1 [==============================] - 0s 86ms/step\n",
            "1/1 [==============================] - 0s 72ms/step\n",
            "1/1 [==============================] - 0s 80ms/step\n",
            "1/1 [==============================] - 0s 74ms/step\n",
            "1/1 [==============================] - 0s 80ms/step\n",
            "1/1 [==============================] - 0s 78ms/step\n",
            "1/1 [==============================] - 0s 86ms/step\n",
            "1/1 [==============================] - 0s 82ms/step\n",
            "1/1 [==============================] - 0s 73ms/step\n",
            "1/1 [==============================] - 0s 80ms/step\n",
            "1/1 [==============================] - 0s 90ms/step\n",
            "1/1 [==============================] - 0s 75ms/step\n",
            "1/1 [==============================] - 0s 80ms/step\n",
            "1/1 [==============================] - 0s 74ms/step\n",
            "1/1 [==============================] - 0s 77ms/step\n",
            "1/1 [==============================] - 0s 76ms/step\n",
            "1/1 [==============================] - 0s 80ms/step\n",
            "1/1 [==============================] - 0s 75ms/step\n",
            "1/1 [==============================] - 0s 76ms/step\n",
            "1/1 [==============================] - 0s 73ms/step\n",
            "1/1 [==============================] - 0s 84ms/step\n",
            "1/1 [==============================] - 0s 93ms/step\n",
            "1/1 [==============================] - 0s 76ms/step\n",
            "1/1 [==============================] - 0s 84ms/step\n",
            "1/1 [==============================] - 0s 71ms/step\n",
            "1/1 [==============================] - 0s 79ms/step\n",
            "1/1 [==============================] - 0s 78ms/step\n",
            "1/1 [==============================] - 0s 75ms/step\n",
            "1/1 [==============================] - 0s 72ms/step\n",
            "1/1 [==============================] - 0s 76ms/step\n",
            "1/1 [==============================] - 0s 77ms/step\n",
            "1/1 [==============================] - 0s 76ms/step\n",
            "1/1 [==============================] - 0s 84ms/step\n",
            "1/1 [==============================] - 0s 76ms/step\n",
            "1/1 [==============================] - 0s 72ms/step\n",
            "1/1 [==============================] - 0s 74ms/step\n",
            "1/1 [==============================] - 0s 78ms/step\n",
            "1/1 [==============================] - 0s 75ms/step\n",
            "1/1 [==============================] - 0s 76ms/step\n",
            "1/1 [==============================] - 0s 75ms/step\n",
            "1/1 [==============================] - 0s 92ms/step\n",
            "1/1 [==============================] - 0s 84ms/step\n",
            "1/1 [==============================] - 0s 77ms/step\n",
            "1/1 [==============================] - 0s 92ms/step\n",
            "1/1 [==============================] - 0s 82ms/step\n",
            "1/1 [==============================] - 0s 71ms/step\n",
            "1/1 [==============================] - 0s 70ms/step\n",
            "1/1 [==============================] - 0s 77ms/step\n",
            "1/1 [==============================] - 0s 82ms/step\n",
            "1/1 [==============================] - 0s 74ms/step\n",
            "1/1 [==============================] - 0s 81ms/step\n",
            "1/1 [==============================] - 0s 74ms/step\n",
            "1/1 [==============================] - 0s 83ms/step\n",
            "1/1 [==============================] - 0s 77ms/step\n",
            "1/1 [==============================] - 0s 73ms/step\n",
            "1/1 [==============================] - 0s 89ms/step\n",
            "1/1 [==============================] - 0s 79ms/step\n",
            "1/1 [==============================] - 0s 79ms/step\n",
            "1/1 [==============================] - 0s 76ms/step\n",
            "1/1 [==============================] - 0s 80ms/step\n",
            "1/1 [==============================] - 0s 79ms/step\n",
            "1/1 [==============================] - 0s 81ms/step\n",
            "1/1 [==============================] - 0s 95ms/step\n",
            "1/1 [==============================] - 0s 76ms/step\n",
            "1/1 [==============================] - 0s 76ms/step\n",
            "1/1 [==============================] - 0s 76ms/step\n",
            "1/1 [==============================] - 0s 79ms/step\n",
            "1/1 [==============================] - 0s 90ms/step\n",
            "1/1 [==============================] - 0s 71ms/step\n",
            "1/1 [==============================] - 0s 84ms/step\n",
            "1/1 [==============================] - 0s 75ms/step\n",
            "1/1 [==============================] - 0s 75ms/step\n",
            "1/1 [==============================] - 0s 73ms/step\n",
            "1/1 [==============================] - 0s 133ms/step\n",
            "1/1 [==============================] - 0s 126ms/step\n",
            "1/1 [==============================] - 0s 121ms/step\n",
            "1/1 [==============================] - 0s 151ms/step\n",
            "1/1 [==============================] - 0s 127ms/step\n",
            "1/1 [==============================] - 0s 129ms/step\n",
            "1/1 [==============================] - 0s 121ms/step\n",
            "1/1 [==============================] - 0s 130ms/step\n",
            "1/1 [==============================] - 0s 120ms/step\n",
            "1/1 [==============================] - 0s 133ms/step\n",
            "1/1 [==============================] - 0s 130ms/step\n",
            "1/1 [==============================] - 0s 131ms/step\n",
            "1/1 [==============================] - 0s 129ms/step\n",
            "1/1 [==============================] - 0s 82ms/step\n",
            "1/1 [==============================] - 0s 75ms/step\n",
            "1/1 [==============================] - 0s 83ms/step\n",
            "1/1 [==============================] - 0s 71ms/step\n",
            "1/1 [==============================] - 0s 79ms/step\n",
            "1/1 [==============================] - 0s 73ms/step\n",
            "1/1 [==============================] - 0s 80ms/step\n",
            "1/1 [==============================] - 0s 74ms/step\n",
            "1/1 [==============================] - 0s 79ms/step\n",
            "1/1 [==============================] - 0s 82ms/step\n",
            "1/1 [==============================] - 0s 76ms/step\n",
            "1/1 [==============================] - 0s 79ms/step\n",
            "1/1 [==============================] - 0s 81ms/step\n",
            "1/1 [==============================] - 0s 81ms/step\n",
            "1/1 [==============================] - 0s 90ms/step\n",
            "1/1 [==============================] - 0s 74ms/step\n",
            "1/1 [==============================] - 0s 74ms/step\n",
            "1/1 [==============================] - 0s 75ms/step\n",
            "1/1 [==============================] - 0s 79ms/step\n",
            "1/1 [==============================] - 0s 72ms/step\n",
            "1/1 [==============================] - 0s 80ms/step\n",
            "1/1 [==============================] - 0s 70ms/step\n",
            "1/1 [==============================] - 0s 77ms/step\n",
            "1/1 [==============================] - 0s 72ms/step\n",
            "1/1 [==============================] - 0s 73ms/step\n",
            "1/1 [==============================] - 0s 77ms/step\n",
            "1/1 [==============================] - 0s 91ms/step\n",
            "1/1 [==============================] - 0s 72ms/step\n",
            "1/1 [==============================] - 0s 97ms/step\n",
            "1/1 [==============================] - 0s 87ms/step\n",
            "1/1 [==============================] - 0s 74ms/step\n",
            "1/1 [==============================] - 0s 76ms/step\n",
            "1/1 [==============================] - 0s 75ms/step\n",
            "1/1 [==============================] - 0s 77ms/step\n",
            "1/1 [==============================] - 0s 81ms/step\n",
            "1/1 [==============================] - 0s 75ms/step\n",
            "1/1 [==============================] - 0s 77ms/step\n",
            "1/1 [==============================] - 0s 76ms/step\n",
            "1/1 [==============================] - 0s 77ms/step\n",
            "1/1 [==============================] - 0s 71ms/step\n",
            "1/1 [==============================] - 0s 72ms/step\n",
            "1/1 [==============================] - 0s 74ms/step\n",
            "1/1 [==============================] - 0s 72ms/step\n",
            "1/1 [==============================] - 0s 71ms/step\n",
            "1/1 [==============================] - 0s 73ms/step\n",
            "1/1 [==============================] - 0s 76ms/step\n",
            "1/1 [==============================] - 0s 71ms/step\n",
            "1/1 [==============================] - 0s 78ms/step\n",
            "1/1 [==============================] - 0s 72ms/step\n",
            "1/1 [==============================] - 0s 76ms/step\n",
            "1/1 [==============================] - 0s 77ms/step\n",
            "1/1 [==============================] - 0s 74ms/step\n",
            "1/1 [==============================] - 0s 89ms/step\n",
            "1/1 [==============================] - 0s 76ms/step\n",
            "1/1 [==============================] - 0s 79ms/step\n",
            "1/1 [==============================] - 0s 72ms/step\n",
            "1/1 [==============================] - 0s 77ms/step\n",
            "1/1 [==============================] - 0s 77ms/step\n",
            "1/1 [==============================] - 0s 77ms/step\n",
            "1/1 [==============================] - 0s 75ms/step\n",
            "1/1 [==============================] - 0s 83ms/step\n",
            "1/1 [==============================] - 0s 90ms/step\n",
            "1/1 [==============================] - 0s 76ms/step\n",
            "1/1 [==============================] - 0s 76ms/step\n",
            "1/1 [==============================] - 0s 77ms/step\n",
            "1/1 [==============================] - 0s 75ms/step\n",
            "1/1 [==============================] - 0s 80ms/step\n",
            "1/1 [==============================] - 0s 87ms/step\n",
            "1/1 [==============================] - 0s 76ms/step\n",
            "1/1 [==============================] - 0s 73ms/step\n",
            "1/1 [==============================] - 0s 81ms/step\n",
            "1/1 [==============================] - 0s 73ms/step\n",
            "1/1 [==============================] - 0s 78ms/step\n",
            "1/1 [==============================] - 0s 85ms/step\n",
            "1/1 [==============================] - 0s 140ms/step\n",
            "1/1 [==============================] - 0s 133ms/step\n",
            "1/1 [==============================] - 0s 120ms/step\n",
            "1/1 [==============================] - 0s 126ms/step\n",
            "1/1 [==============================] - 0s 114ms/step\n",
            "1/1 [==============================] - 0s 142ms/step\n",
            "1/1 [==============================] - 0s 122ms/step\n",
            "1/1 [==============================] - 0s 124ms/step\n",
            "1/1 [==============================] - 0s 116ms/step\n",
            "1/1 [==============================] - 0s 119ms/step\n",
            "1/1 [==============================] - 0s 137ms/step\n",
            "1/1 [==============================] - 0s 127ms/step\n",
            "1/1 [==============================] - 0s 126ms/step\n",
            "1/1 [==============================] - 0s 77ms/step\n",
            "1/1 [==============================] - 0s 81ms/step\n",
            "1/1 [==============================] - 0s 72ms/step\n",
            "1/1 [==============================] - 0s 94ms/step\n",
            "1/1 [==============================] - 0s 73ms/step\n",
            "1/1 [==============================] - 0s 81ms/step\n",
            "1/1 [==============================] - 0s 73ms/step\n",
            "1/1 [==============================] - 0s 74ms/step\n",
            "1/1 [==============================] - 0s 76ms/step\n",
            "1/1 [==============================] - 0s 83ms/step\n",
            "1/1 [==============================] - 0s 77ms/step\n",
            "1/1 [==============================] - 0s 77ms/step\n",
            "1/1 [==============================] - 0s 75ms/step\n",
            "1/1 [==============================] - 0s 76ms/step\n",
            "1/1 [==============================] - 0s 77ms/step\n",
            "1/1 [==============================] - 0s 73ms/step\n",
            "1/1 [==============================] - 0s 79ms/step\n",
            "1/1 [==============================] - 0s 70ms/step\n",
            "1/1 [==============================] - 0s 91ms/step\n",
            "1/1 [==============================] - 0s 76ms/step\n",
            "1/1 [==============================] - 0s 75ms/step\n",
            "1/1 [==============================] - 0s 75ms/step\n",
            "1/1 [==============================] - 0s 77ms/step\n",
            "1/1 [==============================] - 0s 74ms/step\n",
            "1/1 [==============================] - 0s 74ms/step\n",
            "1/1 [==============================] - 0s 81ms/step\n",
            "1/1 [==============================] - 0s 77ms/step\n",
            "1/1 [==============================] - 0s 73ms/step\n",
            "1/1 [==============================] - 0s 78ms/step\n",
            "1/1 [==============================] - 0s 78ms/step\n",
            "1/1 [==============================] - 0s 75ms/step\n",
            "1/1 [==============================] - 0s 76ms/step\n",
            "1/1 [==============================] - 0s 73ms/step\n",
            "1/1 [==============================] - 0s 74ms/step\n",
            "1/1 [==============================] - 0s 78ms/step\n",
            "1/1 [==============================] - 0s 72ms/step\n",
            "1/1 [==============================] - 0s 81ms/step\n",
            "1/1 [==============================] - 0s 71ms/step\n",
            "1/1 [==============================] - 0s 73ms/step\n",
            "1/1 [==============================] - 0s 72ms/step\n",
            "1/1 [==============================] - 0s 74ms/step\n",
            "1/1 [==============================] - 0s 93ms/step\n",
            "1/1 [==============================] - 0s 79ms/step\n",
            "1/1 [==============================] - 0s 78ms/step\n",
            "1/1 [==============================] - 0s 80ms/step\n",
            "1/1 [==============================] - 0s 80ms/step\n",
            "1/1 [==============================] - 0s 79ms/step\n",
            "1/1 [==============================] - 0s 76ms/step\n",
            "1/1 [==============================] - 0s 75ms/step\n",
            "1/1 [==============================] - 0s 81ms/step\n",
            "1/1 [==============================] - 0s 77ms/step\n",
            "1/1 [==============================] - 0s 74ms/step\n",
            "1/1 [==============================] - 0s 78ms/step\n",
            "1/1 [==============================] - 0s 72ms/step\n",
            "1/1 [==============================] - 0s 80ms/step\n",
            "1/1 [==============================] - 0s 73ms/step\n",
            "1/1 [==============================] - 0s 91ms/step\n",
            "1/1 [==============================] - 0s 79ms/step\n",
            "1/1 [==============================] - 0s 73ms/step\n",
            "1/1 [==============================] - 0s 73ms/step\n",
            "1/1 [==============================] - 0s 77ms/step\n",
            "1/1 [==============================] - 0s 71ms/step\n",
            "1/1 [==============================] - 0s 70ms/step\n",
            "1/1 [==============================] - 0s 73ms/step\n",
            "1/1 [==============================] - 0s 96ms/step\n",
            "1/1 [==============================] - 0s 73ms/step\n",
            "1/1 [==============================] - 0s 80ms/step\n",
            "1/1 [==============================] - 0s 73ms/step\n",
            "1/1 [==============================] - 0s 76ms/step\n",
            "1/1 [==============================] - 0s 72ms/step\n",
            "1/1 [==============================] - 0s 78ms/step\n",
            "1/1 [==============================] - 0s 71ms/step\n",
            "1/1 [==============================] - 0s 89ms/step\n",
            "1/1 [==============================] - 0s 79ms/step\n",
            "1/1 [==============================] - 0s 121ms/step\n",
            "1/1 [==============================] - 0s 118ms/step\n",
            "1/1 [==============================] - 0s 116ms/step\n",
            "1/1 [==============================] - 0s 125ms/step\n",
            "1/1 [==============================] - 0s 129ms/step\n",
            "1/1 [==============================] - 0s 125ms/step\n",
            "1/1 [==============================] - 0s 129ms/step\n",
            "1/1 [==============================] - 0s 119ms/step\n",
            "1/1 [==============================] - 0s 129ms/step\n",
            "1/1 [==============================] - 0s 124ms/step\n",
            "1/1 [==============================] - 0s 122ms/step\n",
            "1/1 [==============================] - 0s 127ms/step\n",
            "1/1 [==============================] - 0s 126ms/step\n",
            "1/1 [==============================] - 0s 133ms/step\n",
            "1/1 [==============================] - 0s 87ms/step\n",
            "1/1 [==============================] - 0s 77ms/step\n",
            "1/1 [==============================] - 0s 76ms/step\n",
            "1/1 [==============================] - 0s 81ms/step\n",
            "1/1 [==============================] - 0s 76ms/step\n",
            "1/1 [==============================] - 0s 77ms/step\n",
            "1/1 [==============================] - 0s 78ms/step\n",
            "1/1 [==============================] - 0s 97ms/step\n",
            "1/1 [==============================] - 0s 86ms/step\n",
            "1/1 [==============================] - 0s 88ms/step\n",
            "1/1 [==============================] - 0s 72ms/step\n",
            "1/1 [==============================] - 0s 76ms/step\n",
            "1/1 [==============================] - 0s 105ms/step\n",
            "1/1 [==============================] - 0s 79ms/step\n",
            "1/1 [==============================] - 0s 100ms/step\n",
            "1/1 [==============================] - 0s 85ms/step\n",
            "1/1 [==============================] - 0s 73ms/step\n",
            "1/1 [==============================] - 0s 75ms/step\n",
            "1/1 [==============================] - 0s 74ms/step\n",
            "1/1 [==============================] - 0s 81ms/step\n",
            "1/1 [==============================] - 0s 74ms/step\n",
            "1/1 [==============================] - 0s 80ms/step\n",
            "1/1 [==============================] - 0s 78ms/step\n",
            "1/1 [==============================] - 0s 79ms/step\n",
            "1/1 [==============================] - 0s 79ms/step\n",
            "1/1 [==============================] - 0s 74ms/step\n",
            "1/1 [==============================] - 0s 75ms/step\n",
            "1/1 [==============================] - 0s 72ms/step\n",
            "1/1 [==============================] - 0s 72ms/step\n",
            "1/1 [==============================] - 0s 93ms/step\n",
            "1/1 [==============================] - 0s 79ms/step\n",
            "1/1 [==============================] - 0s 76ms/step\n",
            "1/1 [==============================] - 0s 73ms/step\n",
            "1/1 [==============================] - 0s 80ms/step\n",
            "1/1 [==============================] - 0s 74ms/step\n",
            "1/1 [==============================] - 0s 72ms/step\n",
            "1/1 [==============================] - 0s 75ms/step\n",
            "1/1 [==============================] - 0s 73ms/step\n",
            "1/1 [==============================] - 0s 74ms/step\n",
            "1/1 [==============================] - 0s 82ms/step\n",
            "1/1 [==============================] - 0s 74ms/step\n",
            "1/1 [==============================] - 0s 83ms/step\n",
            "1/1 [==============================] - 0s 75ms/step\n",
            "1/1 [==============================] - 0s 74ms/step\n",
            "1/1 [==============================] - 0s 89ms/step\n",
            "1/1 [==============================] - 0s 72ms/step\n",
            "1/1 [==============================] - 0s 75ms/step\n",
            "1/1 [==============================] - 0s 75ms/step\n",
            "1/1 [==============================] - 0s 81ms/step\n",
            "1/1 [==============================] - 0s 76ms/step\n",
            "1/1 [==============================] - 0s 73ms/step\n",
            "1/1 [==============================] - 0s 77ms/step\n",
            "1/1 [==============================] - 0s 90ms/step\n",
            "1/1 [==============================] - 0s 84ms/step\n",
            "1/1 [==============================] - 0s 73ms/step\n",
            "1/1 [==============================] - 0s 72ms/step\n",
            "1/1 [==============================] - 0s 81ms/step\n",
            "1/1 [==============================] - 0s 76ms/step\n",
            "1/1 [==============================] - 0s 76ms/step\n",
            "1/1 [==============================] - 0s 78ms/step\n",
            "1/1 [==============================] - 0s 89ms/step\n",
            "1/1 [==============================] - 0s 74ms/step\n",
            "1/1 [==============================] - 0s 77ms/step\n",
            "1/1 [==============================] - 0s 79ms/step\n",
            "1/1 [==============================] - 0s 82ms/step\n",
            "1/1 [==============================] - 0s 79ms/step\n",
            "1/1 [==============================] - 0s 95ms/step\n",
            "1/1 [==============================] - 0s 77ms/step\n",
            "1/1 [==============================] - 0s 86ms/step\n",
            "1/1 [==============================] - 0s 73ms/step\n",
            "1/1 [==============================] - 0s 85ms/step\n",
            "1/1 [==============================] - 0s 77ms/step\n",
            "1/1 [==============================] - 0s 117ms/step\n",
            "1/1 [==============================] - 0s 139ms/step\n",
            "1/1 [==============================] - 0s 122ms/step\n",
            "1/1 [==============================] - 0s 115ms/step\n",
            "1/1 [==============================] - 0s 117ms/step\n",
            "1/1 [==============================] - 0s 115ms/step\n",
            "1/1 [==============================] - 0s 120ms/step\n",
            "1/1 [==============================] - 0s 129ms/step\n",
            "1/1 [==============================] - 0s 127ms/step\n",
            "1/1 [==============================] - 0s 129ms/step\n",
            "1/1 [==============================] - 0s 134ms/step\n",
            "1/1 [==============================] - 0s 149ms/step\n",
            "1/1 [==============================] - 0s 130ms/step\n",
            "1/1 [==============================] - 0s 75ms/step\n",
            "1/1 [==============================] - 0s 81ms/step\n",
            "1/1 [==============================] - 0s 79ms/step\n",
            "1/1 [==============================] - 0s 75ms/step\n",
            "1/1 [==============================] - 0s 84ms/step\n",
            "1/1 [==============================] - 0s 80ms/step\n",
            "1/1 [==============================] - 0s 75ms/step\n",
            "1/1 [==============================] - 0s 79ms/step\n",
            "1/1 [==============================] - 0s 78ms/step\n",
            "1/1 [==============================] - 0s 75ms/step\n",
            "1/1 [==============================] - 0s 76ms/step\n",
            "1/1 [==============================] - 0s 77ms/step\n",
            "1/1 [==============================] - 0s 95ms/step\n",
            "1/1 [==============================] - 0s 76ms/step\n",
            "1/1 [==============================] - 0s 76ms/step\n",
            "1/1 [==============================] - 0s 71ms/step\n",
            "1/1 [==============================] - 0s 76ms/step\n",
            "1/1 [==============================] - 0s 77ms/step\n",
            "1/1 [==============================] - 0s 71ms/step\n",
            "1/1 [==============================] - 0s 99ms/step\n",
            "1/1 [==============================] - 0s 71ms/step\n",
            "1/1 [==============================] - 0s 85ms/step\n",
            "1/1 [==============================] - 0s 73ms/step\n",
            "1/1 [==============================] - 0s 75ms/step\n",
            "1/1 [==============================] - 0s 82ms/step\n",
            "1/1 [==============================] - 0s 84ms/step\n",
            "1/1 [==============================] - 0s 77ms/step\n",
            "1/1 [==============================] - 0s 82ms/step\n",
            "1/1 [==============================] - 0s 75ms/step\n",
            "1/1 [==============================] - 0s 86ms/step\n",
            "1/1 [==============================] - 0s 74ms/step\n",
            "1/1 [==============================] - 0s 74ms/step\n",
            "1/1 [==============================] - 0s 75ms/step\n",
            "1/1 [==============================] - 0s 71ms/step\n",
            "1/1 [==============================] - 0s 84ms/step\n",
            "1/1 [==============================] - 0s 75ms/step\n",
            "1/1 [==============================] - 0s 79ms/step\n",
            "1/1 [==============================] - 0s 83ms/step\n",
            "1/1 [==============================] - 0s 71ms/step\n",
            "1/1 [==============================] - 0s 79ms/step\n",
            "1/1 [==============================] - 0s 74ms/step\n",
            "1/1 [==============================] - 0s 81ms/step\n",
            "1/1 [==============================] - 0s 76ms/step\n",
            "1/1 [==============================] - 0s 84ms/step\n",
            "1/1 [==============================] - 0s 94ms/step\n",
            "1/1 [==============================] - 0s 74ms/step\n",
            "1/1 [==============================] - 0s 89ms/step\n",
            "1/1 [==============================] - 0s 76ms/step\n",
            "1/1 [==============================] - 0s 89ms/step\n",
            "1/1 [==============================] - 0s 76ms/step\n",
            "1/1 [==============================] - 0s 76ms/step\n",
            "1/1 [==============================] - 0s 73ms/step\n",
            "1/1 [==============================] - 0s 77ms/step\n",
            "1/1 [==============================] - 0s 83ms/step\n",
            "1/1 [==============================] - 0s 73ms/step\n",
            "1/1 [==============================] - 0s 78ms/step\n",
            "1/1 [==============================] - 0s 89ms/step\n",
            "1/1 [==============================] - 0s 80ms/step\n",
            "1/1 [==============================] - 0s 73ms/step\n",
            "1/1 [==============================] - 0s 73ms/step\n",
            "1/1 [==============================] - 0s 79ms/step\n",
            "1/1 [==============================] - 0s 81ms/step\n",
            "1/1 [==============================] - 0s 74ms/step\n",
            "1/1 [==============================] - 0s 77ms/step\n",
            "1/1 [==============================] - 0s 80ms/step\n",
            "1/1 [==============================] - 0s 75ms/step\n",
            "1/1 [==============================] - 0s 83ms/step\n",
            "1/1 [==============================] - 0s 73ms/step\n",
            "1/1 [==============================] - 0s 85ms/step\n",
            "1/1 [==============================] - 0s 71ms/step\n",
            "1/1 [==============================] - 0s 73ms/step\n",
            "1/1 [==============================] - 0s 97ms/step\n",
            "1/1 [==============================] - 0s 83ms/step\n",
            "1/1 [==============================] - 0s 132ms/step\n",
            "1/1 [==============================] - 0s 133ms/step\n",
            "1/1 [==============================] - 0s 128ms/step\n",
            "1/1 [==============================] - 0s 139ms/step\n",
            "1/1 [==============================] - 0s 122ms/step\n",
            "1/1 [==============================] - 0s 114ms/step\n",
            "1/1 [==============================] - 0s 134ms/step\n",
            "1/1 [==============================] - 0s 136ms/step\n",
            "1/1 [==============================] - 0s 140ms/step\n",
            "1/1 [==============================] - 0s 134ms/step\n",
            "1/1 [==============================] - 0s 130ms/step\n",
            "1/1 [==============================] - 0s 126ms/step\n",
            "1/1 [==============================] - 0s 129ms/step\n",
            "1/1 [==============================] - 0s 79ms/step\n",
            "1/1 [==============================] - 0s 80ms/step\n",
            "1/1 [==============================] - 0s 75ms/step\n",
            "1/1 [==============================] - 0s 87ms/step\n",
            "1/1 [==============================] - 0s 72ms/step\n",
            "1/1 [==============================] - 0s 83ms/step\n",
            "1/1 [==============================] - 0s 74ms/step\n",
            "1/1 [==============================] - 0s 88ms/step\n",
            "1/1 [==============================] - 0s 74ms/step\n",
            "1/1 [==============================] - 0s 78ms/step\n",
            "1/1 [==============================] - 0s 74ms/step\n",
            "1/1 [==============================] - 0s 74ms/step\n",
            "1/1 [==============================] - 0s 81ms/step\n",
            "1/1 [==============================] - 0s 81ms/step\n",
            "1/1 [==============================] - 0s 83ms/step\n",
            "1/1 [==============================] - 0s 77ms/step\n",
            "1/1 [==============================] - 0s 75ms/step\n",
            "1/1 [==============================] - 0s 78ms/step\n",
            "1/1 [==============================] - 0s 73ms/step\n",
            "1/1 [==============================] - 0s 74ms/step\n",
            "1/1 [==============================] - 0s 76ms/step\n",
            "1/1 [==============================] - 0s 85ms/step\n",
            "1/1 [==============================] - 0s 80ms/step\n",
            "1/1 [==============================] - 0s 86ms/step\n",
            "1/1 [==============================] - 0s 85ms/step\n",
            "1/1 [==============================] - 0s 77ms/step\n",
            "1/1 [==============================] - 0s 74ms/step\n",
            "1/1 [==============================] - 0s 75ms/step\n",
            "1/1 [==============================] - 0s 76ms/step\n",
            "1/1 [==============================] - 0s 88ms/step\n",
            "1/1 [==============================] - 0s 87ms/step\n",
            "1/1 [==============================] - 0s 79ms/step\n",
            "1/1 [==============================] - 0s 76ms/step\n",
            "1/1 [==============================] - 0s 72ms/step\n",
            "1/1 [==============================] - 0s 77ms/step\n",
            "1/1 [==============================] - 0s 79ms/step\n",
            "1/1 [==============================] - 0s 72ms/step\n",
            "1/1 [==============================] - 0s 76ms/step\n",
            "1/1 [==============================] - 0s 78ms/step\n",
            "1/1 [==============================] - 0s 86ms/step\n",
            "1/1 [==============================] - 0s 78ms/step\n",
            "1/1 [==============================] - 0s 75ms/step\n",
            "1/1 [==============================] - 0s 72ms/step\n",
            "1/1 [==============================] - 0s 82ms/step\n",
            "1/1 [==============================] - 0s 97ms/step\n",
            "1/1 [==============================] - 0s 75ms/step\n",
            "1/1 [==============================] - 0s 78ms/step\n",
            "1/1 [==============================] - 0s 78ms/step\n",
            "1/1 [==============================] - 0s 80ms/step\n",
            "1/1 [==============================] - 0s 97ms/step\n",
            "1/1 [==============================] - 0s 75ms/step\n",
            "1/1 [==============================] - 0s 101ms/step\n",
            "1/1 [==============================] - 0s 79ms/step\n",
            "1/1 [==============================] - 0s 84ms/step\n",
            "1/1 [==============================] - 0s 73ms/step\n",
            "1/1 [==============================] - 0s 88ms/step\n",
            "1/1 [==============================] - 0s 82ms/step\n",
            "1/1 [==============================] - 0s 79ms/step\n",
            "1/1 [==============================] - 0s 90ms/step\n",
            "1/1 [==============================] - 0s 75ms/step\n",
            "1/1 [==============================] - 0s 86ms/step\n",
            "1/1 [==============================] - 0s 85ms/step\n",
            "1/1 [==============================] - 0s 81ms/step\n",
            "1/1 [==============================] - 0s 99ms/step\n",
            "1/1 [==============================] - 0s 77ms/step\n",
            "1/1 [==============================] - 0s 103ms/step\n",
            "1/1 [==============================] - 0s 78ms/step\n",
            "1/1 [==============================] - 0s 94ms/step\n",
            "1/1 [==============================] - 0s 72ms/step\n",
            "1/1 [==============================] - 0s 80ms/step\n",
            "1/1 [==============================] - 0s 92ms/step\n",
            "1/1 [==============================] - 0s 131ms/step\n",
            "1/1 [==============================] - 0s 129ms/step\n",
            "1/1 [==============================] - 0s 126ms/step\n",
            "1/1 [==============================] - 0s 120ms/step\n",
            "1/1 [==============================] - 0s 118ms/step\n",
            "1/1 [==============================] - 0s 118ms/step\n",
            "1/1 [==============================] - 0s 119ms/step\n",
            "1/1 [==============================] - 0s 126ms/step\n",
            "1/1 [==============================] - 0s 126ms/step\n",
            "1/1 [==============================] - 0s 135ms/step\n",
            "1/1 [==============================] - 0s 130ms/step\n",
            "1/1 [==============================] - 0s 132ms/step\n",
            "1/1 [==============================] - 0s 141ms/step\n",
            "1/1 [==============================] - 0s 75ms/step\n",
            "1/1 [==============================] - 0s 96ms/step\n",
            "1/1 [==============================] - 0s 72ms/step\n",
            "1/1 [==============================] - 0s 99ms/step\n",
            "1/1 [==============================] - 0s 81ms/step\n",
            "1/1 [==============================] - 0s 79ms/step\n",
            "1/1 [==============================] - 0s 71ms/step\n",
            "1/1 [==============================] - 0s 80ms/step\n",
            "1/1 [==============================] - 0s 78ms/step\n",
            "1/1 [==============================] - 0s 85ms/step\n",
            "1/1 [==============================] - 0s 76ms/step\n",
            "1/1 [==============================] - 0s 77ms/step\n",
            "1/1 [==============================] - 0s 78ms/step\n",
            "1/1 [==============================] - 0s 71ms/step\n",
            "1/1 [==============================] - 0s 78ms/step\n",
            "1/1 [==============================] - 0s 75ms/step\n",
            "1/1 [==============================] - 0s 76ms/step\n",
            "1/1 [==============================] - 0s 75ms/step\n",
            "1/1 [==============================] - 0s 95ms/step\n",
            "1/1 [==============================] - 0s 83ms/step\n",
            "1/1 [==============================] - 0s 73ms/step\n",
            "1/1 [==============================] - 0s 81ms/step\n",
            "1/1 [==============================] - 0s 74ms/step\n",
            "1/1 [==============================] - 0s 79ms/step\n",
            "1/1 [==============================] - 0s 73ms/step\n",
            "1/1 [==============================] - 0s 76ms/step\n",
            "1/1 [==============================] - 0s 76ms/step\n",
            "1/1 [==============================] - 0s 87ms/step\n",
            "1/1 [==============================] - 0s 76ms/step\n",
            "1/1 [==============================] - 0s 83ms/step\n",
            "1/1 [==============================] - 0s 77ms/step\n",
            "1/1 [==============================] - 0s 74ms/step\n",
            "1/1 [==============================] - 0s 77ms/step\n",
            "1/1 [==============================] - 0s 97ms/step\n",
            "1/1 [==============================] - 0s 73ms/step\n",
            "1/1 [==============================] - 0s 74ms/step\n",
            "1/1 [==============================] - 0s 77ms/step\n",
            "1/1 [==============================] - 0s 73ms/step\n",
            "1/1 [==============================] - 0s 74ms/step\n",
            "1/1 [==============================] - 0s 77ms/step\n",
            "1/1 [==============================] - 0s 72ms/step\n",
            "1/1 [==============================] - 0s 75ms/step\n",
            "1/1 [==============================] - 0s 78ms/step\n",
            "1/1 [==============================] - 0s 85ms/step\n",
            "1/1 [==============================] - 0s 74ms/step\n",
            "1/1 [==============================] - 0s 78ms/step\n",
            "1/1 [==============================] - 0s 74ms/step\n",
            "1/1 [==============================] - 0s 80ms/step\n",
            "1/1 [==============================] - 0s 106ms/step\n",
            "1/1 [==============================] - 0s 74ms/step\n",
            "1/1 [==============================] - 0s 79ms/step\n",
            "1/1 [==============================] - 0s 71ms/step\n",
            "1/1 [==============================] - 0s 73ms/step\n",
            "1/1 [==============================] - 0s 70ms/step\n",
            "1/1 [==============================] - 0s 75ms/step\n",
            "1/1 [==============================] - 0s 82ms/step\n",
            "1/1 [==============================] - 0s 72ms/step\n",
            "1/1 [==============================] - 0s 73ms/step\n",
            "1/1 [==============================] - 0s 80ms/step\n",
            "1/1 [==============================] - 0s 74ms/step\n",
            "1/1 [==============================] - 0s 76ms/step\n",
            "1/1 [==============================] - 0s 77ms/step\n",
            "1/1 [==============================] - 0s 74ms/step\n",
            "1/1 [==============================] - 0s 93ms/step\n",
            "1/1 [==============================] - 0s 81ms/step\n",
            "1/1 [==============================] - 0s 87ms/step\n",
            "1/1 [==============================] - 0s 76ms/step\n",
            "1/1 [==============================] - 0s 77ms/step\n",
            "1/1 [==============================] - 0s 73ms/step\n",
            "1/1 [==============================] - 0s 84ms/step\n",
            "1/1 [==============================] - 0s 72ms/step\n",
            "1/1 [==============================] - 0s 70ms/step\n",
            "1/1 [==============================] - 0s 121ms/step\n",
            "1/1 [==============================] - 0s 132ms/step\n",
            "1/1 [==============================] - 0s 129ms/step\n",
            "1/1 [==============================] - 0s 119ms/step\n",
            "1/1 [==============================] - 0s 130ms/step\n",
            "1/1 [==============================] - 0s 121ms/step\n",
            "1/1 [==============================] - 0s 126ms/step\n",
            "1/1 [==============================] - 0s 114ms/step\n",
            "1/1 [==============================] - 0s 120ms/step\n",
            "1/1 [==============================] - 0s 126ms/step\n",
            "1/1 [==============================] - 0s 140ms/step\n",
            "1/1 [==============================] - 0s 94ms/step\n",
            "1/1 [==============================] - 0s 76ms/step\n",
            "1/1 [==============================] - 0s 79ms/step\n",
            "1/1 [==============================] - 0s 76ms/step\n",
            "1/1 [==============================] - 0s 78ms/step\n",
            "1/1 [==============================] - 0s 83ms/step\n",
            "1/1 [==============================] - 0s 77ms/step\n",
            "1/1 [==============================] - 0s 72ms/step\n",
            "1/1 [==============================] - 0s 79ms/step\n",
            "1/1 [==============================] - 0s 81ms/step\n",
            "1/1 [==============================] - 0s 74ms/step\n",
            "1/1 [==============================] - 0s 77ms/step\n",
            "1/1 [==============================] - 0s 76ms/step\n",
            "1/1 [==============================] - 0s 81ms/step\n",
            "1/1 [==============================] - 0s 79ms/step\n",
            "1/1 [==============================] - 0s 92ms/step\n",
            "1/1 [==============================] - 0s 70ms/step\n",
            "1/1 [==============================] - 0s 93ms/step\n",
            "1/1 [==============================] - 0s 76ms/step\n",
            "1/1 [==============================] - 0s 91ms/step\n",
            "1/1 [==============================] - 0s 85ms/step\n",
            "1/1 [==============================] - 0s 74ms/step\n",
            "1/1 [==============================] - 0s 93ms/step\n",
            "1/1 [==============================] - 0s 77ms/step\n",
            "1/1 [==============================] - 0s 82ms/step\n",
            "1/1 [==============================] - 0s 75ms/step\n",
            "1/1 [==============================] - 0s 78ms/step\n",
            "1/1 [==============================] - 0s 77ms/step\n",
            "1/1 [==============================] - 0s 72ms/step\n",
            "1/1 [==============================] - 0s 74ms/step\n",
            "1/1 [==============================] - 0s 80ms/step\n",
            "1/1 [==============================] - 0s 80ms/step\n",
            "1/1 [==============================] - 0s 78ms/step\n",
            "1/1 [==============================] - 0s 73ms/step\n",
            "1/1 [==============================] - 0s 82ms/step\n",
            "1/1 [==============================] - 0s 71ms/step\n",
            "1/1 [==============================] - 0s 75ms/step\n",
            "1/1 [==============================] - 0s 78ms/step\n",
            "1/1 [==============================] - 0s 76ms/step\n",
            "1/1 [==============================] - 0s 73ms/step\n",
            "1/1 [==============================] - 0s 72ms/step\n",
            "1/1 [==============================] - 0s 76ms/step\n",
            "1/1 [==============================] - 0s 78ms/step\n",
            "1/1 [==============================] - 0s 73ms/step\n",
            "1/1 [==============================] - 0s 77ms/step\n",
            "1/1 [==============================] - 0s 90ms/step\n",
            "1/1 [==============================] - 0s 77ms/step\n",
            "1/1 [==============================] - 0s 75ms/step\n",
            "1/1 [==============================] - 0s 77ms/step\n",
            "1/1 [==============================] - 0s 78ms/step\n",
            "1/1 [==============================] - 0s 74ms/step\n",
            "1/1 [==============================] - 0s 76ms/step\n",
            "1/1 [==============================] - 0s 81ms/step\n",
            "1/1 [==============================] - 0s 80ms/step\n",
            "1/1 [==============================] - 0s 73ms/step\n",
            "1/1 [==============================] - 0s 93ms/step\n",
            "1/1 [==============================] - 0s 76ms/step\n",
            "1/1 [==============================] - 0s 84ms/step\n",
            "1/1 [==============================] - 0s 78ms/step\n",
            "1/1 [==============================] - 0s 79ms/step\n",
            "1/1 [==============================] - 0s 99ms/step\n",
            "1/1 [==============================] - 0s 76ms/step\n",
            "1/1 [==============================] - 0s 82ms/step\n",
            "1/1 [==============================] - 0s 73ms/step\n",
            "1/1 [==============================] - 0s 77ms/step\n",
            "1/1 [==============================] - 0s 74ms/step\n",
            "1/1 [==============================] - 0s 81ms/step\n",
            "1/1 [==============================] - 0s 91ms/step\n",
            "1/1 [==============================] - 0s 74ms/step\n",
            "1/1 [==============================] - 0s 89ms/step\n",
            "1/1 [==============================] - 0s 80ms/step\n",
            "1/1 [==============================] - 0s 79ms/step\n",
            "1/1 [==============================] - 0s 128ms/step\n",
            "1/1 [==============================] - 0s 144ms/step\n",
            "1/1 [==============================] - 0s 135ms/step\n",
            "1/1 [==============================] - 0s 130ms/step\n",
            "1/1 [==============================] - 0s 125ms/step\n",
            "1/1 [==============================] - 0s 120ms/step\n",
            "1/1 [==============================] - 0s 135ms/step\n",
            "1/1 [==============================] - 0s 131ms/step\n",
            "1/1 [==============================] - 0s 129ms/step\n",
            "1/1 [==============================] - 0s 127ms/step\n",
            "1/1 [==============================] - 0s 130ms/step\n",
            "1/1 [==============================] - 0s 137ms/step\n",
            "1/1 [==============================] - 0s 137ms/step\n",
            "1/1 [==============================] - 0s 72ms/step\n",
            "1/1 [==============================] - 0s 75ms/step\n",
            "1/1 [==============================] - 0s 93ms/step\n",
            "1/1 [==============================] - 0s 78ms/step\n",
            "1/1 [==============================] - 0s 84ms/step\n",
            "1/1 [==============================] - 0s 75ms/step\n",
            "1/1 [==============================] - 0s 77ms/step\n",
            "1/1 [==============================] - 0s 73ms/step\n",
            "1/1 [==============================] - 0s 82ms/step\n",
            "1/1 [==============================] - 0s 74ms/step\n",
            "1/1 [==============================] - 0s 81ms/step\n",
            "1/1 [==============================] - 0s 81ms/step\n",
            "1/1 [==============================] - 0s 75ms/step\n",
            "1/1 [==============================] - 0s 80ms/step\n",
            "1/1 [==============================] - 0s 86ms/step\n",
            "1/1 [==============================] - 0s 75ms/step\n",
            "1/1 [==============================] - 0s 78ms/step\n",
            "1/1 [==============================] - 0s 75ms/step\n",
            "1/1 [==============================] - 0s 104ms/step\n",
            "1/1 [==============================] - 0s 77ms/step\n",
            "1/1 [==============================] - 0s 84ms/step\n",
            "1/1 [==============================] - 0s 75ms/step\n",
            "1/1 [==============================] - 0s 86ms/step\n",
            "1/1 [==============================] - 0s 75ms/step\n",
            "1/1 [==============================] - 0s 82ms/step\n",
            "1/1 [==============================] - 0s 109ms/step\n",
            "1/1 [==============================] - 0s 90ms/step\n",
            "1/1 [==============================] - 0s 77ms/step\n",
            "1/1 [==============================] - 0s 80ms/step\n",
            "1/1 [==============================] - 0s 77ms/step\n",
            "1/1 [==============================] - 0s 79ms/step\n",
            "1/1 [==============================] - 0s 72ms/step\n",
            "1/1 [==============================] - 0s 76ms/step\n",
            "1/1 [==============================] - 0s 78ms/step\n",
            "1/1 [==============================] - 0s 76ms/step\n",
            "1/1 [==============================] - 0s 86ms/step\n",
            "1/1 [==============================] - 0s 81ms/step\n",
            "1/1 [==============================] - 0s 89ms/step\n",
            "1/1 [==============================] - 0s 74ms/step\n",
            "1/1 [==============================] - 0s 90ms/step\n",
            "1/1 [==============================] - 0s 86ms/step\n",
            "1/1 [==============================] - 0s 82ms/step\n",
            "1/1 [==============================] - 0s 78ms/step\n",
            "1/1 [==============================] - 0s 79ms/step\n",
            "1/1 [==============================] - 0s 76ms/step\n",
            "1/1 [==============================] - 0s 78ms/step\n",
            "1/1 [==============================] - 0s 72ms/step\n",
            "1/1 [==============================] - 0s 72ms/step\n",
            "1/1 [==============================] - 0s 75ms/step\n",
            "1/1 [==============================] - 0s 72ms/step\n",
            "1/1 [==============================] - 0s 72ms/step\n",
            "1/1 [==============================] - 0s 76ms/step\n",
            "1/1 [==============================] - 0s 74ms/step\n",
            "1/1 [==============================] - 0s 74ms/step\n",
            "1/1 [==============================] - 0s 74ms/step\n",
            "1/1 [==============================] - 0s 98ms/step\n",
            "1/1 [==============================] - 0s 75ms/step\n",
            "1/1 [==============================] - 0s 76ms/step\n",
            "1/1 [==============================] - 0s 75ms/step\n",
            "1/1 [==============================] - 0s 77ms/step\n",
            "1/1 [==============================] - 0s 73ms/step\n",
            "1/1 [==============================] - 0s 73ms/step\n",
            "1/1 [==============================] - 0s 81ms/step\n",
            "1/1 [==============================] - 0s 77ms/step\n",
            "1/1 [==============================] - 0s 94ms/step\n",
            "1/1 [==============================] - 0s 77ms/step\n",
            "1/1 [==============================] - 0s 75ms/step\n",
            "1/1 [==============================] - 0s 78ms/step\n",
            "1/1 [==============================] - 0s 73ms/step\n",
            "1/1 [==============================] - 0s 73ms/step\n",
            "1/1 [==============================] - 0s 76ms/step\n",
            "1/1 [==============================] - 0s 91ms/step\n",
            "1/1 [==============================] - 0s 126ms/step\n",
            "1/1 [==============================] - 0s 119ms/step\n",
            "1/1 [==============================] - 0s 113ms/step\n",
            "1/1 [==============================] - 0s 122ms/step\n",
            "1/1 [==============================] - 0s 115ms/step\n",
            "1/1 [==============================] - 0s 116ms/step\n",
            "1/1 [==============================] - 0s 117ms/step\n",
            "1/1 [==============================] - 0s 124ms/step\n",
            "1/1 [==============================] - 0s 119ms/step\n",
            "1/1 [==============================] - 0s 133ms/step\n",
            "1/1 [==============================] - 0s 120ms/step\n",
            "1/1 [==============================] - 0s 127ms/step\n",
            "1/1 [==============================] - 0s 153ms/step\n",
            "1/1 [==============================] - 0s 118ms/step\n",
            "1/1 [==============================] - 0s 76ms/step\n",
            "1/1 [==============================] - 0s 83ms/step\n",
            "1/1 [==============================] - 0s 82ms/step\n",
            "1/1 [==============================] - 0s 74ms/step\n",
            "1/1 [==============================] - 0s 84ms/step\n",
            "1/1 [==============================] - 0s 72ms/step\n",
            "1/1 [==============================] - 0s 81ms/step\n",
            "1/1 [==============================] - 0s 83ms/step\n",
            "1/1 [==============================] - 0s 79ms/step\n",
            "1/1 [==============================] - 0s 79ms/step\n",
            "1/1 [==============================] - 0s 76ms/step\n",
            "1/1 [==============================] - 0s 73ms/step\n",
            "1/1 [==============================] - 0s 74ms/step\n",
            "1/1 [==============================] - 0s 75ms/step\n",
            "1/1 [==============================] - 0s 73ms/step\n",
            "1/1 [==============================] - 0s 87ms/step\n",
            "1/1 [==============================] - 0s 78ms/step\n",
            "1/1 [==============================] - 0s 74ms/step\n",
            "1/1 [==============================] - 0s 74ms/step\n",
            "1/1 [==============================] - 0s 73ms/step\n",
            "1/1 [==============================] - 0s 72ms/step\n",
            "1/1 [==============================] - 0s 75ms/step\n",
            "1/1 [==============================] - 0s 85ms/step\n",
            "1/1 [==============================] - 0s 76ms/step\n",
            "1/1 [==============================] - 0s 81ms/step\n",
            "1/1 [==============================] - 0s 73ms/step\n",
            "1/1 [==============================] - 0s 87ms/step\n",
            "1/1 [==============================] - 0s 77ms/step\n",
            "1/1 [==============================] - 0s 87ms/step\n",
            "1/1 [==============================] - 0s 73ms/step\n",
            "1/1 [==============================] - 0s 102ms/step\n",
            "1/1 [==============================] - 0s 75ms/step\n",
            "1/1 [==============================] - 0s 83ms/step\n",
            "1/1 [==============================] - 0s 77ms/step\n",
            "1/1 [==============================] - 0s 75ms/step\n",
            "1/1 [==============================] - 0s 78ms/step\n",
            "1/1 [==============================] - 0s 73ms/step\n",
            "1/1 [==============================] - 0s 94ms/step\n",
            "1/1 [==============================] - 0s 71ms/step\n",
            "1/1 [==============================] - 0s 74ms/step\n",
            "1/1 [==============================] - 0s 76ms/step\n",
            "1/1 [==============================] - 0s 74ms/step\n",
            "1/1 [==============================] - 0s 74ms/step\n",
            "1/1 [==============================] - 0s 73ms/step\n",
            "1/1 [==============================] - 0s 70ms/step\n",
            "1/1 [==============================] - 0s 95ms/step\n",
            "1/1 [==============================] - 0s 77ms/step\n",
            "1/1 [==============================] - 0s 83ms/step\n",
            "1/1 [==============================] - 0s 72ms/step\n",
            "1/1 [==============================] - 0s 83ms/step\n",
            "1/1 [==============================] - 0s 75ms/step\n",
            "1/1 [==============================] - 0s 70ms/step\n",
            "1/1 [==============================] - 0s 75ms/step\n",
            "1/1 [==============================] - 0s 75ms/step\n",
            "1/1 [==============================] - 0s 83ms/step\n",
            "1/1 [==============================] - 0s 75ms/step\n",
            "1/1 [==============================] - 0s 73ms/step\n",
            "1/1 [==============================] - 0s 75ms/step\n",
            "1/1 [==============================] - 0s 73ms/step\n",
            "1/1 [==============================] - 0s 71ms/step\n",
            "1/1 [==============================] - 0s 90ms/step\n",
            "1/1 [==============================] - 0s 75ms/step\n",
            "1/1 [==============================] - 0s 73ms/step\n",
            "1/1 [==============================] - 0s 72ms/step\n",
            "1/1 [==============================] - 0s 84ms/step\n",
            "1/1 [==============================] - 0s 71ms/step\n",
            "1/1 [==============================] - 0s 83ms/step\n",
            "1/1 [==============================] - 0s 77ms/step\n",
            "1/1 [==============================] - 0s 78ms/step\n",
            "1/1 [==============================] - 0s 74ms/step\n",
            "1/1 [==============================] - 0s 80ms/step\n",
            "1/1 [==============================] - 0s 79ms/step\n",
            "1/1 [==============================] - 0s 87ms/step\n",
            "1/1 [==============================] - 0s 119ms/step\n",
            "1/1 [==============================] - 0s 142ms/step\n",
            "1/1 [==============================] - 0s 122ms/step\n",
            "1/1 [==============================] - 0s 121ms/step\n",
            "1/1 [==============================] - 0s 117ms/step\n",
            "1/1 [==============================] - 0s 117ms/step\n",
            "1/1 [==============================] - 0s 128ms/step\n",
            "1/1 [==============================] - 0s 131ms/step\n",
            "1/1 [==============================] - 0s 121ms/step\n",
            "1/1 [==============================] - 0s 130ms/step\n",
            "1/1 [==============================] - 0s 134ms/step\n",
            "1/1 [==============================] - 0s 168ms/step\n",
            "1/1 [==============================] - 0s 143ms/step\n",
            "1/1 [==============================] - 0s 76ms/step\n",
            "1/1 [==============================] - 0s 73ms/step\n",
            "1/1 [==============================] - 0s 75ms/step\n",
            "1/1 [==============================] - 0s 73ms/step\n",
            "1/1 [==============================] - 0s 89ms/step\n",
            "1/1 [==============================] - 0s 76ms/step\n",
            "1/1 [==============================] - 0s 73ms/step\n",
            "1/1 [==============================] - 0s 77ms/step\n",
            "1/1 [==============================] - 0s 72ms/step\n",
            "1/1 [==============================] - 0s 72ms/step\n",
            "1/1 [==============================] - 0s 74ms/step\n",
            "1/1 [==============================] - 0s 79ms/step\n",
            "1/1 [==============================] - 0s 87ms/step\n",
            "1/1 [==============================] - 0s 74ms/step\n",
            "1/1 [==============================] - 0s 75ms/step\n",
            "1/1 [==============================] - 0s 80ms/step\n",
            "1/1 [==============================] - 0s 72ms/step\n",
            "1/1 [==============================] - 0s 81ms/step\n",
            "1/1 [==============================] - 0s 71ms/step\n",
            "1/1 [==============================] - 0s 75ms/step\n",
            "1/1 [==============================] - 0s 72ms/step\n",
            "1/1 [==============================] - 0s 72ms/step\n",
            "1/1 [==============================] - 0s 74ms/step\n",
            "1/1 [==============================] - 0s 73ms/step\n",
            "1/1 [==============================] - 0s 72ms/step\n",
            "1/1 [==============================] - 0s 76ms/step\n",
            "1/1 [==============================] - 0s 74ms/step\n",
            "1/1 [==============================] - 0s 72ms/step\n",
            "1/1 [==============================] - 0s 83ms/step\n",
            "1/1 [==============================] - 0s 74ms/step\n",
            "1/1 [==============================] - 0s 82ms/step\n",
            "1/1 [==============================] - 0s 72ms/step\n",
            "1/1 [==============================] - 0s 79ms/step\n",
            "1/1 [==============================] - 0s 74ms/step\n",
            "1/1 [==============================] - 0s 74ms/step\n",
            "1/1 [==============================] - 0s 88ms/step\n",
            "1/1 [==============================] - 0s 74ms/step\n",
            "1/1 [==============================] - 0s 77ms/step\n",
            "1/1 [==============================] - 0s 76ms/step\n",
            "1/1 [==============================] - 0s 76ms/step\n",
            "1/1 [==============================] - 0s 84ms/step\n",
            "1/1 [==============================] - 0s 75ms/step\n",
            "1/1 [==============================] - 0s 82ms/step\n",
            "1/1 [==============================] - 0s 75ms/step\n",
            "1/1 [==============================] - 0s 72ms/step\n",
            "1/1 [==============================] - 0s 74ms/step\n",
            "1/1 [==============================] - 0s 81ms/step\n",
            "1/1 [==============================] - 0s 77ms/step\n",
            "1/1 [==============================] - 0s 79ms/step\n",
            "1/1 [==============================] - 0s 75ms/step\n",
            "1/1 [==============================] - 0s 89ms/step\n",
            "1/1 [==============================] - 0s 72ms/step\n",
            "1/1 [==============================] - 0s 78ms/step\n",
            "1/1 [==============================] - 0s 71ms/step\n",
            "1/1 [==============================] - 0s 86ms/step\n",
            "1/1 [==============================] - 0s 76ms/step\n",
            "1/1 [==============================] - 0s 77ms/step\n",
            "1/1 [==============================] - 0s 71ms/step\n",
            "1/1 [==============================] - 0s 112ms/step\n",
            "1/1 [==============================] - 0s 88ms/step\n",
            "1/1 [==============================] - 0s 75ms/step\n",
            "1/1 [==============================] - 0s 72ms/step\n",
            "1/1 [==============================] - 0s 77ms/step\n",
            "1/1 [==============================] - 0s 75ms/step\n",
            "1/1 [==============================] - 0s 71ms/step\n",
            "1/1 [==============================] - 0s 72ms/step\n",
            "1/1 [==============================] - 0s 83ms/step\n",
            "1/1 [==============================] - 0s 74ms/step\n",
            "1/1 [==============================] - 0s 84ms/step\n",
            "1/1 [==============================] - 0s 75ms/step\n",
            "1/1 [==============================] - 0s 81ms/step\n",
            "1/1 [==============================] - 0s 74ms/step\n",
            "1/1 [==============================] - 0s 73ms/step\n",
            "1/1 [==============================] - 0s 89ms/step\n",
            "1/1 [==============================] - 0s 123ms/step\n",
            "1/1 [==============================] - 0s 141ms/step\n",
            "1/1 [==============================] - 0s 126ms/step\n",
            "1/1 [==============================] - 0s 113ms/step\n",
            "1/1 [==============================] - 0s 138ms/step\n",
            "1/1 [==============================] - 0s 123ms/step\n",
            "1/1 [==============================] - 0s 127ms/step\n",
            "1/1 [==============================] - 0s 133ms/step\n",
            "1/1 [==============================] - 0s 123ms/step\n",
            "1/1 [==============================] - 0s 119ms/step\n",
            "1/1 [==============================] - 0s 130ms/step\n",
            "1/1 [==============================] - 0s 129ms/step\n",
            "1/1 [==============================] - 0s 134ms/step\n",
            "1/1 [==============================] - 0s 73ms/step\n",
            "1/1 [==============================] - 0s 88ms/step\n",
            "1/1 [==============================] - 0s 86ms/step\n",
            "1/1 [==============================] - 0s 73ms/step\n",
            "1/1 [==============================] - 0s 77ms/step\n",
            "1/1 [==============================] - 0s 76ms/step\n",
            "1/1 [==============================] - 0s 72ms/step\n",
            "1/1 [==============================] - 0s 74ms/step\n",
            "1/1 [==============================] - 0s 84ms/step\n",
            "1/1 [==============================] - 0s 88ms/step\n",
            "1/1 [==============================] - 0s 81ms/step\n",
            "1/1 [==============================] - 0s 84ms/step\n",
            "1/1 [==============================] - 0s 71ms/step\n",
            "1/1 [==============================] - 0s 72ms/step\n",
            "1/1 [==============================] - 0s 75ms/step\n",
            "1/1 [==============================] - 0s 72ms/step\n",
            "1/1 [==============================] - 0s 73ms/step\n",
            "1/1 [==============================] - 0s 75ms/step\n",
            "1/1 [==============================] - 0s 88ms/step\n",
            "1/1 [==============================] - 0s 73ms/step\n",
            "1/1 [==============================] - 0s 85ms/step\n",
            "1/1 [==============================] - 0s 71ms/step\n",
            "1/1 [==============================] - 0s 70ms/step\n",
            "1/1 [==============================] - 0s 75ms/step\n",
            "1/1 [==============================] - 0s 91ms/step\n",
            "1/1 [==============================] - 0s 72ms/step\n",
            "1/1 [==============================] - 0s 78ms/step\n",
            "1/1 [==============================] - 0s 81ms/step\n",
            "1/1 [==============================] - 0s 73ms/step\n",
            "1/1 [==============================] - 0s 73ms/step\n",
            "1/1 [==============================] - 0s 75ms/step\n",
            "1/1 [==============================] - 0s 72ms/step\n",
            "1/1 [==============================] - 0s 87ms/step\n",
            "1/1 [==============================] - 0s 77ms/step\n",
            "1/1 [==============================] - 0s 80ms/step\n",
            "1/1 [==============================] - 0s 75ms/step\n",
            "1/1 [==============================] - 0s 74ms/step\n",
            "1/1 [==============================] - 0s 74ms/step\n",
            "1/1 [==============================] - 0s 75ms/step\n",
            "1/1 [==============================] - 0s 78ms/step\n",
            "1/1 [==============================] - 0s 73ms/step\n",
            "1/1 [==============================] - 0s 72ms/step\n",
            "1/1 [==============================] - 0s 74ms/step\n",
            "1/1 [==============================] - 0s 72ms/step\n",
            "1/1 [==============================] - 0s 74ms/step\n",
            "1/1 [==============================] - 0s 76ms/step\n",
            "1/1 [==============================] - 0s 75ms/step\n",
            "1/1 [==============================] - 0s 86ms/step\n",
            "1/1 [==============================] - 0s 84ms/step\n",
            "1/1 [==============================] - 0s 82ms/step\n",
            "1/1 [==============================] - 0s 79ms/step\n",
            "1/1 [==============================] - 0s 77ms/step\n",
            "1/1 [==============================] - 0s 78ms/step\n",
            "1/1 [==============================] - 0s 72ms/step\n",
            "1/1 [==============================] - 0s 85ms/step\n",
            "1/1 [==============================] - 0s 78ms/step\n",
            "1/1 [==============================] - 0s 87ms/step\n",
            "1/1 [==============================] - 0s 76ms/step\n",
            "1/1 [==============================] - 0s 86ms/step\n",
            "1/1 [==============================] - 0s 71ms/step\n",
            "1/1 [==============================] - 0s 87ms/step\n",
            "1/1 [==============================] - 0s 75ms/step\n",
            "1/1 [==============================] - 0s 89ms/step\n",
            "1/1 [==============================] - 0s 73ms/step\n",
            "1/1 [==============================] - 0s 73ms/step\n",
            "1/1 [==============================] - 0s 71ms/step\n",
            "1/1 [==============================] - 0s 73ms/step\n",
            "1/1 [==============================] - 0s 73ms/step\n",
            "1/1 [==============================] - 0s 75ms/step\n",
            "1/1 [==============================] - 0s 72ms/step\n",
            "1/1 [==============================] - 0s 89ms/step\n",
            "1/1 [==============================] - 0s 77ms/step\n",
            "1/1 [==============================] - 0s 75ms/step\n",
            "1/1 [==============================] - 0s 74ms/step\n",
            "1/1 [==============================] - 0s 127ms/step\n",
            "1/1 [==============================] - 0s 134ms/step\n",
            "1/1 [==============================] - 0s 132ms/step\n",
            "1/1 [==============================] - 0s 122ms/step\n",
            "1/1 [==============================] - 0s 124ms/step\n",
            "1/1 [==============================] - 0s 122ms/step\n",
            "1/1 [==============================] - 0s 134ms/step\n",
            "1/1 [==============================] - 0s 150ms/step\n",
            "1/1 [==============================] - 0s 125ms/step\n",
            "1/1 [==============================] - 0s 122ms/step\n",
            "1/1 [==============================] - 0s 128ms/step\n",
            "1/1 [==============================] - 0s 122ms/step\n",
            "1/1 [==============================] - 0s 142ms/step\n",
            "1/1 [==============================] - 0s 138ms/step\n",
            "1/1 [==============================] - 0s 83ms/step\n",
            "1/1 [==============================] - 0s 74ms/step\n",
            "1/1 [==============================] - 0s 72ms/step\n",
            "1/1 [==============================] - 0s 78ms/step\n",
            "1/1 [==============================] - 0s 81ms/step\n",
            "1/1 [==============================] - 0s 76ms/step\n",
            "1/1 [==============================] - 0s 74ms/step\n",
            "1/1 [==============================] - 0s 71ms/step\n",
            "1/1 [==============================] - 0s 72ms/step\n",
            "1/1 [==============================] - 0s 72ms/step\n",
            "1/1 [==============================] - 0s 73ms/step\n",
            "1/1 [==============================] - 0s 73ms/step\n",
            "1/1 [==============================] - 0s 98ms/step\n",
            "1/1 [==============================] - 0s 78ms/step\n",
            "1/1 [==============================] - 0s 85ms/step\n",
            "1/1 [==============================] - 0s 77ms/step\n",
            "1/1 [==============================] - 0s 77ms/step\n",
            "1/1 [==============================] - 0s 69ms/step\n",
            "1/1 [==============================] - 0s 75ms/step\n",
            "1/1 [==============================] - 0s 73ms/step\n",
            "1/1 [==============================] - 0s 75ms/step\n",
            "1/1 [==============================] - 0s 74ms/step\n",
            "1/1 [==============================] - 0s 91ms/step\n",
            "1/1 [==============================] - 0s 69ms/step\n",
            "1/1 [==============================] - 0s 89ms/step\n",
            "1/1 [==============================] - 0s 76ms/step\n",
            "1/1 [==============================] - 0s 78ms/step\n",
            "1/1 [==============================] - 0s 98ms/step\n",
            "1/1 [==============================] - 0s 80ms/step\n",
            "1/1 [==============================] - 0s 72ms/step\n",
            "1/1 [==============================] - 0s 79ms/step\n",
            "1/1 [==============================] - 0s 73ms/step\n",
            "1/1 [==============================] - 0s 73ms/step\n",
            "1/1 [==============================] - 0s 84ms/step\n",
            "1/1 [==============================] - 0s 77ms/step\n",
            "1/1 [==============================] - 0s 77ms/step\n",
            "1/1 [==============================] - 0s 74ms/step\n",
            "1/1 [==============================] - 0s 89ms/step\n",
            "1/1 [==============================] - 0s 74ms/step\n",
            "1/1 [==============================] - 0s 74ms/step\n",
            "1/1 [==============================] - 0s 80ms/step\n",
            "1/1 [==============================] - 0s 83ms/step\n",
            "1/1 [==============================] - 0s 110ms/step\n",
            "1/1 [==============================] - 0s 81ms/step\n",
            "1/1 [==============================] - 0s 88ms/step\n",
            "1/1 [==============================] - 0s 84ms/step\n",
            "1/1 [==============================] - 0s 91ms/step\n",
            "1/1 [==============================] - 0s 73ms/step\n",
            "1/1 [==============================] - 0s 89ms/step\n",
            "1/1 [==============================] - 0s 74ms/step\n",
            "1/1 [==============================] - 0s 81ms/step\n",
            "1/1 [==============================] - 0s 78ms/step\n",
            "1/1 [==============================] - 0s 78ms/step\n",
            "1/1 [==============================] - 0s 72ms/step\n",
            "1/1 [==============================] - 0s 76ms/step\n",
            "1/1 [==============================] - 0s 77ms/step\n",
            "1/1 [==============================] - 0s 92ms/step\n",
            "1/1 [==============================] - 0s 77ms/step\n",
            "1/1 [==============================] - 0s 72ms/step\n",
            "1/1 [==============================] - 0s 71ms/step\n",
            "1/1 [==============================] - 0s 71ms/step\n",
            "1/1 [==============================] - 0s 75ms/step\n",
            "1/1 [==============================] - 0s 71ms/step\n",
            "1/1 [==============================] - 0s 80ms/step\n",
            "1/1 [==============================] - 0s 92ms/step\n",
            "1/1 [==============================] - 0s 74ms/step\n",
            "1/1 [==============================] - 0s 73ms/step\n",
            "1/1 [==============================] - 0s 71ms/step\n",
            "1/1 [==============================] - 0s 77ms/step\n",
            "1/1 [==============================] - 0s 72ms/step\n",
            "1/1 [==============================] - 0s 74ms/step\n",
            "1/1 [==============================] - 0s 77ms/step\n",
            "1/1 [==============================] - 0s 128ms/step\n",
            "1/1 [==============================] - 0s 117ms/step\n",
            "1/1 [==============================] - 0s 133ms/step\n",
            "1/1 [==============================] - 0s 120ms/step\n",
            "1/1 [==============================] - 0s 126ms/step\n",
            "ERROR:apache_beam.runners.common:KeyboardInterrupt [while running 'Predict']\n",
            "Traceback (most recent call last):\n",
            "  File \"/usr/local/lib/python3.10/dist-packages/tensorflow/python/eager/context.py\", line 1013, in _mode\n",
            "    yield\n",
            "  File \"/usr/local/lib/python3.10/dist-packages/tensorflow/python/framework/ops.py\", line 4575, in get_controller\n",
            "    yield g\n",
            "  File \"/usr/local/lib/python3.10/dist-packages/tensorflow/python/framework/func_graph.py\", line 489, in inner_cm\n",
            "    yield g\n",
            "  File \"/usr/local/lib/python3.10/dist-packages/tensorflow/python/framework/op_def_library.py\", line 778, in _apply_op_helper\n",
            "    _ExtractInputsAndAttrs(op_type_name, op_def, allowed_list_attr_map,\n",
            "  File \"/usr/local/lib/python3.10/dist-packages/tensorflow/python/framework/op_def_library.py\", line 551, in _ExtractInputsAndAttrs\n",
            "    values = ops.convert_to_tensor(\n",
            "  File \"/usr/local/lib/python3.10/dist-packages/tensorflow/python/profiler/trace.py\", line 183, in wrapped\n",
            "    return func(*args, **kwargs)\n",
            "  File \"/usr/local/lib/python3.10/dist-packages/tensorflow/python/framework/ops.py\", line 696, in convert_to_tensor\n",
            "    return tensor_conversion_registry.convert(\n",
            "  File \"/usr/local/lib/python3.10/dist-packages/tensorflow/python/framework/tensor_conversion_registry.py\", line 234, in convert\n",
            "    ret = conversion_func(value, dtype=dtype, name=name, as_ref=as_ref)\n",
            "  File \"/usr/local/lib/python3.10/dist-packages/tensorflow/python/framework/constant_op.py\", line 335, in _constant_tensor_conversion_function\n",
            "    return constant(v, dtype=dtype, name=name)\n",
            "  File \"/usr/local/lib/python3.10/dist-packages/tensorflow/python/ops/weak_tensor_ops.py\", line 142, in wrapper\n",
            "    return op(*args, **kwargs)\n",
            "  File \"/usr/local/lib/python3.10/dist-packages/tensorflow/python/framework/constant_op.py\", line 271, in constant\n",
            "    return _constant_impl(value, dtype, shape, name, verify_shape=False,\n",
            "  File \"/usr/local/lib/python3.10/dist-packages/tensorflow/python/framework/constant_op.py\", line 286, in _constant_impl\n",
            "    const_tensor = ops._create_graph_constant(  # pylint: disable=protected-access\n",
            "  File \"/usr/local/lib/python3.10/dist-packages/tensorflow/python/framework/ops.py\", line 262, in _create_graph_constant\n",
            "    tensor_value.tensor.CopyFrom(\n",
            "KeyboardInterrupt\n",
            "\n",
            "During handling of the above exception, another exception occurred:\n",
            "\n",
            "Traceback (most recent call last):\n",
            "  File \"apache_beam/runners/common.py\", line 1435, in apache_beam.runners.common.DoFnRunner.process\n",
            "  File \"apache_beam/runners/common.py\", line 636, in apache_beam.runners.common.SimpleInvoker.invoke_process\n",
            "  File \"apache_beam/runners/common.py\", line 1611, in apache_beam.runners.common._OutputHandler.handle_process_outputs\n",
            "  File \"/content/twitter-sentiment-batch/predict.py\", line 74, in process\n",
            "    score = self.model.predict([x_test])[0]\n",
            "  File \"/usr/local/lib/python3.10/dist-packages/keras/src/utils/traceback_utils.py\", line 65, in error_handler\n",
            "    return fn(*args, **kwargs)\n",
            "  File \"/usr/local/lib/python3.10/dist-packages/keras/src/engine/training.py\", line 2620, in predict\n",
            "    data_handler = data_adapter.get_data_handler(\n",
            "  File \"/usr/local/lib/python3.10/dist-packages/keras/src/engine/data_adapter.py\", line 1688, in get_data_handler\n",
            "    return DataHandler(*args, **kwargs)\n",
            "  File \"/usr/local/lib/python3.10/dist-packages/keras/src/engine/data_adapter.py\", line 1292, in __init__\n",
            "    self._adapter = adapter_cls(\n",
            "  File \"/usr/local/lib/python3.10/dist-packages/keras/src/engine/data_adapter.py\", line 353, in __init__\n",
            "    indices_dataset = indices_dataset.flat_map(slice_batch_indices)\n",
            "  File \"/usr/local/lib/python3.10/dist-packages/tensorflow/python/data/ops/dataset_ops.py\", line 2325, in flat_map\n",
            "    return flat_map_op._flat_map(self, map_func, name=name)\n",
            "  File \"/usr/local/lib/python3.10/dist-packages/tensorflow/python/data/ops/flat_map_op.py\", line 24, in _flat_map\n",
            "    return _FlatMapDataset(input_dataset, map_func, name)\n",
            "  File \"/usr/local/lib/python3.10/dist-packages/tensorflow/python/data/ops/flat_map_op.py\", line 33, in __init__\n",
            "    self._map_func = structured_function.StructuredFunctionWrapper(\n",
            "  File \"/usr/local/lib/python3.10/dist-packages/tensorflow/python/data/ops/structured_function.py\", line 265, in __init__\n",
            "    self._function = fn_factory()\n",
            "  File \"/usr/local/lib/python3.10/dist-packages/tensorflow/python/eager/polymorphic_function/polymorphic_function.py\", line 1227, in get_concrete_function\n",
            "    concrete = self._get_concrete_function_garbage_collected(*args, **kwargs)\n",
            "  File \"/usr/local/lib/python3.10/dist-packages/tensorflow/python/eager/polymorphic_function/polymorphic_function.py\", line 1197, in _get_concrete_function_garbage_collected\n",
            "    self._initialize(args, kwargs, add_initializers_to=initializers)\n",
            "  File \"/usr/local/lib/python3.10/dist-packages/tensorflow/python/eager/polymorphic_function/polymorphic_function.py\", line 695, in _initialize\n",
            "    self._concrete_variable_creation_fn = tracing_compilation.trace_function(\n",
            "  File \"/usr/local/lib/python3.10/dist-packages/tensorflow/python/eager/polymorphic_function/tracing_compilation.py\", line 178, in trace_function\n",
            "    concrete_function = _maybe_define_function(\n",
            "  File \"/usr/local/lib/python3.10/dist-packages/tensorflow/python/eager/polymorphic_function/tracing_compilation.py\", line 283, in _maybe_define_function\n",
            "    concrete_function = _create_concrete_function(\n",
            "  File \"/usr/local/lib/python3.10/dist-packages/tensorflow/python/eager/polymorphic_function/tracing_compilation.py\", line 310, in _create_concrete_function\n",
            "    traced_func_graph = func_graph_module.func_graph_from_py_func(\n",
            "  File \"/usr/local/lib/python3.10/dist-packages/tensorflow/python/framework/func_graph.py\", line 1059, in func_graph_from_py_func\n",
            "    func_outputs = python_func(*func_args, **func_kwargs)\n",
            "  File \"/usr/local/lib/python3.10/dist-packages/tensorflow/python/eager/polymorphic_function/polymorphic_function.py\", line 598, in wrapped_fn\n",
            "    out = weak_wrapped_fn().__wrapped__(*args, **kwds)\n",
            "  File \"/usr/local/lib/python3.10/dist-packages/tensorflow/python/data/ops/structured_function.py\", line 231, in wrapped_fn\n",
            "    ret = wrapper_helper(*args)\n",
            "  File \"/usr/local/lib/python3.10/dist-packages/tensorflow/python/data/ops/structured_function.py\", line 161, in wrapper_helper\n",
            "    ret = autograph.tf_convert(self._func, ag_ctx)(*nested_args)\n",
            "  File \"/usr/local/lib/python3.10/dist-packages/tensorflow/python/autograph/impl/api.py\", line 690, in wrapper\n",
            "    return converted_call(f, args, kwargs, options=options)\n",
            "  File \"/usr/local/lib/python3.10/dist-packages/tensorflow/python/autograph/impl/api.py\", line 377, in converted_call\n",
            "    return _call_unconverted(f, args, kwargs, options)\n",
            "  File \"/usr/local/lib/python3.10/dist-packages/tensorflow/python/autograph/impl/api.py\", line 459, in _call_unconverted\n",
            "    return f(*args, **kwargs)\n",
            "  File \"/usr/local/lib/python3.10/dist-packages/keras/src/engine/data_adapter.py\", line 334, in slice_batch_indices\n",
            "    first_k_indices = tf.slice(indices, [0], [num_in_full_batch])\n",
            "  File \"/usr/local/lib/python3.10/dist-packages/tensorflow/python/util/traceback_utils.py\", line 150, in error_handler\n",
            "    return fn(*args, **kwargs)\n",
            "  File \"/usr/local/lib/python3.10/dist-packages/tensorflow/python/util/dispatch.py\", line 1260, in op_dispatch_handler\n",
            "    return dispatch_target(*args, **kwargs)\n",
            "  File \"/usr/local/lib/python3.10/dist-packages/tensorflow/python/ops/array_ops.py\", line 1223, in slice\n",
            "    return gen_array_ops._slice(input_, begin, size, name=name)\n",
            "  File \"/usr/local/lib/python3.10/dist-packages/tensorflow/python/ops/gen_array_ops.py\", line 9825, in _slice\n",
            "    _, _, _op, _outputs = _op_def_library._apply_op_helper(\n",
            "  File \"/usr/local/lib/python3.10/dist-packages/tensorflow/python/framework/op_def_library.py\", line 776, in _apply_op_helper\n",
            "    with g.as_default(), ops.name_scope(name) as scope:\n",
            "  File \"/usr/lib/python3.10/contextlib.py\", line 153, in __exit__\n",
            "    self.gen.throw(typ, value, traceback)\n",
            "  File \"/usr/local/lib/python3.10/dist-packages/tensorflow/python/framework/func_graph.py\", line 487, in inner_cm\n",
            "    with outer_cm as g:\n",
            "  File \"/usr/lib/python3.10/contextlib.py\", line 153, in __exit__\n",
            "    self.gen.throw(typ, value, traceback)\n",
            "  File \"/usr/local/lib/python3.10/dist-packages/tensorflow/python/framework/ops.py\", line 4573, in get_controller\n",
            "    with super(_DefaultGraphStack,\n",
            "  File \"/usr/lib/python3.10/contextlib.py\", line 153, in __exit__\n",
            "    self.gen.throw(typ, value, traceback)\n",
            "  File \"/usr/local/lib/python3.10/dist-packages/tensorflow/python/eager/context.py\", line 1016, in _mode\n",
            "    if mode == EAGER_MODE:\n",
            "KeyboardInterrupt\n",
            "Traceback (most recent call last):\n",
            "  File \"/usr/local/lib/python3.10/dist-packages/tensorflow/python/eager/context.py\", line 1013, in _mode\n",
            "    yield\n",
            "  File \"/usr/local/lib/python3.10/dist-packages/tensorflow/python/framework/ops.py\", line 4575, in get_controller\n",
            "    yield g\n",
            "  File \"/usr/local/lib/python3.10/dist-packages/tensorflow/python/framework/func_graph.py\", line 489, in inner_cm\n",
            "    yield g\n",
            "  File \"/usr/local/lib/python3.10/dist-packages/tensorflow/python/framework/op_def_library.py\", line 778, in _apply_op_helper\n",
            "    _ExtractInputsAndAttrs(op_type_name, op_def, allowed_list_attr_map,\n",
            "  File \"/usr/local/lib/python3.10/dist-packages/tensorflow/python/framework/op_def_library.py\", line 551, in _ExtractInputsAndAttrs\n",
            "    values = ops.convert_to_tensor(\n",
            "  File \"/usr/local/lib/python3.10/dist-packages/tensorflow/python/profiler/trace.py\", line 183, in wrapped\n",
            "    return func(*args, **kwargs)\n",
            "  File \"/usr/local/lib/python3.10/dist-packages/tensorflow/python/framework/ops.py\", line 696, in convert_to_tensor\n",
            "    return tensor_conversion_registry.convert(\n",
            "  File \"/usr/local/lib/python3.10/dist-packages/tensorflow/python/framework/tensor_conversion_registry.py\", line 234, in convert\n",
            "    ret = conversion_func(value, dtype=dtype, name=name, as_ref=as_ref)\n",
            "  File \"/usr/local/lib/python3.10/dist-packages/tensorflow/python/framework/constant_op.py\", line 335, in _constant_tensor_conversion_function\n",
            "    return constant(v, dtype=dtype, name=name)\n",
            "  File \"/usr/local/lib/python3.10/dist-packages/tensorflow/python/ops/weak_tensor_ops.py\", line 142, in wrapper\n",
            "    return op(*args, **kwargs)\n",
            "  File \"/usr/local/lib/python3.10/dist-packages/tensorflow/python/framework/constant_op.py\", line 271, in constant\n",
            "    return _constant_impl(value, dtype, shape, name, verify_shape=False,\n",
            "  File \"/usr/local/lib/python3.10/dist-packages/tensorflow/python/framework/constant_op.py\", line 286, in _constant_impl\n",
            "    const_tensor = ops._create_graph_constant(  # pylint: disable=protected-access\n",
            "  File \"/usr/local/lib/python3.10/dist-packages/tensorflow/python/framework/ops.py\", line 262, in _create_graph_constant\n",
            "    tensor_value.tensor.CopyFrom(\n",
            "KeyboardInterrupt\n",
            "\n",
            "During handling of the above exception, another exception occurred:\n",
            "\n",
            "Traceback (most recent call last):\n",
            "  File \"apache_beam/runners/common.py\", line 1435, in apache_beam.runners.common.DoFnRunner.process\n",
            "  File \"apache_beam/runners/common.py\", line 636, in apache_beam.runners.common.SimpleInvoker.invoke_process\n",
            "  File \"apache_beam/runners/common.py\", line 1611, in apache_beam.runners.common._OutputHandler.handle_process_outputs\n",
            "  File \"/content/twitter-sentiment-batch/predict.py\", line 74, in process\n",
            "    score = self.model.predict([x_test])[0]\n",
            "  File \"/usr/local/lib/python3.10/dist-packages/keras/src/utils/traceback_utils.py\", line 65, in error_handler\n",
            "    return fn(*args, **kwargs)\n",
            "  File \"/usr/local/lib/python3.10/dist-packages/keras/src/engine/training.py\", line 2620, in predict\n",
            "    data_handler = data_adapter.get_data_handler(\n",
            "  File \"/usr/local/lib/python3.10/dist-packages/keras/src/engine/data_adapter.py\", line 1688, in get_data_handler\n",
            "    return DataHandler(*args, **kwargs)\n",
            "  File \"/usr/local/lib/python3.10/dist-packages/keras/src/engine/data_adapter.py\", line 1292, in __init__\n",
            "    self._adapter = adapter_cls(\n",
            "  File \"/usr/local/lib/python3.10/dist-packages/keras/src/engine/data_adapter.py\", line 353, in __init__\n",
            "    indices_dataset = indices_dataset.flat_map(slice_batch_indices)\n",
            "  File \"/usr/local/lib/python3.10/dist-packages/tensorflow/python/data/ops/dataset_ops.py\", line 2325, in flat_map\n",
            "    return flat_map_op._flat_map(self, map_func, name=name)\n",
            "  File \"/usr/local/lib/python3.10/dist-packages/tensorflow/python/data/ops/flat_map_op.py\", line 24, in _flat_map\n",
            "    return _FlatMapDataset(input_dataset, map_func, name)\n",
            "  File \"/usr/local/lib/python3.10/dist-packages/tensorflow/python/data/ops/flat_map_op.py\", line 33, in __init__\n",
            "    self._map_func = structured_function.StructuredFunctionWrapper(\n",
            "  File \"/usr/local/lib/python3.10/dist-packages/tensorflow/python/data/ops/structured_function.py\", line 265, in __init__\n",
            "    self._function = fn_factory()\n",
            "  File \"/usr/local/lib/python3.10/dist-packages/tensorflow/python/eager/polymorphic_function/polymorphic_function.py\", line 1227, in get_concrete_function\n",
            "    concrete = self._get_concrete_function_garbage_collected(*args, **kwargs)\n",
            "  File \"/usr/local/lib/python3.10/dist-packages/tensorflow/python/eager/polymorphic_function/polymorphic_function.py\", line 1197, in _get_concrete_function_garbage_collected\n",
            "    self._initialize(args, kwargs, add_initializers_to=initializers)\n",
            "  File \"/usr/local/lib/python3.10/dist-packages/tensorflow/python/eager/polymorphic_function/polymorphic_function.py\", line 695, in _initialize\n",
            "    self._concrete_variable_creation_fn = tracing_compilation.trace_function(\n",
            "  File \"/usr/local/lib/python3.10/dist-packages/tensorflow/python/eager/polymorphic_function/tracing_compilation.py\", line 178, in trace_function\n",
            "    concrete_function = _maybe_define_function(\n",
            "  File \"/usr/local/lib/python3.10/dist-packages/tensorflow/python/eager/polymorphic_function/tracing_compilation.py\", line 283, in _maybe_define_function\n",
            "    concrete_function = _create_concrete_function(\n",
            "  File \"/usr/local/lib/python3.10/dist-packages/tensorflow/python/eager/polymorphic_function/tracing_compilation.py\", line 310, in _create_concrete_function\n",
            "    traced_func_graph = func_graph_module.func_graph_from_py_func(\n",
            "  File \"/usr/local/lib/python3.10/dist-packages/tensorflow/python/framework/func_graph.py\", line 1059, in func_graph_from_py_func\n",
            "    func_outputs = python_func(*func_args, **func_kwargs)\n",
            "  File \"/usr/local/lib/python3.10/dist-packages/tensorflow/python/eager/polymorphic_function/polymorphic_function.py\", line 598, in wrapped_fn\n",
            "    out = weak_wrapped_fn().__wrapped__(*args, **kwds)\n",
            "  File \"/usr/local/lib/python3.10/dist-packages/tensorflow/python/data/ops/structured_function.py\", line 231, in wrapped_fn\n",
            "    ret = wrapper_helper(*args)\n",
            "  File \"/usr/local/lib/python3.10/dist-packages/tensorflow/python/data/ops/structured_function.py\", line 161, in wrapper_helper\n",
            "    ret = autograph.tf_convert(self._func, ag_ctx)(*nested_args)\n",
            "  File \"/usr/local/lib/python3.10/dist-packages/tensorflow/python/autograph/impl/api.py\", line 690, in wrapper\n",
            "    return converted_call(f, args, kwargs, options=options)\n",
            "  File \"/usr/local/lib/python3.10/dist-packages/tensorflow/python/autograph/impl/api.py\", line 377, in converted_call\n",
            "    return _call_unconverted(f, args, kwargs, options)\n",
            "  File \"/usr/local/lib/python3.10/dist-packages/tensorflow/python/autograph/impl/api.py\", line 459, in _call_unconverted\n",
            "    return f(*args, **kwargs)\n",
            "  File \"/usr/local/lib/python3.10/dist-packages/keras/src/engine/data_adapter.py\", line 334, in slice_batch_indices\n",
            "    first_k_indices = tf.slice(indices, [0], [num_in_full_batch])\n",
            "  File \"/usr/local/lib/python3.10/dist-packages/tensorflow/python/util/traceback_utils.py\", line 150, in error_handler\n",
            "    return fn(*args, **kwargs)\n",
            "  File \"/usr/local/lib/python3.10/dist-packages/tensorflow/python/util/dispatch.py\", line 1260, in op_dispatch_handler\n",
            "    return dispatch_target(*args, **kwargs)\n",
            "  File \"/usr/local/lib/python3.10/dist-packages/tensorflow/python/ops/array_ops.py\", line 1223, in slice\n",
            "    return gen_array_ops._slice(input_, begin, size, name=name)\n",
            "  File \"/usr/local/lib/python3.10/dist-packages/tensorflow/python/ops/gen_array_ops.py\", line 9825, in _slice\n",
            "    _, _, _op, _outputs = _op_def_library._apply_op_helper(\n",
            "  File \"/usr/local/lib/python3.10/dist-packages/tensorflow/python/framework/op_def_library.py\", line 776, in _apply_op_helper\n",
            "    with g.as_default(), ops.name_scope(name) as scope:\n",
            "  File \"/usr/lib/python3.10/contextlib.py\", line 153, in __exit__\n",
            "    self.gen.throw(typ, value, traceback)\n",
            "  File \"/usr/local/lib/python3.10/dist-packages/tensorflow/python/framework/func_graph.py\", line 487, in inner_cm\n",
            "    with outer_cm as g:\n",
            "  File \"/usr/lib/python3.10/contextlib.py\", line 153, in __exit__\n",
            "    self.gen.throw(typ, value, traceback)\n",
            "  File \"/usr/local/lib/python3.10/dist-packages/tensorflow/python/framework/ops.py\", line 4573, in get_controller\n",
            "    with super(_DefaultGraphStack,\n",
            "  File \"/usr/lib/python3.10/contextlib.py\", line 153, in __exit__\n",
            "    self.gen.throw(typ, value, traceback)\n",
            "  File \"/usr/local/lib/python3.10/dist-packages/tensorflow/python/eager/context.py\", line 1016, in _mode\n",
            "    if mode == EAGER_MODE:\n",
            "KeyboardInterrupt\n",
            "\n",
            "During handling of the above exception, another exception occurred:\n",
            "\n",
            "Traceback (most recent call last):\n",
            "  File \"/content/twitter-sentiment-batch/predict.py\", line 173, in <module>\n",
            "    run(args.model_dir, source, sink, beam_options)\n",
            "  File \"/content/twitter-sentiment-batch/predict.py\", line 105, in run\n",
            "    with beam.Pipeline(options=beam_options) as p:\n",
            "  File \"/usr/local/lib/python3.10/dist-packages/apache_beam/pipeline.py\", line 612, in __exit__\n",
            "    self.result = self.run()\n",
            "  File \"/usr/local/lib/python3.10/dist-packages/apache_beam/pipeline.py\", line 586, in run\n",
            "    return self.runner.run_pipeline(self, self._options)\n",
            "  File \"/usr/local/lib/python3.10/dist-packages/apache_beam/runners/direct/direct_runner.py\", line 128, in run_pipeline\n",
            "    return runner.run_pipeline(pipeline, options)\n",
            "  File \"/usr/local/lib/python3.10/dist-packages/apache_beam/runners/portability/fn_api_runner/fn_runner.py\", line 203, in run_pipeline\n",
            "    self._latest_run_result = self.run_via_runner_api(\n",
            "  File \"/usr/local/lib/python3.10/dist-packages/apache_beam/runners/portability/fn_api_runner/fn_runner.py\", line 226, in run_via_runner_api\n",
            "    return self.run_stages(stage_context, stages)\n",
            "  File \"/usr/local/lib/python3.10/dist-packages/apache_beam/runners/portability/fn_api_runner/fn_runner.py\", line 481, in run_stages\n",
            "    bundle_results = self._execute_bundle(\n",
            "  File \"/usr/local/lib/python3.10/dist-packages/apache_beam/runners/portability/fn_api_runner/fn_runner.py\", line 809, in _execute_bundle\n",
            "    self._run_bundle(\n",
            "  File \"/usr/local/lib/python3.10/dist-packages/apache_beam/runners/portability/fn_api_runner/fn_runner.py\", line 1046, in _run_bundle\n",
            "    result, splits = bundle_manager.process_bundle(\n",
            "  File \"/usr/local/lib/python3.10/dist-packages/apache_beam/runners/portability/fn_api_runner/fn_runner.py\", line 1382, in process_bundle\n",
            "    result_future = self._worker_handler.control_conn.push(process_bundle_req)\n",
            "  File \"/usr/local/lib/python3.10/dist-packages/apache_beam/runners/portability/fn_api_runner/worker_handlers.py\", line 384, in push\n",
            "    response = self.worker.do_instruction(request)\n",
            "  File \"/usr/local/lib/python3.10/dist-packages/apache_beam/runners/worker/sdk_worker.py\", line 650, in do_instruction\n",
            "    return getattr(self, request_type)(\n",
            "  File \"/usr/local/lib/python3.10/dist-packages/apache_beam/runners/worker/sdk_worker.py\", line 688, in process_bundle\n",
            "    bundle_processor.process_bundle(instruction_id))\n",
            "  File \"/usr/local/lib/python3.10/dist-packages/apache_beam/runners/worker/bundle_processor.py\", line 1113, in process_bundle\n",
            "    input_op_by_transform_id[element.transform_id].process_encoded(\n",
            "  File \"/usr/local/lib/python3.10/dist-packages/apache_beam/runners/worker/bundle_processor.py\", line 237, in process_encoded\n",
            "    self.output(decoded_value)\n",
            "  File \"apache_beam/runners/worker/operations.py\", line 570, in apache_beam.runners.worker.operations.Operation.output\n",
            "  File \"apache_beam/runners/worker/operations.py\", line 572, in apache_beam.runners.worker.operations.Operation.output\n",
            "  File \"apache_beam/runners/worker/operations.py\", line 263, in apache_beam.runners.worker.operations.SingletonElementConsumerSet.receive\n",
            "  File \"apache_beam/runners/worker/operations.py\", line 266, in apache_beam.runners.worker.operations.SingletonElementConsumerSet.receive\n",
            "  File \"apache_beam/runners/worker/operations.py\", line 1067, in apache_beam.runners.worker.operations.SdfProcessSizedElements.process\n",
            "  File \"apache_beam/runners/worker/operations.py\", line 1076, in apache_beam.runners.worker.operations.SdfProcessSizedElements.process\n",
            "  File \"apache_beam/runners/common.py\", line 1467, in apache_beam.runners.common.DoFnRunner.process_with_sized_restriction\n",
            "  File \"apache_beam/runners/common.py\", line 831, in apache_beam.runners.common.PerWindowInvoker.invoke_process\n",
            "  File \"apache_beam/runners/common.py\", line 995, in apache_beam.runners.common.PerWindowInvoker._invoke_process_per_window\n",
            "  File \"apache_beam/runners/common.py\", line 1621, in apache_beam.runners.common._OutputHandler.handle_process_outputs\n",
            "  File \"apache_beam/runners/common.py\", line 1734, in apache_beam.runners.common._OutputHandler._write_value_to_tag\n",
            "  File \"apache_beam/runners/worker/operations.py\", line 266, in apache_beam.runners.worker.operations.SingletonElementConsumerSet.receive\n",
            "  File \"apache_beam/runners/worker/operations.py\", line 953, in apache_beam.runners.worker.operations.DoOperation.process\n",
            "  File \"apache_beam/runners/worker/operations.py\", line 954, in apache_beam.runners.worker.operations.DoOperation.process\n",
            "  File \"apache_beam/runners/common.py\", line 1437, in apache_beam.runners.common.DoFnRunner.process\n",
            "  File \"apache_beam/runners/common.py\", line 1547, in apache_beam.runners.common.DoFnRunner._reraise_augmented\n",
            "  File \"apache_beam/runners/common.py\", line 1435, in apache_beam.runners.common.DoFnRunner.process\n",
            "  File \"apache_beam/runners/common.py\", line 636, in apache_beam.runners.common.SimpleInvoker.invoke_process\n",
            "  File \"apache_beam/runners/common.py\", line 1611, in apache_beam.runners.common._OutputHandler.handle_process_outputs\n",
            "  File \"/content/twitter-sentiment-batch/predict.py\", line 74, in process\n",
            "    score = self.model.predict([x_test])[0]\n",
            "  File \"/usr/local/lib/python3.10/dist-packages/keras/src/utils/traceback_utils.py\", line 65, in error_handler\n",
            "    return fn(*args, **kwargs)\n",
            "  File \"/usr/local/lib/python3.10/dist-packages/keras/src/engine/training.py\", line 2620, in predict\n",
            "    data_handler = data_adapter.get_data_handler(\n",
            "  File \"/usr/local/lib/python3.10/dist-packages/keras/src/engine/data_adapter.py\", line 1688, in get_data_handler\n",
            "    return DataHandler(*args, **kwargs)\n",
            "  File \"/usr/local/lib/python3.10/dist-packages/keras/src/engine/data_adapter.py\", line 1292, in __init__\n",
            "    self._adapter = adapter_cls(\n",
            "  File \"/usr/local/lib/python3.10/dist-packages/keras/src/engine/data_adapter.py\", line 353, in __init__\n",
            "    indices_dataset = indices_dataset.flat_map(slice_batch_indices)\n",
            "  File \"/usr/local/lib/python3.10/dist-packages/tensorflow/python/data/ops/dataset_ops.py\", line 2325, in flat_map\n",
            "    return flat_map_op._flat_map(self, map_func, name=name)\n",
            "  File \"/usr/local/lib/python3.10/dist-packages/tensorflow/python/data/ops/flat_map_op.py\", line 24, in _flat_map\n",
            "    return _FlatMapDataset(input_dataset, map_func, name)\n",
            "  File \"/usr/local/lib/python3.10/dist-packages/tensorflow/python/data/ops/flat_map_op.py\", line 33, in __init__\n",
            "    self._map_func = structured_function.StructuredFunctionWrapper(\n",
            "  File \"/usr/local/lib/python3.10/dist-packages/tensorflow/python/data/ops/structured_function.py\", line 265, in __init__\n",
            "    self._function = fn_factory()\n",
            "  File \"/usr/local/lib/python3.10/dist-packages/tensorflow/python/eager/polymorphic_function/polymorphic_function.py\", line 1227, in get_concrete_function\n",
            "    concrete = self._get_concrete_function_garbage_collected(*args, **kwargs)\n",
            "  File \"/usr/local/lib/python3.10/dist-packages/tensorflow/python/eager/polymorphic_function/polymorphic_function.py\", line 1197, in _get_concrete_function_garbage_collected\n",
            "    self._initialize(args, kwargs, add_initializers_to=initializers)\n",
            "  File \"/usr/local/lib/python3.10/dist-packages/tensorflow/python/eager/polymorphic_function/polymorphic_function.py\", line 695, in _initialize\n",
            "    self._concrete_variable_creation_fn = tracing_compilation.trace_function(\n",
            "  File \"/usr/local/lib/python3.10/dist-packages/tensorflow/python/eager/polymorphic_function/tracing_compilation.py\", line 178, in trace_function\n",
            "    concrete_function = _maybe_define_function(\n",
            "  File \"/usr/local/lib/python3.10/dist-packages/tensorflow/python/eager/polymorphic_function/tracing_compilation.py\", line 283, in _maybe_define_function\n",
            "    concrete_function = _create_concrete_function(\n",
            "  File \"/usr/local/lib/python3.10/dist-packages/tensorflow/python/eager/polymorphic_function/tracing_compilation.py\", line 310, in _create_concrete_function\n",
            "    traced_func_graph = func_graph_module.func_graph_from_py_func(\n",
            "  File \"/usr/local/lib/python3.10/dist-packages/tensorflow/python/framework/func_graph.py\", line 1059, in func_graph_from_py_func\n",
            "    func_outputs = python_func(*func_args, **func_kwargs)\n",
            "  File \"/usr/local/lib/python3.10/dist-packages/tensorflow/python/eager/polymorphic_function/polymorphic_function.py\", line 598, in wrapped_fn\n",
            "    out = weak_wrapped_fn().__wrapped__(*args, **kwds)\n",
            "  File \"/usr/local/lib/python3.10/dist-packages/tensorflow/python/data/ops/structured_function.py\", line 231, in wrapped_fn\n",
            "    ret = wrapper_helper(*args)\n",
            "  File \"/usr/local/lib/python3.10/dist-packages/tensorflow/python/data/ops/structured_function.py\", line 161, in wrapper_helper\n",
            "    ret = autograph.tf_convert(self._func, ag_ctx)(*nested_args)\n",
            "  File \"/usr/local/lib/python3.10/dist-packages/tensorflow/python/autograph/impl/api.py\", line 690, in wrapper\n",
            "    return converted_call(f, args, kwargs, options=options)\n",
            "  File \"/usr/local/lib/python3.10/dist-packages/tensorflow/python/autograph/impl/api.py\", line 377, in converted_call\n",
            "    return _call_unconverted(f, args, kwargs, options)\n",
            "  File \"/usr/local/lib/python3.10/dist-packages/tensorflow/python/autograph/impl/api.py\", line 459, in _call_unconverted\n",
            "    return f(*args, **kwargs)\n",
            "  File \"/usr/local/lib/python3.10/dist-packages/keras/src/engine/data_adapter.py\", line 334, in slice_batch_indices\n",
            "    first_k_indices = tf.slice(indices, [0], [num_in_full_batch])\n",
            "  File \"/usr/local/lib/python3.10/dist-packages/tensorflow/python/util/traceback_utils.py\", line 150, in error_handler\n",
            "    return fn(*args, **kwargs)\n",
            "  File \"/usr/local/lib/python3.10/dist-packages/tensorflow/python/util/dispatch.py\", line 1260, in op_dispatch_handler\n",
            "    return dispatch_target(*args, **kwargs)\n",
            "  File \"/usr/local/lib/python3.10/dist-packages/tensorflow/python/ops/array_ops.py\", line 1223, in slice\n",
            "    return gen_array_ops._slice(input_, begin, size, name=name)\n",
            "  File \"/usr/local/lib/python3.10/dist-packages/tensorflow/python/ops/gen_array_ops.py\", line 9825, in _slice\n",
            "    _, _, _op, _outputs = _op_def_library._apply_op_helper(\n",
            "  File \"/usr/local/lib/python3.10/dist-packages/tensorflow/python/framework/op_def_library.py\", line 776, in _apply_op_helper\n",
            "    with g.as_default(), ops.name_scope(name) as scope:\n",
            "  File \"/usr/lib/python3.10/contextlib.py\", line 153, in __exit__\n",
            "    self.gen.throw(typ, value, traceback)\n",
            "  File \"/usr/local/lib/python3.10/dist-packages/tensorflow/python/framework/func_graph.py\", line 487, in inner_cm\n",
            "    with outer_cm as g:\n",
            "  File \"/usr/lib/python3.10/contextlib.py\", line 153, in __exit__\n",
            "    self.gen.throw(typ, value, traceback)\n",
            "  File \"/usr/local/lib/python3.10/dist-packages/tensorflow/python/framework/ops.py\", line 4573, in get_controller\n",
            "    with super(_DefaultGraphStack,\n",
            "  File \"/usr/lib/python3.10/contextlib.py\", line 153, in __exit__\n",
            "    self.gen.throw(typ, value, traceback)\n",
            "  File \"/usr/local/lib/python3.10/dist-packages/tensorflow/python/eager/context.py\", line 1016, in _mode\n",
            "    if mode == EAGER_MODE:\n",
            "RuntimeError: KeyboardInterrupt [while running 'Predict']\n"
          ]
        }
      ],
      "source": [
        "! python3 predict.py \\\n",
        "  --work-dir $WORK_DIR \\\n",
        "  --model-dir $WORK_DIR/data/model \\\n",
        "  batch \\\n",
        "  --inputs-dir $WORK_DIR/data/transformed_data/test/part* \\\n",
        "  --outputs-dir $WORK_DIR/predictions/$TIMESTAMP"
      ]
    },
    {
      "cell_type": "markdown",
      "metadata": {
        "id": "co3YBKjscCVI"
      },
      "source": [
        "# Mensaje final\n",
        "\n",
        "¡Muchas gracias por participar en este curso, espero que tanto las sesiones teóricas como la práctica te hayan resultado útiles. A lo largo de esta semmana iréis recibiendo feedback personalizado sobre vuestras prácticas.\n",
        "\n",
        "¡Muchas gracias y ánimo con el proyecto final!"
      ]
    }
  ],
  "metadata": {
    "colab": {
      "provenance": [],
      "gpuType": "T4"
    },
    "kernelspec": {
      "display_name": "Python 3",
      "name": "python3"
    },
    "accelerator": "GPU"
  },
  "nbformat": 4,
  "nbformat_minor": 0
}